{
 "cells": [
  {
   "cell_type": "markdown",
   "metadata": {},
   "source": [
    "# Remote Timing Attacks are Practical\n",
    "_Experiment 6: Investigation of measurements taken from within the OpenSSL library, and how they compare to network timings._\n",
    "\n",
    "---"
   ]
  },
  {
   "cell_type": "code",
   "execution_count": 1,
   "metadata": {},
   "outputs": [],
   "source": [
    "import scipy\n",
    "import scipy.signal\n",
    "import seaborn\n",
    "import sympy\n",
    "import numpy\n",
    "import pandas\n",
    "import os\n",
    "import matplotlib.pyplot as plt\n",
    "\n",
    "from IPython import display\n",
    "from pprint import pprint"
   ]
  },
  {
   "cell_type": "code",
   "execution_count": 2,
   "metadata": {},
   "outputs": [],
   "source": [
    "import tls\n",
    "import attack"
   ]
  },
  {
   "cell_type": "code",
   "execution_count": 3,
   "metadata": {},
   "outputs": [],
   "source": [
    "p = sympy.Integer(11693128827090800677443535237632476895247105886644942164014088484470194179491435241190389270827811769965853291192455791684691555403909415703633832493911789)\n",
    "q = sympy.Integer(11353860437120204348539420361367294927683441924641720282978666316144621735920188475867378638813811676070362003602263559496393696538309271007870774914687283)\n",
    "N = sympy.Integer(132762152776056020551326919245624484615462467876809681535549565118332290525598572815747323476102181376625279228965473106140757139049665124368186142774966643990206422037551427526013151129106319233128471783533673959766053786798472937188481868923726256436384468384858420931063093337134977283618537887974322079287)"
   ]
  },
  {
   "cell_type": "code",
   "execution_count": 56,
   "metadata": {},
   "outputs": [],
   "source": [
    "NEIGHBOURHOOD_SIZE = 400\n",
    "SAMPLE_SIZE = 20\n",
    "BRUTEFORCED_BITS = 4\n",
    "BITS_TO_RECOVER = 100"
   ]
  },
  {
   "cell_type": "markdown",
   "metadata": {},
   "source": [
    "The internal measurements are taken by `printf`ing the cycle count before and after the `RSA_private_decrypt` call in `ssl3_get_client_key_exchange()`. We use the same method to count cycles as in the network measurements. The changes can be seen below (sourced from `server/djwj-openssl-patch`):"
   ]
  },
  {
   "cell_type": "markdown",
   "metadata": {},
   "source": [
    "```diff\n",
    "diff -ruN orig/ssl/s3_srvr.c new/ssl/s3_srvr.c\n",
    "--- orig/ssl/s3_srvr.c\t2002-11-29 11:31:51.000000000 +0000\n",
    "+++ new/ssl/s3_srvr.c\t2020-02-11 21:06:35.570473743 +0000\n",
    "@@ -125,6 +125,26 @@\n",
    " #include <openssl/md5.h>\n",
    " #include \"cryptlib.h\"\n",
    " \n",
    "+\n",
    "+// djwj:start\n",
    "+unsigned long long\n",
    "+get_cycles() {\n",
    "+        long long out;\n",
    "+        asm volatile(\n",
    "+                \"CPUID;\"\n",
    "+                \"RDTSCP;\"\n",
    "+                \"SHLQ $32,%%rdx;\"\n",
    "+                \"ORQ %%rdx,%%rax;\"\n",
    "+                \"MOVQ %%rax,%0;\"\n",
    "+                :\"=r\"(out)\n",
    "+                : /*no input*/\n",
    "+                :\"rdx\",\"rax\", \"rcx\"\n",
    "+        );\n",
    "+        return out;\n",
    "+}\n",
    "+// djwj:end\n",
    "+\n",
    "+\n",
    " static SSL_METHOD *ssl3_get_server_method(int ver);\n",
    " static int ssl3_get_client_hello(SSL *s);\n",
    " static int ssl3_check_client_hello(SSL *s);\n",
    "@@ -1362,6 +1382,8 @@\n",
    " \n",
    " static int ssl3_get_client_key_exchange(SSL *s)\n",
    " \t{\n",
    "+        printf(\"djwj: Processing Client Key Exchange message.\\n\");\n",
    "+\n",
    " \tint i,al,ok;\n",
    " \tlong n;\n",
    " \tunsigned long l;\n",
    "@@ -1440,7 +1462,10 @@\n",
    " \t\t\t\tn=i;\n",
    " \t\t\t}\n",
    " \n",
    "+\t\tlong long start = get_cycles();\n",
    " \t\ti=RSA_private_decrypt((int)n,p,p,rsa,RSA_PKCS1_PADDING);\n",
    "+\t\tlong long end = get_cycles();\n",
    "+\t\tprintf(\"djwj: internal measurement: time=%i, p(hex)=\", end-start); int dani; for (dani = 0; dani < (int)n; dani++) {printf(\"%02X\", p[dani]);} printf(\"\\n\");\n",
    " \n",
    " \t\tal = -1;\n",
    " \t\t\n",
    "@@ -1481,6 +1506,7 @@\n",
    " \t\t\t * \"Chosen Ciphertext Attacks Against Protocols Based on the RSA\n",
    " \t\t\t * Encryption Standard PKCS #1\", CRYPTO '98, LNCS 1462, pp. 1-12).\n",
    " \t\t\t */\n",
    "+                        printf(\"djwj: Decryption failed of Pre-Master Secret from Client Key Exchange message. Replacing with random bytes instead. \\n\");\n",
    " \t\t\tERR_clear_error();\n",
    " \t\t\ti = SSL_MAX_MASTER_KEY_LENGTH;\n",
    " \t\t\tp[0] = s->client_version >> 8;\n",
    "@@ -1494,6 +1520,10 @@\n",
    " \t\t\t\ts->session->master_key,\n",
    " \t\t\t\tp,i);\n",
    " \t\tOPENSSL_cleanse(p,i);\n",
    "+\n",
    "+                printf(\"djwj: Derived master key \");\n",
    "+\t\tint i; for (i = 0; i < s->session->master_key_length; i++) {printf(\"%02X\", s->session->master_key[i]);} printf(\".\\n\");\n",
    "+\n",
    " \t\t}\n",
    " \telse\n",
    " #endif\n",
    "@@ -1727,6 +1757,7 @@\n",
    " \n",
    " \treturn(1);\n",
    " f_err:\n",
    "+        printf(\"djwj: Sending Alert (level=Fatal) message. \\n\");\n",
    " \tssl3_send_alert(s,SSL3_AL_FATAL,al);\n",
    " #if !defined(OPENSSL_NO_DH) || !defined(OPENSSL_NO_RSA)\n",
    " err:\n",
    "@@ -2054,3 +2085,4 @@\n",
    " \t/* SSL3_ST_SW_CERT_B */\n",
    " \treturn(ssl3_do_write(s,SSL3_RT_HANDSHAKE));\n",
    " \t}\n",
    "+\n",
    "```"
   ]
  },
  {
   "cell_type": "markdown",
   "metadata": {},
   "source": [
    "The servers log files are then `grep`'d for the appropriate string, and saved to the `./measurements/internal-measurements.txt` file via the following command:\n",
    "\n",
    "```sh\n",
    "docker-compose logs --no-color --follow --tail=all server \\\n",
    "    | grep \"djwj: internal measurement: \" \\\n",
    "    > ./client/measurements/internal-measurements.txt\n",
    "```\n",
    "\n",
    "We'll load that in now for analysis. There's quite a lot of string processing to do per-line, so this might take a while. "
   ]
  },
  {
   "cell_type": "code",
   "execution_count": null,
   "metadata": {},
   "outputs": [],
   "source": [
    "filename = \"./measurements/internal-measurements.txt\"\n",
    "\n",
    "measurements = {\n",
    "    'point': [],\n",
    "    'time': [],\n",
    "}\n",
    "\n",
    "with open(filename, 'r') as file:\n",
    "    for line in file:\n",
    "        # Format: \"<server_name>  | djwj: internal measurement: time=<time-in-cycles>, p(hex)=<point>\\n\"\n",
    "        line = line.strip(\"\\n\\t \").replace(\"server_1  | djwj: internal measurement: time=\", \"\")\n",
    "        time_str, point_str = line.split(\", p(hex)=\")\n",
    "        \n",
    "        time = int(time_str)\n",
    "        point = attack.bytes_to_sympy_integer(bytes.fromhex(point_str))\n",
    "        \n",
    "        measurements['time'].append(time)\n",
    "        measurements['u_g'].append(point)\n",
    "        \n",
    "measurements = pandas.DataFrame(measurements)"
   ]
  },
  {
   "cell_type": "code",
   "execution_count": 17,
   "metadata": {},
   "outputs": [
    {
     "data": {
      "text/html": [
       "<div>\n",
       "<style scoped>\n",
       "    .dataframe tbody tr th:only-of-type {\n",
       "        vertical-align: middle;\n",
       "    }\n",
       "\n",
       "    .dataframe tbody tr th {\n",
       "        vertical-align: top;\n",
       "    }\n",
       "\n",
       "    .dataframe thead th {\n",
       "        text-align: right;\n",
       "    }\n",
       "</style>\n",
       "<table border=\"1\" class=\"dataframe\">\n",
       "  <thead>\n",
       "    <tr style=\"text-align: right;\">\n",
       "      <th></th>\n",
       "      <th>time</th>\n",
       "      <th>u_g</th>\n",
       "    </tr>\n",
       "  </thead>\n",
       "  <tbody>\n",
       "    <tr>\n",
       "      <th>0</th>\n",
       "      <td>3231372</td>\n",
       "      <td>6001451062796899855966367813708300813734141704...</td>\n",
       "    </tr>\n",
       "    <tr>\n",
       "      <th>1</th>\n",
       "      <td>3146873</td>\n",
       "      <td>6001451062796899855966367813708300813734141704...</td>\n",
       "    </tr>\n",
       "    <tr>\n",
       "      <th>2</th>\n",
       "      <td>3148805</td>\n",
       "      <td>6001451062796899855966367813708300813734141704...</td>\n",
       "    </tr>\n",
       "    <tr>\n",
       "      <th>3</th>\n",
       "      <td>3219326</td>\n",
       "      <td>6001451062796899855966367813708300813734141704...</td>\n",
       "    </tr>\n",
       "    <tr>\n",
       "      <th>4</th>\n",
       "      <td>3344233</td>\n",
       "      <td>6001451062796899855966367813708300813734141704...</td>\n",
       "    </tr>\n",
       "    <tr>\n",
       "      <th>...</th>\n",
       "      <td>...</td>\n",
       "      <td>...</td>\n",
       "    </tr>\n",
       "    <tr>\n",
       "      <th>1663989</th>\n",
       "      <td>3145424</td>\n",
       "      <td>4706663001380332497595177130578529614773904137...</td>\n",
       "    </tr>\n",
       "    <tr>\n",
       "      <th>1663990</th>\n",
       "      <td>3163835</td>\n",
       "      <td>4706663001380332497595177130578529614773904137...</td>\n",
       "    </tr>\n",
       "    <tr>\n",
       "      <th>1663991</th>\n",
       "      <td>3219730</td>\n",
       "      <td>4706663001380332497595177130578529614773904137...</td>\n",
       "    </tr>\n",
       "    <tr>\n",
       "      <th>1663992</th>\n",
       "      <td>3153470</td>\n",
       "      <td>4706663001380332497595177130578529614773904137...</td>\n",
       "    </tr>\n",
       "    <tr>\n",
       "      <th>1663993</th>\n",
       "      <td>3235936</td>\n",
       "      <td>2300568952584794849962328437602942072272554388...</td>\n",
       "    </tr>\n",
       "  </tbody>\n",
       "</table>\n",
       "<p>1663994 rows × 2 columns</p>\n",
       "</div>"
      ],
      "text/plain": [
       "            time                                                u_g\n",
       "0        3231372  6001451062796899855966367813708300813734141704...\n",
       "1        3146873  6001451062796899855966367813708300813734141704...\n",
       "2        3148805  6001451062796899855966367813708300813734141704...\n",
       "3        3219326  6001451062796899855966367813708300813734141704...\n",
       "4        3344233  6001451062796899855966367813708300813734141704...\n",
       "...          ...                                                ...\n",
       "1663989  3145424  4706663001380332497595177130578529614773904137...\n",
       "1663990  3163835  4706663001380332497595177130578529614773904137...\n",
       "1663991  3219730  4706663001380332497595177130578529614773904137...\n",
       "1663992  3153470  4706663001380332497595177130578529614773904137...\n",
       "1663993  3235936  2300568952584794849962328437602942072272554388...\n",
       "\n",
       "[1663994 rows x 2 columns]"
      ]
     },
     "execution_count": 17,
     "metadata": {},
     "output_type": "execute_result"
    }
   ],
   "source": [
    "measurements"
   ]
  },
  {
   "cell_type": "markdown",
   "metadata": {},
   "source": [
    "Convert the `u_g` values that the server received back into `point`s by reversing the trasnform in `attack.reverse_montegomery_transform`:"
   ]
  },
  {
   "cell_type": "code",
   "execution_count": 19,
   "metadata": {},
   "outputs": [],
   "source": [
    "R = attack.calc_montgomery_R(N)\n",
    "\n",
    "def montgomery_transform(u_g):\n",
    "    return (u_g * R) % N\n",
    "\n",
    "measurements['point'] = measurements['u_g'].apply(montgomery_transform)\n",
    "\n",
    "del measurements['u_g']"
   ]
  },
  {
   "cell_type": "code",
   "execution_count": 24,
   "metadata": {},
   "outputs": [],
   "source": [
    "bruteforce_samples = measurements[0:64000]\n",
    "bit_samples = measurements[64000:]"
   ]
  },
  {
   "cell_type": "code",
   "execution_count": 25,
   "metadata": {},
   "outputs": [
    {
     "data": {
      "text/html": [
       "<div>\n",
       "<style scoped>\n",
       "    .dataframe tbody tr th:only-of-type {\n",
       "        vertical-align: middle;\n",
       "    }\n",
       "\n",
       "    .dataframe tbody tr th {\n",
       "        vertical-align: top;\n",
       "    }\n",
       "\n",
       "    .dataframe thead th {\n",
       "        text-align: right;\n",
       "    }\n",
       "</style>\n",
       "<table border=\"1\" class=\"dataframe\">\n",
       "  <thead>\n",
       "    <tr style=\"text-align: right;\">\n",
       "      <th></th>\n",
       "      <th>time</th>\n",
       "      <th>point</th>\n",
       "    </tr>\n",
       "  </thead>\n",
       "  <tbody>\n",
       "    <tr>\n",
       "      <th>0</th>\n",
       "      <td>3231372</td>\n",
       "      <td>6703903964971298549787012499102923063739682910...</td>\n",
       "    </tr>\n",
       "    <tr>\n",
       "      <th>1</th>\n",
       "      <td>3146873</td>\n",
       "      <td>6703903964971298549787012499102923063739682910...</td>\n",
       "    </tr>\n",
       "    <tr>\n",
       "      <th>2</th>\n",
       "      <td>3148805</td>\n",
       "      <td>6703903964971298549787012499102923063739682910...</td>\n",
       "    </tr>\n",
       "    <tr>\n",
       "      <th>3</th>\n",
       "      <td>3219326</td>\n",
       "      <td>6703903964971298549787012499102923063739682910...</td>\n",
       "    </tr>\n",
       "    <tr>\n",
       "      <th>4</th>\n",
       "      <td>3344233</td>\n",
       "      <td>6703903964971298549787012499102923063739682910...</td>\n",
       "    </tr>\n",
       "    <tr>\n",
       "      <th>...</th>\n",
       "      <td>...</td>\n",
       "      <td>...</td>\n",
       "    </tr>\n",
       "    <tr>\n",
       "      <th>63995</th>\n",
       "      <td>3164173</td>\n",
       "      <td>1256981993432118478085064843581798074451190545...</td>\n",
       "    </tr>\n",
       "    <tr>\n",
       "      <th>63996</th>\n",
       "      <td>3218965</td>\n",
       "      <td>1256981993432118478085064843581798074451190545...</td>\n",
       "    </tr>\n",
       "    <tr>\n",
       "      <th>63997</th>\n",
       "      <td>3148558</td>\n",
       "      <td>1256981993432118478085064843581798074451190545...</td>\n",
       "    </tr>\n",
       "    <tr>\n",
       "      <th>63998</th>\n",
       "      <td>3154453</td>\n",
       "      <td>1256981993432118478085064843581798074451190545...</td>\n",
       "    </tr>\n",
       "    <tr>\n",
       "      <th>63999</th>\n",
       "      <td>3353613</td>\n",
       "      <td>1256981993432118478085064843581798074451190545...</td>\n",
       "    </tr>\n",
       "  </tbody>\n",
       "</table>\n",
       "<p>64000 rows × 2 columns</p>\n",
       "</div>"
      ],
      "text/plain": [
       "          time                                              point\n",
       "0      3231372  6703903964971298549787012499102923063739682910...\n",
       "1      3146873  6703903964971298549787012499102923063739682910...\n",
       "2      3148805  6703903964971298549787012499102923063739682910...\n",
       "3      3219326  6703903964971298549787012499102923063739682910...\n",
       "4      3344233  6703903964971298549787012499102923063739682910...\n",
       "...        ...                                                ...\n",
       "63995  3164173  1256981993432118478085064843581798074451190545...\n",
       "63996  3218965  1256981993432118478085064843581798074451190545...\n",
       "63997  3148558  1256981993432118478085064843581798074451190545...\n",
       "63998  3154453  1256981993432118478085064843581798074451190545...\n",
       "63999  3353613  1256981993432118478085064843581798074451190545...\n",
       "\n",
       "[64000 rows x 2 columns]"
      ]
     },
     "execution_count": 25,
     "metadata": {},
     "output_type": "execute_result"
    }
   ],
   "source": [
    "bruteforce_samples"
   ]
  },
  {
   "cell_type": "markdown",
   "metadata": {},
   "source": [
    "Now we repeat the analysis in the [attack notebook](attack.ipynb##Bruteforce-Top-Few-Bits-of-$q$) for bruteforcing the top bits of $q$:"
   ]
  },
  {
   "cell_type": "code",
   "execution_count": 27,
   "metadata": {},
   "outputs": [],
   "source": [
    "# Take median from each sample set\n",
    "bruteforce_samples = bruteforce_samples.groupby(by=\"point\").median().reset_index()\n",
    "\n",
    "# Group into neighbourhoods\n",
    "def point_to_neighbourhood(point):\n",
    "    point_int = sympy.Integer(point)\n",
    "    point_bits = attack.sympy_integer_to_bits(point_int)\n",
    "    neighbourhood_point_bits = point_bits[0:BRUTEFORCED_BITS] + [0] * (512-BRUTEFORCED_BITS)\n",
    "    neighbourhood_point_int = attack.bits_to_sympy_integer(neighbourhood_point_bits)\n",
    "    return neighbourhood_point_int\n",
    "\n",
    "bruteforce_samples['neighbourhood'] = bruteforce_samples['point'].apply(point_to_neighbourhood)\n",
    "\n",
    "# Take the sum of neighbour medians in each neighbourhood\n",
    "bruteforce_samples = bruteforce_samples.groupby(by=\"neighbourhood\").sum().reset_index()"
   ]
  },
  {
   "cell_type": "code",
   "execution_count": 28,
   "metadata": {},
   "outputs": [],
   "source": [
    "sqrt_N = sympy.sqrt(N)\n",
    "\n",
    "bruteforce_samples['point_relative_to_sqrt_n'] = bruteforce_samples['neighbourhood'].apply(lambda g: round(float(g/sqrt_N), 10))\n",
    "\n",
    "q_relative_to_sqrt_n = round(float(q/sqrt_N), 10)\n",
    "p_relative_to_sqrt_n = round(float(p/sqrt_N), 10)"
   ]
  },
  {
   "cell_type": "code",
   "execution_count": 29,
   "metadata": {},
   "outputs": [
    {
     "data": {
      "text/plain": [
       "(1263032077.0, 1263982160.5, 95008.35)"
      ]
     },
     "execution_count": 29,
     "metadata": {},
     "output_type": "execute_result"
    }
   ],
   "source": [
    "smallest_time_observed = bruteforce_samples['time'].min()\n",
    "largest_time_observed = bruteforce_samples['time'].max()\n",
    "\n",
    "buffer = (largest_time_observed - smallest_time_observed)/10\n",
    "\n",
    "smallest_time_observed, largest_time_observed, buffer"
   ]
  },
  {
   "cell_type": "code",
   "execution_count": 31,
   "metadata": {},
   "outputs": [],
   "source": [
    "ylim = (\n",
    "    smallest_time_observed - buffer,\n",
    "    largest_time_observed + buffer,\n",
    ")"
   ]
  },
  {
   "cell_type": "code",
   "execution_count": 34,
   "metadata": {},
   "outputs": [
    {
     "data": {
      "text/plain": [
       "<seaborn.axisgrid.FacetGrid at 0x7fc40d086650>"
      ]
     },
     "execution_count": 34,
     "metadata": {},
     "output_type": "execute_result"
    },
    {
     "data": {
      "image/png": "[encoded data removed]",
      "text/plain": [
       "<Figure size 1152x576 with 1 Axes>"
      ]
     },
     "metadata": {
      "needs_background": "light"
     },
     "output_type": "display_data"
    }
   ],
   "source": [
    "g = seaborn.relplot(data=bruteforce_samples, x='point_relative_to_sqrt_n', y='time', kind='line', height=8, aspect=16/8, marker=\"X\")\n",
    "plt.plot([q_relative_to_sqrt_n, q_relative_to_sqrt_n], [smallest_time_observed*0.9, largest_time_observed*1.1], color='green')\n",
    "plt.plot([p_relative_to_sqrt_n, p_relative_to_sqrt_n], [smallest_time_observed*0.9, largest_time_observed*1.1], color='purple')\n",
    "g.set(ylim=ylim)\n",
    "g"
   ]
  },
  {
   "cell_type": "markdown",
   "metadata": {},
   "source": [
    "Find peaks and plot them:"
   ]
  },
  {
   "cell_type": "code",
   "execution_count": 36,
   "metadata": {},
   "outputs": [
    {
     "data": {
      "text/plain": [
       "3"
      ]
     },
     "execution_count": 36,
     "metadata": {},
     "output_type": "execute_result"
    }
   ],
   "source": [
    "peak_indices, _ = scipy.signal.find_peaks(bruteforce_samples['time'])\n",
    "len(peak_indices)"
   ]
  },
  {
   "cell_type": "code",
   "execution_count": 40,
   "metadata": {},
   "outputs": [
    {
     "data": {
      "text/plain": [
       "<seaborn.axisgrid.FacetGrid at 0x7fc40ebae290>"
      ]
     },
     "execution_count": 40,
     "metadata": {},
     "output_type": "execute_result"
    },
    {
     "data": {
      "image/png": "[encoded data removed]",
      "text/plain": [
       "<Figure size 1152x576 with 1 Axes>"
      ]
     },
     "metadata": {
      "needs_background": "light"
     },
     "output_type": "display_data"
    }
   ],
   "source": [
    "g = seaborn.relplot(data=bruteforce_samples, x='point_relative_to_sqrt_n', y='time', kind='line', height=8, aspect=16/8, marker=\"X\")\n",
    "\n",
    "plt.plot([q_relative_to_sqrt_n, q_relative_to_sqrt_n], [smallest_time_observed*0.9, largest_time_observed*1.1], color='green')\n",
    "plt.plot([p_relative_to_sqrt_n, p_relative_to_sqrt_n], [smallest_time_observed*0.9, largest_time_observed*1.1], color='purple')\n",
    "\n",
    "for peak_index in peak_indices:\n",
    "    peak = bruteforce_samples.iloc[peak_index]\n",
    "    plt.plot([peak['point_relative_to_sqrt_n'], peak['point_relative_to_sqrt_n']], ylim, color='orange')\n",
    "\n",
    "g.set(ylim=ylim)\n",
    "g"
   ]
  },
  {
   "cell_type": "markdown",
   "metadata": {},
   "source": [
    "Bound $q$ by peaks an $\\sqrt{N}$:"
   ]
  },
  {
   "cell_type": "code",
   "execution_count": 48,
   "metadata": {},
   "outputs": [],
   "source": [
    "for peak_index in peak_indices:\n",
    "    peak_row = bruteforce_samples.iloc[peak_index]\n",
    "    peak_g = peak_row['neighbourhood']\n",
    "    \n",
    "    if peak_g > sqrt_N:\n",
    "        peak_index = previous_peak_index\n",
    "        peak_row = bruteforce_samples.iloc[peak_index]\n",
    "        peak_g = peak_row['neighbourhood']\n",
    "        break\n",
    "    \n",
    "    previous_peak_index = peak_index\n",
    "        \n",
    "lower_bound = peak_g\n",
    "upper_bound = sympy.Integer(sqrt_N.round())"
   ]
  },
  {
   "cell_type": "code",
   "execution_count": 49,
   "metadata": {},
   "outputs": [
    {
     "data": {
      "text/plain": [
       "<seaborn.axisgrid.FacetGrid at 0x7fc40dc3af10>"
      ]
     },
     "execution_count": 49,
     "metadata": {},
     "output_type": "execute_result"
    },
    {
     "data": {
      "image/png": "[encoded data removed]",
      "text/plain": [
       "<Figure size 1152x576 with 1 Axes>"
      ]
     },
     "metadata": {
      "needs_background": "light"
     },
     "output_type": "display_data"
    }
   ],
   "source": [
    "lower_bound_relative_to_sqrt_n = round(float(lower_bound/sqrt_N), 10)\n",
    "upper_bound_relative_to_sqrt_n = round(float(upper_bound/sqrt_N), 10)\n",
    "\n",
    "g = seaborn.relplot(data=bruteforce_samples, x='point_relative_to_sqrt_n', y='time', kind='line', height=8, aspect=16/8, marker=\"X\")\n",
    "\n",
    "plt.plot([lower_bound_relative_to_sqrt_n, lower_bound_relative_to_sqrt_n], ylim, color='orange')\n",
    "plt.plot([upper_bound_relative_to_sqrt_n, upper_bound_relative_to_sqrt_n], ylim, color='orange')\n",
    "\n",
    "g.set(ylim=ylim)\n",
    "g"
   ]
  },
  {
   "cell_type": "code",
   "execution_count": 50,
   "metadata": {},
   "outputs": [
    {
     "data": {
      "text/plain": [
       "[1, 1, 0]"
      ]
     },
     "execution_count": 50,
     "metadata": {},
     "output_type": "execute_result"
    }
   ],
   "source": [
    "lower_bound_bits = attack.sympy_integer_to_bits(lower_bound)\n",
    "upper_bound_bits = attack.sympy_integer_to_bits(upper_bound)\n",
    "\n",
    "known_q_bits = []\n",
    "for i in range(BRUTEFORCED_BITS):\n",
    "    if lower_bound_bits[i] == upper_bound_bits[i]:\n",
    "        known_q_bits.append(lower_bound_bits[i])\n",
    "    else:\n",
    "        break\n",
    "        \n",
    "known_q_bits"
   ]
  },
  {
   "cell_type": "markdown",
   "metadata": {},
   "source": [
    "Similar results to those in `attack.ipynb` which used network measurements."
   ]
  },
  {
   "cell_type": "markdown",
   "metadata": {},
   "source": [
    "## Recovering Bits of $q$"
   ]
  },
  {
   "cell_type": "markdown",
   "metadata": {},
   "source": [
    "We can reuse the code in the `attack.ipynb` notebook if we recover the `bit_position` and `bit_value` columns in this dataframe:"
   ]
  },
  {
   "cell_type": "code",
   "execution_count": 65,
   "metadata": {},
   "outputs": [
    {
     "data": {
      "text/html": [
       "<div>\n",
       "<style scoped>\n",
       "    .dataframe tbody tr th:only-of-type {\n",
       "        vertical-align: middle;\n",
       "    }\n",
       "\n",
       "    .dataframe tbody tr th {\n",
       "        vertical-align: top;\n",
       "    }\n",
       "\n",
       "    .dataframe thead th {\n",
       "        text-align: right;\n",
       "    }\n",
       "</style>\n",
       "<table border=\"1\" class=\"dataframe\">\n",
       "  <thead>\n",
       "    <tr style=\"text-align: right;\">\n",
       "      <th></th>\n",
       "      <th>index</th>\n",
       "      <th>time</th>\n",
       "      <th>point</th>\n",
       "      <th>bit_position</th>\n",
       "      <th>bit_value</th>\n",
       "    </tr>\n",
       "  </thead>\n",
       "  <tbody>\n",
       "    <tr>\n",
       "      <th>0</th>\n",
       "      <td>64000</td>\n",
       "      <td>159441</td>\n",
       "      <td>0</td>\n",
       "      <td>0</td>\n",
       "      <td>0</td>\n",
       "    </tr>\n",
       "    <tr>\n",
       "      <th>1</th>\n",
       "      <td>64001</td>\n",
       "      <td>149921</td>\n",
       "      <td>0</td>\n",
       "      <td>0</td>\n",
       "      <td>0</td>\n",
       "    </tr>\n",
       "    <tr>\n",
       "      <th>2</th>\n",
       "      <td>64002</td>\n",
       "      <td>149751</td>\n",
       "      <td>0</td>\n",
       "      <td>0</td>\n",
       "      <td>0</td>\n",
       "    </tr>\n",
       "    <tr>\n",
       "      <th>3</th>\n",
       "      <td>64003</td>\n",
       "      <td>161553</td>\n",
       "      <td>0</td>\n",
       "      <td>0</td>\n",
       "      <td>0</td>\n",
       "    </tr>\n",
       "    <tr>\n",
       "      <th>4</th>\n",
       "      <td>64004</td>\n",
       "      <td>156942</td>\n",
       "      <td>0</td>\n",
       "      <td>0</td>\n",
       "      <td>0</td>\n",
       "    </tr>\n",
       "    <tr>\n",
       "      <th>...</th>\n",
       "      <td>...</td>\n",
       "      <td>...</td>\n",
       "      <td>...</td>\n",
       "      <td>...</td>\n",
       "      <td>...</td>\n",
       "    </tr>\n",
       "    <tr>\n",
       "      <th>1599989</th>\n",
       "      <td>1663989</td>\n",
       "      <td>3145424</td>\n",
       "      <td>1135386043712020434853942036135977879368661395...</td>\n",
       "      <td>99</td>\n",
       "      <td>1</td>\n",
       "    </tr>\n",
       "    <tr>\n",
       "      <th>1599990</th>\n",
       "      <td>1663990</td>\n",
       "      <td>3163835</td>\n",
       "      <td>1135386043712020434853942036135977879368661395...</td>\n",
       "      <td>99</td>\n",
       "      <td>1</td>\n",
       "    </tr>\n",
       "    <tr>\n",
       "      <th>1599991</th>\n",
       "      <td>1663991</td>\n",
       "      <td>3219730</td>\n",
       "      <td>1135386043712020434853942036135977879368661395...</td>\n",
       "      <td>99</td>\n",
       "      <td>1</td>\n",
       "    </tr>\n",
       "    <tr>\n",
       "      <th>1599992</th>\n",
       "      <td>1663992</td>\n",
       "      <td>3153470</td>\n",
       "      <td>1135386043712020434853942036135977879368661395...</td>\n",
       "      <td>99</td>\n",
       "      <td>1</td>\n",
       "    </tr>\n",
       "    <tr>\n",
       "      <th>1599993</th>\n",
       "      <td>1663993</td>\n",
       "      <td>3235936</td>\n",
       "      <td>7541401739327632091365820574195587972899999540...</td>\n",
       "      <td>99</td>\n",
       "      <td>1</td>\n",
       "    </tr>\n",
       "  </tbody>\n",
       "</table>\n",
       "<p>1599994 rows × 5 columns</p>\n",
       "</div>"
      ],
      "text/plain": [
       "           index     time                                              point  \\\n",
       "0          64000   159441                                                  0   \n",
       "1          64001   149921                                                  0   \n",
       "2          64002   149751                                                  0   \n",
       "3          64003   161553                                                  0   \n",
       "4          64004   156942                                                  0   \n",
       "...          ...      ...                                                ...   \n",
       "1599989  1663989  3145424  1135386043712020434853942036135977879368661395...   \n",
       "1599990  1663990  3163835  1135386043712020434853942036135977879368661395...   \n",
       "1599991  1663991  3219730  1135386043712020434853942036135977879368661395...   \n",
       "1599992  1663992  3153470  1135386043712020434853942036135977879368661395...   \n",
       "1599993  1663993  3235936  7541401739327632091365820574195587972899999540...   \n",
       "\n",
       "         bit_position  bit_value  \n",
       "0                   0          0  \n",
       "1                   0          0  \n",
       "2                   0          0  \n",
       "3                   0          0  \n",
       "4                   0          0  \n",
       "...               ...        ...  \n",
       "1599989            99          1  \n",
       "1599990            99          1  \n",
       "1599991            99          1  \n",
       "1599992            99          1  \n",
       "1599993            99          1  \n",
       "\n",
       "[1599994 rows x 5 columns]"
      ]
     },
     "execution_count": 65,
     "metadata": {},
     "output_type": "execute_result"
    }
   ],
   "source": [
    "bit_samples = bit_samples.copy().reset_index()\n",
    "del bit_samples['index']\n",
    "\n",
    "bit_samples['bit_position'] = -1\n",
    "bit_samples['bit_value'] = -1\n",
    "\n",
    "for bit_position in range(BITS_TO_RECOVER):\n",
    "    zero_start = 2*bit_position*SAMPLE_SIZE*NEIGHBOURHOOD_SIZE\n",
    "    zero_end = one_start = (2*bit_position+1)*SAMPLE_SIZE*NEIGHBOURHOOD_SIZE\n",
    "    one_end = (2*bit_position+2)*SAMPLE_SIZE*NEIGHBOURHOOD_SIZE\n",
    "\n",
    "    bit_samples['bit_position'].iloc[zero_start:zero_end] = bit_position\n",
    "    bit_samples['bit_value'].iloc[zero_start:zero_end] = 0\n",
    "    \n",
    "    bit_samples['bit_position'].iloc[one_start:one_end] = bit_position\n",
    "    bit_samples['bit_value'].iloc[one_start:one_end] = 1\n",
    "    \n",
    "bit_samples"
   ]
  },
  {
   "cell_type": "code",
   "execution_count": 83,
   "metadata": {},
   "outputs": [
    {
     "data": {
      "text/html": [
       "<div>\n",
       "<style scoped>\n",
       "    .dataframe tbody tr th:only-of-type {\n",
       "        vertical-align: middle;\n",
       "    }\n",
       "\n",
       "    .dataframe tbody tr th {\n",
       "        vertical-align: top;\n",
       "    }\n",
       "\n",
       "    .dataframe thead th {\n",
       "        text-align: right;\n",
       "    }\n",
       "</style>\n",
       "<table border=\"1\" class=\"dataframe\">\n",
       "  <thead>\n",
       "    <tr style=\"text-align: right;\">\n",
       "      <th></th>\n",
       "      <th>bit_position</th>\n",
       "      <th>bit_value</th>\n",
       "      <th>time</th>\n",
       "    </tr>\n",
       "  </thead>\n",
       "  <tbody>\n",
       "    <tr>\n",
       "      <th>0</th>\n",
       "      <td>0</td>\n",
       "      <td>0</td>\n",
       "      <td>1.261488e+09</td>\n",
       "    </tr>\n",
       "    <tr>\n",
       "      <th>1</th>\n",
       "      <td>0</td>\n",
       "      <td>1</td>\n",
       "      <td>1.263594e+09</td>\n",
       "    </tr>\n",
       "    <tr>\n",
       "      <th>2</th>\n",
       "      <td>1</td>\n",
       "      <td>0</td>\n",
       "      <td>1.264596e+09</td>\n",
       "    </tr>\n",
       "    <tr>\n",
       "      <th>3</th>\n",
       "      <td>1</td>\n",
       "      <td>1</td>\n",
       "      <td>1.265363e+09</td>\n",
       "    </tr>\n",
       "    <tr>\n",
       "      <th>4</th>\n",
       "      <td>2</td>\n",
       "      <td>0</td>\n",
       "      <td>1.266203e+09</td>\n",
       "    </tr>\n",
       "    <tr>\n",
       "      <th>...</th>\n",
       "      <td>...</td>\n",
       "      <td>...</td>\n",
       "      <td>...</td>\n",
       "    </tr>\n",
       "    <tr>\n",
       "      <th>195</th>\n",
       "      <td>97</td>\n",
       "      <td>1</td>\n",
       "      <td>1.263837e+09</td>\n",
       "    </tr>\n",
       "    <tr>\n",
       "      <th>196</th>\n",
       "      <td>98</td>\n",
       "      <td>0</td>\n",
       "      <td>1.266729e+09</td>\n",
       "    </tr>\n",
       "    <tr>\n",
       "      <th>197</th>\n",
       "      <td>98</td>\n",
       "      <td>1</td>\n",
       "      <td>1.264675e+09</td>\n",
       "    </tr>\n",
       "    <tr>\n",
       "      <th>198</th>\n",
       "      <td>99</td>\n",
       "      <td>0</td>\n",
       "      <td>1.264583e+09</td>\n",
       "    </tr>\n",
       "    <tr>\n",
       "      <th>199</th>\n",
       "      <td>99</td>\n",
       "      <td>1</td>\n",
       "      <td>1.273221e+09</td>\n",
       "    </tr>\n",
       "  </tbody>\n",
       "</table>\n",
       "<p>200 rows × 3 columns</p>\n",
       "</div>"
      ],
      "text/plain": [
       "     bit_position  bit_value          time\n",
       "0               0          0  1.261488e+09\n",
       "1               0          1  1.263594e+09\n",
       "2               1          0  1.264596e+09\n",
       "3               1          1  1.265363e+09\n",
       "4               2          0  1.266203e+09\n",
       "..            ...        ...           ...\n",
       "195            97          1  1.263837e+09\n",
       "196            98          0  1.266729e+09\n",
       "197            98          1  1.264675e+09\n",
       "198            99          0  1.264583e+09\n",
       "199            99          1  1.273221e+09\n",
       "\n",
       "[200 rows x 3 columns]"
      ]
     },
     "execution_count": 83,
     "metadata": {},
     "output_type": "execute_result"
    }
   ],
   "source": [
    "bit_timings = bit_samples\\\n",
    "    .groupby([\"bit_position\", \"bit_value\", \"point\"]).median()\\\n",
    "    .groupby([\"bit_position\", \"bit_value\"]).sum()\\\n",
    "    .reset_index()\n",
    "\n",
    "bit_timings"
   ]
  },
  {
   "cell_type": "code",
   "execution_count": 84,
   "metadata": {},
   "outputs": [
    {
     "data": {
      "text/plain": [
       "bit_position\n",
       "0     2105664.0\n",
       "1      767528.5\n",
       "2     1855086.0\n",
       "3      872355.0\n",
       "4     1588540.0\n",
       "        ...    \n",
       "95     157671.0\n",
       "96     563757.0\n",
       "97    1562425.5\n",
       "98    2054383.0\n",
       "99    8638423.5\n",
       "Length: 100, dtype: float64"
      ]
     },
     "execution_count": 84,
     "metadata": {},
     "output_type": "execute_result"
    }
   ],
   "source": [
    "def calc_zero_one_gap(row):\n",
    "    T_g_low = row[row['bit_value']==0]['time'].iloc[0]\n",
    "    T_g_high = row[row['bit_value']==1]['time'].iloc[0]\n",
    "    return abs(T_g_low-T_g_high)\n",
    "\n",
    "zero_one_gaps = bit_timings.groupby(\"bit_position\").apply(calc_zero_one_gap)\n",
    "zero_one_gaps"
   ]
  },
  {
   "cell_type": "code",
   "execution_count": 90,
   "metadata": {},
   "outputs": [
    {
     "data": {
      "text/plain": [
       "<seaborn.axisgrid.FacetGrid at 0x7fc407da1f50>"
      ]
     },
     "execution_count": 90,
     "metadata": {},
     "output_type": "execute_result"
    },
    {
     "data": {
      "image/png": "[encoded data removed]",
      "text/plain": [
       "<Figure size 1242.11x576 with 1 Axes>"
      ]
     },
     "metadata": {
      "needs_background": "light"
     },
     "output_type": "display_data"
    }
   ],
   "source": [
    "q_bits = attack.sympy_integer_to_bits(q)\n",
    "\n",
    "seaborn.relplot(\n",
    "    data=pandas.DataFrame({\n",
    "        'True Value': q_bits[0:BITS_TO_RECOVER],\n",
    "        'Zero-One Gap': zero_one_gaps,\n",
    "        'Bit': range(0, BITS_TO_RECOVER),\n",
    "    }),\n",
    "    x='Bit',\n",
    "    y='Zero-One Gap',\n",
    "    hue='True Value',\n",
    "    kind='scatter',\n",
    "    height=8,\n",
    "    aspect=16/8,\n",
    ")"
   ]
  },
  {
   "cell_type": "markdown",
   "metadata": {},
   "source": [
    "These results are _very_ similar to the results in `attack.ipynb`, also indicating no meaningful difference in the time gaps between 0-bits and 1-bits."
   ]
  }
 ],
 "metadata": {
  "kernelspec": {
   "display_name": "Python 3",
   "language": "python",
   "name": "python3"
  },
  "language_info": {
   "codemirror_mode": {
    "name": "ipython",
    "version": 3
   },
   "file_extension": ".py",
   "mimetype": "text/x-python",
   "name": "python",
   "nbconvert_exporter": "python",
   "pygments_lexer": "ipython3",
   "version": "3.7.5"
  }
 },
 "nbformat": 4,
 "nbformat_minor": 4
}
