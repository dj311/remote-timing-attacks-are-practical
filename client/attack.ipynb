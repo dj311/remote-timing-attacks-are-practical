{
 "cells": [
  {
   "cell_type": "markdown",
   "metadata": {},
   "source": [
    "# Remote Timing Attacks are Practical\n",
    "_Experiment 6: Attacking SSL applications on the local network._\n",
    "\n",
    "---"
   ]
  },
  {
   "cell_type": "code",
   "execution_count": 1,
   "metadata": {},
   "outputs": [],
   "source": [
    "import scipy\n",
    "import scipy.signal\n",
    "import seaborn\n",
    "import sympy\n",
    "import numpy\n",
    "import pandas\n",
    "import os\n",
    "import matplotlib.pyplot as plt\n",
    "\n",
    "from IPython import display\n",
    "from pprint import pprint"
   ]
  },
  {
   "cell_type": "code",
   "execution_count": 2,
   "metadata": {},
   "outputs": [],
   "source": [
    "import tls\n",
    "import attack"
   ]
  },
  {
   "cell_type": "markdown",
   "metadata": {},
   "source": [
    "## Theory"
   ]
  },
  {
   "cell_type": "code",
   "execution_count": 3,
   "metadata": {},
   "outputs": [],
   "source": [
    "p = sympy.Integer(11693128827090800677443535237632476895247105886644942164014088484470194179491435241190389270827811769965853291192455791684691555403909415703633832493911789)\n",
    "q = sympy.Integer(11353860437120204348539420361367294927683441924641720282978666316144621735920188475867378638813811676070362003602263559496393696538309271007870774914687283)\n",
    "N = sympy.Integer(132762152776056020551326919245624484615462467876809681535549565118332290525598572815747323476102181376625279228965473106140757139049665124368186142774966643990206422037551427526013151129106319233128471783533673959766053786798472937188481868923726256436384468384858420931063093337134977283618537887974322079287)"
   ]
  },
  {
   "cell_type": "markdown",
   "metadata": {},
   "source": [
    "## Bruteforce Top Few Bits of $q$\n",
    "The aim of this notebook is to sample the server response times for a bunch of `g` values, and find out if the distribution is meaningfully different between them."
   ]
  },
  {
   "cell_type": "code",
   "execution_count": 4,
   "metadata": {},
   "outputs": [
    {
     "data": {
      "text/html": [
       "<div>\n",
       "<style scoped>\n",
       "    .dataframe tbody tr th:only-of-type {\n",
       "        vertical-align: middle;\n",
       "    }\n",
       "\n",
       "    .dataframe tbody tr th {\n",
       "        vertical-align: top;\n",
       "    }\n",
       "\n",
       "    .dataframe thead th {\n",
       "        text-align: right;\n",
       "    }\n",
       "</style>\n",
       "<table border=\"1\" class=\"dataframe\">\n",
       "  <thead>\n",
       "    <tr style=\"text-align: right;\">\n",
       "      <th></th>\n",
       "      <th>point</th>\n",
       "      <th>time</th>\n",
       "    </tr>\n",
       "  </thead>\n",
       "  <tbody>\n",
       "    <tr>\n",
       "      <th>0</th>\n",
       "      <td>6703903964971298549787012499102923063739682910...</td>\n",
       "      <td>3759062</td>\n",
       "    </tr>\n",
       "    <tr>\n",
       "      <th>1</th>\n",
       "      <td>6703903964971298549787012499102923063739682910...</td>\n",
       "      <td>3693961</td>\n",
       "    </tr>\n",
       "    <tr>\n",
       "      <th>2</th>\n",
       "      <td>6703903964971298549787012499102923063739682910...</td>\n",
       "      <td>3786702</td>\n",
       "    </tr>\n",
       "    <tr>\n",
       "      <th>3</th>\n",
       "      <td>6703903964971298549787012499102923063739682910...</td>\n",
       "      <td>3790809</td>\n",
       "    </tr>\n",
       "    <tr>\n",
       "      <th>4</th>\n",
       "      <td>6703903964971298549787012499102923063739682910...</td>\n",
       "      <td>3718205</td>\n",
       "    </tr>\n",
       "    <tr>\n",
       "      <th>...</th>\n",
       "      <td>...</td>\n",
       "      <td>...</td>\n",
       "    </tr>\n",
       "    <tr>\n",
       "      <th>63995</th>\n",
       "      <td>1256981993432118478085064843581798074451190545...</td>\n",
       "      <td>3592003</td>\n",
       "    </tr>\n",
       "    <tr>\n",
       "      <th>63996</th>\n",
       "      <td>1256981993432118478085064843581798074451190545...</td>\n",
       "      <td>3617352</td>\n",
       "    </tr>\n",
       "    <tr>\n",
       "      <th>63997</th>\n",
       "      <td>1256981993432118478085064843581798074451190545...</td>\n",
       "      <td>3678545</td>\n",
       "    </tr>\n",
       "    <tr>\n",
       "      <th>63998</th>\n",
       "      <td>1256981993432118478085064843581798074451190545...</td>\n",
       "      <td>3683341</td>\n",
       "    </tr>\n",
       "    <tr>\n",
       "      <th>63999</th>\n",
       "      <td>1256981993432118478085064843581798074451190545...</td>\n",
       "      <td>3588021</td>\n",
       "    </tr>\n",
       "  </tbody>\n",
       "</table>\n",
       "<p>64000 rows × 2 columns</p>\n",
       "</div>"
      ],
      "text/plain": [
       "                                                   point     time\n",
       "0      6703903964971298549787012499102923063739682910...  3759062\n",
       "1      6703903964971298549787012499102923063739682910...  3693961\n",
       "2      6703903964971298549787012499102923063739682910...  3786702\n",
       "3      6703903964971298549787012499102923063739682910...  3790809\n",
       "4      6703903964971298549787012499102923063739682910...  3718205\n",
       "...                                                  ...      ...\n",
       "63995  1256981993432118478085064843581798074451190545...  3592003\n",
       "63996  1256981993432118478085064843581798074451190545...  3617352\n",
       "63997  1256981993432118478085064843581798074451190545...  3678545\n",
       "63998  1256981993432118478085064843581798074451190545...  3683341\n",
       "63999  1256981993432118478085064843581798074451190545...  3588021\n",
       "\n",
       "[64000 rows x 2 columns]"
      ]
     },
     "execution_count": 4,
     "metadata": {},
     "output_type": "execute_result"
    }
   ],
   "source": [
    "NEIGHBOURHOOD_SIZE = 400\n",
    "SAMPLE_SIZE = 20\n",
    "BRUTEFORCED_BITS = 4\n",
    "\n",
    "filename = \"./measurements/bruteforce-top-bits.txt\"\n",
    "if not os.path.exists(filename):\n",
    "    gs = attack.bruteforce_most_significant_bits(num_bits=BRUTEFORCED_BITS)\n",
    "    \n",
    "    print(\"Taking {} samples...\".format(len(gs)*SAMPLE_SIZE*NEIGHBOURHOOD_SIZE))\n",
    "    \n",
    "    raw_samples = attack.sample(\n",
    "        gs,\n",
    "        sample_size=SAMPLE_SIZE,\n",
    "        neighbourhood_size=NEIGHBOURHOOD_SIZE,\n",
    "        u_g=True,\n",
    "        N=N,\n",
    "    )\n",
    "    samples = pandas.DataFrame.from_records(\n",
    "        raw_samples,\n",
    "        columns=[\"point\", \"time\"],\n",
    "    )\n",
    "    samples.to_csv(filename, sep=\" \")\n",
    "\n",
    "else:\n",
    "    samples = pandas.read_csv(\n",
    "        filename,\n",
    "        sep=\" \",\n",
    "        usecols=[\"point\", \"time\"],\n",
    "    )\n",
    "\n",
    "samples['point'] = samples['point'].apply(sympy.Integer)\n",
    "samples"
   ]
  },
  {
   "cell_type": "markdown",
   "metadata": {},
   "source": [
    "In the paper, they take median time for each point. By taking the minimum, I hope to extract the fastest time possible, which should be the time with minimal context switches and other delays. This works provided the only sources of unwanted noise _add time_ (rather than remove it)."
   ]
  },
  {
   "cell_type": "code",
   "execution_count": 5,
   "metadata": {
    "scrolled": false
   },
   "outputs": [
    {
     "data": {
      "text/html": [
       "<div>\n",
       "<style scoped>\n",
       "    .dataframe tbody tr th:only-of-type {\n",
       "        vertical-align: middle;\n",
       "    }\n",
       "\n",
       "    .dataframe tbody tr th {\n",
       "        vertical-align: top;\n",
       "    }\n",
       "\n",
       "    .dataframe thead th {\n",
       "        text-align: right;\n",
       "    }\n",
       "</style>\n",
       "<table border=\"1\" class=\"dataframe\">\n",
       "  <thead>\n",
       "    <tr style=\"text-align: right;\">\n",
       "      <th></th>\n",
       "      <th>point</th>\n",
       "      <th>time</th>\n",
       "    </tr>\n",
       "  </thead>\n",
       "  <tbody>\n",
       "    <tr>\n",
       "      <th>0</th>\n",
       "      <td>6703903964971298549787012499102923063739682910...</td>\n",
       "      <td>3674733.0</td>\n",
       "    </tr>\n",
       "    <tr>\n",
       "      <th>1</th>\n",
       "      <td>6703903964971298549787012499102923063739682910...</td>\n",
       "      <td>3596503.0</td>\n",
       "    </tr>\n",
       "    <tr>\n",
       "      <th>2</th>\n",
       "      <td>6703903964971298549787012499102923063739682910...</td>\n",
       "      <td>3618455.5</td>\n",
       "    </tr>\n",
       "    <tr>\n",
       "      <th>3</th>\n",
       "      <td>6703903964971298549787012499102923063739682910...</td>\n",
       "      <td>3601175.0</td>\n",
       "    </tr>\n",
       "    <tr>\n",
       "      <th>4</th>\n",
       "      <td>6703903964971298549787012499102923063739682910...</td>\n",
       "      <td>3602692.5</td>\n",
       "    </tr>\n",
       "    <tr>\n",
       "      <th>...</th>\n",
       "      <td>...</td>\n",
       "      <td>...</td>\n",
       "    </tr>\n",
       "    <tr>\n",
       "      <th>3195</th>\n",
       "      <td>1256981993432118478085064843581798074451190545...</td>\n",
       "      <td>3608102.5</td>\n",
       "    </tr>\n",
       "    <tr>\n",
       "      <th>3196</th>\n",
       "      <td>1256981993432118478085064843581798074451190545...</td>\n",
       "      <td>3606316.0</td>\n",
       "    </tr>\n",
       "    <tr>\n",
       "      <th>3197</th>\n",
       "      <td>1256981993432118478085064843581798074451190545...</td>\n",
       "      <td>3670993.5</td>\n",
       "    </tr>\n",
       "    <tr>\n",
       "      <th>3198</th>\n",
       "      <td>1256981993432118478085064843581798074451190545...</td>\n",
       "      <td>3611076.5</td>\n",
       "    </tr>\n",
       "    <tr>\n",
       "      <th>3199</th>\n",
       "      <td>1256981993432118478085064843581798074451190545...</td>\n",
       "      <td>3598474.5</td>\n",
       "    </tr>\n",
       "  </tbody>\n",
       "</table>\n",
       "<p>3200 rows × 2 columns</p>\n",
       "</div>"
      ],
      "text/plain": [
       "                                                  point       time\n",
       "0     6703903964971298549787012499102923063739682910...  3674733.0\n",
       "1     6703903964971298549787012499102923063739682910...  3596503.0\n",
       "2     6703903964971298549787012499102923063739682910...  3618455.5\n",
       "3     6703903964971298549787012499102923063739682910...  3601175.0\n",
       "4     6703903964971298549787012499102923063739682910...  3602692.5\n",
       "...                                                 ...        ...\n",
       "3195  1256981993432118478085064843581798074451190545...  3608102.5\n",
       "3196  1256981993432118478085064843581798074451190545...  3606316.0\n",
       "3197  1256981993432118478085064843581798074451190545...  3670993.5\n",
       "3198  1256981993432118478085064843581798074451190545...  3611076.5\n",
       "3199  1256981993432118478085064843581798074451190545...  3598474.5\n",
       "\n",
       "[3200 rows x 2 columns]"
      ]
     },
     "execution_count": 5,
     "metadata": {},
     "output_type": "execute_result"
    }
   ],
   "source": [
    "samples = samples.groupby(by=\"point\").median().reset_index()\n",
    "samples"
   ]
  },
  {
   "cell_type": "markdown",
   "metadata": {},
   "source": [
    "We can group samples into their respective \"neighbourhoods\" considering their most significant bits only."
   ]
  },
  {
   "cell_type": "code",
   "execution_count": 6,
   "metadata": {},
   "outputs": [],
   "source": [
    "def point_to_neighbourhood(point):\n",
    "    point_int = sympy.Integer(point)\n",
    "    point_bits = attack.sympy_integer_to_bits(point_int)\n",
    "    neighbourhood_point_bits = point_bits[0:BRUTEFORCED_BITS] + [0] * (512-BRUTEFORCED_BITS)\n",
    "    neighbourhood_point_int = attack.bits_to_sympy_integer(neighbourhood_point_bits)\n",
    "    return neighbourhood_point_int\n",
    "\n",
    "samples['neighbourhood'] = samples['point'].apply(point_to_neighbourhood)"
   ]
  },
  {
   "cell_type": "markdown",
   "metadata": {},
   "source": [
    "Sum together the measurements in each neighbourhood:"
   ]
  },
  {
   "cell_type": "code",
   "execution_count": 7,
   "metadata": {},
   "outputs": [
    {
     "data": {
      "text/html": [
       "<div>\n",
       "<style scoped>\n",
       "    .dataframe tbody tr th:only-of-type {\n",
       "        vertical-align: middle;\n",
       "    }\n",
       "\n",
       "    .dataframe tbody tr th {\n",
       "        vertical-align: top;\n",
       "    }\n",
       "\n",
       "    .dataframe thead th {\n",
       "        text-align: right;\n",
       "    }\n",
       "</style>\n",
       "<table border=\"1\" class=\"dataframe\">\n",
       "  <thead>\n",
       "    <tr style=\"text-align: right;\">\n",
       "      <th></th>\n",
       "      <th>neighbourhood</th>\n",
       "      <th>time</th>\n",
       "    </tr>\n",
       "  </thead>\n",
       "  <tbody>\n",
       "    <tr>\n",
       "      <th>0</th>\n",
       "      <td>6703903964971298549787012499102923063739682910...</td>\n",
       "      <td>1.444297e+09</td>\n",
       "    </tr>\n",
       "    <tr>\n",
       "      <th>1</th>\n",
       "      <td>7541891960592710868510389061490788446707143274...</td>\n",
       "      <td>1.444326e+09</td>\n",
       "    </tr>\n",
       "    <tr>\n",
       "      <th>2</th>\n",
       "      <td>8379879956214123187233765623878653829674603637...</td>\n",
       "      <td>1.443389e+09</td>\n",
       "    </tr>\n",
       "    <tr>\n",
       "      <th>3</th>\n",
       "      <td>9217867951835535505957142186266519212642064001...</td>\n",
       "      <td>1.442807e+09</td>\n",
       "    </tr>\n",
       "    <tr>\n",
       "      <th>4</th>\n",
       "      <td>1005585594745694782468051874865438459560952436...</td>\n",
       "      <td>1.443718e+09</td>\n",
       "    </tr>\n",
       "    <tr>\n",
       "      <th>5</th>\n",
       "      <td>1089384394307836014340389531104224997857698472...</td>\n",
       "      <td>1.443896e+09</td>\n",
       "    </tr>\n",
       "    <tr>\n",
       "      <th>6</th>\n",
       "      <td>1173183193869977246212727187343011536154444509...</td>\n",
       "      <td>1.442998e+09</td>\n",
       "    </tr>\n",
       "    <tr>\n",
       "      <th>7</th>\n",
       "      <td>1256981993432118478085064843581798074451190545...</td>\n",
       "      <td>1.444686e+09</td>\n",
       "    </tr>\n",
       "  </tbody>\n",
       "</table>\n",
       "</div>"
      ],
      "text/plain": [
       "                                       neighbourhood          time\n",
       "0  6703903964971298549787012499102923063739682910...  1.444297e+09\n",
       "1  7541891960592710868510389061490788446707143274...  1.444326e+09\n",
       "2  8379879956214123187233765623878653829674603637...  1.443389e+09\n",
       "3  9217867951835535505957142186266519212642064001...  1.442807e+09\n",
       "4  1005585594745694782468051874865438459560952436...  1.443718e+09\n",
       "5  1089384394307836014340389531104224997857698472...  1.443896e+09\n",
       "6  1173183193869977246212727187343011536154444509...  1.442998e+09\n",
       "7  1256981993432118478085064843581798074451190545...  1.444686e+09"
      ]
     },
     "execution_count": 7,
     "metadata": {},
     "output_type": "execute_result"
    }
   ],
   "source": [
    "samples = samples.groupby(by=\"neighbourhood\").sum().reset_index()\n",
    "samples"
   ]
  },
  {
   "cell_type": "markdown",
   "metadata": {},
   "source": [
    "Since we know the factors of `N` (`q` and `p` with `q<p`) we can consider each point relative in size to these factors. When plotting, we are looking for peaks and troughs near whole multples of `p` and `q`."
   ]
  },
  {
   "cell_type": "code",
   "execution_count": 8,
   "metadata": {},
   "outputs": [
    {
     "data": {
      "text/html": [
       "<div>\n",
       "<style scoped>\n",
       "    .dataframe tbody tr th:only-of-type {\n",
       "        vertical-align: middle;\n",
       "    }\n",
       "\n",
       "    .dataframe tbody tr th {\n",
       "        vertical-align: top;\n",
       "    }\n",
       "\n",
       "    .dataframe thead th {\n",
       "        text-align: right;\n",
       "    }\n",
       "</style>\n",
       "<table border=\"1\" class=\"dataframe\">\n",
       "  <thead>\n",
       "    <tr style=\"text-align: right;\">\n",
       "      <th></th>\n",
       "      <th>neighbourhood</th>\n",
       "      <th>time</th>\n",
       "      <th>point_relative_to_sqrt_n</th>\n",
       "    </tr>\n",
       "  </thead>\n",
       "  <tbody>\n",
       "    <tr>\n",
       "      <th>0</th>\n",
       "      <td>6703903964971298549787012499102923063739682910...</td>\n",
       "      <td>1.444297e+09</td>\n",
       "      <td>0.581823</td>\n",
       "    </tr>\n",
       "    <tr>\n",
       "      <th>1</th>\n",
       "      <td>7541891960592710868510389061490788446707143274...</td>\n",
       "      <td>1.444326e+09</td>\n",
       "      <td>0.654551</td>\n",
       "    </tr>\n",
       "    <tr>\n",
       "      <th>2</th>\n",
       "      <td>8379879956214123187233765623878653829674603637...</td>\n",
       "      <td>1.443389e+09</td>\n",
       "      <td>0.727278</td>\n",
       "    </tr>\n",
       "    <tr>\n",
       "      <th>3</th>\n",
       "      <td>9217867951835535505957142186266519212642064001...</td>\n",
       "      <td>1.442807e+09</td>\n",
       "      <td>0.800006</td>\n",
       "    </tr>\n",
       "    <tr>\n",
       "      <th>4</th>\n",
       "      <td>1005585594745694782468051874865438459560952436...</td>\n",
       "      <td>1.443718e+09</td>\n",
       "      <td>0.872734</td>\n",
       "    </tr>\n",
       "    <tr>\n",
       "      <th>5</th>\n",
       "      <td>1089384394307836014340389531104224997857698472...</td>\n",
       "      <td>1.443896e+09</td>\n",
       "      <td>0.945462</td>\n",
       "    </tr>\n",
       "    <tr>\n",
       "      <th>6</th>\n",
       "      <td>1173183193869977246212727187343011536154444509...</td>\n",
       "      <td>1.442998e+09</td>\n",
       "      <td>1.018190</td>\n",
       "    </tr>\n",
       "    <tr>\n",
       "      <th>7</th>\n",
       "      <td>1256981993432118478085064843581798074451190545...</td>\n",
       "      <td>1.444686e+09</td>\n",
       "      <td>1.090918</td>\n",
       "    </tr>\n",
       "  </tbody>\n",
       "</table>\n",
       "</div>"
      ],
      "text/plain": [
       "                                       neighbourhood          time  \\\n",
       "0  6703903964971298549787012499102923063739682910...  1.444297e+09   \n",
       "1  7541891960592710868510389061490788446707143274...  1.444326e+09   \n",
       "2  8379879956214123187233765623878653829674603637...  1.443389e+09   \n",
       "3  9217867951835535505957142186266519212642064001...  1.442807e+09   \n",
       "4  1005585594745694782468051874865438459560952436...  1.443718e+09   \n",
       "5  1089384394307836014340389531104224997857698472...  1.443896e+09   \n",
       "6  1173183193869977246212727187343011536154444509...  1.442998e+09   \n",
       "7  1256981993432118478085064843581798074451190545...  1.444686e+09   \n",
       "\n",
       "   point_relative_to_sqrt_n  \n",
       "0                  0.581823  \n",
       "1                  0.654551  \n",
       "2                  0.727278  \n",
       "3                  0.800006  \n",
       "4                  0.872734  \n",
       "5                  0.945462  \n",
       "6                  1.018190  \n",
       "7                  1.090918  "
      ]
     },
     "execution_count": 8,
     "metadata": {},
     "output_type": "execute_result"
    }
   ],
   "source": [
    "sqrt_N = sympy.sqrt(N)\n",
    "samples['point_relative_to_sqrt_n'] = samples['neighbourhood'].apply(lambda g: round(float(g/sqrt_N), 10))\n",
    "samples"
   ]
  },
  {
   "cell_type": "code",
   "execution_count": 9,
   "metadata": {},
   "outputs": [],
   "source": [
    "q_relative_to_sqrt_n = round(float(q/sqrt_N), 10)\n",
    "p_relative_to_sqrt_n = round(float(p/sqrt_N), 10)"
   ]
  },
  {
   "cell_type": "markdown",
   "metadata": {},
   "source": [
    "Now plot the media response time as we vary `g`:"
   ]
  },
  {
   "cell_type": "code",
   "execution_count": 10,
   "metadata": {},
   "outputs": [
    {
     "data": {
      "text/plain": [
       "(1442806574.5, 1444685710.5, 187913.6)"
      ]
     },
     "execution_count": 10,
     "metadata": {},
     "output_type": "execute_result"
    }
   ],
   "source": [
    "smallest_time_observed = samples['time'].min()\n",
    "largest_time_observed = samples['time'].max()\n",
    "\n",
    "buffer = (largest_time_observed - smallest_time_observed)/10\n",
    "\n",
    "smallest_time_observed, largest_time_observed, buffer"
   ]
  },
  {
   "cell_type": "code",
   "execution_count": 11,
   "metadata": {},
   "outputs": [],
   "source": [
    "if SAMPLE_SIZE == 20 and NEIGHBOURHOOD_SIZE == 800:\n",
    "    error = 27442/(2*6529841)\n",
    "elif SAMPLE_SIZE == 7 and NEIGHBOURHOOD_SIZE == 400:\n",
    "    error = 42987/(2*6500856)\n",
    "else:\n",
    "    error = 0"
   ]
  },
  {
   "cell_type": "code",
   "execution_count": 12,
   "metadata": {},
   "outputs": [],
   "source": [
    "ylim = (\n",
    "    smallest_time_observed * (1 - error) - buffer,\n",
    "    largest_time_observed * (1 + error) + buffer,\n",
    ")"
   ]
  },
  {
   "cell_type": "code",
   "execution_count": 13,
   "metadata": {},
   "outputs": [
    {
     "data": {
      "text/plain": [
       "<seaborn.axisgrid.FacetGrid at 0x7fc0d623f390>"
      ]
     },
     "execution_count": 13,
     "metadata": {},
     "output_type": "execute_result"
    },
    {
     "data": {
      "image/png": "[encoded data removed]",
      "text/plain": [
       "<Figure size 1152x576 with 1 Axes>"
      ]
     },
     "metadata": {
      "needs_background": "light"
     },
     "output_type": "display_data"
    }
   ],
   "source": [
    "g = seaborn.relplot(data=samples, x='point_relative_to_sqrt_n', y='time', kind='line', height=8, aspect=16/8, marker=\"X\")\n",
    "if error:\n",
    "    plt.plot(samples['point_relative_to_sqrt_n'], [y*(1+error) for y in samples['time']], color='lightblue')\n",
    "    plt.plot(samples['point_relative_to_sqrt_n'], [y*(1-error) for y in samples['time']], color='lightblue')\n",
    "g.set(ylim=ylim)\n",
    "g"
   ]
  },
  {
   "cell_type": "code",
   "execution_count": 14,
   "metadata": {},
   "outputs": [
    {
     "data": {
      "text/plain": [
       "<seaborn.axisgrid.FacetGrid at 0x7fc0d3d74090>"
      ]
     },
     "execution_count": 14,
     "metadata": {},
     "output_type": "execute_result"
    },
    {
     "data": {
      "image/png": "[encoded data removed]",
      "text/plain": [
       "<Figure size 1152x576 with 1 Axes>"
      ]
     },
     "metadata": {
      "needs_background": "light"
     },
     "output_type": "display_data"
    }
   ],
   "source": [
    "g = seaborn.relplot(data=samples, x='point_relative_to_sqrt_n', y='time', kind='line', height=8, aspect=16/8, marker=\"X\")\n",
    "plt.plot([q_relative_to_sqrt_n, q_relative_to_sqrt_n], [smallest_time_observed*0.9, largest_time_observed*1.1], color='green')\n",
    "plt.plot([p_relative_to_sqrt_n, p_relative_to_sqrt_n], [smallest_time_observed*0.9, largest_time_observed*1.1], color='purple')\n",
    "if error:\n",
    "    plt.plot(samples['point_relative_to_sqrt_n'], [y*(1+error) for y in samples['time']], color='lightblue')\n",
    "    plt.plot(samples['point_relative_to_sqrt_n'], [y*(1-error) for y in samples['time']], color='lightblue')\n",
    "g.set(ylim=ylim)\n",
    "g"
   ]
  },
  {
   "cell_type": "code",
   "execution_count": 15,
   "metadata": {},
   "outputs": [
    {
     "data": {
      "text/plain": [
       "<seaborn.axisgrid.FacetGrid at 0x7fc0d623f110>"
      ]
     },
     "execution_count": 15,
     "metadata": {},
     "output_type": "execute_result"
    },
    {
     "data": {
      "image/png": "[encoded data removed]",
      "text/plain": [
       "<Figure size 1152x576 with 1 Axes>"
      ]
     },
     "metadata": {
      "needs_background": "light"
     },
     "output_type": "display_data"
    }
   ],
   "source": [
    "g = seaborn.relplot(data=samples, x='point_relative_to_sqrt_n', y='time', kind='line', height=8, aspect=16/8, marker=\"X\")\n",
    "plt.plot([q_relative_to_sqrt_n, q_relative_to_sqrt_n], [smallest_time_observed*0.9, largest_time_observed*1.1], color='green')\n",
    "plt.plot([p_relative_to_sqrt_n, p_relative_to_sqrt_n], [smallest_time_observed*0.9, largest_time_observed*1.1], color='purple')\n",
    "if error:\n",
    "    plt.plot(samples['point_relative_to_sqrt_n'], [y*(1+error) for y in samples['time']], color='lightblue')\n",
    "    plt.plot(samples['point_relative_to_sqrt_n'], [y*(1-error) for y in samples['time']], color='lightblue')\n",
    "g.set(ylim=ylim)\n",
    "g.set(xlim=(q_relative_to_sqrt_n*0.9, p_relative_to_sqrt_n*1.1))\n",
    "g"
   ]
  },
  {
   "cell_type": "markdown",
   "metadata": {},
   "source": [
    "In the section below, we bound the value of $q$ using the shape of this graph. But its worth noting that the peaks and troughs in the graphs above fit well inside the error bars (calculated in the `noise.ipynb` notebook). It is likely this graph should just be a straight line. "
   ]
  },
  {
   "cell_type": "markdown",
   "metadata": {},
   "source": [
    "### Bounding our search for `q`\n",
    "\n",
    "`scipy` finds two peaks in the sample set."
   ]
  },
  {
   "cell_type": "code",
   "execution_count": 16,
   "metadata": {},
   "outputs": [
    {
     "data": {
      "text/plain": [
       "2"
      ]
     },
     "execution_count": 16,
     "metadata": {},
     "output_type": "execute_result"
    }
   ],
   "source": [
    "peak_indices, _ = scipy.signal.find_peaks(samples['time'])\n",
    "len(peak_indices)"
   ]
  },
  {
   "cell_type": "markdown",
   "metadata": {},
   "source": [
    "Lets re-plot the above graph with the peaks highlighted:"
   ]
  },
  {
   "cell_type": "code",
   "execution_count": 17,
   "metadata": {},
   "outputs": [
    {
     "data": {
      "text/plain": [
       "<seaborn.axisgrid.FacetGrid at 0x7fc0d3184910>"
      ]
     },
     "execution_count": 17,
     "metadata": {},
     "output_type": "execute_result"
    },
    {
     "data": {
      "image/png": "[encoded data removed]",
      "text/plain": [
       "<Figure size 1152x576 with 1 Axes>"
      ]
     },
     "metadata": {
      "needs_background": "light"
     },
     "output_type": "display_data"
    }
   ],
   "source": [
    "g = seaborn.relplot(data=samples, x='point_relative_to_sqrt_n', y='time', kind='line', height=8, aspect=16/8, marker=\"X\")\n",
    "\n",
    "for peak_index in peak_indices:\n",
    "    peak = samples.iloc[peak_index]\n",
    "    plt.plot([peak['point_relative_to_sqrt_n'], peak['point_relative_to_sqrt_n']], ylim, color='orange')\n",
    "\n",
    "if error:\n",
    "    plt.plot(samples['point_relative_to_sqrt_n'], [y*(1+error) for y in samples['time']], color='lightblue')\n",
    "    plt.plot(samples['point_relative_to_sqrt_n'], [y*(1-error) for y in samples['time']], color='lightblue')\n",
    "g.set(ylim=ylim)\n",
    "g"
   ]
  },
  {
   "cell_type": "markdown",
   "metadata": {},
   "source": [
    "I'm going to cheat a little and say that: we should always pick the peak closest to, but less than, $\\sqrt{N}$. Why? We are looking for the peak that gives a lower bound on $q$. After the peak, the number of Montgomery reductions should dip significantly. It will slowly rise until it hits $p$, where it will immediately dip significantly again. We know that $q < \\sqrt{n} < p$, so there shouldn't be any peaks in the interval $(q, p)$. Therefore, the peak closest to, but less than, $\\sqrt{N}$ is the peak caused by the dip in Montgomery  reductions when $g = q$."
   ]
  },
  {
   "cell_type": "code",
   "execution_count": 18,
   "metadata": {},
   "outputs": [
    {
     "data": {
      "text/plain": [
       "neighbourhood               1089384394307836014340389531104224997857698472...\n",
       "time                                                               1.4439e+09\n",
       "point_relative_to_sqrt_n                                             0.945462\n",
       "Name: 5, dtype: object"
      ]
     },
     "execution_count": 18,
     "metadata": {},
     "output_type": "execute_result"
    }
   ],
   "source": [
    "for peak_index in peak_indices:\n",
    "    peak_row = samples.iloc[peak_index]\n",
    "    peak_g = peak_row['neighbourhood']\n",
    "    \n",
    "    if peak_g > sqrt_N:\n",
    "        peak_index -= 1    \n",
    "        peak_row = samples.iloc[peak+index]\n",
    "        peak_g = peak_row['neighbourhood']\n",
    "        break\n",
    "        \n",
    "peak_row"
   ]
  },
  {
   "cell_type": "code",
   "execution_count": 19,
   "metadata": {},
   "outputs": [
    {
     "data": {
      "text/plain": [
       "[1, 1, 0, 1]"
      ]
     },
     "execution_count": 19,
     "metadata": {},
     "output_type": "execute_result"
    }
   ],
   "source": [
    "attack.sympy_integer_to_bits(peak_g)[0:BRUTEFORCED_BITS]"
   ]
  },
  {
   "cell_type": "markdown",
   "metadata": {},
   "source": [
    "This gives a lower bound on `q`. To get an upper bound on `q`, note the following:\n",
    "  1. $q*p = N$\n",
    "  2. $q < p$\n",
    "\n",
    "From 1. and 2. it follows that $q < \\sqrt{N}$.\n",
    "\n",
    "(Suppose $q >= \\sqrt{N}$, then by 2. $p > \\sqrt{N}$ and so $ q*p > N$ which contradicts 1. Therefore $q < \\sqrt{N}$.)"
   ]
  },
  {
   "cell_type": "code",
   "execution_count": 20,
   "metadata": {},
   "outputs": [
    {
     "data": {
      "text/plain": [
       "(10893843943078360143403895311042249978576984729231319619400393673023933274434756918651522867260609034998150884776519916318675029784706588081477339817443328,\n",
       " 11522245995293453226444537667133610590574234209345464522156603069988519317090416103523895551843843150180734266788088596830720220822331432054108383719953516)"
      ]
     },
     "execution_count": 20,
     "metadata": {},
     "output_type": "execute_result"
    }
   ],
   "source": [
    "lower_bound = peak_g\n",
    "upper_bound = sympy.Integer(sqrt_N.round())\n",
    "\n",
    "lower_bound, upper_bound"
   ]
  },
  {
   "cell_type": "markdown",
   "metadata": {},
   "source": [
    "Let's plot these two bounds on the graph:"
   ]
  },
  {
   "cell_type": "code",
   "execution_count": 21,
   "metadata": {},
   "outputs": [
    {
     "data": {
      "text/plain": [
       "<seaborn.axisgrid.FacetGrid at 0x7fc0d2691d50>"
      ]
     },
     "execution_count": 21,
     "metadata": {},
     "output_type": "execute_result"
    },
    {
     "data": {
      "image/png": "[encoded data removed]",
      "text/plain": [
       "<Figure size 1152x576 with 1 Axes>"
      ]
     },
     "metadata": {
      "needs_background": "light"
     },
     "output_type": "display_data"
    }
   ],
   "source": [
    "lower_bound_relative_to_sqrt_n = round(float(lower_bound/sqrt_N), 10)\n",
    "upper_bound_relative_to_sqrt_n = round(float(upper_bound/sqrt_N), 10)\n",
    "\n",
    "g = seaborn.relplot(data=samples, x='point_relative_to_sqrt_n', y='time', kind='line', height=8, aspect=16/8, marker=\"X\")\n",
    "\n",
    "plt.plot([lower_bound_relative_to_sqrt_n, lower_bound_relative_to_sqrt_n], ylim, color='orange')\n",
    "plt.plot([upper_bound_relative_to_sqrt_n, upper_bound_relative_to_sqrt_n], ylim, color='orange')\n",
    "\n",
    "if error:\n",
    "    plt.plot(samples['point_relative_to_sqrt_n'], [y*(1+error) for y in samples['time']], color='lightblue')\n",
    "    plt.plot(samples['point_relative_to_sqrt_n'], [y*(1-error) for y in samples['time']], color='lightblue')\n",
    "g.set(ylim=ylim)\n",
    "g"
   ]
  },
  {
   "cell_type": "markdown",
   "metadata": {},
   "source": [
    "Lets consider the bit representations of these two bounds so we can set in stone the first few bits."
   ]
  },
  {
   "cell_type": "code",
   "execution_count": 22,
   "metadata": {},
   "outputs": [
    {
     "name": "stdout",
     "output_type": "stream",
     "text": [
      "Lower Bound: [1, 1, 0, 1]\n",
      "Upper Bound: [1, 1, 0, 1]\n"
     ]
    }
   ],
   "source": [
    "print(\"Lower Bound:\", attack.sympy_integer_to_bits(lower_bound)[0:BRUTEFORCED_BITS])\n",
    "print(\"Upper Bound:\", attack.sympy_integer_to_bits(upper_bound)[0:BRUTEFORCED_BITS])"
   ]
  },
  {
   "cell_type": "code",
   "execution_count": 23,
   "metadata": {},
   "outputs": [
    {
     "data": {
      "text/plain": [
       "[1, 1, 0, 1]"
      ]
     },
     "execution_count": 23,
     "metadata": {},
     "output_type": "execute_result"
    }
   ],
   "source": [
    "lower_bound_bits = attack.sympy_integer_to_bits(lower_bound)\n",
    "upper_bound_bits = attack.sympy_integer_to_bits(upper_bound)\n",
    "\n",
    "known_q_bits = []\n",
    "for i in range(BRUTEFORCED_BITS):\n",
    "    if lower_bound_bits[i] == upper_bound_bits[i]:\n",
    "        known_q_bits.append(lower_bound_bits[i])\n",
    "    else:\n",
    "        break\n",
    "        \n",
    "known_q_bits"
   ]
  },
  {
   "cell_type": "markdown",
   "metadata": {},
   "source": [
    "The above giving us the first bits of $q$.\n",
    "\n",
    "Since it is prime, we also know that $q$ is odd, and so its least significant bit is 1. We'll ignore that for now."
   ]
  },
  {
   "cell_type": "markdown",
   "metadata": {},
   "source": [
    "# Recovering Bits of $q$"
   ]
  },
  {
   "cell_type": "markdown",
   "metadata": {},
   "source": [
    "Run the iterative key recovery attack on bits 1, 2, and 3. We already know their true values, so there zero-one gaps can be used as reference points for the other bits."
   ]
  },
  {
   "cell_type": "code",
   "execution_count": 24,
   "metadata": {},
   "outputs": [],
   "source": [
    "q_bits = attack.sympy_integer_to_bits(q)"
   ]
  },
  {
   "cell_type": "code",
   "execution_count": 25,
   "metadata": {},
   "outputs": [],
   "source": [
    "BITS_TO_RECOVER = 14\n",
    "bit_samples_filename = \"./measurements/bit-samples.txt\""
   ]
  },
  {
   "cell_type": "code",
   "execution_count": 26,
   "metadata": {
    "scrolled": false
   },
   "outputs": [],
   "source": [
    "if not os.path.exists(bit_samples_filename):\n",
    "    bit_samples = pandas.DataFrame({\n",
    "        'bit_position': [],\n",
    "        'bit_value': [],\n",
    "        'point': [],\n",
    "        'time': [],\n",
    "    })\n",
    "\n",
    "    bits = []\n",
    "    for i in range(0, BITS_TO_RECOVER):\n",
    "        g_low_samples, g_high_samples = attack.sample_ith_bit(\n",
    "            q_bits,\n",
    "            i,\n",
    "            sample_size=SAMPLE_SIZE,\n",
    "            neighbourhood_size=NEIGHBOURHOOD_SIZE,\n",
    "        )\n",
    "\n",
    "        g_low_samples['bit_position'] = i\n",
    "        g_low_samples['bit_value'] = 0\n",
    "\n",
    "        g_high_samples['bit_position'] = i\n",
    "        g_high_samples['bit_value'] = 1\n",
    "\n",
    "        bit_samples = pandas.concat([bit_samples, g_low_samples, g_high_samples], axis=0, sort=True)\n",
    "\n",
    "    bit_samples.to_csv(bit_samples_filename, sep=\" \")"
   ]
  },
  {
   "cell_type": "code",
   "execution_count": 27,
   "metadata": {},
   "outputs": [
    {
     "data": {
      "text/html": [
       "<div>\n",
       "<style scoped>\n",
       "    .dataframe tbody tr th:only-of-type {\n",
       "        vertical-align: middle;\n",
       "    }\n",
       "\n",
       "    .dataframe tbody tr th {\n",
       "        vertical-align: top;\n",
       "    }\n",
       "\n",
       "    .dataframe thead th {\n",
       "        text-align: right;\n",
       "    }\n",
       "</style>\n",
       "<table border=\"1\" class=\"dataframe\">\n",
       "  <thead>\n",
       "    <tr style=\"text-align: right;\">\n",
       "      <th></th>\n",
       "      <th>bit_position</th>\n",
       "      <th>bit_value</th>\n",
       "      <th>point</th>\n",
       "      <th>time</th>\n",
       "    </tr>\n",
       "  </thead>\n",
       "  <tbody>\n",
       "    <tr>\n",
       "      <th>0</th>\n",
       "      <td>0.0</td>\n",
       "      <td>0.0</td>\n",
       "      <td>0</td>\n",
       "      <td>675625.0</td>\n",
       "    </tr>\n",
       "    <tr>\n",
       "      <th>1</th>\n",
       "      <td>0.0</td>\n",
       "      <td>0.0</td>\n",
       "      <td>0</td>\n",
       "      <td>657238.0</td>\n",
       "    </tr>\n",
       "    <tr>\n",
       "      <th>2</th>\n",
       "      <td>0.0</td>\n",
       "      <td>0.0</td>\n",
       "      <td>0</td>\n",
       "      <td>658163.0</td>\n",
       "    </tr>\n",
       "    <tr>\n",
       "      <th>3</th>\n",
       "      <td>0.0</td>\n",
       "      <td>0.0</td>\n",
       "      <td>0</td>\n",
       "      <td>659660.0</td>\n",
       "    </tr>\n",
       "    <tr>\n",
       "      <th>4</th>\n",
       "      <td>0.0</td>\n",
       "      <td>0.0</td>\n",
       "      <td>0</td>\n",
       "      <td>664275.0</td>\n",
       "    </tr>\n",
       "    <tr>\n",
       "      <th>...</th>\n",
       "      <td>...</td>\n",
       "      <td>...</td>\n",
       "      <td>...</td>\n",
       "      <td>...</td>\n",
       "    </tr>\n",
       "    <tr>\n",
       "      <th>223995</th>\n",
       "      <td>13.0</td>\n",
       "      <td>1.0</td>\n",
       "      <td>1135457367113974211160825176087073455925147709...</td>\n",
       "      <td>3603538.0</td>\n",
       "    </tr>\n",
       "    <tr>\n",
       "      <th>223996</th>\n",
       "      <td>13.0</td>\n",
       "      <td>1.0</td>\n",
       "      <td>1135457367113974211160825176087073455925147709...</td>\n",
       "      <td>3595978.0</td>\n",
       "    </tr>\n",
       "    <tr>\n",
       "      <th>223997</th>\n",
       "      <td>13.0</td>\n",
       "      <td>1.0</td>\n",
       "      <td>1135457367113974211160825176087073455925147709...</td>\n",
       "      <td>3680834.0</td>\n",
       "    </tr>\n",
       "    <tr>\n",
       "      <th>223998</th>\n",
       "      <td>13.0</td>\n",
       "      <td>1.0</td>\n",
       "      <td>1135457367113974211160825176087073455925147709...</td>\n",
       "      <td>3596585.0</td>\n",
       "    </tr>\n",
       "    <tr>\n",
       "      <th>223999</th>\n",
       "      <td>13.0</td>\n",
       "      <td>1.0</td>\n",
       "      <td>1135457367113974211160825176087073455925147709...</td>\n",
       "      <td>3604771.0</td>\n",
       "    </tr>\n",
       "  </tbody>\n",
       "</table>\n",
       "<p>224000 rows × 4 columns</p>\n",
       "</div>"
      ],
      "text/plain": [
       "        bit_position  bit_value  \\\n",
       "0                0.0        0.0   \n",
       "1                0.0        0.0   \n",
       "2                0.0        0.0   \n",
       "3                0.0        0.0   \n",
       "4                0.0        0.0   \n",
       "...              ...        ...   \n",
       "223995          13.0        1.0   \n",
       "223996          13.0        1.0   \n",
       "223997          13.0        1.0   \n",
       "223998          13.0        1.0   \n",
       "223999          13.0        1.0   \n",
       "\n",
       "                                                    point       time  \n",
       "0                                                       0   675625.0  \n",
       "1                                                       0   657238.0  \n",
       "2                                                       0   658163.0  \n",
       "3                                                       0   659660.0  \n",
       "4                                                       0   664275.0  \n",
       "...                                                   ...        ...  \n",
       "223995  1135457367113974211160825176087073455925147709...  3603538.0  \n",
       "223996  1135457367113974211160825176087073455925147709...  3595978.0  \n",
       "223997  1135457367113974211160825176087073455925147709...  3680834.0  \n",
       "223998  1135457367113974211160825176087073455925147709...  3596585.0  \n",
       "223999  1135457367113974211160825176087073455925147709...  3604771.0  \n",
       "\n",
       "[224000 rows x 4 columns]"
      ]
     },
     "execution_count": 27,
     "metadata": {},
     "output_type": "execute_result"
    }
   ],
   "source": [
    "bit_samples = pandas.read_csv(bit_samples_filename, sep=\" \").drop(\"Unnamed: 0\", axis=1)\n",
    "bit_samples"
   ]
  },
  {
   "cell_type": "markdown",
   "metadata": {},
   "source": [
    "Next, collate the sample sets and neighbourhoods to provide a single measurement for each bit position and value combination."
   ]
  },
  {
   "cell_type": "code",
   "execution_count": 28,
   "metadata": {},
   "outputs": [
    {
     "data": {
      "text/html": [
       "<div>\n",
       "<style scoped>\n",
       "    .dataframe tbody tr th:only-of-type {\n",
       "        vertical-align: middle;\n",
       "    }\n",
       "\n",
       "    .dataframe tbody tr th {\n",
       "        vertical-align: top;\n",
       "    }\n",
       "\n",
       "    .dataframe thead th {\n",
       "        text-align: right;\n",
       "    }\n",
       "</style>\n",
       "<table border=\"1\" class=\"dataframe\">\n",
       "  <thead>\n",
       "    <tr style=\"text-align: right;\">\n",
       "      <th></th>\n",
       "      <th>bit_position</th>\n",
       "      <th>bit_value</th>\n",
       "      <th>time</th>\n",
       "    </tr>\n",
       "  </thead>\n",
       "  <tbody>\n",
       "    <tr>\n",
       "      <th>0</th>\n",
       "      <td>0.0</td>\n",
       "      <td>0.0</td>\n",
       "      <td>1.441191e+09</td>\n",
       "    </tr>\n",
       "    <tr>\n",
       "      <th>1</th>\n",
       "      <td>0.0</td>\n",
       "      <td>1.0</td>\n",
       "      <td>1.444202e+09</td>\n",
       "    </tr>\n",
       "    <tr>\n",
       "      <th>2</th>\n",
       "      <td>1.0</td>\n",
       "      <td>0.0</td>\n",
       "      <td>1.444100e+09</td>\n",
       "    </tr>\n",
       "    <tr>\n",
       "      <th>3</th>\n",
       "      <td>1.0</td>\n",
       "      <td>1.0</td>\n",
       "      <td>1.443515e+09</td>\n",
       "    </tr>\n",
       "    <tr>\n",
       "      <th>4</th>\n",
       "      <td>2.0</td>\n",
       "      <td>0.0</td>\n",
       "      <td>1.444218e+09</td>\n",
       "    </tr>\n",
       "    <tr>\n",
       "      <th>5</th>\n",
       "      <td>2.0</td>\n",
       "      <td>1.0</td>\n",
       "      <td>1.444374e+09</td>\n",
       "    </tr>\n",
       "    <tr>\n",
       "      <th>6</th>\n",
       "      <td>3.0</td>\n",
       "      <td>0.0</td>\n",
       "      <td>1.443913e+09</td>\n",
       "    </tr>\n",
       "    <tr>\n",
       "      <th>7</th>\n",
       "      <td>3.0</td>\n",
       "      <td>1.0</td>\n",
       "      <td>1.443130e+09</td>\n",
       "    </tr>\n",
       "    <tr>\n",
       "      <th>8</th>\n",
       "      <td>4.0</td>\n",
       "      <td>0.0</td>\n",
       "      <td>1.443591e+09</td>\n",
       "    </tr>\n",
       "    <tr>\n",
       "      <th>9</th>\n",
       "      <td>4.0</td>\n",
       "      <td>1.0</td>\n",
       "      <td>1.443068e+09</td>\n",
       "    </tr>\n",
       "    <tr>\n",
       "      <th>10</th>\n",
       "      <td>5.0</td>\n",
       "      <td>0.0</td>\n",
       "      <td>1.443711e+09</td>\n",
       "    </tr>\n",
       "    <tr>\n",
       "      <th>11</th>\n",
       "      <td>5.0</td>\n",
       "      <td>1.0</td>\n",
       "      <td>1.444296e+09</td>\n",
       "    </tr>\n",
       "    <tr>\n",
       "      <th>12</th>\n",
       "      <td>6.0</td>\n",
       "      <td>0.0</td>\n",
       "      <td>1.443122e+09</td>\n",
       "    </tr>\n",
       "    <tr>\n",
       "      <th>13</th>\n",
       "      <td>6.0</td>\n",
       "      <td>1.0</td>\n",
       "      <td>1.443935e+09</td>\n",
       "    </tr>\n",
       "    <tr>\n",
       "      <th>14</th>\n",
       "      <td>7.0</td>\n",
       "      <td>0.0</td>\n",
       "      <td>1.443614e+09</td>\n",
       "    </tr>\n",
       "    <tr>\n",
       "      <th>15</th>\n",
       "      <td>7.0</td>\n",
       "      <td>1.0</td>\n",
       "      <td>1.443959e+09</td>\n",
       "    </tr>\n",
       "    <tr>\n",
       "      <th>16</th>\n",
       "      <td>8.0</td>\n",
       "      <td>0.0</td>\n",
       "      <td>1.444977e+09</td>\n",
       "    </tr>\n",
       "    <tr>\n",
       "      <th>17</th>\n",
       "      <td>8.0</td>\n",
       "      <td>1.0</td>\n",
       "      <td>1.443281e+09</td>\n",
       "    </tr>\n",
       "    <tr>\n",
       "      <th>18</th>\n",
       "      <td>9.0</td>\n",
       "      <td>0.0</td>\n",
       "      <td>1.444445e+09</td>\n",
       "    </tr>\n",
       "    <tr>\n",
       "      <th>19</th>\n",
       "      <td>9.0</td>\n",
       "      <td>1.0</td>\n",
       "      <td>1.444098e+09</td>\n",
       "    </tr>\n",
       "    <tr>\n",
       "      <th>20</th>\n",
       "      <td>10.0</td>\n",
       "      <td>0.0</td>\n",
       "      <td>1.444234e+09</td>\n",
       "    </tr>\n",
       "    <tr>\n",
       "      <th>21</th>\n",
       "      <td>10.0</td>\n",
       "      <td>1.0</td>\n",
       "      <td>1.442924e+09</td>\n",
       "    </tr>\n",
       "    <tr>\n",
       "      <th>22</th>\n",
       "      <td>11.0</td>\n",
       "      <td>0.0</td>\n",
       "      <td>1.443101e+09</td>\n",
       "    </tr>\n",
       "    <tr>\n",
       "      <th>23</th>\n",
       "      <td>11.0</td>\n",
       "      <td>1.0</td>\n",
       "      <td>1.443638e+09</td>\n",
       "    </tr>\n",
       "    <tr>\n",
       "      <th>24</th>\n",
       "      <td>12.0</td>\n",
       "      <td>0.0</td>\n",
       "      <td>1.443809e+09</td>\n",
       "    </tr>\n",
       "    <tr>\n",
       "      <th>25</th>\n",
       "      <td>12.0</td>\n",
       "      <td>1.0</td>\n",
       "      <td>1.444683e+09</td>\n",
       "    </tr>\n",
       "    <tr>\n",
       "      <th>26</th>\n",
       "      <td>13.0</td>\n",
       "      <td>0.0</td>\n",
       "      <td>1.445143e+09</td>\n",
       "    </tr>\n",
       "    <tr>\n",
       "      <th>27</th>\n",
       "      <td>13.0</td>\n",
       "      <td>1.0</td>\n",
       "      <td>1.445693e+09</td>\n",
       "    </tr>\n",
       "  </tbody>\n",
       "</table>\n",
       "</div>"
      ],
      "text/plain": [
       "    bit_position  bit_value          time\n",
       "0            0.0        0.0  1.441191e+09\n",
       "1            0.0        1.0  1.444202e+09\n",
       "2            1.0        0.0  1.444100e+09\n",
       "3            1.0        1.0  1.443515e+09\n",
       "4            2.0        0.0  1.444218e+09\n",
       "5            2.0        1.0  1.444374e+09\n",
       "6            3.0        0.0  1.443913e+09\n",
       "7            3.0        1.0  1.443130e+09\n",
       "8            4.0        0.0  1.443591e+09\n",
       "9            4.0        1.0  1.443068e+09\n",
       "10           5.0        0.0  1.443711e+09\n",
       "11           5.0        1.0  1.444296e+09\n",
       "12           6.0        0.0  1.443122e+09\n",
       "13           6.0        1.0  1.443935e+09\n",
       "14           7.0        0.0  1.443614e+09\n",
       "15           7.0        1.0  1.443959e+09\n",
       "16           8.0        0.0  1.444977e+09\n",
       "17           8.0        1.0  1.443281e+09\n",
       "18           9.0        0.0  1.444445e+09\n",
       "19           9.0        1.0  1.444098e+09\n",
       "20          10.0        0.0  1.444234e+09\n",
       "21          10.0        1.0  1.442924e+09\n",
       "22          11.0        0.0  1.443101e+09\n",
       "23          11.0        1.0  1.443638e+09\n",
       "24          12.0        0.0  1.443809e+09\n",
       "25          12.0        1.0  1.444683e+09\n",
       "26          13.0        0.0  1.445143e+09\n",
       "27          13.0        1.0  1.445693e+09"
      ]
     },
     "execution_count": 28,
     "metadata": {},
     "output_type": "execute_result"
    }
   ],
   "source": [
    "bit_timings = bit_samples\\\n",
    "    .groupby([\"bit_position\", \"bit_value\", \"point\"]).median()\\\n",
    "    .groupby([\"bit_position\", \"bit_value\"]).sum()\\\n",
    "    .reset_index()\n",
    "\n",
    "bit_timings"
   ]
  },
  {
   "cell_type": "markdown",
   "metadata": {},
   "source": [
    "To replicate the paper, we calculate the zero-one gap for each bit position:"
   ]
  },
  {
   "cell_type": "code",
   "execution_count": 29,
   "metadata": {},
   "outputs": [
    {
     "data": {
      "text/plain": [
       "bit_position\n",
       "0.0     3011335.5\n",
       "1.0      584582.0\n",
       "2.0      156045.0\n",
       "3.0      783085.5\n",
       "4.0      523536.0\n",
       "5.0      585343.5\n",
       "6.0      812370.0\n",
       "7.0      344772.5\n",
       "8.0     1695745.0\n",
       "9.0      347639.0\n",
       "10.0    1309327.5\n",
       "11.0     536910.0\n",
       "12.0     874217.5\n",
       "13.0     549665.5\n",
       "dtype: float64"
      ]
     },
     "execution_count": 29,
     "metadata": {},
     "output_type": "execute_result"
    }
   ],
   "source": [
    "def calc_zero_one_gap(row):\n",
    "    T_g_low = row[row['bit_value']==0]['time'].iloc[0]\n",
    "    T_g_high = row[row['bit_value']==1]['time'].iloc[0]\n",
    "    return abs(T_g_low-T_g_high)\n",
    "\n",
    "zero_one_gaps = bit_timings.groupby(\"bit_position\").apply(calc_zero_one_gap)\n",
    "zero_one_gaps"
   ]
  },
  {
   "cell_type": "markdown",
   "metadata": {},
   "source": [
    "Plot the gap for each bit position, with a color to denote its true value. Can we separate these into two distinct distributions?"
   ]
  },
  {
   "cell_type": "code",
   "execution_count": 30,
   "metadata": {},
   "outputs": [
    {
     "data": {
      "text/plain": [
       "<seaborn.axisgrid.FacetGrid at 0x7fc0d23ed190>"
      ]
     },
     "execution_count": 30,
     "metadata": {},
     "output_type": "execute_result"
    },
    {
     "data": {
      "image/png": "[encoded data removed]",
      "text/plain": [
       "<Figure size 1242.11x576 with 1 Axes>"
      ]
     },
     "metadata": {
      "needs_background": "light"
     },
     "output_type": "display_data"
    }
   ],
   "source": [
    "seaborn.relplot(\n",
    "    data=pandas.DataFrame({\n",
    "        'True Value': q_bits[0:BITS_TO_RECOVER],\n",
    "        'Zero-One Gap': zero_one_gaps,\n",
    "        'Bit': range(0, BITS_TO_RECOVER),\n",
    "    }),\n",
    "    x='Bit',\n",
    "    y='Zero-One Gap',\n",
    "    hue='True Value',\n",
    "    kind='scatter',\n",
    "    height=8,\n",
    "    aspect=16/8,\n",
    ")"
   ]
  },
  {
   "cell_type": "markdown",
   "metadata": {},
   "source": [
    "These results aren't great, which is sad given that this is the first set of measurements since I fixed the Montogomery transform bug in `attack.py`. Plotting the zero-one gaps shows that there isn't a consistent way of separating them. Further, the first 4 bits show the opposite pattern to the one we'd expect.\n",
    "\n",
    "To investigate, I plot the timings for each point in a graph similar to the one in [\"Bruteforce Top Few Bits of $q$\"](#Bruteforce-Top-Few-Bits-of-$q$). The resulting graph is a little erratic, but isn't too discouraging. I think taking more samples might be worth it."
   ]
  },
  {
   "cell_type": "code",
   "execution_count": 31,
   "metadata": {},
   "outputs": [
    {
     "data": {
      "text/html": [
       "<div>\n",
       "<style scoped>\n",
       "    .dataframe tbody tr th:only-of-type {\n",
       "        vertical-align: middle;\n",
       "    }\n",
       "\n",
       "    .dataframe tbody tr th {\n",
       "        vertical-align: top;\n",
       "    }\n",
       "\n",
       "    .dataframe thead th {\n",
       "        text-align: right;\n",
       "    }\n",
       "</style>\n",
       "<table border=\"1\" class=\"dataframe\">\n",
       "  <thead>\n",
       "    <tr style=\"text-align: right;\">\n",
       "      <th></th>\n",
       "      <th>bit_position</th>\n",
       "      <th>bit_value</th>\n",
       "      <th>time</th>\n",
       "      <th>neighbourhood</th>\n",
       "    </tr>\n",
       "  </thead>\n",
       "  <tbody>\n",
       "    <tr>\n",
       "      <th>0</th>\n",
       "      <td>0.0</td>\n",
       "      <td>0.0</td>\n",
       "      <td>1.441191e+09</td>\n",
       "      <td>0</td>\n",
       "    </tr>\n",
       "    <tr>\n",
       "      <th>1</th>\n",
       "      <td>0.0</td>\n",
       "      <td>1.0</td>\n",
       "      <td>1.444202e+09</td>\n",
       "      <td>6703903964971298549787012499102923063739682910...</td>\n",
       "    </tr>\n",
       "    <tr>\n",
       "      <th>2</th>\n",
       "      <td>1.0</td>\n",
       "      <td>0.0</td>\n",
       "      <td>1.444100e+09</td>\n",
       "      <td>6703903964971298549787012499102923063739682910...</td>\n",
       "    </tr>\n",
       "    <tr>\n",
       "      <th>3</th>\n",
       "      <td>1.0</td>\n",
       "      <td>1.0</td>\n",
       "      <td>1.443515e+09</td>\n",
       "      <td>1005585594745694782468051874865438459560952436...</td>\n",
       "    </tr>\n",
       "    <tr>\n",
       "      <th>4</th>\n",
       "      <td>2.0</td>\n",
       "      <td>0.0</td>\n",
       "      <td>1.444218e+09</td>\n",
       "      <td>1005585594745694782468051874865438459560952436...</td>\n",
       "    </tr>\n",
       "    <tr>\n",
       "      <th>5</th>\n",
       "      <td>2.0</td>\n",
       "      <td>1.0</td>\n",
       "      <td>1.444374e+09</td>\n",
       "      <td>1173183193869977246212727187343011536154444509...</td>\n",
       "    </tr>\n",
       "    <tr>\n",
       "      <th>6</th>\n",
       "      <td>3.0</td>\n",
       "      <td>0.0</td>\n",
       "      <td>1.443913e+09</td>\n",
       "      <td>1005585594745694782468051874865438459560952436...</td>\n",
       "    </tr>\n",
       "    <tr>\n",
       "      <th>7</th>\n",
       "      <td>3.0</td>\n",
       "      <td>1.0</td>\n",
       "      <td>1.443130e+09</td>\n",
       "      <td>1089384394307836014340389531104224997857698472...</td>\n",
       "    </tr>\n",
       "    <tr>\n",
       "      <th>8</th>\n",
       "      <td>4.0</td>\n",
       "      <td>0.0</td>\n",
       "      <td>1.443591e+09</td>\n",
       "      <td>1089384394307836014340389531104224997857698472...</td>\n",
       "    </tr>\n",
       "    <tr>\n",
       "      <th>9</th>\n",
       "      <td>4.0</td>\n",
       "      <td>1.0</td>\n",
       "      <td>1.443068e+09</td>\n",
       "      <td>1131283794088906630276558359223618267006071491...</td>\n",
       "    </tr>\n",
       "    <tr>\n",
       "      <th>10</th>\n",
       "      <td>5.0</td>\n",
       "      <td>0.0</td>\n",
       "      <td>1.443711e+09</td>\n",
       "      <td>1131283794088906630276558359223618267006071491...</td>\n",
       "    </tr>\n",
       "    <tr>\n",
       "      <th>11</th>\n",
       "      <td>5.0</td>\n",
       "      <td>1.0</td>\n",
       "      <td>1.444296e+09</td>\n",
       "      <td>1152233493979441938244642773283314901580258000...</td>\n",
       "    </tr>\n",
       "    <tr>\n",
       "      <th>12</th>\n",
       "      <td>6.0</td>\n",
       "      <td>0.0</td>\n",
       "      <td>1.443122e+09</td>\n",
       "      <td>1131283794088906630276558359223618267006071491...</td>\n",
       "    </tr>\n",
       "    <tr>\n",
       "      <th>13</th>\n",
       "      <td>6.0</td>\n",
       "      <td>1.0</td>\n",
       "      <td>1.443935e+09</td>\n",
       "      <td>1141758644034174284260600566253466584293164745...</td>\n",
       "    </tr>\n",
       "    <tr>\n",
       "      <th>14</th>\n",
       "      <td>7.0</td>\n",
       "      <td>0.0</td>\n",
       "      <td>1.443614e+09</td>\n",
       "      <td>1131283794088906630276558359223618267006071491...</td>\n",
       "    </tr>\n",
       "    <tr>\n",
       "      <th>15</th>\n",
       "      <td>7.0</td>\n",
       "      <td>1.0</td>\n",
       "      <td>1.443959e+09</td>\n",
       "      <td>1136521219061540457268579462738542425649618118...</td>\n",
       "    </tr>\n",
       "    <tr>\n",
       "      <th>16</th>\n",
       "      <td>8.0</td>\n",
       "      <td>0.0</td>\n",
       "      <td>1.444977e+09</td>\n",
       "      <td>1131283794088906630276558359223618267006071491...</td>\n",
       "    </tr>\n",
       "    <tr>\n",
       "      <th>17</th>\n",
       "      <td>8.0</td>\n",
       "      <td>1.0</td>\n",
       "      <td>1.443281e+09</td>\n",
       "      <td>1133902506575223543772568910981080346327844804...</td>\n",
       "    </tr>\n",
       "    <tr>\n",
       "      <th>18</th>\n",
       "      <td>9.0</td>\n",
       "      <td>0.0</td>\n",
       "      <td>1.444445e+09</td>\n",
       "      <td>1133902506575223543772568910981080346327844804...</td>\n",
       "    </tr>\n",
       "    <tr>\n",
       "      <th>19</th>\n",
       "      <td>9.0</td>\n",
       "      <td>1.0</td>\n",
       "      <td>1.444098e+09</td>\n",
       "      <td>1135211862818382000520574186859811385988731461...</td>\n",
       "    </tr>\n",
       "    <tr>\n",
       "      <th>20</th>\n",
       "      <td>10.0</td>\n",
       "      <td>0.0</td>\n",
       "      <td>1.444234e+09</td>\n",
       "      <td>1135211862818382000520574186859811385988731461...</td>\n",
       "    </tr>\n",
       "    <tr>\n",
       "      <th>21</th>\n",
       "      <td>10.0</td>\n",
       "      <td>1.0</td>\n",
       "      <td>1.442924e+09</td>\n",
       "      <td>1135866540939961228894576824799176905819174789...</td>\n",
       "    </tr>\n",
       "    <tr>\n",
       "      <th>22</th>\n",
       "      <td>11.0</td>\n",
       "      <td>0.0</td>\n",
       "      <td>1.443101e+09</td>\n",
       "      <td>1135211862818382000520574186859811385988731461...</td>\n",
       "    </tr>\n",
       "    <tr>\n",
       "      <th>23</th>\n",
       "      <td>11.0</td>\n",
       "      <td>1.0</td>\n",
       "      <td>1.443638e+09</td>\n",
       "      <td>1135539201879171614707575505829494145903953125...</td>\n",
       "    </tr>\n",
       "    <tr>\n",
       "      <th>24</th>\n",
       "      <td>12.0</td>\n",
       "      <td>0.0</td>\n",
       "      <td>1.443809e+09</td>\n",
       "      <td>1135211862818382000520574186859811385988731461...</td>\n",
       "    </tr>\n",
       "    <tr>\n",
       "      <th>25</th>\n",
       "      <td>12.0</td>\n",
       "      <td>1.0</td>\n",
       "      <td>1.444683e+09</td>\n",
       "      <td>1135375532348776807614074846344652765946342293...</td>\n",
       "    </tr>\n",
       "    <tr>\n",
       "      <th>26</th>\n",
       "      <td>13.0</td>\n",
       "      <td>0.0</td>\n",
       "      <td>1.445143e+09</td>\n",
       "      <td>1135375532348776807614074846344652765946342293...</td>\n",
       "    </tr>\n",
       "    <tr>\n",
       "      <th>27</th>\n",
       "      <td>13.0</td>\n",
       "      <td>1.0</td>\n",
       "      <td>1.445693e+09</td>\n",
       "      <td>1135457367113974211160825176087073455925147709...</td>\n",
       "    </tr>\n",
       "  </tbody>\n",
       "</table>\n",
       "</div>"
      ],
      "text/plain": [
       "    bit_position  bit_value          time  \\\n",
       "0            0.0        0.0  1.441191e+09   \n",
       "1            0.0        1.0  1.444202e+09   \n",
       "2            1.0        0.0  1.444100e+09   \n",
       "3            1.0        1.0  1.443515e+09   \n",
       "4            2.0        0.0  1.444218e+09   \n",
       "5            2.0        1.0  1.444374e+09   \n",
       "6            3.0        0.0  1.443913e+09   \n",
       "7            3.0        1.0  1.443130e+09   \n",
       "8            4.0        0.0  1.443591e+09   \n",
       "9            4.0        1.0  1.443068e+09   \n",
       "10           5.0        0.0  1.443711e+09   \n",
       "11           5.0        1.0  1.444296e+09   \n",
       "12           6.0        0.0  1.443122e+09   \n",
       "13           6.0        1.0  1.443935e+09   \n",
       "14           7.0        0.0  1.443614e+09   \n",
       "15           7.0        1.0  1.443959e+09   \n",
       "16           8.0        0.0  1.444977e+09   \n",
       "17           8.0        1.0  1.443281e+09   \n",
       "18           9.0        0.0  1.444445e+09   \n",
       "19           9.0        1.0  1.444098e+09   \n",
       "20          10.0        0.0  1.444234e+09   \n",
       "21          10.0        1.0  1.442924e+09   \n",
       "22          11.0        0.0  1.443101e+09   \n",
       "23          11.0        1.0  1.443638e+09   \n",
       "24          12.0        0.0  1.443809e+09   \n",
       "25          12.0        1.0  1.444683e+09   \n",
       "26          13.0        0.0  1.445143e+09   \n",
       "27          13.0        1.0  1.445693e+09   \n",
       "\n",
       "                                        neighbourhood  \n",
       "0                                                   0  \n",
       "1   6703903964971298549787012499102923063739682910...  \n",
       "2   6703903964971298549787012499102923063739682910...  \n",
       "3   1005585594745694782468051874865438459560952436...  \n",
       "4   1005585594745694782468051874865438459560952436...  \n",
       "5   1173183193869977246212727187343011536154444509...  \n",
       "6   1005585594745694782468051874865438459560952436...  \n",
       "7   1089384394307836014340389531104224997857698472...  \n",
       "8   1089384394307836014340389531104224997857698472...  \n",
       "9   1131283794088906630276558359223618267006071491...  \n",
       "10  1131283794088906630276558359223618267006071491...  \n",
       "11  1152233493979441938244642773283314901580258000...  \n",
       "12  1131283794088906630276558359223618267006071491...  \n",
       "13  1141758644034174284260600566253466584293164745...  \n",
       "14  1131283794088906630276558359223618267006071491...  \n",
       "15  1136521219061540457268579462738542425649618118...  \n",
       "16  1131283794088906630276558359223618267006071491...  \n",
       "17  1133902506575223543772568910981080346327844804...  \n",
       "18  1133902506575223543772568910981080346327844804...  \n",
       "19  1135211862818382000520574186859811385988731461...  \n",
       "20  1135211862818382000520574186859811385988731461...  \n",
       "21  1135866540939961228894576824799176905819174789...  \n",
       "22  1135211862818382000520574186859811385988731461...  \n",
       "23  1135539201879171614707575505829494145903953125...  \n",
       "24  1135211862818382000520574186859811385988731461...  \n",
       "25  1135375532348776807614074846344652765946342293...  \n",
       "26  1135375532348776807614074846344652765946342293...  \n",
       "27  1135457367113974211160825176087073455925147709...  "
      ]
     },
     "execution_count": 31,
     "metadata": {},
     "output_type": "execute_result"
    }
   ],
   "source": [
    "def calc_point(row):\n",
    "    bit_position, bit_value = int(row['bit_position']), int(row['bit_value'])\n",
    "    point_bits = q_bits[0:bit_position] + [bit_value] + [0]*(len(q_bits) - 1 - bit_position)\n",
    "    point = attack.bits_to_sympy_integer(point_bits)\n",
    "    return point\n",
    "\n",
    "bit_timings['neighbourhood'] = bit_timings.apply(calc_point, axis=1)\n",
    "\n",
    "bit_timings"
   ]
  },
  {
   "cell_type": "code",
   "execution_count": 32,
   "metadata": {},
   "outputs": [
    {
     "data": {
      "text/html": [
       "<div>\n",
       "<style scoped>\n",
       "    .dataframe tbody tr th:only-of-type {\n",
       "        vertical-align: middle;\n",
       "    }\n",
       "\n",
       "    .dataframe tbody tr th {\n",
       "        vertical-align: top;\n",
       "    }\n",
       "\n",
       "    .dataframe thead th {\n",
       "        text-align: right;\n",
       "    }\n",
       "</style>\n",
       "<table border=\"1\" class=\"dataframe\">\n",
       "  <thead>\n",
       "    <tr style=\"text-align: right;\">\n",
       "      <th></th>\n",
       "      <th>neighbourhood</th>\n",
       "      <th>bit_position</th>\n",
       "      <th>bit_value</th>\n",
       "      <th>time</th>\n",
       "      <th>point_relative_to_sqrt_n</th>\n",
       "    </tr>\n",
       "  </thead>\n",
       "  <tbody>\n",
       "    <tr>\n",
       "      <th>0</th>\n",
       "      <td>0</td>\n",
       "      <td>0.0</td>\n",
       "      <td>0.000000</td>\n",
       "      <td>1.441191e+09</td>\n",
       "      <td>0</td>\n",
       "    </tr>\n",
       "    <tr>\n",
       "      <th>1</th>\n",
       "      <td>6703903964971298549787012499102923063739682910...</td>\n",
       "      <td>0.5</td>\n",
       "      <td>0.500000</td>\n",
       "      <td>1.444151e+09</td>\n",
       "      <td>0.58182267308905522192424288413716149784674078...</td>\n",
       "    </tr>\n",
       "    <tr>\n",
       "      <th>2</th>\n",
       "      <td>1005585594745694782468051874865438459560952436...</td>\n",
       "      <td>2.0</td>\n",
       "      <td>0.333333</td>\n",
       "      <td>1.443882e+09</td>\n",
       "      <td>0.87273400963358283288636432620574224677011118...</td>\n",
       "    </tr>\n",
       "    <tr>\n",
       "      <th>3</th>\n",
       "      <td>1089384394307836014340389531104224997857698472...</td>\n",
       "      <td>3.5</td>\n",
       "      <td>0.500000</td>\n",
       "      <td>1.443360e+09</td>\n",
       "      <td>0.94546184376971473562689468672288743400095378...</td>\n",
       "    </tr>\n",
       "    <tr>\n",
       "      <th>4</th>\n",
       "      <td>1131283794088906630276558359223618267006071491...</td>\n",
       "      <td>6.0</td>\n",
       "      <td>0.200000</td>\n",
       "      <td>1.443698e+09</td>\n",
       "      <td>0.98182576083778068699715986698146002761637508...</td>\n",
       "    </tr>\n",
       "    <tr>\n",
       "      <th>5</th>\n",
       "      <td>1133902506575223543772568910981080346327844804...</td>\n",
       "      <td>8.5</td>\n",
       "      <td>0.500000</td>\n",
       "      <td>1.443863e+09</td>\n",
       "      <td>0.98409850565453480895780144074762081471733891...</td>\n",
       "    </tr>\n",
       "    <tr>\n",
       "      <th>6</th>\n",
       "      <td>1135211862818382000520574186859811385988731461...</td>\n",
       "      <td>10.5</td>\n",
       "      <td>0.250000</td>\n",
       "      <td>1.443810e+09</td>\n",
       "      <td>0.98523487806291186993812222763070120826782082...</td>\n",
       "    </tr>\n",
       "    <tr>\n",
       "      <th>7</th>\n",
       "      <td>1135375532348776807614074846344652765946342293...</td>\n",
       "      <td>12.5</td>\n",
       "      <td>0.500000</td>\n",
       "      <td>1.444913e+09</td>\n",
       "      <td>0.98537692461395900256066232599108625746163106...</td>\n",
       "    </tr>\n",
       "    <tr>\n",
       "      <th>8</th>\n",
       "      <td>1135457367113974211160825176087073455925147709...</td>\n",
       "      <td>13.0</td>\n",
       "      <td>1.000000</td>\n",
       "      <td>1.445693e+09</td>\n",
       "      <td>0.98544794788948256887193237517127878205853618...</td>\n",
       "    </tr>\n",
       "    <tr>\n",
       "      <th>9</th>\n",
       "      <td>1135539201879171614707575505829494145903953125...</td>\n",
       "      <td>11.0</td>\n",
       "      <td>1.000000</td>\n",
       "      <td>1.443638e+09</td>\n",
       "      <td>0.98551897116500613518320242435147130665544130...</td>\n",
       "    </tr>\n",
       "    <tr>\n",
       "      <th>10</th>\n",
       "      <td>1135866540939961228894576824799176905819174789...</td>\n",
       "      <td>10.0</td>\n",
       "      <td>1.000000</td>\n",
       "      <td>1.442924e+09</td>\n",
       "      <td>0.98580306426710040042828262107224140504306178...</td>\n",
       "    </tr>\n",
       "    <tr>\n",
       "      <th>11</th>\n",
       "      <td>1136521219061540457268579462738542425649618118...</td>\n",
       "      <td>7.0</td>\n",
       "      <td>1.000000</td>\n",
       "      <td>1.443959e+09</td>\n",
       "      <td>0.98637125047128893091844301451378160181830274...</td>\n",
       "    </tr>\n",
       "    <tr>\n",
       "      <th>12</th>\n",
       "      <td>1141758644034174284260600566253466584293164745...</td>\n",
       "      <td>6.0</td>\n",
       "      <td>1.000000</td>\n",
       "      <td>1.443935e+09</td>\n",
       "      <td>0.99091674010479717483972616204610317602023040...</td>\n",
       "    </tr>\n",
       "    <tr>\n",
       "      <th>13</th>\n",
       "      <td>1152233493979441938244642773283314901580258000...</td>\n",
       "      <td>5.0</td>\n",
       "      <td>1.000000</td>\n",
       "      <td>1.444296e+09</td>\n",
       "      <td>1.00000771937181366268229245711074632442408573...</td>\n",
       "    </tr>\n",
       "    <tr>\n",
       "      <th>14</th>\n",
       "      <td>1173183193869977246212727187343011536154444509...</td>\n",
       "      <td>2.0</td>\n",
       "      <td>1.000000</td>\n",
       "      <td>1.444374e+09</td>\n",
       "      <td>1.01818967790584663836742504724003262123179638...</td>\n",
       "    </tr>\n",
       "  </tbody>\n",
       "</table>\n",
       "</div>"
      ],
      "text/plain": [
       "                                        neighbourhood  bit_position  \\\n",
       "0                                                   0           0.0   \n",
       "1   6703903964971298549787012499102923063739682910...           0.5   \n",
       "2   1005585594745694782468051874865438459560952436...           2.0   \n",
       "3   1089384394307836014340389531104224997857698472...           3.5   \n",
       "4   1131283794088906630276558359223618267006071491...           6.0   \n",
       "5   1133902506575223543772568910981080346327844804...           8.5   \n",
       "6   1135211862818382000520574186859811385988731461...          10.5   \n",
       "7   1135375532348776807614074846344652765946342293...          12.5   \n",
       "8   1135457367113974211160825176087073455925147709...          13.0   \n",
       "9   1135539201879171614707575505829494145903953125...          11.0   \n",
       "10  1135866540939961228894576824799176905819174789...          10.0   \n",
       "11  1136521219061540457268579462738542425649618118...           7.0   \n",
       "12  1141758644034174284260600566253466584293164745...           6.0   \n",
       "13  1152233493979441938244642773283314901580258000...           5.0   \n",
       "14  1173183193869977246212727187343011536154444509...           2.0   \n",
       "\n",
       "    bit_value          time                           point_relative_to_sqrt_n  \n",
       "0    0.000000  1.441191e+09                                                  0  \n",
       "1    0.500000  1.444151e+09  0.58182267308905522192424288413716149784674078...  \n",
       "2    0.333333  1.443882e+09  0.87273400963358283288636432620574224677011118...  \n",
       "3    0.500000  1.443360e+09  0.94546184376971473562689468672288743400095378...  \n",
       "4    0.200000  1.443698e+09  0.98182576083778068699715986698146002761637508...  \n",
       "5    0.500000  1.443863e+09  0.98409850565453480895780144074762081471733891...  \n",
       "6    0.250000  1.443810e+09  0.98523487806291186993812222763070120826782082...  \n",
       "7    0.500000  1.444913e+09  0.98537692461395900256066232599108625746163106...  \n",
       "8    1.000000  1.445693e+09  0.98544794788948256887193237517127878205853618...  \n",
       "9    1.000000  1.443638e+09  0.98551897116500613518320242435147130665544130...  \n",
       "10   1.000000  1.442924e+09  0.98580306426710040042828262107224140504306178...  \n",
       "11   1.000000  1.443959e+09  0.98637125047128893091844301451378160181830274...  \n",
       "12   1.000000  1.443935e+09  0.99091674010479717483972616204610317602023040...  \n",
       "13   1.000000  1.444296e+09  1.00000771937181366268229245711074632442408573...  \n",
       "14   1.000000  1.444374e+09  1.01818967790584663836742504724003262123179638...  "
      ]
     },
     "execution_count": 32,
     "metadata": {},
     "output_type": "execute_result"
    }
   ],
   "source": [
    "bit_timings = bit_timings.groupby('neighbourhood').mean()\n",
    "bit_timings = bit_timings.reset_index()\n",
    "bit_timings['point_relative_to_sqrt_n'] = bit_timings['neighbourhood'].apply(lambda g: (g/sqrt_N).evalf(50))\n",
    "bit_timings"
   ]
  },
  {
   "cell_type": "code",
   "execution_count": 33,
   "metadata": {},
   "outputs": [
    {
     "data": {
      "text/plain": [
       "<seaborn.axisgrid.FacetGrid at 0x7fc0d1c6d290>"
      ]
     },
     "execution_count": 33,
     "metadata": {},
     "output_type": "execute_result"
    },
    {
     "data": {
      "image/png": "[encoded data removed]",
      "text/plain": [
       "<Figure size 1152x576 with 1 Axes>"
      ]
     },
     "metadata": {
      "needs_background": "light"
     },
     "output_type": "display_data"
    }
   ],
   "source": [
    "g = seaborn.relplot(\n",
    "    data=bit_timings, \n",
    "    x='point_relative_to_sqrt_n', \n",
    "    y='time',\n",
    "    kind='line', \n",
    "    height=8, \n",
    "    aspect=16/8, \n",
    "    marker=\"X\",\n",
    ")\n",
    "plt.plot([q_relative_to_sqrt_n, q_relative_to_sqrt_n], [bit_timings['time'].min(), bit_timings['time'].max()], color='green')\n",
    "g"
   ]
  },
  {
   "cell_type": "code",
   "execution_count": 34,
   "metadata": {},
   "outputs": [
    {
     "data": {
      "text/plain": [
       "<seaborn.axisgrid.FacetGrid at 0x7fc0d1bfb710>"
      ]
     },
     "execution_count": 34,
     "metadata": {},
     "output_type": "execute_result"
    },
    {
     "data": {
      "image/png": "[encoded data removed]",
      "text/plain": [
       "<Figure size 1152x576 with 1 Axes>"
      ]
     },
     "metadata": {
      "needs_background": "light"
     },
     "output_type": "display_data"
    }
   ],
   "source": [
    "g = seaborn.relplot(\n",
    "    data=bit_timings, \n",
    "    x='point_relative_to_sqrt_n', \n",
    "    y='time',\n",
    "    kind='line', \n",
    "    height=8, \n",
    "    aspect=16/8, \n",
    "    marker=\"X\",\n",
    ")\n",
    "plt.plot([q_relative_to_sqrt_n, q_relative_to_sqrt_n], [bit_timings['time'].min(), bit_timings['time'].max()], color='green')\n",
    "g.set(xlim=(lower_bound_relative_to_sqrt_n, upper_bound_relative_to_sqrt_n))\n",
    "g"
   ]
  },
  {
   "cell_type": "code",
   "execution_count": 35,
   "metadata": {},
   "outputs": [
    {
     "data": {
      "text/plain": [
       "<seaborn.axisgrid.FacetGrid at 0x7fc0d1bce710>"
      ]
     },
     "execution_count": 35,
     "metadata": {},
     "output_type": "execute_result"
    },
    {
     "data": {
      "image/png": "[encoded data removed]",
      "text/plain": [
       "<Figure size 1152x576 with 1 Axes>"
      ]
     },
     "metadata": {
      "needs_background": "light"
     },
     "output_type": "display_data"
    }
   ],
   "source": [
    "g = seaborn.relplot(\n",
    "    data=bit_timings, \n",
    "    x='point_relative_to_sqrt_n', \n",
    "    y='time',\n",
    "    kind='line', \n",
    "    height=8, \n",
    "    aspect=16/8, \n",
    "    marker=\"X\",\n",
    ")\n",
    "plt.plot([q_relative_to_sqrt_n, q_relative_to_sqrt_n], [1.43e9, 1.450e9], color='green')\n",
    "g.set(ylim=(1.442e9, 1.447e9))\n",
    "g.set(xlim=(0.984, 0.987))\n",
    "g"
   ]
  },
  {
   "cell_type": "markdown",
   "metadata": {},
   "source": [
    "This doesn't look too promising."
   ]
  },
  {
   "cell_type": "markdown",
   "metadata": {},
   "source": [
    "## Coppersmiths Attack"
   ]
  },
  {
   "cell_type": "markdown",
   "metadata": {},
   "source": [
    "## References\n",
    "  - [1] https://crypto.stanford.edu/~dabo/papers/ssl-timing.pdf"
   ]
  }
 ],
 "metadata": {
  "kernelspec": {
   "display_name": "Python 3",
   "language": "python",
   "name": "python3"
  },
  "language_info": {
   "codemirror_mode": {
    "name": "ipython",
    "version": 3
   },
   "file_extension": ".py",
   "mimetype": "text/x-python",
   "name": "python",
   "nbconvert_exporter": "python",
   "pygments_lexer": "ipython3",
   "version": "3.7.5"
  }
 },
 "nbformat": 4,
 "nbformat_minor": 2
}
