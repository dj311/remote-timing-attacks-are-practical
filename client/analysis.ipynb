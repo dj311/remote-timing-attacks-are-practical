{
 "cells": [
  {
   "cell_type": "markdown",
   "metadata": {},
   "source": [
    "# Remote Timing Attacks are Practical\n",
    "TODO: Intro"
   ]
  },
  {
   "cell_type": "markdown",
   "metadata": {},
   "source": [
    "## Theory"
   ]
  },
  {
   "cell_type": "markdown",
   "metadata": {},
   "source": [
    "## Attack Setup"
   ]
  },
  {
   "cell_type": "markdown",
   "metadata": {},
   "source": [
    "## Exploratory Analysis\n",
    "The aim of this notebook is to sample the server response times for a bunch of `g` values, and find out if the distribution is meaningfully different between them."
   ]
  },
  {
   "cell_type": "code",
   "execution_count": null,
   "metadata": {},
   "outputs": [],
   "source": [
    "import tls\n",
    "import attack"
   ]
  },
  {
   "cell_type": "code",
   "execution_count": null,
   "metadata": {},
   "outputs": [],
   "source": [
    "import scipy\n",
    "import seaborn\n",
    "import sympy\n",
    "import pandas"
   ]
  },
  {
   "cell_type": "code",
   "execution_count": null,
   "metadata": {},
   "outputs": [],
   "source": [
    "raw_samples = attack.bruteforce_most_significant_bits()"
   ]
  },
  {
   "cell_type": "code",
   "execution_count": null,
   "metadata": {},
   "outputs": [],
   "source": [
    "samples = pandas.DataFrame.from_records(raw_samples, columns=['point', 'time'])"
   ]
  },
  {
   "cell_type": "markdown",
   "metadata": {},
   "source": [
    "Since we know the factors of `N` (`q` and `p` with `q<p`) we can consider each point relative in size to these factors. When plotting, we are looking for peaks and troughs near whole multples of `p` and `q`."
   ]
  },
  {
   "cell_type": "code",
   "execution_count": null,
   "metadata": {},
   "outputs": [],
   "source": [
    "p = sympy.Integer(11693128827090800677443535237632476895247105886644942164014088484470194179491435241190389270827811769965853291192455791684691555403909415703633832493911789)\n",
    "q = sympy.Integer(11353860437120204348539420361367294927683441924641720282978666316144621735920188475867378638813811676070362003602263559496393696538309271007870774914687283)\n",
    "N= sympy.Integer(132762152776056020551326919245624484615462467876809681535549565118332290525598572815747323476102181376625279228965473106140757139049665124368186142774966643990206422037551427526013151129106319233128471783533673959766053786798472937188481868923726256436384468384858420931063093337134977283618537887974322079287)"
   ]
  },
  {
   "cell_type": "code",
   "execution_count": null,
   "metadata": {},
   "outputs": [],
   "source": [
    "samples['point'] = samples['point'].apply(sympy.Integer)\n",
    "\n",
    "samples['point_relative_to_p'] = samples['point'].apply(lambda g: round(float(g/p), 5))\n",
    "samples['point_relative_to_q'] = samples['point'].apply(lambda g: round(float(g/q), 5))\n",
    "samples['point_relative_to_N'] = samples['point'].apply(lambda g: round(float(g/N), 5))"
   ]
  },
  {
   "cell_type": "markdown",
   "metadata": {},
   "source": [
    "Plot the distribution of timings for each point sampled in the above dataframe."
   ]
  },
  {
   "cell_type": "code",
   "execution_count": null,
   "metadata": {},
   "outputs": [],
   "source": [
    "g = seaborn.FacetGrid(samples, col=\"g_relative_to_q\", col_wrap=4,   height=2.8, aspect=12/8)\n",
    "g.map(seaborn.distplot, \"time\", fit=scipy.stats.norm, kde=None)"
   ]
  },
  {
   "cell_type": "markdown",
   "metadata": {},
   "source": [
    "Maybe we want to clean this dataset up and remove any outliers. These could be caused by hardware interrupts, funny process scheduling etc."
   ]
  },
  {
   "cell_type": "code",
   "execution_count": null,
   "metadata": {},
   "outputs": [],
   "source": [
    "mean = samples.groupby(by='point').mean()\n",
    "std_dev = samples.groupby(by='point').std()\n",
    "\n",
    "get_mean = {point: mean[0] for point, mean in mean.iterrows()}\n",
    "get_std_dev = {point: std_dev[0] for point, std_dev in std_dev.iterrows()}\n",
    "\n",
    "points = list(mean.keys())\n",
    "\n",
    "group_max = {point: get_mean[point] + 3*get_std_dev[point] for point in points}\n",
    "group_min = {point: get_mean[point] - 3*get_std_dev[point] for point in points}\n",
    "\n",
    "def is_outlier(row):\n",
    "    return row['time'] < group_min[row['point']] or row['time'] > group_max[row['point']]\n",
    "\n",
    "clean_samples = samples[samples.apply(is_outlier, axis='columns', result_type='reduce') == False]\n",
    "\n",
    "len(clean_samples)/float(len(samples))"
   ]
  },
  {
   "cell_type": "markdown",
   "metadata": {},
   "source": [
    "Now we can look at their clean distributions:"
   ]
  },
  {
   "cell_type": "code",
   "execution_count": null,
   "metadata": {},
   "outputs": [],
   "source": [
    "g = seaborn.FacetGrid(clean_samples, col=\"g_relative_to_q\", col_wrap=4,   height=2.8, aspect=12/8)\n",
    "g.map(seaborn.distplot, \"time\", fit=scipy.stats.norm, kde=None)"
   ]
  },
  {
   "cell_type": "markdown",
   "metadata": {},
   "source": [
    "Next, we can consider how the mean response time varies as we vary `g`:"
   ]
  },
  {
   "cell_type": "code",
   "execution_count": null,
   "metadata": {},
   "outputs": [],
   "source": [
    "g = seaborn.relplot(data=clean_times, x='g_relative_to_q', y='time', kind='line',  height=8, aspect=16/8)\n",
    "g.set(xlim=(0.5, 2.5))\n",
    "g"
   ]
  },
  {
   "cell_type": "markdown",
   "metadata": {},
   "source": [
    "Ideally, we want the above graph relation to resemble a noisier Figure 1 from the original paper [1]. It doesn't seem to, or atleast, it is perhaps _too_ noisy..."
   ]
  },
  {
   "cell_type": "markdown",
   "metadata": {},
   "source": [
    "### Replicating Figure 2"
   ]
  },
  {
   "cell_type": "markdown",
   "metadata": {},
   "source": [
    "### Replicating Figure 3"
   ]
  },
  {
   "cell_type": "markdown",
   "metadata": {},
   "source": [
    "## ..."
   ]
  },
  {
   "cell_type": "markdown",
   "metadata": {},
   "source": [
    "## References\n",
    "  - [1] https://crypto.stanford.edu/~dabo/papers/ssl-timing.pdf"
   ]
  }
 ],
 "metadata": {
  "kernelspec": {
   "display_name": "Python 3",
   "language": "python",
   "name": "python3"
  },
  "language_info": {
   "codemirror_mode": {
    "name": "ipython",
    "version": 3
   },
   "file_extension": ".py",
   "mimetype": "text/x-python",
   "name": "python",
   "nbconvert_exporter": "python",
   "pygments_lexer": "ipython3",
   "version": "3.7.3"
  }
 },
 "nbformat": 4,
 "nbformat_minor": 2
}
