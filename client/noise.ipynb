{
 "cells": [
  {
   "cell_type": "markdown",
   "metadata": {},
   "source": [
    "# Remote Timing Attacks are Practical\n",
    "_Experiment 7: Measuring the effects of noise on attack efficacy._\n",
    "\n",
    "---"
   ]
  },
  {
   "cell_type": "code",
   "execution_count": 2,
   "metadata": {},
   "outputs": [],
   "source": [
    "import scipy\n",
    "import scipy.signal\n",
    "import seaborn\n",
    "import sympy\n",
    "import pandas\n",
    "import os\n",
    "import matplotlib.pyplot as plt\n",
    "\n",
    "from IPython import display\n",
    "from pprint import pprint"
   ]
  },
  {
   "cell_type": "code",
   "execution_count": 3,
   "metadata": {},
   "outputs": [],
   "source": [
    "import tls\n",
    "import attack"
   ]
  },
  {
   "cell_type": "code",
   "execution_count": 17,
   "metadata": {},
   "outputs": [],
   "source": [
    "seaborn.set(rc={'figure.figsize':(16,8)})"
   ]
  },
  {
   "cell_type": "code",
   "execution_count": 4,
   "metadata": {},
   "outputs": [],
   "source": [
    "p = sympy.Integer(11693128827090800677443535237632476895247105886644942164014088484470194179491435241190389270827811769965853291192455791684691555403909415703633832493911789)\n",
    "q = sympy.Integer(11353860437120204348539420361367294927683441924641720282978666316144621735920188475867378638813811676070362003602263559496393696538309271007870774914687283)\n",
    "N = sympy.Integer(132762152776056020551326919245624484615462467876809681535549565118332290525598572815747323476102181376625279228965473106140757139049665124368186142774966643990206422037551427526013151129106319233128471783533673959766053786798472937188481868923726256436384468384858420931063093337134977283618537887974322079287)"
   ]
  },
  {
   "cell_type": "markdown",
   "metadata": {},
   "source": [
    "## Theory\n",
    "\n",
    "Questions: Is there too much noise in this setup to be feasible? Is this the reason for the poor results so far? Can these issues be overcome?\n",
    "\n",
    "This section attempts to measure the noise and its impact on the attack (modelled after \"Experiment 7\" on the CompNet version of the paper[2]). Ideas from Crosby et al [4] are then used to provide an alternative approach to differentiating bits."
   ]
  },
  {
   "cell_type": "markdown",
   "metadata": {},
   "source": [
    "## Measuring Noise"
   ]
  },
  {
   "cell_type": "markdown",
   "metadata": {},
   "source": [
    "Choose a non-zero constant value for our noise measurements:"
   ]
  },
  {
   "cell_type": "code",
   "execution_count": 5,
   "metadata": {},
   "outputs": [
    {
     "data": {
      "text/plain": [
       "(512,\n",
       " 10893843943078360143403895311042249978576984729231319619400393673023933274434756918651522867260609034998150884776519916318675029784706588081477339817443328)"
      ]
     },
     "execution_count": 5,
     "metadata": {},
     "output_type": "execute_result"
    }
   ],
   "source": [
    "g_bits = [1, 1, 0, 1] + [0] * 508\n",
    "g = attack.bits_to_sympy_integer(g_bits)\n",
    "len(g_bits), g"
   ]
  },
  {
   "cell_type": "markdown",
   "metadata": {},
   "source": [
    "Measure some throw away values to warm up the server."
   ]
  },
  {
   "cell_type": "code",
   "execution_count": 5,
   "metadata": {},
   "outputs": [],
   "source": [
    "_= attack.sample(\n",
    "    [g],\n",
    "    sample_size=10,\n",
    "    neighbourhood_size=10,\n",
    "    u_g=True,\n",
    "    N=N,\n",
    ")"
   ]
  },
  {
   "cell_type": "markdown",
   "metadata": {},
   "source": [
    "First, try a sample size of 7 with no neighbours (a neighbourhood of 1) as in Table 2 Panel A in [2]."
   ]
  },
  {
   "cell_type": "code",
   "execution_count": 6,
   "metadata": {},
   "outputs": [],
   "source": [
    "all_samples = []\n",
    "\n",
    "for i in range(16):\n",
    "    raw_samples = attack.sample(\n",
    "        [g],\n",
    "        sample_size=7,\n",
    "        neighbourhood_size=1,\n",
    "        u_g=True,\n",
    "        N=N,\n",
    "    )\n",
    "    all_samples += [(i, point, time) for point, time in raw_samples]\n",
    "\n",
    "samples = pandas.DataFrame.from_records(\n",
    "    all_samples,\n",
    "    columns=[\"index\", \"point\", \"time\"],\n",
    ")\n",
    "samples.to_csv(\"./measurements/noise-7-samples-1-neighbourhood.txt\", sep=\" \")"
   ]
  },
  {
   "cell_type": "markdown",
   "metadata": {},
   "source": [
    "Next, try a sample size of 2800 with a neighbourhood of 1 as in Table 2 Panel B in [2]."
   ]
  },
  {
   "cell_type": "code",
   "execution_count": 7,
   "metadata": {},
   "outputs": [],
   "source": [
    "all_samples = []\n",
    "\n",
    "for i in range(16):\n",
    "    raw_samples = attack.sample(\n",
    "        [g],\n",
    "        sample_size=2800,\n",
    "        neighbourhood_size=1,\n",
    "        u_g=True,\n",
    "        N=N,\n",
    "    )\n",
    "    all_samples += [(i, point, time) for point, time in raw_samples]\n",
    "\n",
    "samples = pandas.DataFrame.from_records(\n",
    "    all_samples,\n",
    "    columns=[\"index\", \"point\", \"time\"],\n",
    ")\n",
    "samples.to_csv(\"./measurements/noise-2800-samples-1-neighbourhood.txt\", sep=\" \")"
   ]
  },
  {
   "cell_type": "markdown",
   "metadata": {},
   "source": [
    "Next, try a sample size of 7 with a neighbourhood of 400."
   ]
  },
  {
   "cell_type": "code",
   "execution_count": 8,
   "metadata": {},
   "outputs": [],
   "source": [
    "all_samples = []\n",
    "\n",
    "for i in range(16):\n",
    "    raw_samples = attack.sample(\n",
    "        [g],\n",
    "        sample_size=7,\n",
    "        neighbourhood_size=400,\n",
    "        u_g=True,\n",
    "        N=N,\n",
    "    )\n",
    "    all_samples += [(i, point, time) for point, time in raw_samples]\n",
    "\n",
    "samples = pandas.DataFrame.from_records(\n",
    "    all_samples,\n",
    "    columns=[\"index\", \"point\", \"time\"],\n",
    ")\n",
    "samples.to_csv(\"./measurements/noise-7-samples-400-neighbourhood.txt\", sep=\" \")"
   ]
  },
  {
   "cell_type": "markdown",
   "metadata": {},
   "source": [
    "This is the set of numbers we've been using for our attacks:"
   ]
  },
  {
   "cell_type": "code",
   "execution_count": 9,
   "metadata": {},
   "outputs": [],
   "source": [
    "all_samples = []\n",
    "\n",
    "for i in range(16):\n",
    "    raw_samples = attack.sample(\n",
    "        [g],\n",
    "        sample_size=20,\n",
    "        neighbourhood_size=800,\n",
    "        u_g=True,\n",
    "        N=N,\n",
    "    )\n",
    "    all_samples += [(i, point, time) for point, time in raw_samples]\n",
    "\n",
    "samples = pandas.DataFrame.from_records(\n",
    "    all_samples,\n",
    "    columns=[\"index\", \"point\", \"time\"],\n",
    ")\n",
    "samples.to_csv(\"./measurements/noise-20-samples-800-neighbourhood.txt\", sep=\" \")"
   ]
  },
  {
   "cell_type": "markdown",
   "metadata": {},
   "source": [
    "Load in all those measurements into a table for comparison:"
   ]
  },
  {
   "cell_type": "code",
   "execution_count": 6,
   "metadata": {},
   "outputs": [],
   "source": [
    "samples_7_1 = pandas.read_csv(\"./measurements/noise-7-samples-1-neighbourhood.txt\", sep=\" \")\n",
    "samples_2800_1 = pandas.read_csv(\"./measurements/noise-2800-samples-1-neighbourhood.txt\", sep=\" \")\n",
    "samples_7_400 = pandas.read_csv(\"./measurements/noise-7-samples-400-neighbourhood.txt\", sep=\" \")\n",
    "samples_20_800 = pandas.read_csv(\"./measurements/noise-20-samples-800-neighbourhood.txt\", sep=\" \")"
   ]
  },
  {
   "cell_type": "code",
   "execution_count": 29,
   "metadata": {},
   "outputs": [
    {
     "data": {
      "text/html": [
       "<div>\n",
       "<style scoped>\n",
       "    .dataframe tbody tr th:only-of-type {\n",
       "        vertical-align: middle;\n",
       "    }\n",
       "\n",
       "    .dataframe tbody tr th {\n",
       "        vertical-align: top;\n",
       "    }\n",
       "\n",
       "    .dataframe thead th {\n",
       "        text-align: right;\n",
       "    }\n",
       "</style>\n",
       "<table border=\"1\" class=\"dataframe\">\n",
       "  <thead>\n",
       "    <tr style=\"text-align: right;\">\n",
       "      <th></th>\n",
       "      <th>Experiment</th>\n",
       "      <th>Neighbourhood Size</th>\n",
       "      <th>Sample Size</th>\n",
       "      <th>Avg</th>\n",
       "      <th>Range</th>\n",
       "      <th>Variance</th>\n",
       "    </tr>\n",
       "  </thead>\n",
       "  <tbody>\n",
       "    <tr>\n",
       "      <th>0</th>\n",
       "      <td>Dan</td>\n",
       "      <td>1</td>\n",
       "      <td>7</td>\n",
       "      <td>5919342</td>\n",
       "      <td>2577074</td>\n",
       "      <td>557209</td>\n",
       "    </tr>\n",
       "    <tr>\n",
       "      <th>1</th>\n",
       "      <td>Dan</td>\n",
       "      <td>1</td>\n",
       "      <td>2800</td>\n",
       "      <td>6346760</td>\n",
       "      <td>45796</td>\n",
       "      <td>14144</td>\n",
       "    </tr>\n",
       "    <tr>\n",
       "      <th>2</th>\n",
       "      <td>Dan</td>\n",
       "      <td>400</td>\n",
       "      <td>7</td>\n",
       "      <td>6500856</td>\n",
       "      <td>42987</td>\n",
       "      <td>11748</td>\n",
       "    </tr>\n",
       "    <tr>\n",
       "      <th>3</th>\n",
       "      <td>Dan</td>\n",
       "      <td>800</td>\n",
       "      <td>20</td>\n",
       "      <td>6529841</td>\n",
       "      <td>27442</td>\n",
       "      <td>6783</td>\n",
       "    </tr>\n",
       "  </tbody>\n",
       "</table>\n",
       "</div>"
      ],
      "text/plain": [
       "  Experiment  Neighbourhood Size  Sample Size      Avg    Range  Variance\n",
       "0        Dan                   1            7  5919342  2577074    557209\n",
       "1        Dan                   1         2800  6346760    45796     14144\n",
       "2        Dan                 400            7  6500856    42987     11748\n",
       "3        Dan                 800           20  6529841    27442      6783"
      ]
     },
     "execution_count": 29,
     "metadata": {},
     "output_type": "execute_result"
    }
   ],
   "source": [
    "def calc_value(df):\n",
    "    return (df\n",
    "        # Group by sample set, and take the median.\n",
    "        .groupby([\"index\", \"point\"]).median()\n",
    "        # Picks out neighbourhoods and calculates their means.\n",
    "        .groupby(\"index\").mean()\n",
    "    )['time']  # Send the time back only.\n",
    "\n",
    "def calc_avg(df):\n",
    "    return calc_value(df).mean()\n",
    "\n",
    "def calc_range(df):\n",
    "    values = calc_value(df)\n",
    "    return values.max() - values.min()\n",
    "\n",
    "def calc_std(df):\n",
    "    return calc_value(df).std()\n",
    "\n",
    "summary = pandas.DataFrame({\n",
    "    'Experiment': ['Dan'] * 4,\n",
    "    'Neighbourhood Size': [1, 1, 400, 800],\n",
    "    'Sample Size': [7, 2800, 7, 20],\n",
    "    'Avg': [calc_avg(df) for df in [samples_7_1, samples_2800_1, samples_7_400, samples_20_800]],\n",
    "    'Range': [calc_range(df) for df in [samples_7_1, samples_2800_1, samples_7_400, samples_20_800]],\n",
    "    'Variance': [calc_std(df) for df in [samples_7_1, samples_2800_1, samples_7_400, samples_20_800]],\n",
    "})\n",
    "\n",
    "summary['Avg'] = summary['Avg'].round().apply(int)\n",
    "summary['Range'] = summary['Range'].round().apply(int)\n",
    "summary['Variance'] = summary['Variance'].round().apply(int)\n",
    "\n",
    "summary"
   ]
  },
  {
   "cell_type": "markdown",
   "metadata": {},
   "source": [
    "Compare these results to those in Table 2 [2]:"
   ]
  },
  {
   "cell_type": "code",
   "execution_count": 30,
   "metadata": {},
   "outputs": [
    {
     "data": {
      "text/html": [
       "<div>\n",
       "<style scoped>\n",
       "    .dataframe tbody tr th:only-of-type {\n",
       "        vertical-align: middle;\n",
       "    }\n",
       "\n",
       "    .dataframe tbody tr th {\n",
       "        vertical-align: top;\n",
       "    }\n",
       "\n",
       "    .dataframe thead th {\n",
       "        text-align: right;\n",
       "    }\n",
       "</style>\n",
       "<table border=\"1\" class=\"dataframe\">\n",
       "  <thead>\n",
       "    <tr style=\"text-align: right;\">\n",
       "      <th></th>\n",
       "      <th>Experiment</th>\n",
       "      <th>Neighbourhood Size</th>\n",
       "      <th>Sample Size</th>\n",
       "      <th>Avg</th>\n",
       "      <th>Range</th>\n",
       "      <th>Variance</th>\n",
       "    </tr>\n",
       "  </thead>\n",
       "  <tbody>\n",
       "    <tr>\n",
       "      <th>0</th>\n",
       "      <td>Localhost</td>\n",
       "      <td>1</td>\n",
       "      <td>7</td>\n",
       "      <td>12214720</td>\n",
       "      <td>221016</td>\n",
       "      <td>54832</td>\n",
       "    </tr>\n",
       "    <tr>\n",
       "      <th>1</th>\n",
       "      <td>WAN</td>\n",
       "      <td>1</td>\n",
       "      <td>7</td>\n",
       "      <td>230146795</td>\n",
       "      <td>1558514</td>\n",
       "      <td>364211</td>\n",
       "    </tr>\n",
       "    <tr>\n",
       "      <th>2</th>\n",
       "      <td>Wireless</td>\n",
       "      <td>1</td>\n",
       "      <td>7</td>\n",
       "      <td>23668769</td>\n",
       "      <td>12286696</td>\n",
       "      <td>3440170</td>\n",
       "    </tr>\n",
       "    <tr>\n",
       "      <th>3</th>\n",
       "      <td>Loaded</td>\n",
       "      <td>1</td>\n",
       "      <td>7</td>\n",
       "      <td>12496164</td>\n",
       "      <td>343048</td>\n",
       "      <td>84179</td>\n",
       "    </tr>\n",
       "    <tr>\n",
       "      <th>4</th>\n",
       "      <td>Localhost</td>\n",
       "      <td>1</td>\n",
       "      <td>2800</td>\n",
       "      <td>12199743</td>\n",
       "      <td>379000</td>\n",
       "      <td>154537</td>\n",
       "    </tr>\n",
       "    <tr>\n",
       "      <th>5</th>\n",
       "      <td>WAN</td>\n",
       "      <td>1</td>\n",
       "      <td>2800</td>\n",
       "      <td>228474166</td>\n",
       "      <td>679212</td>\n",
       "      <td>181910</td>\n",
       "    </tr>\n",
       "    <tr>\n",
       "      <th>6</th>\n",
       "      <td>Wireless</td>\n",
       "      <td>1</td>\n",
       "      <td>2800</td>\n",
       "      <td>23382657</td>\n",
       "      <td>3792336</td>\n",
       "      <td>1213838</td>\n",
       "    </tr>\n",
       "    <tr>\n",
       "      <th>7</th>\n",
       "      <td>Loaded</td>\n",
       "      <td>1</td>\n",
       "      <td>2800</td>\n",
       "      <td>12383022</td>\n",
       "      <td>794156</td>\n",
       "      <td>329907</td>\n",
       "    </tr>\n",
       "  </tbody>\n",
       "</table>\n",
       "</div>"
      ],
      "text/plain": [
       "  Experiment  Neighbourhood Size  Sample Size        Avg     Range  Variance\n",
       "0  Localhost                   1            7   12214720    221016     54832\n",
       "1        WAN                   1            7  230146795   1558514    364211\n",
       "2   Wireless                   1            7   23668769  12286696   3440170\n",
       "3     Loaded                   1            7   12496164    343048     84179\n",
       "4  Localhost                   1         2800   12199743    379000    154537\n",
       "5        WAN                   1         2800  228474166    679212    181910\n",
       "6   Wireless                   1         2800   23382657   3792336   1213838\n",
       "7     Loaded                   1         2800   12383022    794156    329907"
      ]
     },
     "execution_count": 30,
     "metadata": {},
     "output_type": "execute_result"
    }
   ],
   "source": [
    "table_2 = pandas.DataFrame({\n",
    "    'Experiment': [\"Localhost\", \"WAN\", \"Wireless\", \"Loaded\", \"Localhost\", \"WAN\", \"Wireless\", \"Loaded\"],\n",
    "    'Neighbourhood Size': [1, 1, 1, 1, 1, 1, 1, 1],\n",
    "    'Sample Size': [7, 7, 7, 7, 2800, 2800, 2800, 2800],\n",
    "    'Avg': [12214720, 230146795, 23668769, 12496164, 12199743, 228474166, 23382657, 12383022],\n",
    "    'Range': [221016, 1558514, 12286696, 343048, 379000, 679212, 3792336, 794156],\n",
    "    'Variance': [54832, 364211, 3440170, 84179, 154537, 181910, 1213838, 329907],\n",
    "})\n",
    "table_2"
   ]
  },
  {
   "cell_type": "code",
   "execution_count": 31,
   "metadata": {},
   "outputs": [
    {
     "data": {
      "text/html": [
       "<div>\n",
       "<style scoped>\n",
       "    .dataframe tbody tr th:only-of-type {\n",
       "        vertical-align: middle;\n",
       "    }\n",
       "\n",
       "    .dataframe tbody tr th {\n",
       "        vertical-align: top;\n",
       "    }\n",
       "\n",
       "    .dataframe thead th {\n",
       "        text-align: right;\n",
       "    }\n",
       "</style>\n",
       "<table border=\"1\" class=\"dataframe\">\n",
       "  <thead>\n",
       "    <tr style=\"text-align: right;\">\n",
       "      <th></th>\n",
       "      <th>Experiment</th>\n",
       "      <th>Neighbourhood Size</th>\n",
       "      <th>Sample Size</th>\n",
       "      <th>Avg</th>\n",
       "      <th>Range</th>\n",
       "      <th>Variance</th>\n",
       "    </tr>\n",
       "  </thead>\n",
       "  <tbody>\n",
       "    <tr>\n",
       "      <th>0</th>\n",
       "      <td>Dan</td>\n",
       "      <td>1</td>\n",
       "      <td>7</td>\n",
       "      <td>5919342</td>\n",
       "      <td>2577074</td>\n",
       "      <td>557209</td>\n",
       "    </tr>\n",
       "    <tr>\n",
       "      <th>1</th>\n",
       "      <td>Dan</td>\n",
       "      <td>1</td>\n",
       "      <td>2800</td>\n",
       "      <td>6346760</td>\n",
       "      <td>45796</td>\n",
       "      <td>14144</td>\n",
       "    </tr>\n",
       "    <tr>\n",
       "      <th>2</th>\n",
       "      <td>Dan</td>\n",
       "      <td>400</td>\n",
       "      <td>7</td>\n",
       "      <td>6500856</td>\n",
       "      <td>42987</td>\n",
       "      <td>11748</td>\n",
       "    </tr>\n",
       "    <tr>\n",
       "      <th>3</th>\n",
       "      <td>Dan</td>\n",
       "      <td>800</td>\n",
       "      <td>20</td>\n",
       "      <td>6529841</td>\n",
       "      <td>27442</td>\n",
       "      <td>6783</td>\n",
       "    </tr>\n",
       "    <tr>\n",
       "      <th>3</th>\n",
       "      <td>Loaded</td>\n",
       "      <td>1</td>\n",
       "      <td>7</td>\n",
       "      <td>12496164</td>\n",
       "      <td>343048</td>\n",
       "      <td>84179</td>\n",
       "    </tr>\n",
       "    <tr>\n",
       "      <th>7</th>\n",
       "      <td>Loaded</td>\n",
       "      <td>1</td>\n",
       "      <td>2800</td>\n",
       "      <td>12383022</td>\n",
       "      <td>794156</td>\n",
       "      <td>329907</td>\n",
       "    </tr>\n",
       "    <tr>\n",
       "      <th>0</th>\n",
       "      <td>Localhost</td>\n",
       "      <td>1</td>\n",
       "      <td>7</td>\n",
       "      <td>12214720</td>\n",
       "      <td>221016</td>\n",
       "      <td>54832</td>\n",
       "    </tr>\n",
       "    <tr>\n",
       "      <th>4</th>\n",
       "      <td>Localhost</td>\n",
       "      <td>1</td>\n",
       "      <td>2800</td>\n",
       "      <td>12199743</td>\n",
       "      <td>379000</td>\n",
       "      <td>154537</td>\n",
       "    </tr>\n",
       "    <tr>\n",
       "      <th>1</th>\n",
       "      <td>WAN</td>\n",
       "      <td>1</td>\n",
       "      <td>7</td>\n",
       "      <td>230146795</td>\n",
       "      <td>1558514</td>\n",
       "      <td>364211</td>\n",
       "    </tr>\n",
       "    <tr>\n",
       "      <th>5</th>\n",
       "      <td>WAN</td>\n",
       "      <td>1</td>\n",
       "      <td>2800</td>\n",
       "      <td>228474166</td>\n",
       "      <td>679212</td>\n",
       "      <td>181910</td>\n",
       "    </tr>\n",
       "    <tr>\n",
       "      <th>2</th>\n",
       "      <td>Wireless</td>\n",
       "      <td>1</td>\n",
       "      <td>7</td>\n",
       "      <td>23668769</td>\n",
       "      <td>12286696</td>\n",
       "      <td>3440170</td>\n",
       "    </tr>\n",
       "    <tr>\n",
       "      <th>6</th>\n",
       "      <td>Wireless</td>\n",
       "      <td>1</td>\n",
       "      <td>2800</td>\n",
       "      <td>23382657</td>\n",
       "      <td>3792336</td>\n",
       "      <td>1213838</td>\n",
       "    </tr>\n",
       "  </tbody>\n",
       "</table>\n",
       "</div>"
      ],
      "text/plain": [
       "  Experiment  Neighbourhood Size  Sample Size        Avg     Range  Variance\n",
       "0        Dan                   1            7    5919342   2577074    557209\n",
       "1        Dan                   1         2800    6346760     45796     14144\n",
       "2        Dan                 400            7    6500856     42987     11748\n",
       "3        Dan                 800           20    6529841     27442      6783\n",
       "3     Loaded                   1            7   12496164    343048     84179\n",
       "7     Loaded                   1         2800   12383022    794156    329907\n",
       "0  Localhost                   1            7   12214720    221016     54832\n",
       "4  Localhost                   1         2800   12199743    379000    154537\n",
       "1        WAN                   1            7  230146795   1558514    364211\n",
       "5        WAN                   1         2800  228474166    679212    181910\n",
       "2   Wireless                   1            7   23668769  12286696   3440170\n",
       "6   Wireless                   1         2800   23382657   3792336   1213838"
      ]
     },
     "execution_count": 31,
     "metadata": {},
     "output_type": "execute_result"
    }
   ],
   "source": [
    "pandas.concat([summary, table_2], axis=0).sort_values([\"Experiment\", \"Neighbourhood Size\", \"Sample Size\"], axis=0)"
   ]
  },
  {
   "cell_type": "markdown",
   "metadata": {},
   "source": [
    "Comparing the range at a samples size of 2800 and neighbourhood size of 1, our experimental setup has a $45796/6346760 = 0.72\\%$ margin of error, while the localhost setup has an error margin of $379000/12199743 = 3.1\\%$.\n",
    "\n",
    "For n=400 & s=7 our setup (with a 2.6GH\\ CPU) gives an actual time range of 16,533 nanoseconds, computed from:\n",
    "\n",
    "$$\n",
    "\\frac{42987 \\text{ cycles}}{2.6 \\times 10^9 \\text{ cycles per second}} = 16533.46 \\times 10^{-9} \\text{ seconds} = 16533.46 \\text{ ns}\n",
    "$$\n",
    "\n",
    "It is, therefore, unlikely that noise is the reason both the bruteforce-top-bits graph and iterative-bit-recovery fail."
   ]
  },
  {
   "cell_type": "markdown",
   "metadata": {},
   "source": [
    "## Noise Distribution\n",
    "\n",
    "For the following, concat all of our sample sets into one, and look at the distribution of the timing of the input $g$ we picked:"
   ]
  },
  {
   "cell_type": "code",
   "execution_count": 28,
   "metadata": {},
   "outputs": [
    {
     "data": {
      "text/plain": [
       "<matplotlib.axes._subplots.AxesSubplot at 0x7f1d90a45390>"
      ]
     },
     "execution_count": 28,
     "metadata": {},
     "output_type": "execute_result"
    },
    {
     "data": {
      "image/png": "[encoded data removed]",
      "text/plain": [
       "<Figure size 1152x576 with 1 Axes>"
      ]
     },
     "metadata": {},
     "output_type": "display_data"
    }
   ],
   "source": [
    "g_samples = pandas.concat([samples_7_1, samples_2800_1, samples_7_400, samples_20_800])['time']\n",
    "seaborn.distplot(g_samples, bins=300)"
   ]
  },
  {
   "cell_type": "markdown",
   "metadata": {},
   "source": [
    "## References\n",
    "  - [1] Remote Timing Attacks are Practical (https://crypto.stanford.edu/~dabo/papers/ssl-timing.pdf)\n",
    "  - [2] Remote Timing Attacks are Practical, Computer Networks 48 (https://tlseminar.github.io/docs/remotetiming.pdf)\n",
    "  - [3] Opportunities and Limits of Remote Timing Attacks (https://www.cs.rice.edu/~dwallach/pub/crosby-timing2009.pdf)"
   ]
  }
 ],
 "metadata": {
  "kernelspec": {
   "display_name": "Python 3",
   "language": "python",
   "name": "python3"
  },
  "language_info": {
   "codemirror_mode": {
    "name": "ipython",
    "version": 3
   },
   "file_extension": ".py",
   "mimetype": "text/x-python",
   "name": "python",
   "nbconvert_exporter": "python",
   "pygments_lexer": "ipython3",
   "version": "3.7.5"
  }
 },
 "nbformat": 4,
 "nbformat_minor": 2
}
