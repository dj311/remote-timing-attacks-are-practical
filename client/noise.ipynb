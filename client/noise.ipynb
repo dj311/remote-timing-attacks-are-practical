{
 "cells": [
  {
   "cell_type": "markdown",
   "metadata": {},
   "source": [
    "# Remote Timing Attacks are Practical\n",
    "_Experiment 7: Measuring the effects of noise on attack efficacy._\n",
    "\n",
    "---"
   ]
  },
  {
   "cell_type": "code",
   "execution_count": 1,
   "metadata": {},
   "outputs": [],
   "source": [
    "import scipy\n",
    "import scipy.signal\n",
    "import seaborn\n",
    "import sympy\n",
    "import pandas\n",
    "import os\n",
    "import matplotlib.pyplot as plt\n",
    "\n",
    "from IPython import display\n",
    "from pprint import pprint"
   ]
  },
  {
   "cell_type": "code",
   "execution_count": 2,
   "metadata": {},
   "outputs": [],
   "source": [
    "import tls\n",
    "import attack"
   ]
  },
  {
   "cell_type": "markdown",
   "metadata": {},
   "source": [
    "## Theory"
   ]
  },
  {
   "cell_type": "markdown",
   "metadata": {},
   "source": [
    "## References\n",
    "  - [1] Remote Timing Attacks are Practical (https://crypto.stanford.edu/~dabo/papers/ssl-timing.pdf)\n",
    "  - [2] Remote Timing Attacks are Practical, Computer Networks 48 (https://tlseminar.github.io/docs/remotetiming.pdf)\n",
    "  - [3] Opportunities and Limits of Remote Timing Attacks (https://www.cs.rice.edu/~dwallach/pub/crosby-timing2009.pdf)"
   ]
  }
 ],
 "metadata": {
  "kernelspec": {
   "display_name": "Python 3",
   "language": "python",
   "name": "python3"
  },
  "language_info": {
   "codemirror_mode": {
    "name": "ipython",
    "version": 3
   },
   "file_extension": ".py",
   "mimetype": "text/x-python",
   "name": "python",
   "nbconvert_exporter": "python",
   "pygments_lexer": "ipython3",
   "version": "3.7.5"
  }
 },
 "nbformat": 4,
 "nbformat_minor": 2
}
